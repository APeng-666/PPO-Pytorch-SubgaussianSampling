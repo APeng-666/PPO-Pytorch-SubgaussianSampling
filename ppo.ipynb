{
 "cells": [
  {
   "cell_type": "code",
   "execution_count": 1,
   "id": "c4d8f193",
   "metadata": {},
   "outputs": [],
   "source": [
    "import gym\n",
    "import time\n",
    "from tqdm import tqdm\n",
    "import random\n",
    "import os\n",
    "import matplotlib.pyplot as plt\n",
    "\n",
    "import numpy as np\n",
    "import time\n",
    "import torch as T\n",
    "import torch.nn as nn\n",
    "import torch.nn.functional as F\n",
    "from torch.optim import Adam\n",
    "from torch.distributions import MultivariateNormal"
   ]
  },
  {
   "cell_type": "markdown",
   "id": "15c6464f",
   "metadata": {},
   "source": [
    "Fix environment"
   ]
  },
  {
   "cell_type": "code",
   "execution_count": 2,
   "id": "36fc2ef0",
   "metadata": {},
   "outputs": [],
   "source": [
    "seed = 666 # Do not change this\n",
    "device = T.device('cuda:0' if T.cuda.is_available() else 'cpu')\n",
    "def fix(env, seed):\n",
    "    env.seed(seed)\n",
    "    env.action_space.seed(seed)\n",
    "    T.manual_seed(seed)\n",
    "    T.cuda.manual_seed(seed)\n",
    "    T.cuda.manual_seed_all(seed)\n",
    "    np.random.seed(seed)\n",
    "    random.seed(seed)\n",
    "  #torch.set_deterministic(True)\n",
    "    T.backends.cudnn.benchmark = False\n",
    "    T.backends.cudnn.deterministic = True"
   ]
  },
  {
   "cell_type": "markdown",
   "id": "f6af1e8c",
   "metadata": {},
   "source": [
    "Construct the (linear) network structure--"
   ]
  },
  {
   "cell_type": "code",
   "execution_count": 3,
   "id": "8e84a256",
   "metadata": {},
   "outputs": [],
   "source": [
    "class FeedForwardNN(nn.Module):\n",
    "    def __init__(self, in_dim, out_dim, name, chkpt_dir):\n",
    "        super(FeedForwardNN, self).__init__()\n",
    "    \n",
    "        self.chkpt_file = os.path.join(chkpt_dir, name)\n",
    "    \n",
    "        self.layer1 = nn.Linear(in_dim, 64)\n",
    "        self.layer2 = nn.Linear(64, 64)\n",
    "        self.layer3 = nn.Linear(64, out_dim)\n",
    "    \n",
    "        self.device = T.device('cuda:0' if T.cuda.is_available() else 'cpu')\n",
    "    \n",
    "        self.to(self.device)\n",
    "    \n",
    "    def forward(self, obs):\n",
    "        x = F.relu(self.layer1(obs))\n",
    "        x = F.relu(self.layer2(x))\n",
    "        output = self.layer3(x)\n",
    "        return output\n",
    "\n",
    "    def save_checkpoint(self):\n",
    "        T.save(self.state_dict(), self.chkpt_file)\n",
    "\n",
    "    def load_checkpoint(self):\n",
    "        self.load_state_dict(T.load(self.chkpt_file))"
   ]
  },
  {
   "cell_type": "markdown",
   "id": "08391fa8",
   "metadata": {},
   "source": [
    "Create buffer"
   ]
  },
  {
   "cell_type": "markdown",
   "id": "c3c3d08b",
   "metadata": {},
   "source": [
    "Construct our PPO class (which is also our agent) --"
   ]
  },
  {
   "cell_type": "code",
   "execution_count": 4,
   "id": "932e452e",
   "metadata": {},
   "outputs": [],
   "source": [
    "class PPO:\n",
    "    def __init__(self, network, obs_dim, act_dim, subgaussian = False,delta = 2, lr = 0.005, gamma = 0.99, clip = 0.2, n_updates_per_iteration = 5, \\\n",
    "                max_timesteps_per_episode = 200, timesteps_per_batch = 2048, chkpt_dir = 'model/'):\n",
    "        self.chkpt_dir = chkpt_dir\n",
    "        \n",
    "        self.timesteps_per_batch = timesteps_per_batch                 # Number of timesteps to run per batch\n",
    "        self.max_timesteps_per_episode = max_timesteps_per_episode          # Max number of timesteps per episode\n",
    "        self.n_updates_per_iteration = n_updates_per_iteration                # Number of times to update actor/critic per iteration\n",
    "        self.lr = lr                                 # Learning rate of actor optimizer\n",
    "        self.gamma = gamma                               # Discount factor to be applied when calculating Rewards-To-Go\n",
    "        self.clip = clip                                 # Recommended 0.2, helps define the threshold to clip the ratio during SGA\n",
    "        \n",
    "        self.obs_dim = obs_dim\n",
    "        self.act_dim = act_dim\n",
    "        \n",
    "        self.subgaussian = subgaussian\n",
    "        self.delta = delta\n",
    "        \n",
    "        name = '.pth'\n",
    "        if subgaussian:\n",
    "            name = '_subgaussian.pth'\n",
    "        \n",
    "        self.actor = network(self.obs_dim, self.act_dim, 'ppo_actor'+name, self.chkpt_dir) \n",
    "        self.critic = network(self.obs_dim, 1, 'ppo_critic'+name, self.chkpt_dir)\n",
    "        \n",
    "        # Initialize optimizers for actor and critic\n",
    "        self.actor_optim = Adam(self.actor.parameters(), lr=self.lr)\n",
    "        self.critic_optim = Adam(self.critic.parameters(), lr=self.lr)\n",
    "        \n",
    "        # Initialize the covariance matrix used to query the actor for actions\n",
    "        self.cov_var = T.full(size=(self.act_dim,), fill_value=0.5)\n",
    "        self.cov_mat = T.diag(self.cov_var)\n",
    "        \n",
    "    def learn(self, batch_obs, batch_acts, batch_rews, batch_log_probs):\n",
    "        \n",
    "        device = self.actor.device\n",
    "        \n",
    "        batch_rtgs = self.compute_rtgs(batch_rews)\n",
    "        batch_rtgs = T.tensor(np.array(batch_rtgs), dtype=T.float).to(device)\n",
    "        batch_obs = T.tensor(np.array(batch_obs), dtype=T.float).to(device)\n",
    "        batch_acts = T.tensor(np.array(batch_acts), dtype=T.float).to(device)\n",
    "        batch_log_probs = T.tensor(np.array(batch_log_probs), dtype=T.float).to(device)\n",
    "        \n",
    "        # Calculate advantage at k-th iteration\n",
    "        V, _ = self.evaluate(batch_obs, batch_acts)\n",
    "        A_k = batch_rtgs - V.detach()          \n",
    "        A_k = (A_k - A_k.mean()) / (A_k.std() + 1e-10) # Normalizing the advantage\n",
    "        \n",
    "        for _ in range(self.n_updates_per_iteration):\n",
    "            V, curr_log_probs = self.evaluate(batch_obs, batch_acts)\n",
    "            \n",
    "            ratios = T.exp(curr_log_probs - batch_log_probs)\n",
    "            if self.subgaussian:\n",
    "                var = T.exp(curr_log_probs - batch_log_probs).var()\n",
    "                var_1 = var.sqrt() * self.delta\n",
    "                ratios = T.div(ratios, 1-var_1 + var_1 * ratios)\n",
    "                \n",
    "            \n",
    "            # Calculate surrogate losses.\n",
    "            surr1 = ratios * A_k\n",
    "            surr2 = T.clamp(ratios, 1 - self.clip, 1 + self.clip) * A_k\n",
    "            \n",
    "            actor_loss = (-T.min(surr1, surr2)).mean()\n",
    "            critic_loss = nn.MSELoss()(V, batch_rtgs)\n",
    "            \n",
    "            # Calculate gradients and perform backward propagation for actor network\n",
    "            self.actor_optim.zero_grad()\n",
    "            actor_loss.backward(retain_graph=True)\n",
    "            self.actor_optim.step()\n",
    "            \n",
    "            # Calculate gradients and perform backward propagation for critic network\n",
    "            self.critic_optim.zero_grad()\n",
    "            critic_loss.backward()\n",
    "            self.critic_optim.step()    \n",
    "            \n",
    "    def compute_rtgs(self, batch_rews):\n",
    "        batch_rtgs = []\n",
    "        \n",
    "        for epoch_rews in reversed(batch_rews):\n",
    "            discounted_reward = 0\n",
    "            for rew in reversed(epoch_rews):\n",
    "                discounted_reward = rew + discounted_reward * self.gamma\n",
    "                batch_rtgs.insert(0, discounted_reward)\n",
    "                \n",
    "        \n",
    "        return batch_rtgs\n",
    "        \n",
    "    def get_action(self, obs):\n",
    "        state = T.tensor(obs, dtype=T.float).to(self.actor.device)\n",
    "        mean = self.actor.forward(state)\n",
    "        \n",
    "        distr = MultivariateNormal(mean, self.cov_mat)\n",
    "        action = distr.sample()\n",
    "        log_prob = distr.log_prob(action)\n",
    "        return action.detach().cpu().numpy(), log_prob.detach().cpu().numpy()\n",
    "    \n",
    "        \n",
    "    def evaluate(self, batch_obs, batch_acts):\n",
    "        # Estimate the values of each observation, and the log probs of\n",
    "        # each action in the most recent batch with the most recent\n",
    "        # iteration of the actor network. Should be called from learn.\n",
    "        \n",
    "        # Query critic network for a value V for each batch_obs. Shape of V should be same as batch_rtgs\n",
    "        V = self.critic.forward(batch_obs).squeeze()\n",
    "        \n",
    "        # Calculate the log probabilities of batch actions using most recent actor network.\n",
    "        mean = self.actor.forward(batch_obs)\n",
    "        dist = MultivariateNormal(mean, self.cov_mat)\n",
    "        log_probs = dist.log_prob(batch_acts)\n",
    "\n",
    "        # V - the predicted values of batch_obs\n",
    "        # log_probs - the log probabilities of the actions taken in batch_acts given batch_obs\n",
    "        return V, log_probs\n",
    "    \n",
    "    def save_checkpoint():\n",
    "        self.actor.save_checkpoint()\n",
    "        self.critic.save_checkpoint()\n",
    "    \n",
    "    def load_checkpoint():\n",
    "        self.actor.load_checkpoint()\n",
    "        self.critic.load_checkpoint()\n",
    "        "
   ]
  },
  {
   "cell_type": "markdown",
   "id": "f7d436b4",
   "metadata": {},
   "source": [
    "Define the function to collect the on-policy trajectories--"
   ]
  },
  {
   "cell_type": "code",
   "execution_count": 5,
   "id": "1aafeb3b",
   "metadata": {},
   "outputs": [],
   "source": [
    "def rollout(policy, env, timesteps_per_batch, max_timesteps_per_episode):\n",
    "    # Batch data.\n",
    "    batch_obs = []\n",
    "    batch_acts = []\n",
    "    batch_log_probs = []\n",
    "    batch_rews = []\n",
    "    batch_lens = []\n",
    "    \n",
    "    epoch_rews = []\n",
    "    t=0\n",
    "    while t < timesteps_per_batch:\n",
    "        epoch_rews = [] # rewards collected per episode\n",
    "        obs = env.reset()\n",
    "        done = False\n",
    "        for h in range(max_timesteps_per_episode):\n",
    "            batch_obs.append(obs)\n",
    "            action, log_prob = policy.get_action(obs)\n",
    "            obs, rew, done, _ = env.step(action)\n",
    "            t +=1\n",
    "            \n",
    "            epoch_rews.append(rew)\n",
    "            batch_acts.append(action)\n",
    "            batch_log_probs.append(log_prob)\n",
    "            \n",
    "            if done:\n",
    "                break\n",
    "            \n",
    "        batch_lens.append(h+1)\n",
    "        batch_rews.append(epoch_rews)\n",
    "    \n",
    "    \n",
    "    \n",
    "    return batch_obs, batch_acts, batch_rews, batch_log_probs, batch_lens"
   ]
  },
  {
   "cell_type": "code",
   "execution_count": 6,
   "id": "081247a1",
   "metadata": {},
   "outputs": [],
   "source": [
    "hyperparameters = {\n",
    "    'timesteps_per_batch': 2048, \n",
    "    'max_timesteps_per_episode': 200, \n",
    "    'gamma': 0.99, \n",
    "    'n_updates_per_iteration': 10,\n",
    "    'lr': 3e-4, \n",
    "    'clip': 0.2,\n",
    "    'seed': 666\n",
    "    }"
   ]
  },
  {
   "cell_type": "markdown",
   "id": "10b730f1",
   "metadata": {},
   "source": [
    "The training loop----"
   ]
  },
  {
   "cell_type": "code",
   "execution_count": 8,
   "id": "1fec2c18",
   "metadata": {},
   "outputs": [],
   "source": [
    "env = gym.make('Pendulum-v0')\n",
    "fix(env, seed)\n",
    "obs_dim = env.observation_space.shape[0]\n",
    "act_dim = env.action_space.shape[0]\n",
    "\n",
    "ITERATIONS = 2000"
   ]
  },
  {
   "cell_type": "markdown",
   "id": "a60a4cd0",
   "metadata": {},
   "source": [
    "Train (vanilla importance sampling)--"
   ]
  },
  {
   "cell_type": "code",
   "execution_count": 12,
   "id": "d82cbd48",
   "metadata": {},
   "outputs": [
    {
     "name": "stderr",
     "output_type": "stream",
     "text": [
      "\r",
      "  0%|                                                                                          | 0/300 [00:00<?, ?it/s]"
     ]
    },
    {
     "name": "stdout",
     "output_type": "stream",
     "text": [
      "-------------------- Iteration --------------------\n",
      "Average Episodic Length: 200.0\n",
      "Average Episodic Return: -1205.12\n"
     ]
    },
    {
     "name": "stderr",
     "output_type": "stream",
     "text": [
      "\r",
      "  0%|▎                                                                                 | 1/300 [00:02<09:58,  2.00s/it]"
     ]
    },
    {
     "name": "stdout",
     "output_type": "stream",
     "text": [
      "-------------------- Iteration --------------------\n",
      "Average Episodic Length: 200.0\n",
      "Average Episodic Return: -1382.47\n"
     ]
    },
    {
     "name": "stderr",
     "output_type": "stream",
     "text": [
      "\r",
      "  1%|▌                                                                                 | 2/300 [00:04<09:57,  2.01s/it]"
     ]
    },
    {
     "name": "stdout",
     "output_type": "stream",
     "text": [
      "-------------------- Iteration --------------------\n",
      "Average Episodic Length: 200.0\n",
      "Average Episodic Return: -1157.71\n",
      "Successfully save the model!\n"
     ]
    },
    {
     "name": "stderr",
     "output_type": "stream",
     "text": [
      "\r",
      "  1%|▊                                                                                 | 3/300 [00:05<09:40,  1.96s/it]"
     ]
    },
    {
     "name": "stdout",
     "output_type": "stream",
     "text": [
      "-------------------- Iteration --------------------\n",
      "Average Episodic Length: 200.0\n",
      "Average Episodic Return: -1123.34\n",
      "Successfully save the model!\n"
     ]
    },
    {
     "name": "stderr",
     "output_type": "stream",
     "text": [
      "\r",
      "  1%|█                                                                                 | 4/300 [00:07<09:45,  1.98s/it]"
     ]
    },
    {
     "name": "stdout",
     "output_type": "stream",
     "text": [
      "-------------------- Iteration --------------------\n",
      "Average Episodic Length: 200.0\n",
      "Average Episodic Return: -1207.63\n"
     ]
    },
    {
     "name": "stderr",
     "output_type": "stream",
     "text": [
      "\r",
      "  2%|█▎                                                                                | 5/300 [00:09<09:36,  1.95s/it]"
     ]
    },
    {
     "name": "stdout",
     "output_type": "stream",
     "text": [
      "-------------------- Iteration --------------------\n",
      "Average Episodic Length: 200.0\n",
      "Average Episodic Return: -1323.1\n"
     ]
    },
    {
     "name": "stderr",
     "output_type": "stream",
     "text": [
      "\r",
      "  2%|█▋                                                                                | 6/300 [00:11<09:23,  1.92s/it]"
     ]
    },
    {
     "name": "stdout",
     "output_type": "stream",
     "text": [
      "-------------------- Iteration --------------------\n",
      "Average Episodic Length: 200.0\n",
      "Average Episodic Return: -1491.8\n"
     ]
    },
    {
     "name": "stderr",
     "output_type": "stream",
     "text": [
      "\r",
      "  2%|█▉                                                                                | 7/300 [00:13<09:53,  2.02s/it]"
     ]
    },
    {
     "name": "stdout",
     "output_type": "stream",
     "text": [
      "-------------------- Iteration --------------------\n",
      "Average Episodic Length: 200.0\n",
      "Average Episodic Return: -1382.22\n",
      "Successfully save the model!\n"
     ]
    },
    {
     "name": "stderr",
     "output_type": "stream",
     "text": [
      "\r",
      "  3%|██▏                                                                               | 8/300 [00:16<10:38,  2.19s/it]"
     ]
    },
    {
     "name": "stdout",
     "output_type": "stream",
     "text": [
      "-------------------- Iteration --------------------\n",
      "Average Episodic Length: 200.0\n",
      "Average Episodic Return: -1237.11\n",
      "Successfully save the model!\n"
     ]
    },
    {
     "name": "stderr",
     "output_type": "stream",
     "text": [
      "\r",
      "  3%|██▍                                                                               | 9/300 [00:18<10:37,  2.19s/it]"
     ]
    },
    {
     "name": "stdout",
     "output_type": "stream",
     "text": [
      "-------------------- Iteration --------------------\n",
      "Average Episodic Length: 200.0\n",
      "Average Episodic Return: -1369.59\n"
     ]
    },
    {
     "name": "stderr",
     "output_type": "stream",
     "text": [
      "\r",
      "  3%|██▋                                                                              | 10/300 [00:20<10:09,  2.10s/it]"
     ]
    },
    {
     "name": "stdout",
     "output_type": "stream",
     "text": [
      "-------------------- Iteration --------------------\n",
      "Average Episodic Length: 200.0\n",
      "Average Episodic Return: -1025.82\n",
      "Successfully save the model!\n"
     ]
    },
    {
     "name": "stderr",
     "output_type": "stream",
     "text": [
      "\r",
      "  4%|██▉                                                                              | 11/300 [00:22<10:02,  2.09s/it]"
     ]
    },
    {
     "name": "stdout",
     "output_type": "stream",
     "text": [
      "-------------------- Iteration --------------------\n",
      "Average Episodic Length: 200.0\n",
      "Average Episodic Return: -1311.05\n"
     ]
    },
    {
     "name": "stderr",
     "output_type": "stream",
     "text": [
      "\r",
      "  4%|███▏                                                                             | 12/300 [00:25<10:40,  2.22s/it]"
     ]
    },
    {
     "name": "stdout",
     "output_type": "stream",
     "text": [
      "-------------------- Iteration --------------------\n",
      "Average Episodic Length: 200.0\n",
      "Average Episodic Return: -1243.55\n",
      "Successfully save the model!\n"
     ]
    },
    {
     "name": "stderr",
     "output_type": "stream",
     "text": [
      "\r",
      "  4%|███▌                                                                             | 13/300 [00:27<10:23,  2.17s/it]"
     ]
    },
    {
     "name": "stdout",
     "output_type": "stream",
     "text": [
      "-------------------- Iteration --------------------\n",
      "Average Episodic Length: 200.0\n",
      "Average Episodic Return: -1206.53\n",
      "Successfully save the model!\n"
     ]
    },
    {
     "name": "stderr",
     "output_type": "stream",
     "text": [
      "\r",
      "  5%|███▊                                                                             | 14/300 [00:29<10:15,  2.15s/it]"
     ]
    },
    {
     "name": "stdout",
     "output_type": "stream",
     "text": [
      "-------------------- Iteration --------------------\n",
      "Average Episodic Length: 200.0\n",
      "Average Episodic Return: -1136.0\n",
      "Successfully save the model!\n"
     ]
    },
    {
     "name": "stderr",
     "output_type": "stream",
     "text": [
      "\r",
      "  5%|████                                                                             | 15/300 [00:31<10:14,  2.15s/it]"
     ]
    },
    {
     "name": "stdout",
     "output_type": "stream",
     "text": [
      "-------------------- Iteration --------------------\n",
      "Average Episodic Length: 200.0\n",
      "Average Episodic Return: -1173.97\n"
     ]
    },
    {
     "name": "stderr",
     "output_type": "stream",
     "text": [
      "\r",
      "  5%|████▎                                                                            | 16/300 [00:33<10:41,  2.26s/it]"
     ]
    },
    {
     "name": "stdout",
     "output_type": "stream",
     "text": [
      "-------------------- Iteration --------------------\n",
      "Average Episodic Length: 200.0\n",
      "Average Episodic Return: -1243.29\n"
     ]
    },
    {
     "name": "stderr",
     "output_type": "stream",
     "text": [
      "\r",
      "  6%|████▌                                                                            | 17/300 [00:36<10:32,  2.23s/it]"
     ]
    },
    {
     "name": "stdout",
     "output_type": "stream",
     "text": [
      "-------------------- Iteration --------------------\n",
      "Average Episodic Length: 200.0\n",
      "Average Episodic Return: -1152.24\n",
      "Successfully save the model!\n"
     ]
    },
    {
     "name": "stderr",
     "output_type": "stream",
     "text": [
      "\r",
      "  6%|████▊                                                                            | 18/300 [00:38<10:08,  2.16s/it]"
     ]
    },
    {
     "name": "stdout",
     "output_type": "stream",
     "text": [
      "-------------------- Iteration --------------------\n",
      "Average Episodic Length: 200.0\n",
      "Average Episodic Return: -1155.47\n"
     ]
    },
    {
     "name": "stderr",
     "output_type": "stream",
     "text": [
      "\r",
      "  6%|█████▏                                                                           | 19/300 [00:40<10:07,  2.16s/it]"
     ]
    },
    {
     "name": "stdout",
     "output_type": "stream",
     "text": [
      "-------------------- Iteration --------------------\n",
      "Average Episodic Length: 200.0\n",
      "Average Episodic Return: -1255.12\n"
     ]
    },
    {
     "name": "stderr",
     "output_type": "stream",
     "text": [
      "\r",
      "  7%|█████▍                                                                           | 20/300 [00:43<11:18,  2.42s/it]"
     ]
    },
    {
     "name": "stdout",
     "output_type": "stream",
     "text": [
      "-------------------- Iteration --------------------\n",
      "Average Episodic Length: 200.0\n",
      "Average Episodic Return: -1251.51\n",
      "Successfully save the model!\n"
     ]
    },
    {
     "name": "stderr",
     "output_type": "stream",
     "text": [
      "\r",
      "  7%|█████▋                                                                           | 21/300 [00:45<10:45,  2.31s/it]"
     ]
    },
    {
     "name": "stdout",
     "output_type": "stream",
     "text": [
      "-------------------- Iteration --------------------\n",
      "Average Episodic Length: 200.0\n",
      "Average Episodic Return: -1342.5\n"
     ]
    },
    {
     "name": "stderr",
     "output_type": "stream",
     "text": [
      "\r",
      "  7%|█████▉                                                                           | 22/300 [00:47<10:30,  2.27s/it]"
     ]
    },
    {
     "name": "stdout",
     "output_type": "stream",
     "text": [
      "-------------------- Iteration --------------------\n",
      "Average Episodic Length: 200.0\n",
      "Average Episodic Return: -1299.6\n",
      "Successfully save the model!\n"
     ]
    },
    {
     "name": "stderr",
     "output_type": "stream",
     "text": [
      "\r",
      "  8%|██████▏                                                                          | 23/300 [00:49<10:29,  2.27s/it]"
     ]
    },
    {
     "name": "stdout",
     "output_type": "stream",
     "text": [
      "-------------------- Iteration --------------------\n",
      "Average Episodic Length: 200.0\n",
      "Average Episodic Return: -1266.03\n",
      "Successfully save the model!\n"
     ]
    },
    {
     "name": "stderr",
     "output_type": "stream",
     "text": [
      "\r",
      "  8%|██████▍                                                                          | 24/300 [00:52<10:32,  2.29s/it]"
     ]
    },
    {
     "name": "stdout",
     "output_type": "stream",
     "text": [
      "-------------------- Iteration --------------------\n",
      "Average Episodic Length: 200.0\n",
      "Average Episodic Return: -1120.45\n",
      "Successfully save the model!\n"
     ]
    },
    {
     "name": "stderr",
     "output_type": "stream",
     "text": [
      "\r",
      "  8%|██████▊                                                                          | 25/300 [00:54<10:13,  2.23s/it]"
     ]
    },
    {
     "name": "stdout",
     "output_type": "stream",
     "text": [
      "-------------------- Iteration --------------------\n",
      "Average Episodic Length: 200.0\n",
      "Average Episodic Return: -1148.24\n"
     ]
    },
    {
     "name": "stderr",
     "output_type": "stream",
     "text": [
      "\r",
      "  9%|███████                                                                          | 26/300 [00:56<09:47,  2.15s/it]"
     ]
    },
    {
     "name": "stdout",
     "output_type": "stream",
     "text": [
      "-------------------- Iteration --------------------\n",
      "Average Episodic Length: 200.0\n",
      "Average Episodic Return: -1141.95\n",
      "Successfully save the model!\n"
     ]
    },
    {
     "name": "stderr",
     "output_type": "stream",
     "text": [
      "\r",
      "  9%|███████▎                                                                         | 27/300 [00:58<09:32,  2.10s/it]"
     ]
    },
    {
     "name": "stdout",
     "output_type": "stream",
     "text": [
      "-------------------- Iteration --------------------\n",
      "Average Episodic Length: 200.0\n",
      "Average Episodic Return: -1124.33\n",
      "Successfully save the model!\n"
     ]
    },
    {
     "name": "stderr",
     "output_type": "stream",
     "text": [
      "\r",
      "  9%|███████▌                                                                         | 28/300 [01:00<09:26,  2.08s/it]"
     ]
    },
    {
     "name": "stdout",
     "output_type": "stream",
     "text": [
      "-------------------- Iteration --------------------\n",
      "Average Episodic Length: 200.0\n",
      "Average Episodic Return: -1145.39\n"
     ]
    },
    {
     "name": "stderr",
     "output_type": "stream",
     "text": [
      "\r",
      " 10%|███████▊                                                                         | 29/300 [01:02<09:37,  2.13s/it]"
     ]
    },
    {
     "name": "stdout",
     "output_type": "stream",
     "text": [
      "-------------------- Iteration --------------------\n",
      "Average Episodic Length: 200.0\n",
      "Average Episodic Return: -1294.16\n"
     ]
    },
    {
     "name": "stderr",
     "output_type": "stream",
     "text": [
      "\r",
      " 10%|████████                                                                         | 30/300 [01:04<09:35,  2.13s/it]"
     ]
    },
    {
     "name": "stdout",
     "output_type": "stream",
     "text": [
      "-------------------- Iteration --------------------\n",
      "Average Episodic Length: 200.0\n",
      "Average Episodic Return: -1015.12\n",
      "Successfully save the model!\n"
     ]
    },
    {
     "name": "stderr",
     "output_type": "stream",
     "text": [
      "\r",
      " 10%|████████▎                                                                        | 31/300 [01:06<09:27,  2.11s/it]"
     ]
    },
    {
     "name": "stdout",
     "output_type": "stream",
     "text": [
      "-------------------- Iteration --------------------\n",
      "Average Episodic Length: 200.0\n",
      "Average Episodic Return: -1152.5\n"
     ]
    },
    {
     "name": "stderr",
     "output_type": "stream",
     "text": [
      "\r",
      " 11%|████████▋                                                                        | 32/300 [01:08<09:16,  2.08s/it]"
     ]
    },
    {
     "name": "stdout",
     "output_type": "stream",
     "text": [
      "-------------------- Iteration --------------------\n",
      "Average Episodic Length: 200.0\n",
      "Average Episodic Return: -1206.88\n"
     ]
    },
    {
     "name": "stderr",
     "output_type": "stream",
     "text": [
      "\r",
      " 11%|████████▉                                                                        | 33/300 [01:10<09:17,  2.09s/it]"
     ]
    },
    {
     "name": "stdout",
     "output_type": "stream",
     "text": [
      "-------------------- Iteration --------------------\n",
      "Average Episodic Length: 200.0\n",
      "Average Episodic Return: -1074.1\n",
      "Successfully save the model!\n"
     ]
    },
    {
     "name": "stderr",
     "output_type": "stream",
     "text": [
      "\r",
      " 11%|█████████▏                                                                       | 34/300 [01:12<08:52,  2.00s/it]"
     ]
    },
    {
     "name": "stdout",
     "output_type": "stream",
     "text": [
      "-------------------- Iteration --------------------\n",
      "Average Episodic Length: 200.0\n",
      "Average Episodic Return: -1106.15\n"
     ]
    },
    {
     "name": "stderr",
     "output_type": "stream",
     "text": [
      "\r",
      " 12%|█████████▍                                                                       | 35/300 [01:14<08:59,  2.04s/it]"
     ]
    },
    {
     "name": "stdout",
     "output_type": "stream",
     "text": [
      "-------------------- Iteration --------------------\n",
      "Average Episodic Length: 200.0\n",
      "Average Episodic Return: -1289.43\n"
     ]
    },
    {
     "name": "stderr",
     "output_type": "stream",
     "text": [
      "\r",
      " 12%|█████████▋                                                                       | 36/300 [01:16<08:45,  1.99s/it]"
     ]
    },
    {
     "name": "stdout",
     "output_type": "stream",
     "text": [
      "-------------------- Iteration --------------------\n",
      "Average Episodic Length: 200.0\n",
      "Average Episodic Return: -1052.72\n",
      "Successfully save the model!\n"
     ]
    },
    {
     "name": "stderr",
     "output_type": "stream",
     "text": [
      "\r",
      " 12%|█████████▉                                                                       | 37/300 [01:18<08:49,  2.01s/it]"
     ]
    },
    {
     "name": "stdout",
     "output_type": "stream",
     "text": [
      "-------------------- Iteration --------------------\n",
      "Average Episodic Length: 200.0\n",
      "Average Episodic Return: -1118.64\n"
     ]
    },
    {
     "name": "stderr",
     "output_type": "stream",
     "text": [
      "\r",
      " 13%|██████████▎                                                                      | 38/300 [01:20<08:28,  1.94s/it]"
     ]
    },
    {
     "name": "stdout",
     "output_type": "stream",
     "text": [
      "-------------------- Iteration --------------------\n",
      "Average Episodic Length: 200.0\n",
      "Average Episodic Return: -1119.17\n"
     ]
    },
    {
     "name": "stderr",
     "output_type": "stream",
     "text": [
      "\r",
      " 13%|██████████▌                                                                      | 39/300 [01:22<08:15,  1.90s/it]"
     ]
    },
    {
     "name": "stdout",
     "output_type": "stream",
     "text": [
      "-------------------- Iteration --------------------\n",
      "Average Episodic Length: 200.0\n",
      "Average Episodic Return: -1109.02\n",
      "Successfully save the model!\n"
     ]
    },
    {
     "name": "stderr",
     "output_type": "stream",
     "text": [
      "\r",
      " 13%|██████████▊                                                                      | 40/300 [01:24<08:12,  1.89s/it]"
     ]
    },
    {
     "name": "stdout",
     "output_type": "stream",
     "text": [
      "-------------------- Iteration --------------------\n",
      "Average Episodic Length: 200.0\n",
      "Average Episodic Return: -1113.01\n"
     ]
    },
    {
     "name": "stderr",
     "output_type": "stream",
     "text": [
      "\r",
      " 14%|███████████                                                                      | 41/300 [01:25<08:09,  1.89s/it]"
     ]
    },
    {
     "name": "stdout",
     "output_type": "stream",
     "text": [
      "-------------------- Iteration --------------------\n",
      "Average Episodic Length: 200.0\n",
      "Average Episodic Return: -1170.23\n"
     ]
    },
    {
     "name": "stderr",
     "output_type": "stream",
     "text": [
      "\r",
      " 14%|███████████▎                                                                     | 42/300 [01:27<08:07,  1.89s/it]"
     ]
    },
    {
     "name": "stdout",
     "output_type": "stream",
     "text": [
      "-------------------- Iteration --------------------\n",
      "Average Episodic Length: 200.0\n",
      "Average Episodic Return: -1296.46\n"
     ]
    },
    {
     "name": "stderr",
     "output_type": "stream",
     "text": [
      "\r",
      " 14%|███████████▌                                                                     | 43/300 [01:29<08:04,  1.88s/it]"
     ]
    },
    {
     "name": "stdout",
     "output_type": "stream",
     "text": [
      "-------------------- Iteration --------------------\n",
      "Average Episodic Length: 200.0\n",
      "Average Episodic Return: -1212.1\n",
      "Successfully save the model!\n"
     ]
    },
    {
     "name": "stderr",
     "output_type": "stream",
     "text": [
      "\r",
      " 15%|███████████▉                                                                     | 44/300 [01:31<07:53,  1.85s/it]"
     ]
    },
    {
     "name": "stdout",
     "output_type": "stream",
     "text": [
      "-------------------- Iteration --------------------\n",
      "Average Episodic Length: 200.0\n",
      "Average Episodic Return: -1068.94\n",
      "Successfully save the model!\n"
     ]
    },
    {
     "name": "stderr",
     "output_type": "stream",
     "text": [
      "\r",
      " 15%|████████████▏                                                                    | 45/300 [01:33<07:50,  1.84s/it]"
     ]
    },
    {
     "name": "stdout",
     "output_type": "stream",
     "text": [
      "-------------------- Iteration --------------------\n",
      "Average Episodic Length: 200.0\n",
      "Average Episodic Return: -1236.96\n"
     ]
    },
    {
     "name": "stderr",
     "output_type": "stream",
     "text": [
      "\r",
      " 15%|████████████▍                                                                    | 46/300 [01:35<07:57,  1.88s/it]"
     ]
    },
    {
     "name": "stdout",
     "output_type": "stream",
     "text": [
      "-------------------- Iteration --------------------\n",
      "Average Episodic Length: 200.0\n",
      "Average Episodic Return: -1036.13\n",
      "Successfully save the model!\n"
     ]
    },
    {
     "name": "stderr",
     "output_type": "stream",
     "text": [
      "\r",
      " 16%|████████████▋                                                                    | 47/300 [01:37<08:24,  1.99s/it]"
     ]
    },
    {
     "name": "stdout",
     "output_type": "stream",
     "text": [
      "-------------------- Iteration --------------------\n",
      "Average Episodic Length: 200.0\n",
      "Average Episodic Return: -1125.14\n"
     ]
    },
    {
     "name": "stderr",
     "output_type": "stream",
     "text": [
      "\r",
      " 16%|████████████▉                                                                    | 48/300 [01:39<08:37,  2.06s/it]"
     ]
    },
    {
     "name": "stdout",
     "output_type": "stream",
     "text": [
      "-------------------- Iteration --------------------\n",
      "Average Episodic Length: 200.0\n",
      "Average Episodic Return: -1200.86\n"
     ]
    },
    {
     "name": "stderr",
     "output_type": "stream",
     "text": [
      "\r",
      " 16%|█████████████▏                                                                   | 49/300 [01:41<08:42,  2.08s/it]"
     ]
    },
    {
     "name": "stdout",
     "output_type": "stream",
     "text": [
      "-------------------- Iteration --------------------\n",
      "Average Episodic Length: 200.0\n",
      "Average Episodic Return: -1245.24\n"
     ]
    },
    {
     "name": "stderr",
     "output_type": "stream",
     "text": [
      "\r",
      " 17%|█████████████▌                                                                   | 50/300 [01:43<08:14,  1.98s/it]"
     ]
    },
    {
     "name": "stdout",
     "output_type": "stream",
     "text": [
      "-------------------- Iteration --------------------\n",
      "Average Episodic Length: 200.0\n",
      "Average Episodic Return: -1058.68\n",
      "Successfully save the model!\n"
     ]
    },
    {
     "name": "stderr",
     "output_type": "stream",
     "text": [
      "\r",
      " 17%|█████████████▊                                                                   | 51/300 [01:45<07:55,  1.91s/it]"
     ]
    },
    {
     "name": "stdout",
     "output_type": "stream",
     "text": [
      "-------------------- Iteration --------------------\n",
      "Average Episodic Length: 200.0\n",
      "Average Episodic Return: -1087.56\n"
     ]
    },
    {
     "name": "stderr",
     "output_type": "stream",
     "text": [
      "\r",
      " 17%|██████████████                                                                   | 52/300 [01:47<08:24,  2.03s/it]"
     ]
    },
    {
     "name": "stdout",
     "output_type": "stream",
     "text": [
      "-------------------- Iteration --------------------\n",
      "Average Episodic Length: 200.0\n",
      "Average Episodic Return: -1093.75\n"
     ]
    },
    {
     "name": "stderr",
     "output_type": "stream",
     "text": [
      "\r",
      " 18%|██████████████▎                                                                  | 53/300 [01:49<08:30,  2.07s/it]"
     ]
    },
    {
     "name": "stdout",
     "output_type": "stream",
     "text": [
      "-------------------- Iteration --------------------\n",
      "Average Episodic Length: 200.0\n",
      "Average Episodic Return: -1041.55\n",
      "Successfully save the model!\n"
     ]
    },
    {
     "name": "stderr",
     "output_type": "stream",
     "text": [
      "\r",
      " 18%|██████████████▌                                                                  | 54/300 [01:51<08:11,  2.00s/it]"
     ]
    },
    {
     "name": "stdout",
     "output_type": "stream",
     "text": [
      "-------------------- Iteration --------------------\n",
      "Average Episodic Length: 200.0\n",
      "Average Episodic Return: -1036.38\n",
      "Successfully save the model!\n"
     ]
    },
    {
     "name": "stderr",
     "output_type": "stream",
     "text": [
      "\r",
      " 18%|██████████████▊                                                                  | 55/300 [01:53<07:57,  1.95s/it]"
     ]
    },
    {
     "name": "stdout",
     "output_type": "stream",
     "text": [
      "-------------------- Iteration --------------------\n",
      "Average Episodic Length: 200.0\n",
      "Average Episodic Return: -996.66\n",
      "Successfully save the model!\n"
     ]
    },
    {
     "name": "stderr",
     "output_type": "stream",
     "text": [
      "\r",
      " 19%|███████████████                                                                  | 56/300 [01:55<07:46,  1.91s/it]"
     ]
    },
    {
     "name": "stdout",
     "output_type": "stream",
     "text": [
      "-------------------- Iteration --------------------\n",
      "Average Episodic Length: 200.0\n",
      "Average Episodic Return: -1072.69\n"
     ]
    },
    {
     "name": "stderr",
     "output_type": "stream",
     "text": [
      "\r",
      " 19%|███████████████▍                                                                 | 57/300 [01:57<08:00,  1.98s/it]"
     ]
    },
    {
     "name": "stdout",
     "output_type": "stream",
     "text": [
      "-------------------- Iteration --------------------\n",
      "Average Episodic Length: 200.0\n",
      "Average Episodic Return: -1056.06\n",
      "Successfully save the model!\n"
     ]
    },
    {
     "name": "stderr",
     "output_type": "stream",
     "text": [
      "\r",
      " 19%|███████████████▋                                                                 | 58/300 [01:59<07:54,  1.96s/it]"
     ]
    },
    {
     "name": "stdout",
     "output_type": "stream",
     "text": [
      "-------------------- Iteration --------------------\n",
      "Average Episodic Length: 200.0\n",
      "Average Episodic Return: -1130.26\n"
     ]
    },
    {
     "name": "stderr",
     "output_type": "stream",
     "text": [
      "\r",
      " 20%|███████████████▉                                                                 | 59/300 [02:01<07:41,  1.91s/it]"
     ]
    },
    {
     "name": "stdout",
     "output_type": "stream",
     "text": [
      "-------------------- Iteration --------------------\n",
      "Average Episodic Length: 200.0\n",
      "Average Episodic Return: -1090.2\n",
      "Successfully save the model!\n"
     ]
    },
    {
     "name": "stderr",
     "output_type": "stream",
     "text": [
      "\r",
      " 20%|████████████████▏                                                                | 60/300 [02:03<08:06,  2.03s/it]"
     ]
    },
    {
     "name": "stdout",
     "output_type": "stream",
     "text": [
      "-------------------- Iteration --------------------\n",
      "Average Episodic Length: 200.0\n",
      "Average Episodic Return: -1095.62\n"
     ]
    },
    {
     "name": "stderr",
     "output_type": "stream",
     "text": [
      "\r",
      " 20%|████████████████▍                                                                | 61/300 [02:05<08:03,  2.02s/it]"
     ]
    },
    {
     "name": "stdout",
     "output_type": "stream",
     "text": [
      "-------------------- Iteration --------------------\n",
      "Average Episodic Length: 200.0\n",
      "Average Episodic Return: -1121.54\n"
     ]
    },
    {
     "name": "stderr",
     "output_type": "stream",
     "text": [
      "\r",
      " 21%|████████████████▋                                                                | 62/300 [02:07<08:06,  2.05s/it]"
     ]
    },
    {
     "name": "stdout",
     "output_type": "stream",
     "text": [
      "-------------------- Iteration --------------------\n",
      "Average Episodic Length: 200.0\n",
      "Average Episodic Return: -982.06\n",
      "Successfully save the model!\n"
     ]
    },
    {
     "name": "stderr",
     "output_type": "stream",
     "text": [
      "\r",
      " 21%|█████████████████                                                                | 63/300 [02:09<08:15,  2.09s/it]"
     ]
    },
    {
     "name": "stdout",
     "output_type": "stream",
     "text": [
      "-------------------- Iteration --------------------\n",
      "Average Episodic Length: 200.0\n",
      "Average Episodic Return: -1053.02\n"
     ]
    },
    {
     "name": "stderr",
     "output_type": "stream",
     "text": [
      "\r",
      " 21%|█████████████████▎                                                               | 64/300 [02:11<08:01,  2.04s/it]"
     ]
    },
    {
     "name": "stdout",
     "output_type": "stream",
     "text": [
      "-------------------- Iteration --------------------\n",
      "Average Episodic Length: 200.0\n",
      "Average Episodic Return: -1001.53\n",
      "Successfully save the model!\n"
     ]
    },
    {
     "name": "stderr",
     "output_type": "stream",
     "text": [
      "\r",
      " 22%|█████████████████▌                                                               | 65/300 [02:13<07:50,  2.00s/it]"
     ]
    },
    {
     "name": "stdout",
     "output_type": "stream",
     "text": [
      "-------------------- Iteration --------------------\n",
      "Average Episodic Length: 200.0\n",
      "Average Episodic Return: -991.57\n",
      "Successfully save the model!\n"
     ]
    },
    {
     "name": "stderr",
     "output_type": "stream",
     "text": [
      "\r",
      " 22%|█████████████████▊                                                               | 66/300 [02:15<07:51,  2.02s/it]"
     ]
    },
    {
     "name": "stdout",
     "output_type": "stream",
     "text": [
      "-------------------- Iteration --------------------\n",
      "Average Episodic Length: 200.0\n",
      "Average Episodic Return: -1034.52\n"
     ]
    },
    {
     "name": "stderr",
     "output_type": "stream",
     "text": [
      "\r",
      " 22%|██████████████████                                                               | 67/300 [02:17<07:54,  2.04s/it]"
     ]
    },
    {
     "name": "stdout",
     "output_type": "stream",
     "text": [
      "-------------------- Iteration --------------------\n",
      "Average Episodic Length: 200.0\n",
      "Average Episodic Return: -1019.77\n",
      "Successfully save the model!\n"
     ]
    },
    {
     "name": "stderr",
     "output_type": "stream",
     "text": [
      "\r",
      " 23%|██████████████████▎                                                              | 68/300 [02:19<07:54,  2.05s/it]"
     ]
    },
    {
     "name": "stdout",
     "output_type": "stream",
     "text": [
      "-------------------- Iteration --------------------\n",
      "Average Episodic Length: 200.0\n",
      "Average Episodic Return: -1053.69\n"
     ]
    },
    {
     "name": "stderr",
     "output_type": "stream",
     "text": [
      "\r",
      " 23%|██████████████████▋                                                              | 69/300 [02:21<07:46,  2.02s/it]"
     ]
    },
    {
     "name": "stdout",
     "output_type": "stream",
     "text": [
      "-------------------- Iteration --------------------\n",
      "Average Episodic Length: 200.0\n",
      "Average Episodic Return: -1025.33\n",
      "Successfully save the model!\n"
     ]
    },
    {
     "name": "stderr",
     "output_type": "stream",
     "text": [
      "\r",
      " 23%|██████████████████▉                                                              | 70/300 [02:23<07:41,  2.01s/it]"
     ]
    },
    {
     "name": "stdout",
     "output_type": "stream",
     "text": [
      "-------------------- Iteration --------------------\n",
      "Average Episodic Length: 200.0\n",
      "Average Episodic Return: -952.08\n",
      "Successfully save the model!\n"
     ]
    },
    {
     "name": "stderr",
     "output_type": "stream",
     "text": [
      "\r",
      " 24%|███████████████████▏                                                             | 71/300 [02:25<07:46,  2.04s/it]"
     ]
    },
    {
     "name": "stdout",
     "output_type": "stream",
     "text": [
      "-------------------- Iteration --------------------\n",
      "Average Episodic Length: 200.0\n",
      "Average Episodic Return: -966.86\n"
     ]
    },
    {
     "name": "stderr",
     "output_type": "stream",
     "text": [
      "\r",
      " 24%|███████████████████▍                                                             | 72/300 [02:27<07:27,  1.96s/it]"
     ]
    },
    {
     "name": "stdout",
     "output_type": "stream",
     "text": [
      "-------------------- Iteration --------------------\n",
      "Average Episodic Length: 200.0\n",
      "Average Episodic Return: -1030.45\n"
     ]
    },
    {
     "name": "stderr",
     "output_type": "stream",
     "text": [
      "\r",
      " 24%|███████████████████▋                                                             | 73/300 [02:29<07:13,  1.91s/it]"
     ]
    },
    {
     "name": "stdout",
     "output_type": "stream",
     "text": [
      "-------------------- Iteration --------------------\n",
      "Average Episodic Length: 200.0\n",
      "Average Episodic Return: -1007.94\n",
      "Successfully save the model!\n"
     ]
    },
    {
     "name": "stderr",
     "output_type": "stream",
     "text": [
      "\r",
      " 25%|███████████████████▉                                                             | 74/300 [02:31<07:02,  1.87s/it]"
     ]
    },
    {
     "name": "stdout",
     "output_type": "stream",
     "text": [
      "-------------------- Iteration --------------------\n",
      "Average Episodic Length: 200.0\n",
      "Average Episodic Return: -901.24\n",
      "Successfully save the model!\n"
     ]
    },
    {
     "name": "stderr",
     "output_type": "stream",
     "text": [
      "\r",
      " 25%|████████████████████▎                                                            | 75/300 [02:33<06:59,  1.86s/it]"
     ]
    },
    {
     "name": "stdout",
     "output_type": "stream",
     "text": [
      "-------------------- Iteration --------------------\n",
      "Average Episodic Length: 200.0\n",
      "Average Episodic Return: -982.53\n"
     ]
    },
    {
     "name": "stderr",
     "output_type": "stream",
     "text": [
      "\r",
      " 25%|████████████████████▌                                                            | 76/300 [02:34<06:52,  1.84s/it]"
     ]
    },
    {
     "name": "stdout",
     "output_type": "stream",
     "text": [
      "-------------------- Iteration --------------------\n",
      "Average Episodic Length: 200.0\n",
      "Average Episodic Return: -987.13\n"
     ]
    },
    {
     "name": "stderr",
     "output_type": "stream",
     "text": [
      "\r",
      " 26%|████████████████████▊                                                            | 77/300 [02:36<06:50,  1.84s/it]"
     ]
    },
    {
     "name": "stdout",
     "output_type": "stream",
     "text": [
      "-------------------- Iteration --------------------\n",
      "Average Episodic Length: 200.0\n",
      "Average Episodic Return: -927.44\n",
      "Successfully save the model!\n"
     ]
    },
    {
     "name": "stderr",
     "output_type": "stream",
     "text": [
      "\r",
      " 26%|█████████████████████                                                            | 78/300 [02:38<06:47,  1.83s/it]"
     ]
    },
    {
     "name": "stdout",
     "output_type": "stream",
     "text": [
      "-------------------- Iteration --------------------\n",
      "Average Episodic Length: 200.0\n",
      "Average Episodic Return: -1034.01\n"
     ]
    },
    {
     "name": "stderr",
     "output_type": "stream",
     "text": [
      "\r",
      " 26%|█████████████████████▎                                                           | 79/300 [02:40<06:41,  1.82s/it]"
     ]
    },
    {
     "name": "stdout",
     "output_type": "stream",
     "text": [
      "-------------------- Iteration --------------------\n",
      "Average Episodic Length: 200.0\n",
      "Average Episodic Return: -1066.2\n"
     ]
    },
    {
     "name": "stderr",
     "output_type": "stream",
     "text": [
      "\r",
      " 27%|█████████████████████▌                                                           | 80/300 [02:42<06:38,  1.81s/it]"
     ]
    },
    {
     "name": "stdout",
     "output_type": "stream",
     "text": [
      "-------------------- Iteration --------------------\n",
      "Average Episodic Length: 200.0\n",
      "Average Episodic Return: -971.87\n",
      "Successfully save the model!\n"
     ]
    },
    {
     "name": "stderr",
     "output_type": "stream",
     "text": [
      "\r",
      " 27%|█████████████████████▊                                                           | 81/300 [02:43<06:34,  1.80s/it]"
     ]
    },
    {
     "name": "stdout",
     "output_type": "stream",
     "text": [
      "-------------------- Iteration --------------------\n",
      "Average Episodic Length: 200.0\n",
      "Average Episodic Return: -906.31\n",
      "Successfully save the model!\n"
     ]
    },
    {
     "name": "stderr",
     "output_type": "stream",
     "text": [
      "\r",
      " 27%|██████████████████████▏                                                          | 82/300 [02:45<06:29,  1.79s/it]"
     ]
    },
    {
     "name": "stdout",
     "output_type": "stream",
     "text": [
      "-------------------- Iteration --------------------\n",
      "Average Episodic Length: 200.0\n",
      "Average Episodic Return: -996.17\n"
     ]
    },
    {
     "name": "stderr",
     "output_type": "stream",
     "text": [
      "\r",
      " 28%|██████████████████████▍                                                          | 83/300 [02:47<06:33,  1.81s/it]"
     ]
    },
    {
     "name": "stdout",
     "output_type": "stream",
     "text": [
      "-------------------- Iteration --------------------\n",
      "Average Episodic Length: 200.0\n",
      "Average Episodic Return: -1066.01\n"
     ]
    },
    {
     "name": "stderr",
     "output_type": "stream",
     "text": [
      "\r",
      " 28%|██████████████████████▋                                                          | 84/300 [02:49<06:31,  1.81s/it]"
     ]
    },
    {
     "name": "stdout",
     "output_type": "stream",
     "text": [
      "-------------------- Iteration --------------------\n",
      "Average Episodic Length: 200.0\n",
      "Average Episodic Return: -1068.26\n"
     ]
    },
    {
     "name": "stderr",
     "output_type": "stream",
     "text": [
      "\r",
      " 28%|██████████████████████▉                                                          | 85/300 [02:51<06:27,  1.80s/it]"
     ]
    },
    {
     "name": "stdout",
     "output_type": "stream",
     "text": [
      "-------------------- Iteration --------------------\n",
      "Average Episodic Length: 200.0\n",
      "Average Episodic Return: -971.22\n",
      "Successfully save the model!\n"
     ]
    },
    {
     "name": "stderr",
     "output_type": "stream",
     "text": [
      "\r",
      " 29%|███████████████████████▏                                                         | 86/300 [02:52<06:23,  1.79s/it]"
     ]
    },
    {
     "name": "stdout",
     "output_type": "stream",
     "text": [
      "-------------------- Iteration --------------------\n",
      "Average Episodic Length: 200.0\n",
      "Average Episodic Return: -1017.19\n"
     ]
    },
    {
     "name": "stderr",
     "output_type": "stream",
     "text": [
      "\r",
      " 29%|███████████████████████▍                                                         | 87/300 [02:54<06:17,  1.77s/it]"
     ]
    },
    {
     "name": "stdout",
     "output_type": "stream",
     "text": [
      "-------------------- Iteration --------------------\n",
      "Average Episodic Length: 200.0\n",
      "Average Episodic Return: -993.84\n",
      "Successfully save the model!\n"
     ]
    },
    {
     "name": "stderr",
     "output_type": "stream",
     "text": [
      "\r",
      " 29%|███████████████████████▊                                                         | 88/300 [02:56<06:17,  1.78s/it]"
     ]
    },
    {
     "name": "stdout",
     "output_type": "stream",
     "text": [
      "-------------------- Iteration --------------------\n",
      "Average Episodic Length: 200.0\n",
      "Average Episodic Return: -990.8\n",
      "Successfully save the model!\n"
     ]
    },
    {
     "name": "stderr",
     "output_type": "stream",
     "text": [
      "\r",
      " 30%|████████████████████████                                                         | 89/300 [02:58<06:16,  1.78s/it]"
     ]
    },
    {
     "name": "stdout",
     "output_type": "stream",
     "text": [
      "-------------------- Iteration --------------------\n",
      "Average Episodic Length: 200.0\n",
      "Average Episodic Return: -905.16\n",
      "Successfully save the model!\n"
     ]
    },
    {
     "name": "stderr",
     "output_type": "stream",
     "text": [
      "\r",
      " 30%|████████████████████████▎                                                        | 90/300 [02:59<06:13,  1.78s/it]"
     ]
    },
    {
     "name": "stdout",
     "output_type": "stream",
     "text": [
      "-------------------- Iteration --------------------\n",
      "Average Episodic Length: 200.0\n",
      "Average Episodic Return: -955.93\n"
     ]
    },
    {
     "name": "stderr",
     "output_type": "stream",
     "text": [
      "\r",
      " 30%|████████████████████████▌                                                        | 91/300 [03:01<06:20,  1.82s/it]"
     ]
    },
    {
     "name": "stdout",
     "output_type": "stream",
     "text": [
      "-------------------- Iteration --------------------\n",
      "Average Episodic Length: 200.0\n",
      "Average Episodic Return: -911.03\n",
      "Successfully save the model!\n"
     ]
    },
    {
     "name": "stderr",
     "output_type": "stream",
     "text": [
      "\r",
      " 31%|████████████████████████▊                                                        | 92/300 [03:03<06:07,  1.76s/it]"
     ]
    },
    {
     "name": "stdout",
     "output_type": "stream",
     "text": [
      "-------------------- Iteration --------------------\n",
      "Average Episodic Length: 200.0\n",
      "Average Episodic Return: -977.36\n"
     ]
    },
    {
     "name": "stderr",
     "output_type": "stream",
     "text": [
      "\r",
      " 31%|█████████████████████████                                                        | 93/300 [03:05<06:04,  1.76s/it]"
     ]
    },
    {
     "name": "stdout",
     "output_type": "stream",
     "text": [
      "-------------------- Iteration --------------------\n",
      "Average Episodic Length: 200.0\n",
      "Average Episodic Return: -913.92\n",
      "Successfully save the model!\n"
     ]
    },
    {
     "name": "stderr",
     "output_type": "stream",
     "text": [
      "\r",
      " 31%|█████████████████████████▍                                                       | 94/300 [03:06<05:59,  1.75s/it]"
     ]
    },
    {
     "name": "stdout",
     "output_type": "stream",
     "text": [
      "-------------------- Iteration --------------------\n",
      "Average Episodic Length: 200.0\n",
      "Average Episodic Return: -859.07\n",
      "Successfully save the model!\n"
     ]
    },
    {
     "name": "stderr",
     "output_type": "stream",
     "text": [
      "\r",
      " 32%|█████████████████████████▋                                                       | 95/300 [03:08<05:58,  1.75s/it]"
     ]
    },
    {
     "name": "stdout",
     "output_type": "stream",
     "text": [
      "-------------------- Iteration --------------------\n",
      "Average Episodic Length: 200.0\n",
      "Average Episodic Return: -893.15\n"
     ]
    },
    {
     "name": "stderr",
     "output_type": "stream",
     "text": [
      "\r",
      " 32%|█████████████████████████▉                                                       | 96/300 [03:10<05:56,  1.75s/it]"
     ]
    },
    {
     "name": "stdout",
     "output_type": "stream",
     "text": [
      "-------------------- Iteration --------------------\n",
      "Average Episodic Length: 200.0\n",
      "Average Episodic Return: -902.33\n"
     ]
    },
    {
     "name": "stderr",
     "output_type": "stream",
     "text": [
      "\r",
      " 32%|██████████████████████████▏                                                      | 97/300 [03:12<05:58,  1.76s/it]"
     ]
    },
    {
     "name": "stdout",
     "output_type": "stream",
     "text": [
      "-------------------- Iteration --------------------\n",
      "Average Episodic Length: 200.0\n",
      "Average Episodic Return: -968.77\n"
     ]
    },
    {
     "name": "stderr",
     "output_type": "stream",
     "text": [
      "\r",
      " 33%|██████████████████████████▍                                                      | 98/300 [03:14<05:54,  1.75s/it]"
     ]
    },
    {
     "name": "stdout",
     "output_type": "stream",
     "text": [
      "-------------------- Iteration --------------------\n",
      "Average Episodic Length: 200.0\n",
      "Average Episodic Return: -942.43\n",
      "Successfully save the model!\n"
     ]
    },
    {
     "name": "stderr",
     "output_type": "stream",
     "text": [
      "\r",
      " 33%|██████████████████████████▋                                                      | 99/300 [03:15<05:53,  1.76s/it]"
     ]
    },
    {
     "name": "stdout",
     "output_type": "stream",
     "text": [
      "-------------------- Iteration --------------------\n",
      "Average Episodic Length: 200.0\n",
      "Average Episodic Return: -914.03\n",
      "Successfully save the model!\n"
     ]
    },
    {
     "name": "stderr",
     "output_type": "stream",
     "text": [
      "\r",
      " 33%|██████████████████████████▋                                                     | 100/300 [03:17<06:19,  1.90s/it]"
     ]
    },
    {
     "name": "stdout",
     "output_type": "stream",
     "text": [
      "-------------------- Iteration --------------------\n",
      "Average Episodic Length: 200.0\n",
      "Average Episodic Return: -877.88\n",
      "Successfully save the model!\n"
     ]
    },
    {
     "name": "stderr",
     "output_type": "stream",
     "text": [
      "\r",
      " 34%|██████████████████████████▉                                                     | 101/300 [03:19<06:20,  1.91s/it]"
     ]
    },
    {
     "name": "stdout",
     "output_type": "stream",
     "text": [
      "-------------------- Iteration --------------------\n",
      "Average Episodic Length: 200.0\n",
      "Average Episodic Return: -895.69\n"
     ]
    },
    {
     "name": "stderr",
     "output_type": "stream",
     "text": [
      "\r",
      " 34%|███████████████████████████▏                                                    | 102/300 [03:21<06:15,  1.89s/it]"
     ]
    },
    {
     "name": "stdout",
     "output_type": "stream",
     "text": [
      "-------------------- Iteration --------------------\n",
      "Average Episodic Length: 200.0\n",
      "Average Episodic Return: -899.25\n"
     ]
    },
    {
     "name": "stderr",
     "output_type": "stream",
     "text": [
      "\r",
      " 34%|███████████████████████████▍                                                    | 103/300 [03:23<06:06,  1.86s/it]"
     ]
    },
    {
     "name": "stdout",
     "output_type": "stream",
     "text": [
      "-------------------- Iteration --------------------\n",
      "Average Episodic Length: 200.0\n",
      "Average Episodic Return: -939.16\n"
     ]
    },
    {
     "name": "stderr",
     "output_type": "stream",
     "text": [
      "\r",
      " 35%|███████████████████████████▋                                                    | 104/300 [03:25<05:56,  1.82s/it]"
     ]
    },
    {
     "name": "stdout",
     "output_type": "stream",
     "text": [
      "-------------------- Iteration --------------------\n",
      "Average Episodic Length: 200.0\n",
      "Average Episodic Return: -964.36\n"
     ]
    },
    {
     "name": "stderr",
     "output_type": "stream",
     "text": [
      "\r",
      " 35%|████████████████████████████                                                    | 105/300 [03:27<05:53,  1.81s/it]"
     ]
    },
    {
     "name": "stdout",
     "output_type": "stream",
     "text": [
      "-------------------- Iteration --------------------\n",
      "Average Episodic Length: 200.0\n",
      "Average Episodic Return: -984.37\n"
     ]
    },
    {
     "name": "stderr",
     "output_type": "stream",
     "text": [
      "\r",
      " 35%|████████████████████████████▎                                                   | 106/300 [03:28<05:50,  1.81s/it]"
     ]
    },
    {
     "name": "stdout",
     "output_type": "stream",
     "text": [
      "-------------------- Iteration --------------------\n",
      "Average Episodic Length: 200.0\n",
      "Average Episodic Return: -962.37\n",
      "Successfully save the model!\n"
     ]
    },
    {
     "name": "stderr",
     "output_type": "stream",
     "text": [
      "\r",
      " 36%|████████████████████████████▌                                                   | 107/300 [03:30<05:46,  1.79s/it]"
     ]
    },
    {
     "name": "stdout",
     "output_type": "stream",
     "text": [
      "-------------------- Iteration --------------------\n",
      "Average Episodic Length: 200.0\n",
      "Average Episodic Return: -895.41\n",
      "Successfully save the model!\n"
     ]
    },
    {
     "name": "stderr",
     "output_type": "stream",
     "text": [
      "\r",
      " 36%|████████████████████████████▊                                                   | 108/300 [03:32<05:44,  1.80s/it]"
     ]
    },
    {
     "name": "stdout",
     "output_type": "stream",
     "text": [
      "-------------------- Iteration --------------------\n",
      "Average Episodic Length: 200.0\n",
      "Average Episodic Return: -900.61\n"
     ]
    },
    {
     "name": "stderr",
     "output_type": "stream",
     "text": [
      "\r",
      " 36%|█████████████████████████████                                                   | 109/300 [03:34<05:38,  1.77s/it]"
     ]
    },
    {
     "name": "stdout",
     "output_type": "stream",
     "text": [
      "-------------------- Iteration --------------------\n",
      "Average Episodic Length: 200.0\n",
      "Average Episodic Return: -967.86\n"
     ]
    },
    {
     "name": "stderr",
     "output_type": "stream",
     "text": [
      "\r",
      " 37%|█████████████████████████████▎                                                  | 110/300 [03:36<05:45,  1.82s/it]"
     ]
    },
    {
     "name": "stdout",
     "output_type": "stream",
     "text": [
      "-------------------- Iteration --------------------\n",
      "Average Episodic Length: 200.0\n",
      "Average Episodic Return: -862.64\n",
      "Successfully save the model!\n"
     ]
    },
    {
     "name": "stderr",
     "output_type": "stream",
     "text": [
      "\r",
      " 37%|█████████████████████████████▌                                                  | 111/300 [03:38<05:55,  1.88s/it]"
     ]
    },
    {
     "name": "stdout",
     "output_type": "stream",
     "text": [
      "-------------------- Iteration --------------------\n",
      "Average Episodic Length: 200.0\n",
      "Average Episodic Return: -891.66\n"
     ]
    },
    {
     "name": "stderr",
     "output_type": "stream",
     "text": [
      "\r",
      " 37%|█████████████████████████████▊                                                  | 112/300 [03:40<05:54,  1.89s/it]"
     ]
    },
    {
     "name": "stdout",
     "output_type": "stream",
     "text": [
      "-------------------- Iteration --------------------\n",
      "Average Episodic Length: 200.0\n",
      "Average Episodic Return: -814.11\n",
      "Successfully save the model!\n"
     ]
    },
    {
     "name": "stderr",
     "output_type": "stream",
     "text": [
      "\r",
      " 38%|██████████████████████████████▏                                                 | 113/300 [03:42<06:04,  1.95s/it]"
     ]
    },
    {
     "name": "stdout",
     "output_type": "stream",
     "text": [
      "-------------------- Iteration --------------------\n",
      "Average Episodic Length: 200.0\n",
      "Average Episodic Return: -885.82\n"
     ]
    },
    {
     "name": "stderr",
     "output_type": "stream",
     "text": [
      "\r",
      " 38%|██████████████████████████████▍                                                 | 114/300 [03:44<06:16,  2.02s/it]"
     ]
    },
    {
     "name": "stdout",
     "output_type": "stream",
     "text": [
      "-------------------- Iteration --------------------\n",
      "Average Episodic Length: 200.0\n",
      "Average Episodic Return: -907.87\n"
     ]
    },
    {
     "name": "stderr",
     "output_type": "stream",
     "text": [
      "\r",
      " 38%|██████████████████████████████▋                                                 | 115/300 [03:46<06:16,  2.04s/it]"
     ]
    },
    {
     "name": "stdout",
     "output_type": "stream",
     "text": [
      "-------------------- Iteration --------------------\n",
      "Average Episodic Length: 200.0\n",
      "Average Episodic Return: -891.63\n",
      "Successfully save the model!\n"
     ]
    },
    {
     "name": "stderr",
     "output_type": "stream",
     "text": [
      "\r",
      " 39%|██████████████████████████████▉                                                 | 116/300 [03:48<06:24,  2.09s/it]"
     ]
    },
    {
     "name": "stdout",
     "output_type": "stream",
     "text": [
      "-------------------- Iteration --------------------\n",
      "Average Episodic Length: 200.0\n",
      "Average Episodic Return: -953.9\n"
     ]
    },
    {
     "name": "stderr",
     "output_type": "stream",
     "text": [
      "\r",
      " 39%|███████████████████████████████▏                                                | 117/300 [03:50<06:13,  2.04s/it]"
     ]
    },
    {
     "name": "stdout",
     "output_type": "stream",
     "text": [
      "-------------------- Iteration --------------------\n",
      "Average Episodic Length: 200.0\n",
      "Average Episodic Return: -788.65\n",
      "Successfully save the model!\n"
     ]
    },
    {
     "name": "stderr",
     "output_type": "stream",
     "text": [
      "\r",
      " 39%|███████████████████████████████▍                                                | 118/300 [03:52<06:03,  2.00s/it]"
     ]
    },
    {
     "name": "stdout",
     "output_type": "stream",
     "text": [
      "-------------------- Iteration --------------------\n",
      "Average Episodic Length: 200.0\n",
      "Average Episodic Return: -872.38\n"
     ]
    },
    {
     "name": "stderr",
     "output_type": "stream",
     "text": [
      "\r",
      " 40%|███████████████████████████████▋                                                | 119/300 [03:54<06:05,  2.02s/it]"
     ]
    },
    {
     "name": "stdout",
     "output_type": "stream",
     "text": [
      "-------------------- Iteration --------------------\n",
      "Average Episodic Length: 200.0\n",
      "Average Episodic Return: -940.36\n"
     ]
    },
    {
     "name": "stderr",
     "output_type": "stream",
     "text": [
      "\r",
      " 40%|████████████████████████████████                                                | 120/300 [03:56<05:50,  1.95s/it]"
     ]
    },
    {
     "name": "stdout",
     "output_type": "stream",
     "text": [
      "-------------------- Iteration --------------------\n",
      "Average Episodic Length: 200.0\n",
      "Average Episodic Return: -926.16\n",
      "Successfully save the model!\n"
     ]
    },
    {
     "name": "stderr",
     "output_type": "stream",
     "text": [
      "\r",
      " 40%|████████████████████████████████▎                                               | 121/300 [03:58<05:55,  1.99s/it]"
     ]
    },
    {
     "name": "stdout",
     "output_type": "stream",
     "text": [
      "-------------------- Iteration --------------------\n",
      "Average Episodic Length: 200.0\n",
      "Average Episodic Return: -876.79\n",
      "Successfully save the model!\n"
     ]
    },
    {
     "name": "stderr",
     "output_type": "stream",
     "text": [
      "\r",
      " 41%|████████████████████████████████▌                                               | 122/300 [04:00<05:46,  1.95s/it]"
     ]
    },
    {
     "name": "stdout",
     "output_type": "stream",
     "text": [
      "-------------------- Iteration --------------------\n",
      "Average Episodic Length: 200.0\n",
      "Average Episodic Return: -859.43\n",
      "Successfully save the model!\n"
     ]
    },
    {
     "name": "stderr",
     "output_type": "stream",
     "text": [
      "\r",
      " 41%|████████████████████████████████▊                                               | 123/300 [04:02<05:48,  1.97s/it]"
     ]
    },
    {
     "name": "stdout",
     "output_type": "stream",
     "text": [
      "-------------------- Iteration --------------------\n",
      "Average Episodic Length: 200.0\n",
      "Average Episodic Return: -860.18\n"
     ]
    },
    {
     "name": "stderr",
     "output_type": "stream",
     "text": [
      "\r",
      " 41%|█████████████████████████████████                                               | 124/300 [04:04<05:50,  1.99s/it]"
     ]
    },
    {
     "name": "stdout",
     "output_type": "stream",
     "text": [
      "-------------------- Iteration --------------------\n",
      "Average Episodic Length: 200.0\n",
      "Average Episodic Return: -890.65\n"
     ]
    },
    {
     "name": "stderr",
     "output_type": "stream",
     "text": [
      "\r",
      " 42%|█████████████████████████████████▎                                              | 125/300 [04:06<05:46,  1.98s/it]"
     ]
    },
    {
     "name": "stdout",
     "output_type": "stream",
     "text": [
      "-------------------- Iteration --------------------\n",
      "Average Episodic Length: 200.0\n",
      "Average Episodic Return: -931.36\n"
     ]
    },
    {
     "name": "stderr",
     "output_type": "stream",
     "text": [
      "\r",
      " 42%|█████████████████████████████████▌                                              | 126/300 [04:08<05:48,  2.00s/it]"
     ]
    },
    {
     "name": "stdout",
     "output_type": "stream",
     "text": [
      "-------------------- Iteration --------------------\n",
      "Average Episodic Length: 200.0\n",
      "Average Episodic Return: -862.62\n",
      "Successfully save the model!\n"
     ]
    },
    {
     "name": "stderr",
     "output_type": "stream",
     "text": [
      "\r",
      " 42%|█████████████████████████████████▊                                              | 127/300 [04:10<06:05,  2.11s/it]"
     ]
    },
    {
     "name": "stdout",
     "output_type": "stream",
     "text": [
      "-------------------- Iteration --------------------\n",
      "Average Episodic Length: 200.0\n",
      "Average Episodic Return: -870.07\n"
     ]
    },
    {
     "name": "stderr",
     "output_type": "stream",
     "text": [
      "\r",
      " 43%|██████████████████████████████████▏                                             | 128/300 [04:12<05:58,  2.08s/it]"
     ]
    },
    {
     "name": "stdout",
     "output_type": "stream",
     "text": [
      "-------------------- Iteration --------------------\n",
      "Average Episodic Length: 200.0\n",
      "Average Episodic Return: -895.8\n"
     ]
    },
    {
     "name": "stderr",
     "output_type": "stream",
     "text": [
      "\r",
      " 43%|██████████████████████████████████▍                                             | 129/300 [04:14<05:57,  2.09s/it]"
     ]
    },
    {
     "name": "stdout",
     "output_type": "stream",
     "text": [
      "-------------------- Iteration --------------------\n",
      "Average Episodic Length: 200.0\n",
      "Average Episodic Return: -923.12\n"
     ]
    },
    {
     "name": "stderr",
     "output_type": "stream",
     "text": [
      "\r",
      " 43%|██████████████████████████████████▋                                             | 130/300 [04:16<05:49,  2.06s/it]"
     ]
    },
    {
     "name": "stdout",
     "output_type": "stream",
     "text": [
      "-------------------- Iteration --------------------\n",
      "Average Episodic Length: 200.0\n",
      "Average Episodic Return: -827.04\n",
      "Successfully save the model!\n"
     ]
    },
    {
     "name": "stderr",
     "output_type": "stream",
     "text": [
      "\r",
      " 44%|██████████████████████████████████▉                                             | 131/300 [04:18<05:47,  2.06s/it]"
     ]
    },
    {
     "name": "stdout",
     "output_type": "stream",
     "text": [
      "-------------------- Iteration --------------------\n",
      "Average Episodic Length: 200.0\n",
      "Average Episodic Return: -857.43\n"
     ]
    },
    {
     "name": "stderr",
     "output_type": "stream",
     "text": [
      "\r",
      " 44%|███████████████████████████████████▏                                            | 132/300 [04:20<05:48,  2.07s/it]"
     ]
    },
    {
     "name": "stdout",
     "output_type": "stream",
     "text": [
      "-------------------- Iteration --------------------\n",
      "Average Episodic Length: 200.0\n",
      "Average Episodic Return: -884.81\n"
     ]
    },
    {
     "name": "stderr",
     "output_type": "stream",
     "text": [
      "\r",
      " 44%|███████████████████████████████████▍                                            | 133/300 [04:22<05:45,  2.07s/it]"
     ]
    },
    {
     "name": "stdout",
     "output_type": "stream",
     "text": [
      "-------------------- Iteration --------------------\n",
      "Average Episodic Length: 200.0\n",
      "Average Episodic Return: -834.43\n",
      "Successfully save the model!\n"
     ]
    },
    {
     "name": "stderr",
     "output_type": "stream",
     "text": [
      "\r",
      " 45%|███████████████████████████████████▋                                            | 134/300 [04:24<05:40,  2.05s/it]"
     ]
    },
    {
     "name": "stdout",
     "output_type": "stream",
     "text": [
      "-------------------- Iteration --------------------\n",
      "Average Episodic Length: 200.0\n",
      "Average Episodic Return: -854.76\n"
     ]
    },
    {
     "name": "stderr",
     "output_type": "stream",
     "text": [
      "\r",
      " 45%|████████████████████████████████████                                            | 135/300 [04:26<05:29,  2.00s/it]"
     ]
    },
    {
     "name": "stdout",
     "output_type": "stream",
     "text": [
      "-------------------- Iteration --------------------\n",
      "Average Episodic Length: 200.0\n",
      "Average Episodic Return: -885.77\n"
     ]
    },
    {
     "name": "stderr",
     "output_type": "stream",
     "text": [
      "\r",
      " 45%|████████████████████████████████████▎                                           | 136/300 [04:28<05:12,  1.91s/it]"
     ]
    },
    {
     "name": "stdout",
     "output_type": "stream",
     "text": [
      "-------------------- Iteration --------------------\n",
      "Average Episodic Length: 200.0\n",
      "Average Episodic Return: -791.66\n",
      "Successfully save the model!\n"
     ]
    },
    {
     "name": "stderr",
     "output_type": "stream",
     "text": [
      "\r",
      " 46%|████████████████████████████████████▌                                           | 137/300 [04:30<05:06,  1.88s/it]"
     ]
    },
    {
     "name": "stdout",
     "output_type": "stream",
     "text": [
      "-------------------- Iteration --------------------\n",
      "Average Episodic Length: 200.0\n",
      "Average Episodic Return: -790.2\n",
      "Successfully save the model!\n"
     ]
    },
    {
     "name": "stderr",
     "output_type": "stream",
     "text": [
      "\r",
      " 46%|████████████████████████████████████▊                                           | 138/300 [04:32<05:01,  1.86s/it]"
     ]
    },
    {
     "name": "stdout",
     "output_type": "stream",
     "text": [
      "-------------------- Iteration --------------------\n",
      "Average Episodic Length: 200.0\n",
      "Average Episodic Return: -809.65\n"
     ]
    },
    {
     "name": "stderr",
     "output_type": "stream",
     "text": [
      "\r",
      " 46%|█████████████████████████████████████                                           | 139/300 [04:34<05:15,  1.96s/it]"
     ]
    },
    {
     "name": "stdout",
     "output_type": "stream",
     "text": [
      "-------------------- Iteration --------------------\n",
      "Average Episodic Length: 200.0\n",
      "Average Episodic Return: -843.5\n"
     ]
    },
    {
     "name": "stderr",
     "output_type": "stream",
     "text": [
      "\r",
      " 47%|█████████████████████████████████████▎                                          | 140/300 [04:36<05:21,  2.01s/it]"
     ]
    },
    {
     "name": "stdout",
     "output_type": "stream",
     "text": [
      "-------------------- Iteration --------------------\n",
      "Average Episodic Length: 200.0\n",
      "Average Episodic Return: -817.64\n",
      "Successfully save the model!\n"
     ]
    },
    {
     "name": "stderr",
     "output_type": "stream",
     "text": [
      "\r",
      " 47%|█████████████████████████████████████▌                                          | 141/300 [04:38<05:21,  2.02s/it]"
     ]
    },
    {
     "name": "stdout",
     "output_type": "stream",
     "text": [
      "-------------------- Iteration --------------------\n",
      "Average Episodic Length: 200.0\n",
      "Average Episodic Return: -754.03\n",
      "Successfully save the model!\n"
     ]
    },
    {
     "name": "stderr",
     "output_type": "stream",
     "text": [
      "\r",
      " 47%|█████████████████████████████████████▊                                          | 142/300 [04:40<05:27,  2.07s/it]"
     ]
    },
    {
     "name": "stdout",
     "output_type": "stream",
     "text": [
      "-------------------- Iteration --------------------\n",
      "Average Episodic Length: 200.0\n",
      "Average Episodic Return: -804.18\n"
     ]
    },
    {
     "name": "stderr",
     "output_type": "stream",
     "text": [
      "\r",
      " 48%|██████████████████████████████████████▏                                         | 143/300 [04:42<05:11,  1.98s/it]"
     ]
    },
    {
     "name": "stdout",
     "output_type": "stream",
     "text": [
      "-------------------- Iteration --------------------\n",
      "Average Episodic Length: 200.0\n",
      "Average Episodic Return: -810.1\n"
     ]
    },
    {
     "name": "stderr",
     "output_type": "stream",
     "text": [
      "\r",
      " 48%|██████████████████████████████████████▍                                         | 144/300 [04:44<04:58,  1.92s/it]"
     ]
    },
    {
     "name": "stdout",
     "output_type": "stream",
     "text": [
      "-------------------- Iteration --------------------\n",
      "Average Episodic Length: 200.0\n",
      "Average Episodic Return: -803.23\n",
      "Successfully save the model!\n"
     ]
    },
    {
     "name": "stderr",
     "output_type": "stream",
     "text": [
      "\r",
      " 48%|██████████████████████████████████████▋                                         | 145/300 [04:46<05:03,  1.96s/it]"
     ]
    },
    {
     "name": "stdout",
     "output_type": "stream",
     "text": [
      "-------------------- Iteration --------------------\n",
      "Average Episodic Length: 200.0\n",
      "Average Episodic Return: -834.87\n"
     ]
    },
    {
     "name": "stderr",
     "output_type": "stream",
     "text": [
      "\r",
      " 49%|██████████████████████████████████████▉                                         | 146/300 [04:48<04:57,  1.93s/it]"
     ]
    },
    {
     "name": "stdout",
     "output_type": "stream",
     "text": [
      "-------------------- Iteration --------------------\n",
      "Average Episodic Length: 200.0\n",
      "Average Episodic Return: -788.54\n",
      "Successfully save the model!\n"
     ]
    },
    {
     "name": "stderr",
     "output_type": "stream",
     "text": [
      "\r",
      " 49%|███████████████████████████████████████▏                                        | 147/300 [04:49<04:45,  1.87s/it]"
     ]
    },
    {
     "name": "stdout",
     "output_type": "stream",
     "text": [
      "-------------------- Iteration --------------------\n",
      "Average Episodic Length: 200.0\n",
      "Average Episodic Return: -763.52\n",
      "Successfully save the model!\n"
     ]
    },
    {
     "name": "stderr",
     "output_type": "stream",
     "text": [
      "\r",
      " 49%|███████████████████████████████████████▍                                        | 148/300 [04:51<04:43,  1.87s/it]"
     ]
    },
    {
     "name": "stdout",
     "output_type": "stream",
     "text": [
      "-------------------- Iteration --------------------\n",
      "Average Episodic Length: 200.0\n",
      "Average Episodic Return: -826.12\n"
     ]
    },
    {
     "name": "stderr",
     "output_type": "stream",
     "text": [
      "\r",
      " 50%|███████████████████████████████████████▋                                        | 149/300 [04:53<04:47,  1.91s/it]"
     ]
    },
    {
     "name": "stdout",
     "output_type": "stream",
     "text": [
      "-------------------- Iteration --------------------\n",
      "Average Episodic Length: 200.0\n",
      "Average Episodic Return: -745.17\n",
      "Successfully save the model!\n"
     ]
    },
    {
     "name": "stderr",
     "output_type": "stream",
     "text": [
      "\r",
      " 50%|████████████████████████████████████████                                        | 150/300 [04:55<04:50,  1.94s/it]"
     ]
    },
    {
     "name": "stdout",
     "output_type": "stream",
     "text": [
      "-------------------- Iteration --------------------\n",
      "Average Episodic Length: 200.0\n",
      "Average Episodic Return: -727.64\n",
      "Successfully save the model!\n"
     ]
    },
    {
     "name": "stderr",
     "output_type": "stream",
     "text": [
      "\r",
      " 50%|████████████████████████████████████████▎                                       | 151/300 [04:57<04:46,  1.92s/it]"
     ]
    },
    {
     "name": "stdout",
     "output_type": "stream",
     "text": [
      "-------------------- Iteration --------------------\n",
      "Average Episodic Length: 200.0\n",
      "Average Episodic Return: -733.51\n"
     ]
    },
    {
     "name": "stderr",
     "output_type": "stream",
     "text": [
      "\r",
      " 51%|████████████████████████████████████████▌                                       | 152/300 [04:59<04:38,  1.88s/it]"
     ]
    },
    {
     "name": "stdout",
     "output_type": "stream",
     "text": [
      "-------------------- Iteration --------------------\n",
      "Average Episodic Length: 200.0\n",
      "Average Episodic Return: -763.48\n"
     ]
    },
    {
     "name": "stderr",
     "output_type": "stream",
     "text": [
      "\r",
      " 51%|████████████████████████████████████████▊                                       | 153/300 [05:01<04:44,  1.94s/it]"
     ]
    },
    {
     "name": "stdout",
     "output_type": "stream",
     "text": [
      "-------------------- Iteration --------------------\n",
      "Average Episodic Length: 200.0\n",
      "Average Episodic Return: -743.32\n",
      "Successfully save the model!\n"
     ]
    },
    {
     "name": "stderr",
     "output_type": "stream",
     "text": [
      "\r",
      " 51%|█████████████████████████████████████████                                       | 154/300 [05:03<04:48,  1.98s/it]"
     ]
    },
    {
     "name": "stdout",
     "output_type": "stream",
     "text": [
      "-------------------- Iteration --------------------\n",
      "Average Episodic Length: 200.0\n",
      "Average Episodic Return: -734.37\n",
      "Successfully save the model!\n"
     ]
    },
    {
     "name": "stderr",
     "output_type": "stream",
     "text": [
      "\r",
      " 52%|█████████████████████████████████████████▎                                      | 155/300 [05:05<04:41,  1.94s/it]"
     ]
    },
    {
     "name": "stdout",
     "output_type": "stream",
     "text": [
      "-------------------- Iteration --------------------\n",
      "Average Episodic Length: 200.0\n",
      "Average Episodic Return: -697.88\n",
      "Successfully save the model!\n"
     ]
    },
    {
     "name": "stderr",
     "output_type": "stream",
     "text": [
      "\r",
      " 52%|█████████████████████████████████████████▌                                      | 156/300 [05:07<04:41,  1.96s/it]"
     ]
    },
    {
     "name": "stdout",
     "output_type": "stream",
     "text": [
      "-------------------- Iteration --------------------\n",
      "Average Episodic Length: 200.0\n",
      "Average Episodic Return: -694.85\n",
      "Successfully save the model!\n"
     ]
    },
    {
     "name": "stderr",
     "output_type": "stream",
     "text": [
      "\r",
      " 52%|█████████████████████████████████████████▊                                      | 157/300 [05:09<04:39,  1.95s/it]"
     ]
    },
    {
     "name": "stdout",
     "output_type": "stream",
     "text": [
      "-------------------- Iteration --------------------\n",
      "Average Episodic Length: 200.0\n",
      "Average Episodic Return: -722.89\n"
     ]
    },
    {
     "name": "stderr",
     "output_type": "stream",
     "text": [
      "\r",
      " 53%|██████████████████████████████████████████▏                                     | 158/300 [05:11<04:32,  1.92s/it]"
     ]
    },
    {
     "name": "stdout",
     "output_type": "stream",
     "text": [
      "-------------------- Iteration --------------------\n",
      "Average Episodic Length: 200.0\n",
      "Average Episodic Return: -648.88\n",
      "Successfully save the model!\n"
     ]
    },
    {
     "name": "stderr",
     "output_type": "stream",
     "text": [
      "\r",
      " 53%|██████████████████████████████████████████▍                                     | 159/300 [05:13<04:48,  2.04s/it]"
     ]
    },
    {
     "name": "stdout",
     "output_type": "stream",
     "text": [
      "-------------------- Iteration --------------------\n",
      "Average Episodic Length: 200.0\n",
      "Average Episodic Return: -620.74\n",
      "Successfully save the model!\n"
     ]
    },
    {
     "name": "stderr",
     "output_type": "stream",
     "text": [
      "\r",
      " 53%|██████████████████████████████████████████▋                                     | 160/300 [05:15<04:44,  2.03s/it]"
     ]
    },
    {
     "name": "stdout",
     "output_type": "stream",
     "text": [
      "-------------------- Iteration --------------------\n",
      "Average Episodic Length: 200.0\n",
      "Average Episodic Return: -576.1\n",
      "Successfully save the model!\n"
     ]
    },
    {
     "name": "stderr",
     "output_type": "stream",
     "text": [
      "\r",
      " 54%|██████████████████████████████████████████▉                                     | 161/300 [05:17<04:37,  1.99s/it]"
     ]
    },
    {
     "name": "stdout",
     "output_type": "stream",
     "text": [
      "-------------------- Iteration --------------------\n",
      "Average Episodic Length: 200.0\n",
      "Average Episodic Return: -627.31\n"
     ]
    },
    {
     "name": "stderr",
     "output_type": "stream",
     "text": [
      "\r",
      " 54%|███████████████████████████████████████████▏                                    | 162/300 [05:19<04:32,  1.98s/it]"
     ]
    },
    {
     "name": "stdout",
     "output_type": "stream",
     "text": [
      "-------------------- Iteration --------------------\n",
      "Average Episodic Length: 200.0\n",
      "Average Episodic Return: -623.17\n",
      "Successfully save the model!\n"
     ]
    },
    {
     "name": "stderr",
     "output_type": "stream",
     "text": [
      "\r",
      " 54%|███████████████████████████████████████████▍                                    | 163/300 [05:21<04:20,  1.90s/it]"
     ]
    },
    {
     "name": "stdout",
     "output_type": "stream",
     "text": [
      "-------------------- Iteration --------------------\n",
      "Average Episodic Length: 200.0\n",
      "Average Episodic Return: -626.74\n"
     ]
    },
    {
     "name": "stderr",
     "output_type": "stream",
     "text": [
      "\r",
      " 55%|███████████████████████████████████████████▋                                    | 164/300 [05:23<04:18,  1.90s/it]"
     ]
    },
    {
     "name": "stdout",
     "output_type": "stream",
     "text": [
      "-------------------- Iteration --------------------\n",
      "Average Episodic Length: 200.0\n",
      "Average Episodic Return: -576.64\n",
      "Successfully save the model!\n"
     ]
    },
    {
     "name": "stderr",
     "output_type": "stream",
     "text": [
      "\r",
      " 55%|████████████████████████████████████████████                                    | 165/300 [05:25<04:21,  1.94s/it]"
     ]
    },
    {
     "name": "stdout",
     "output_type": "stream",
     "text": [
      "-------------------- Iteration --------------------\n",
      "Average Episodic Length: 200.0\n",
      "Average Episodic Return: -521.24\n",
      "Successfully save the model!\n"
     ]
    },
    {
     "name": "stderr",
     "output_type": "stream",
     "text": [
      "\r",
      " 55%|████████████████████████████████████████████▎                                   | 166/300 [05:26<04:18,  1.93s/it]"
     ]
    },
    {
     "name": "stdout",
     "output_type": "stream",
     "text": [
      "-------------------- Iteration --------------------\n",
      "Average Episodic Length: 200.0\n",
      "Average Episodic Return: -485.15\n",
      "Successfully save the model!\n"
     ]
    },
    {
     "name": "stderr",
     "output_type": "stream",
     "text": [
      "\r",
      " 56%|████████████████████████████████████████████▌                                   | 167/300 [05:28<04:16,  1.93s/it]"
     ]
    },
    {
     "name": "stdout",
     "output_type": "stream",
     "text": [
      "-------------------- Iteration --------------------\n",
      "Average Episodic Length: 200.0\n",
      "Average Episodic Return: -499.01\n"
     ]
    },
    {
     "name": "stderr",
     "output_type": "stream",
     "text": [
      "\r",
      " 56%|████████████████████████████████████████████▊                                   | 168/300 [05:30<04:07,  1.88s/it]"
     ]
    },
    {
     "name": "stdout",
     "output_type": "stream",
     "text": [
      "-------------------- Iteration --------------------\n",
      "Average Episodic Length: 200.0\n",
      "Average Episodic Return: -476.97\n",
      "Successfully save the model!\n"
     ]
    },
    {
     "name": "stderr",
     "output_type": "stream",
     "text": [
      "\r",
      " 56%|█████████████████████████████████████████████                                   | 169/300 [05:32<04:09,  1.91s/it]"
     ]
    },
    {
     "name": "stdout",
     "output_type": "stream",
     "text": [
      "-------------------- Iteration --------------------\n",
      "Average Episodic Length: 200.0\n",
      "Average Episodic Return: -403.58\n",
      "Successfully save the model!\n"
     ]
    },
    {
     "name": "stderr",
     "output_type": "stream",
     "text": [
      "\r",
      " 57%|█████████████████████████████████████████████▎                                  | 170/300 [05:34<04:04,  1.88s/it]"
     ]
    },
    {
     "name": "stdout",
     "output_type": "stream",
     "text": [
      "-------------------- Iteration --------------------\n",
      "Average Episodic Length: 200.0\n",
      "Average Episodic Return: -402.0\n",
      "Successfully save the model!\n"
     ]
    },
    {
     "name": "stderr",
     "output_type": "stream",
     "text": [
      "\r",
      " 57%|█████████████████████████████████████████████▌                                  | 171/300 [05:36<03:59,  1.86s/it]"
     ]
    },
    {
     "name": "stdout",
     "output_type": "stream",
     "text": [
      "-------------------- Iteration --------------------\n",
      "Average Episodic Length: 200.0\n",
      "Average Episodic Return: -328.69\n",
      "Successfully save the model!\n"
     ]
    },
    {
     "name": "stderr",
     "output_type": "stream",
     "text": [
      "\r",
      " 57%|█████████████████████████████████████████████▊                                  | 172/300 [05:38<03:54,  1.83s/it]"
     ]
    },
    {
     "name": "stdout",
     "output_type": "stream",
     "text": [
      "-------------------- Iteration --------------------\n",
      "Average Episodic Length: 200.0\n",
      "Average Episodic Return: -240.01\n",
      "Successfully save the model!\n"
     ]
    },
    {
     "name": "stderr",
     "output_type": "stream",
     "text": [
      "\r",
      " 58%|██████████████████████████████████████████████▏                                 | 173/300 [05:39<03:52,  1.83s/it]"
     ]
    },
    {
     "name": "stdout",
     "output_type": "stream",
     "text": [
      "-------------------- Iteration --------------------\n",
      "Average Episodic Length: 200.0\n",
      "Average Episodic Return: -280.02\n"
     ]
    },
    {
     "name": "stderr",
     "output_type": "stream",
     "text": [
      "\r",
      " 58%|██████████████████████████████████████████████▍                                 | 174/300 [05:41<03:47,  1.81s/it]"
     ]
    },
    {
     "name": "stdout",
     "output_type": "stream",
     "text": [
      "-------------------- Iteration --------------------\n",
      "Average Episodic Length: 200.0\n",
      "Average Episodic Return: -259.63\n",
      "Successfully save the model!\n"
     ]
    },
    {
     "name": "stderr",
     "output_type": "stream",
     "text": [
      "\r",
      " 58%|██████████████████████████████████████████████▋                                 | 175/300 [05:43<03:45,  1.80s/it]"
     ]
    },
    {
     "name": "stdout",
     "output_type": "stream",
     "text": [
      "-------------------- Iteration --------------------\n",
      "Average Episodic Length: 200.0\n",
      "Average Episodic Return: -210.25\n",
      "Successfully save the model!\n"
     ]
    },
    {
     "name": "stderr",
     "output_type": "stream",
     "text": [
      "\r",
      " 59%|██████████████████████████████████████████████▉                                 | 176/300 [05:45<03:48,  1.84s/it]"
     ]
    },
    {
     "name": "stdout",
     "output_type": "stream",
     "text": [
      "-------------------- Iteration --------------------\n",
      "Average Episodic Length: 200.0\n",
      "Average Episodic Return: -196.13\n",
      "Successfully save the model!\n"
     ]
    },
    {
     "name": "stderr",
     "output_type": "stream",
     "text": [
      "\r",
      " 59%|███████████████████████████████████████████████▏                                | 177/300 [05:47<03:49,  1.87s/it]"
     ]
    },
    {
     "name": "stdout",
     "output_type": "stream",
     "text": [
      "-------------------- Iteration --------------------\n",
      "Average Episodic Length: 200.0\n",
      "Average Episodic Return: -222.73\n"
     ]
    },
    {
     "name": "stderr",
     "output_type": "stream",
     "text": [
      "\r",
      " 59%|███████████████████████████████████████████████▍                                | 178/300 [05:49<03:56,  1.94s/it]"
     ]
    },
    {
     "name": "stdout",
     "output_type": "stream",
     "text": [
      "-------------------- Iteration --------------------\n",
      "Average Episodic Length: 200.0\n",
      "Average Episodic Return: -157.14\n",
      "Successfully save the model!\n"
     ]
    },
    {
     "name": "stderr",
     "output_type": "stream",
     "text": [
      "\r",
      " 60%|███████████████████████████████████████████████▋                                | 179/300 [05:51<03:54,  1.94s/it]"
     ]
    },
    {
     "name": "stdout",
     "output_type": "stream",
     "text": [
      "-------------------- Iteration --------------------\n",
      "Average Episodic Length: 200.0\n",
      "Average Episodic Return: -221.86\n"
     ]
    },
    {
     "name": "stderr",
     "output_type": "stream",
     "text": [
      "\r",
      " 60%|████████████████████████████████████████████████                                | 180/300 [05:53<03:44,  1.87s/it]"
     ]
    },
    {
     "name": "stdout",
     "output_type": "stream",
     "text": [
      "-------------------- Iteration --------------------\n",
      "Average Episodic Length: 200.0\n",
      "Average Episodic Return: -244.0\n"
     ]
    },
    {
     "name": "stderr",
     "output_type": "stream",
     "text": [
      "\r",
      " 60%|████████████████████████████████████████████████▎                               | 181/300 [05:54<03:38,  1.84s/it]"
     ]
    },
    {
     "name": "stdout",
     "output_type": "stream",
     "text": [
      "-------------------- Iteration --------------------\n",
      "Average Episodic Length: 200.0\n",
      "Average Episodic Return: -168.07\n",
      "Successfully save the model!\n"
     ]
    },
    {
     "name": "stderr",
     "output_type": "stream",
     "text": [
      "\r",
      " 61%|████████████████████████████████████████████████▌                               | 182/300 [05:56<03:39,  1.86s/it]"
     ]
    },
    {
     "name": "stdout",
     "output_type": "stream",
     "text": [
      "-------------------- Iteration --------------------\n",
      "Average Episodic Length: 200.0\n",
      "Average Episodic Return: -239.43\n"
     ]
    },
    {
     "name": "stderr",
     "output_type": "stream",
     "text": [
      "\r",
      " 61%|████████████████████████████████████████████████▊                               | 183/300 [05:58<03:40,  1.89s/it]"
     ]
    },
    {
     "name": "stdout",
     "output_type": "stream",
     "text": [
      "-------------------- Iteration --------------------\n",
      "Average Episodic Length: 200.0\n",
      "Average Episodic Return: -219.62\n",
      "Successfully save the model!\n"
     ]
    },
    {
     "name": "stderr",
     "output_type": "stream",
     "text": [
      "\r",
      " 61%|█████████████████████████████████████████████████                               | 184/300 [06:00<03:38,  1.89s/it]"
     ]
    },
    {
     "name": "stdout",
     "output_type": "stream",
     "text": [
      "-------------------- Iteration --------------------\n",
      "Average Episodic Length: 200.0\n",
      "Average Episodic Return: -300.38\n"
     ]
    },
    {
     "name": "stderr",
     "output_type": "stream",
     "text": [
      "\r",
      " 62%|█████████████████████████████████████████████████▎                              | 185/300 [06:02<03:39,  1.91s/it]"
     ]
    },
    {
     "name": "stdout",
     "output_type": "stream",
     "text": [
      "-------------------- Iteration --------------------\n",
      "Average Episodic Length: 200.0\n",
      "Average Episodic Return: -200.9\n",
      "Successfully save the model!\n"
     ]
    },
    {
     "name": "stderr",
     "output_type": "stream",
     "text": [
      "\r",
      " 62%|█████████████████████████████████████████████████▌                              | 186/300 [06:04<03:30,  1.84s/it]"
     ]
    },
    {
     "name": "stdout",
     "output_type": "stream",
     "text": [
      "-------------------- Iteration --------------------\n",
      "Average Episodic Length: 200.0\n",
      "Average Episodic Return: -195.41\n",
      "Successfully save the model!\n"
     ]
    },
    {
     "name": "stderr",
     "output_type": "stream",
     "text": [
      "\r",
      " 62%|█████████████████████████████████████████████████▊                              | 187/300 [06:06<03:38,  1.94s/it]"
     ]
    },
    {
     "name": "stdout",
     "output_type": "stream",
     "text": [
      "-------------------- Iteration --------------------\n",
      "Average Episodic Length: 200.0\n",
      "Average Episodic Return: -208.02\n"
     ]
    },
    {
     "name": "stderr",
     "output_type": "stream",
     "text": [
      "\r",
      " 63%|██████████████████████████████████████████████████▏                             | 188/300 [06:08<03:37,  1.94s/it]"
     ]
    },
    {
     "name": "stdout",
     "output_type": "stream",
     "text": [
      "-------------------- Iteration --------------------\n",
      "Average Episodic Length: 200.0\n",
      "Average Episodic Return: -170.63\n",
      "Successfully save the model!\n"
     ]
    },
    {
     "name": "stderr",
     "output_type": "stream",
     "text": [
      "\r",
      " 63%|██████████████████████████████████████████████████▍                             | 189/300 [06:10<03:38,  1.97s/it]"
     ]
    },
    {
     "name": "stdout",
     "output_type": "stream",
     "text": [
      "-------------------- Iteration --------------------\n",
      "Average Episodic Length: 200.0\n",
      "Average Episodic Return: -239.48\n"
     ]
    },
    {
     "name": "stderr",
     "output_type": "stream",
     "text": [
      "\r",
      " 63%|██████████████████████████████████████████████████▋                             | 190/300 [06:12<03:38,  1.99s/it]"
     ]
    },
    {
     "name": "stdout",
     "output_type": "stream",
     "text": [
      "-------------------- Iteration --------------------\n",
      "Average Episodic Length: 200.0\n",
      "Average Episodic Return: -218.93\n",
      "Successfully save the model!\n"
     ]
    },
    {
     "name": "stderr",
     "output_type": "stream",
     "text": [
      "\r",
      " 64%|██████████████████████████████████████████████████▉                             | 191/300 [06:14<03:39,  2.01s/it]"
     ]
    },
    {
     "name": "stdout",
     "output_type": "stream",
     "text": [
      "-------------------- Iteration --------------------\n",
      "Average Episodic Length: 200.0\n",
      "Average Episodic Return: -190.37\n",
      "Successfully save the model!\n"
     ]
    },
    {
     "name": "stderr",
     "output_type": "stream",
     "text": [
      "\r",
      " 64%|███████████████████████████████████████████████████▏                            | 192/300 [06:16<03:41,  2.05s/it]"
     ]
    },
    {
     "name": "stdout",
     "output_type": "stream",
     "text": [
      "-------------------- Iteration --------------------\n",
      "Average Episodic Length: 200.0\n",
      "Average Episodic Return: -185.13\n",
      "Successfully save the model!\n"
     ]
    },
    {
     "name": "stderr",
     "output_type": "stream",
     "text": [
      "\r",
      " 64%|███████████████████████████████████████████████████▍                            | 193/300 [06:18<03:35,  2.01s/it]"
     ]
    },
    {
     "name": "stdout",
     "output_type": "stream",
     "text": [
      "-------------------- Iteration --------------------\n",
      "Average Episodic Length: 200.0\n",
      "Average Episodic Return: -156.98\n",
      "Successfully save the model!\n"
     ]
    },
    {
     "name": "stderr",
     "output_type": "stream",
     "text": [
      "\r",
      " 65%|███████████████████████████████████████████████████▋                            | 194/300 [06:20<03:32,  2.00s/it]"
     ]
    },
    {
     "name": "stdout",
     "output_type": "stream",
     "text": [
      "-------------------- Iteration --------------------\n",
      "Average Episodic Length: 200.0\n",
      "Average Episodic Return: -225.9\n"
     ]
    },
    {
     "name": "stderr",
     "output_type": "stream",
     "text": [
      "\r",
      " 65%|████████████████████████████████████████████████████                            | 195/300 [06:22<03:31,  2.02s/it]"
     ]
    },
    {
     "name": "stdout",
     "output_type": "stream",
     "text": [
      "-------------------- Iteration --------------------\n",
      "Average Episodic Length: 200.0\n",
      "Average Episodic Return: -197.99\n",
      "Successfully save the model!\n"
     ]
    },
    {
     "name": "stderr",
     "output_type": "stream",
     "text": [
      "\r",
      " 65%|████████████████████████████████████████████████████▎                           | 196/300 [06:24<03:24,  1.97s/it]"
     ]
    },
    {
     "name": "stdout",
     "output_type": "stream",
     "text": [
      "-------------------- Iteration --------------------\n",
      "Average Episodic Length: 200.0\n",
      "Average Episodic Return: -222.44\n"
     ]
    },
    {
     "name": "stderr",
     "output_type": "stream",
     "text": [
      "\r",
      " 66%|████████████████████████████████████████████████████▌                           | 197/300 [06:26<03:23,  1.98s/it]"
     ]
    },
    {
     "name": "stdout",
     "output_type": "stream",
     "text": [
      "-------------------- Iteration --------------------\n",
      "Average Episodic Length: 200.0\n",
      "Average Episodic Return: -199.63\n",
      "Successfully save the model!\n"
     ]
    },
    {
     "name": "stderr",
     "output_type": "stream",
     "text": [
      "\r",
      " 66%|████████████████████████████████████████████████████▊                           | 198/300 [06:28<03:24,  2.01s/it]"
     ]
    },
    {
     "name": "stdout",
     "output_type": "stream",
     "text": [
      "-------------------- Iteration --------------------\n",
      "Average Episodic Length: 200.0\n",
      "Average Episodic Return: -239.91\n"
     ]
    },
    {
     "name": "stderr",
     "output_type": "stream",
     "text": [
      "\r",
      " 66%|█████████████████████████████████████████████████████                           | 199/300 [06:30<03:15,  1.93s/it]"
     ]
    },
    {
     "name": "stdout",
     "output_type": "stream",
     "text": [
      "-------------------- Iteration --------------------\n",
      "Average Episodic Length: 200.0\n",
      "Average Episodic Return: -134.66\n",
      "Successfully save the model!\n"
     ]
    },
    {
     "name": "stderr",
     "output_type": "stream",
     "text": [
      "\r",
      " 67%|█████████████████████████████████████████████████████▎                          | 200/300 [06:31<03:08,  1.88s/it]"
     ]
    },
    {
     "name": "stdout",
     "output_type": "stream",
     "text": [
      "-------------------- Iteration --------------------\n",
      "Average Episodic Length: 200.0\n",
      "Average Episodic Return: -236.25\n"
     ]
    },
    {
     "name": "stderr",
     "output_type": "stream",
     "text": [
      "\r",
      " 67%|█████████████████████████████████████████████████████▌                          | 201/300 [06:33<03:04,  1.86s/it]"
     ]
    },
    {
     "name": "stdout",
     "output_type": "stream",
     "text": [
      "-------------------- Iteration --------------------\n",
      "Average Episodic Length: 200.0\n",
      "Average Episodic Return: -152.89\n",
      "Successfully save the model!\n"
     ]
    },
    {
     "name": "stderr",
     "output_type": "stream",
     "text": [
      "\r",
      " 67%|█████████████████████████████████████████████████████▊                          | 202/300 [06:35<02:58,  1.83s/it]"
     ]
    },
    {
     "name": "stdout",
     "output_type": "stream",
     "text": [
      "-------------------- Iteration --------------------\n",
      "Average Episodic Length: 200.0\n",
      "Average Episodic Return: -214.09\n"
     ]
    },
    {
     "name": "stderr",
     "output_type": "stream",
     "text": [
      "\r",
      " 68%|██████████████████████████████████████████████████████▏                         | 203/300 [06:37<02:54,  1.80s/it]"
     ]
    },
    {
     "name": "stdout",
     "output_type": "stream",
     "text": [
      "-------------------- Iteration --------------------\n",
      "Average Episodic Length: 200.0\n",
      "Average Episodic Return: -188.79\n",
      "Successfully save the model!\n"
     ]
    },
    {
     "name": "stderr",
     "output_type": "stream",
     "text": [
      "\r",
      " 68%|██████████████████████████████████████████████████████▍                         | 204/300 [06:38<02:51,  1.79s/it]"
     ]
    },
    {
     "name": "stdout",
     "output_type": "stream",
     "text": [
      "-------------------- Iteration --------------------\n",
      "Average Episodic Length: 200.0\n",
      "Average Episodic Return: -222.81\n"
     ]
    },
    {
     "name": "stderr",
     "output_type": "stream",
     "text": [
      "\r",
      " 68%|██████████████████████████████████████████████████████▋                         | 205/300 [06:40<02:50,  1.79s/it]"
     ]
    },
    {
     "name": "stdout",
     "output_type": "stream",
     "text": [
      "-------------------- Iteration --------------------\n",
      "Average Episodic Length: 200.0\n",
      "Average Episodic Return: -216.33\n",
      "Successfully save the model!\n"
     ]
    },
    {
     "name": "stderr",
     "output_type": "stream",
     "text": [
      "\r",
      " 69%|██████████████████████████████████████████████████████▉                         | 206/300 [06:42<02:52,  1.84s/it]"
     ]
    },
    {
     "name": "stdout",
     "output_type": "stream",
     "text": [
      "-------------------- Iteration --------------------\n",
      "Average Episodic Length: 200.0\n",
      "Average Episodic Return: -243.39\n"
     ]
    },
    {
     "name": "stderr",
     "output_type": "stream",
     "text": [
      "\r",
      " 69%|███████████████████████████████████████████████████████▏                        | 207/300 [06:44<02:51,  1.84s/it]"
     ]
    },
    {
     "name": "stdout",
     "output_type": "stream",
     "text": [
      "-------------------- Iteration --------------------\n",
      "Average Episodic Length: 200.0\n",
      "Average Episodic Return: -242.47\n",
      "Successfully save the model!\n"
     ]
    },
    {
     "name": "stderr",
     "output_type": "stream",
     "text": [
      "\r",
      " 69%|███████████████████████████████████████████████████████▍                        | 208/300 [06:46<02:49,  1.84s/it]"
     ]
    },
    {
     "name": "stdout",
     "output_type": "stream",
     "text": [
      "-------------------- Iteration --------------------\n",
      "Average Episodic Length: 200.0\n",
      "Average Episodic Return: -157.25\n",
      "Successfully save the model!\n"
     ]
    },
    {
     "name": "stderr",
     "output_type": "stream",
     "text": [
      "\r",
      " 70%|███████████████████████████████████████████████████████▋                        | 209/300 [06:48<02:45,  1.82s/it]"
     ]
    },
    {
     "name": "stdout",
     "output_type": "stream",
     "text": [
      "-------------------- Iteration --------------------\n",
      "Average Episodic Length: 200.0\n",
      "Average Episodic Return: -152.85\n",
      "Successfully save the model!\n"
     ]
    },
    {
     "name": "stderr",
     "output_type": "stream",
     "text": [
      "\r",
      " 70%|████████████████████████████████████████████████████████                        | 210/300 [06:49<02:42,  1.80s/it]"
     ]
    },
    {
     "name": "stdout",
     "output_type": "stream",
     "text": [
      "-------------------- Iteration --------------------\n",
      "Average Episodic Length: 200.0\n",
      "Average Episodic Return: -240.81\n"
     ]
    },
    {
     "name": "stderr",
     "output_type": "stream",
     "text": [
      "\r",
      " 70%|████████████████████████████████████████████████████████▎                       | 211/300 [06:51<02:39,  1.79s/it]"
     ]
    },
    {
     "name": "stdout",
     "output_type": "stream",
     "text": [
      "-------------------- Iteration --------------------\n",
      "Average Episodic Length: 200.0\n",
      "Average Episodic Return: -206.68\n",
      "Successfully save the model!\n"
     ]
    },
    {
     "name": "stderr",
     "output_type": "stream",
     "text": [
      "\r",
      " 71%|████████████████████████████████████████████████████████▌                       | 212/300 [06:53<02:39,  1.81s/it]"
     ]
    },
    {
     "name": "stdout",
     "output_type": "stream",
     "text": [
      "-------------------- Iteration --------------------\n",
      "Average Episodic Length: 200.0\n",
      "Average Episodic Return: -135.69\n",
      "Successfully save the model!\n"
     ]
    },
    {
     "name": "stderr",
     "output_type": "stream",
     "text": [
      "\r",
      " 71%|████████████████████████████████████████████████████████▊                       | 213/300 [06:55<02:36,  1.80s/it]"
     ]
    },
    {
     "name": "stdout",
     "output_type": "stream",
     "text": [
      "-------------------- Iteration --------------------\n",
      "Average Episodic Length: 200.0\n",
      "Average Episodic Return: -187.87\n"
     ]
    },
    {
     "name": "stderr",
     "output_type": "stream",
     "text": [
      "\r",
      " 71%|█████████████████████████████████████████████████████████                       | 214/300 [06:57<02:35,  1.81s/it]"
     ]
    },
    {
     "name": "stdout",
     "output_type": "stream",
     "text": [
      "-------------------- Iteration --------------------\n",
      "Average Episodic Length: 200.0\n",
      "Average Episodic Return: -178.08\n",
      "Successfully save the model!\n"
     ]
    },
    {
     "name": "stderr",
     "output_type": "stream",
     "text": [
      "\r",
      " 72%|█████████████████████████████████████████████████████████▎                      | 215/300 [06:59<02:36,  1.84s/it]"
     ]
    },
    {
     "name": "stdout",
     "output_type": "stream",
     "text": [
      "-------------------- Iteration --------------------\n",
      "Average Episodic Length: 200.0\n",
      "Average Episodic Return: -177.91\n",
      "Successfully save the model!\n"
     ]
    },
    {
     "name": "stderr",
     "output_type": "stream",
     "text": [
      "\r",
      " 72%|█████████████████████████████████████████████████████████▌                      | 216/300 [07:01<02:37,  1.88s/it]"
     ]
    },
    {
     "name": "stdout",
     "output_type": "stream",
     "text": [
      "-------------------- Iteration --------------------\n",
      "Average Episodic Length: 200.0\n",
      "Average Episodic Return: -174.87\n",
      "Successfully save the model!\n"
     ]
    },
    {
     "name": "stderr",
     "output_type": "stream",
     "text": [
      "\r",
      " 72%|█████████████████████████████████████████████████████████▊                      | 217/300 [07:02<02:37,  1.89s/it]"
     ]
    },
    {
     "name": "stdout",
     "output_type": "stream",
     "text": [
      "-------------------- Iteration --------------------\n",
      "Average Episodic Length: 200.0\n",
      "Average Episodic Return: -164.89\n",
      "Successfully save the model!\n"
     ]
    },
    {
     "name": "stderr",
     "output_type": "stream",
     "text": [
      "\r",
      " 73%|██████████████████████████████████████████████████████████▏                     | 218/300 [07:04<02:35,  1.90s/it]"
     ]
    },
    {
     "name": "stdout",
     "output_type": "stream",
     "text": [
      "-------------------- Iteration --------------------\n",
      "Average Episodic Length: 200.0\n",
      "Average Episodic Return: -176.15\n"
     ]
    },
    {
     "name": "stderr",
     "output_type": "stream",
     "text": [
      "\r",
      " 73%|██████████████████████████████████████████████████████████▍                     | 219/300 [07:06<02:38,  1.95s/it]"
     ]
    },
    {
     "name": "stdout",
     "output_type": "stream",
     "text": [
      "-------------------- Iteration --------------------\n",
      "Average Episodic Length: 200.0\n",
      "Average Episodic Return: -187.34\n"
     ]
    },
    {
     "name": "stderr",
     "output_type": "stream",
     "text": [
      "\r",
      " 73%|██████████████████████████████████████████████████████████▋                     | 220/300 [07:08<02:35,  1.94s/it]"
     ]
    },
    {
     "name": "stdout",
     "output_type": "stream",
     "text": [
      "-------------------- Iteration --------------------\n",
      "Average Episodic Length: 200.0\n",
      "Average Episodic Return: -156.97\n",
      "Successfully save the model!\n"
     ]
    },
    {
     "name": "stderr",
     "output_type": "stream",
     "text": [
      "\r",
      " 74%|██████████████████████████████████████████████████████████▉                     | 221/300 [07:10<02:32,  1.94s/it]"
     ]
    },
    {
     "name": "stdout",
     "output_type": "stream",
     "text": [
      "-------------------- Iteration --------------------\n",
      "Average Episodic Length: 200.0\n",
      "Average Episodic Return: -206.56\n"
     ]
    },
    {
     "name": "stderr",
     "output_type": "stream",
     "text": [
      "\r",
      " 74%|███████████████████████████████████████████████████████████▏                    | 222/300 [07:12<02:29,  1.92s/it]"
     ]
    },
    {
     "name": "stdout",
     "output_type": "stream",
     "text": [
      "-------------------- Iteration --------------------\n",
      "Average Episodic Length: 200.0\n",
      "Average Episodic Return: -134.96\n",
      "Successfully save the model!\n"
     ]
    },
    {
     "name": "stderr",
     "output_type": "stream",
     "text": [
      "\r",
      " 74%|███████████████████████████████████████████████████████████▍                    | 223/300 [07:14<02:25,  1.90s/it]"
     ]
    },
    {
     "name": "stdout",
     "output_type": "stream",
     "text": [
      "-------------------- Iteration --------------------\n",
      "Average Episodic Length: 200.0\n",
      "Average Episodic Return: -185.3\n"
     ]
    },
    {
     "name": "stderr",
     "output_type": "stream",
     "text": [
      "\r",
      " 75%|███████████████████████████████████████████████████████████▋                    | 224/300 [07:16<02:24,  1.90s/it]"
     ]
    },
    {
     "name": "stdout",
     "output_type": "stream",
     "text": [
      "-------------------- Iteration --------------------\n",
      "Average Episodic Length: 200.0\n",
      "Average Episodic Return: -163.91\n",
      "Successfully save the model!\n"
     ]
    },
    {
     "name": "stderr",
     "output_type": "stream",
     "text": [
      "\r",
      " 75%|████████████████████████████████████████████████████████████                    | 225/300 [07:18<02:22,  1.90s/it]"
     ]
    },
    {
     "name": "stdout",
     "output_type": "stream",
     "text": [
      "-------------------- Iteration --------------------\n",
      "Average Episodic Length: 200.0\n",
      "Average Episodic Return: -246.03\n"
     ]
    },
    {
     "name": "stderr",
     "output_type": "stream",
     "text": [
      "\r",
      " 75%|████████████████████████████████████████████████████████████▎                   | 226/300 [07:20<02:20,  1.91s/it]"
     ]
    },
    {
     "name": "stdout",
     "output_type": "stream",
     "text": [
      "-------------------- Iteration --------------------\n",
      "Average Episodic Length: 200.0\n",
      "Average Episodic Return: -155.98\n",
      "Successfully save the model!\n"
     ]
    },
    {
     "name": "stderr",
     "output_type": "stream",
     "text": [
      "\r",
      " 76%|████████████████████████████████████████████████████████████▌                   | 227/300 [07:22<02:19,  1.92s/it]"
     ]
    },
    {
     "name": "stdout",
     "output_type": "stream",
     "text": [
      "-------------------- Iteration --------------------\n",
      "Average Episodic Length: 200.0\n",
      "Average Episodic Return: -200.16\n"
     ]
    },
    {
     "name": "stderr",
     "output_type": "stream",
     "text": [
      "\r",
      " 76%|████████████████████████████████████████████████████████████▊                   | 228/300 [07:23<02:14,  1.87s/it]"
     ]
    },
    {
     "name": "stdout",
     "output_type": "stream",
     "text": [
      "-------------------- Iteration --------------------\n",
      "Average Episodic Length: 200.0\n",
      "Average Episodic Return: -184.57\n",
      "Successfully save the model!\n"
     ]
    },
    {
     "name": "stderr",
     "output_type": "stream",
     "text": [
      "\r",
      " 76%|█████████████████████████████████████████████████████████████                   | 229/300 [07:25<02:12,  1.87s/it]"
     ]
    },
    {
     "name": "stdout",
     "output_type": "stream",
     "text": [
      "-------------------- Iteration --------------------\n",
      "Average Episodic Length: 200.0\n",
      "Average Episodic Return: -139.16\n",
      "Successfully save the model!\n"
     ]
    },
    {
     "name": "stderr",
     "output_type": "stream",
     "text": [
      "\r",
      " 77%|█████████████████████████████████████████████████████████████▎                  | 230/300 [07:27<02:11,  1.88s/it]"
     ]
    },
    {
     "name": "stdout",
     "output_type": "stream",
     "text": [
      "-------------------- Iteration --------------------\n",
      "Average Episodic Length: 200.0\n",
      "Average Episodic Return: -184.95\n"
     ]
    },
    {
     "name": "stderr",
     "output_type": "stream",
     "text": [
      "\r",
      " 77%|█████████████████████████████████████████████████████████████▌                  | 231/300 [07:29<02:09,  1.87s/it]"
     ]
    },
    {
     "name": "stdout",
     "output_type": "stream",
     "text": [
      "-------------------- Iteration --------------------\n",
      "Average Episodic Length: 200.0\n",
      "Average Episodic Return: -172.5\n",
      "Successfully save the model!\n"
     ]
    },
    {
     "name": "stderr",
     "output_type": "stream",
     "text": [
      "\r",
      " 77%|█████████████████████████████████████████████████████████████▊                  | 232/300 [07:31<02:07,  1.88s/it]"
     ]
    },
    {
     "name": "stdout",
     "output_type": "stream",
     "text": [
      "-------------------- Iteration --------------------\n",
      "Average Episodic Length: 200.0\n",
      "Average Episodic Return: -178.78\n"
     ]
    },
    {
     "name": "stderr",
     "output_type": "stream",
     "text": [
      "\r",
      " 78%|██████████████████████████████████████████████████████████████▏                 | 233/300 [07:33<02:03,  1.85s/it]"
     ]
    },
    {
     "name": "stdout",
     "output_type": "stream",
     "text": [
      "-------------------- Iteration --------------------\n",
      "Average Episodic Length: 200.0\n",
      "Average Episodic Return: -168.69\n",
      "Successfully save the model!\n"
     ]
    },
    {
     "name": "stderr",
     "output_type": "stream",
     "text": [
      "\r",
      " 78%|██████████████████████████████████████████████████████████████▍                 | 234/300 [07:35<02:06,  1.91s/it]"
     ]
    },
    {
     "name": "stdout",
     "output_type": "stream",
     "text": [
      "-------------------- Iteration --------------------\n",
      "Average Episodic Length: 200.0\n",
      "Average Episodic Return: -241.03\n"
     ]
    },
    {
     "name": "stderr",
     "output_type": "stream",
     "text": [
      "\r",
      " 78%|██████████████████████████████████████████████████████████████▋                 | 235/300 [07:37<02:06,  1.95s/it]"
     ]
    },
    {
     "name": "stdout",
     "output_type": "stream",
     "text": [
      "-------------------- Iteration --------------------\n",
      "Average Episodic Length: 200.0\n",
      "Average Episodic Return: -132.44\n",
      "Successfully save the model!\n"
     ]
    },
    {
     "name": "stderr",
     "output_type": "stream",
     "text": [
      "\r",
      " 79%|██████████████████████████████████████████████████████████████▉                 | 236/300 [07:39<02:04,  1.94s/it]"
     ]
    },
    {
     "name": "stdout",
     "output_type": "stream",
     "text": [
      "-------------------- Iteration --------------------\n",
      "Average Episodic Length: 200.0\n",
      "Average Episodic Return: -137.24\n"
     ]
    },
    {
     "name": "stderr",
     "output_type": "stream",
     "text": [
      "\r",
      " 79%|███████████████████████████████████████████████████████████████▏                | 237/300 [07:41<02:04,  1.98s/it]"
     ]
    },
    {
     "name": "stdout",
     "output_type": "stream",
     "text": [
      "-------------------- Iteration --------------------\n",
      "Average Episodic Length: 200.0\n",
      "Average Episodic Return: -136.88\n",
      "Successfully save the model!\n"
     ]
    },
    {
     "name": "stderr",
     "output_type": "stream",
     "text": [
      "\r",
      " 79%|███████████████████████████████████████████████████████████████▍                | 238/300 [07:43<02:03,  1.99s/it]"
     ]
    },
    {
     "name": "stdout",
     "output_type": "stream",
     "text": [
      "-------------------- Iteration --------------------\n",
      "Average Episodic Length: 200.0\n",
      "Average Episodic Return: -207.5\n"
     ]
    },
    {
     "name": "stderr",
     "output_type": "stream",
     "text": [
      "\r",
      " 80%|███████████████████████████████████████████████████████████████▋                | 239/300 [07:45<02:00,  1.98s/it]"
     ]
    },
    {
     "name": "stdout",
     "output_type": "stream",
     "text": [
      "-------------------- Iteration --------------------\n",
      "Average Episodic Length: 200.0\n",
      "Average Episodic Return: -182.57\n",
      "Successfully save the model!\n"
     ]
    },
    {
     "name": "stderr",
     "output_type": "stream",
     "text": [
      "\r",
      " 80%|████████████████████████████████████████████████████████████████                | 240/300 [07:47<01:59,  1.98s/it]"
     ]
    },
    {
     "name": "stdout",
     "output_type": "stream",
     "text": [
      "-------------------- Iteration --------------------\n",
      "Average Episodic Length: 200.0\n",
      "Average Episodic Return: -185.65\n"
     ]
    },
    {
     "name": "stderr",
     "output_type": "stream",
     "text": [
      "\r",
      " 80%|████████████████████████████████████████████████████████████████▎               | 241/300 [07:49<01:55,  1.96s/it]"
     ]
    },
    {
     "name": "stdout",
     "output_type": "stream",
     "text": [
      "-------------------- Iteration --------------------\n",
      "Average Episodic Length: 200.0\n",
      "Average Episodic Return: -214.83\n"
     ]
    },
    {
     "name": "stderr",
     "output_type": "stream",
     "text": [
      "\r",
      " 81%|████████████████████████████████████████████████████████████████▌               | 242/300 [07:51<01:53,  1.95s/it]"
     ]
    },
    {
     "name": "stdout",
     "output_type": "stream",
     "text": [
      "-------------------- Iteration --------------------\n",
      "Average Episodic Length: 200.0\n",
      "Average Episodic Return: -202.14\n",
      "Successfully save the model!\n"
     ]
    },
    {
     "name": "stderr",
     "output_type": "stream",
     "text": [
      "\r",
      " 81%|████████████████████████████████████████████████████████████████▊               | 243/300 [07:53<01:50,  1.94s/it]"
     ]
    },
    {
     "name": "stdout",
     "output_type": "stream",
     "text": [
      "-------------------- Iteration --------------------\n",
      "Average Episodic Length: 200.0\n",
      "Average Episodic Return: -165.45\n",
      "Successfully save the model!\n"
     ]
    },
    {
     "name": "stderr",
     "output_type": "stream",
     "text": [
      "\r",
      " 81%|█████████████████████████████████████████████████████████████████               | 244/300 [07:54<01:46,  1.90s/it]"
     ]
    },
    {
     "name": "stdout",
     "output_type": "stream",
     "text": [
      "-------------------- Iteration --------------------\n",
      "Average Episodic Length: 200.0\n",
      "Average Episodic Return: -136.99\n",
      "Successfully save the model!\n"
     ]
    },
    {
     "name": "stderr",
     "output_type": "stream",
     "text": [
      "\r",
      " 82%|█████████████████████████████████████████████████████████████████▎              | 245/300 [07:56<01:45,  1.91s/it]"
     ]
    },
    {
     "name": "stdout",
     "output_type": "stream",
     "text": [
      "-------------------- Iteration --------------------\n",
      "Average Episodic Length: 200.0\n",
      "Average Episodic Return: -178.36\n"
     ]
    },
    {
     "name": "stderr",
     "output_type": "stream",
     "text": [
      "\r",
      " 82%|█████████████████████████████████████████████████████████████████▌              | 246/300 [07:58<01:43,  1.92s/it]"
     ]
    },
    {
     "name": "stdout",
     "output_type": "stream",
     "text": [
      "-------------------- Iteration --------------------\n",
      "Average Episodic Length: 200.0\n",
      "Average Episodic Return: -171.96\n",
      "Successfully save the model!\n"
     ]
    },
    {
     "name": "stderr",
     "output_type": "stream",
     "text": [
      "\r",
      " 82%|█████████████████████████████████████████████████████████████████▊              | 247/300 [08:00<01:41,  1.91s/it]"
     ]
    },
    {
     "name": "stdout",
     "output_type": "stream",
     "text": [
      "-------------------- Iteration --------------------\n",
      "Average Episodic Length: 200.0\n",
      "Average Episodic Return: -138.3\n",
      "Successfully save the model!\n"
     ]
    },
    {
     "name": "stderr",
     "output_type": "stream",
     "text": [
      "\r",
      " 83%|██████████████████████████████████████████████████████████████████▏             | 248/300 [08:02<01:38,  1.89s/it]"
     ]
    },
    {
     "name": "stdout",
     "output_type": "stream",
     "text": [
      "-------------------- Iteration --------------------\n",
      "Average Episodic Length: 200.0\n",
      "Average Episodic Return: -199.69\n"
     ]
    },
    {
     "name": "stderr",
     "output_type": "stream",
     "text": [
      "\r",
      " 83%|██████████████████████████████████████████████████████████████████▍             | 249/300 [08:04<01:35,  1.87s/it]"
     ]
    },
    {
     "name": "stdout",
     "output_type": "stream",
     "text": [
      "-------------------- Iteration --------------------\n",
      "Average Episodic Length: 200.0\n",
      "Average Episodic Return: -169.48\n",
      "Successfully save the model!\n"
     ]
    },
    {
     "name": "stderr",
     "output_type": "stream",
     "text": [
      "\r",
      " 83%|██████████████████████████████████████████████████████████████████▋             | 250/300 [08:06<01:31,  1.84s/it]"
     ]
    },
    {
     "name": "stdout",
     "output_type": "stream",
     "text": [
      "-------------------- Iteration --------------------\n",
      "Average Episodic Length: 200.0\n",
      "Average Episodic Return: -213.62\n"
     ]
    },
    {
     "name": "stderr",
     "output_type": "stream",
     "text": [
      "\r",
      " 84%|██████████████████████████████████████████████████████████████████▉             | 251/300 [08:07<01:29,  1.83s/it]"
     ]
    },
    {
     "name": "stdout",
     "output_type": "stream",
     "text": [
      "-------------------- Iteration --------------------\n",
      "Average Episodic Length: 200.0\n",
      "Average Episodic Return: -166.57\n",
      "Successfully save the model!\n"
     ]
    },
    {
     "name": "stderr",
     "output_type": "stream",
     "text": [
      "\r",
      " 84%|███████████████████████████████████████████████████████████████████▏            | 252/300 [08:09<01:28,  1.84s/it]"
     ]
    },
    {
     "name": "stdout",
     "output_type": "stream",
     "text": [
      "-------------------- Iteration --------------------\n",
      "Average Episodic Length: 200.0\n",
      "Average Episodic Return: -288.03\n"
     ]
    },
    {
     "name": "stderr",
     "output_type": "stream",
     "text": [
      "\r",
      " 84%|███████████████████████████████████████████████████████████████████▍            | 253/300 [08:11<01:27,  1.85s/it]"
     ]
    },
    {
     "name": "stdout",
     "output_type": "stream",
     "text": [
      "-------------------- Iteration --------------------\n",
      "Average Episodic Length: 200.0\n",
      "Average Episodic Return: -188.21\n",
      "Successfully save the model!\n"
     ]
    },
    {
     "name": "stderr",
     "output_type": "stream",
     "text": [
      "\r",
      " 85%|███████████████████████████████████████████████████████████████████▋            | 254/300 [08:13<01:23,  1.81s/it]"
     ]
    },
    {
     "name": "stdout",
     "output_type": "stream",
     "text": [
      "-------------------- Iteration --------------------\n",
      "Average Episodic Length: 200.0\n",
      "Average Episodic Return: -217.72\n"
     ]
    },
    {
     "name": "stderr",
     "output_type": "stream",
     "text": [
      "\r",
      " 85%|████████████████████████████████████████████████████████████████████            | 255/300 [08:15<01:23,  1.85s/it]"
     ]
    },
    {
     "name": "stdout",
     "output_type": "stream",
     "text": [
      "-------------------- Iteration --------------------\n",
      "Average Episodic Length: 200.0\n",
      "Average Episodic Return: -243.22\n"
     ]
    },
    {
     "name": "stderr",
     "output_type": "stream",
     "text": [
      "\r",
      " 85%|████████████████████████████████████████████████████████████████████▎           | 256/300 [08:17<01:22,  1.87s/it]"
     ]
    },
    {
     "name": "stdout",
     "output_type": "stream",
     "text": [
      "-------------------- Iteration --------------------\n",
      "Average Episodic Length: 200.0\n",
      "Average Episodic Return: -234.74\n",
      "Successfully save the model!\n"
     ]
    },
    {
     "name": "stderr",
     "output_type": "stream",
     "text": [
      "\r",
      " 86%|████████████████████████████████████████████████████████████████████▌           | 257/300 [08:19<01:22,  1.92s/it]"
     ]
    },
    {
     "name": "stdout",
     "output_type": "stream",
     "text": [
      "-------------------- Iteration --------------------\n",
      "Average Episodic Length: 200.0\n",
      "Average Episodic Return: -191.99\n",
      "Successfully save the model!\n"
     ]
    },
    {
     "name": "stderr",
     "output_type": "stream",
     "text": [
      "\r",
      " 86%|████████████████████████████████████████████████████████████████████▊           | 258/300 [08:21<01:19,  1.88s/it]"
     ]
    },
    {
     "name": "stdout",
     "output_type": "stream",
     "text": [
      "-------------------- Iteration --------------------\n",
      "Average Episodic Length: 200.0\n",
      "Average Episodic Return: -191.94\n",
      "Successfully save the model!\n"
     ]
    },
    {
     "name": "stderr",
     "output_type": "stream",
     "text": [
      "\r",
      " 86%|█████████████████████████████████████████████████████████████████████           | 259/300 [08:22<01:16,  1.86s/it]"
     ]
    },
    {
     "name": "stdout",
     "output_type": "stream",
     "text": [
      "-------------------- Iteration --------------------\n",
      "Average Episodic Length: 200.0\n",
      "Average Episodic Return: -157.9\n",
      "Successfully save the model!\n"
     ]
    },
    {
     "name": "stderr",
     "output_type": "stream",
     "text": [
      "\r",
      " 87%|█████████████████████████████████████████████████████████████████████▎          | 260/300 [08:24<01:13,  1.84s/it]"
     ]
    },
    {
     "name": "stdout",
     "output_type": "stream",
     "text": [
      "-------------------- Iteration --------------------\n",
      "Average Episodic Length: 200.0\n",
      "Average Episodic Return: -364.6\n"
     ]
    },
    {
     "name": "stderr",
     "output_type": "stream",
     "text": [
      "\r",
      " 87%|█████████████████████████████████████████████████████████████████████▌          | 261/300 [08:26<01:10,  1.82s/it]"
     ]
    },
    {
     "name": "stdout",
     "output_type": "stream",
     "text": [
      "-------------------- Iteration --------------------\n",
      "Average Episodic Length: 200.0\n",
      "Average Episodic Return: -321.45\n",
      "Successfully save the model!\n"
     ]
    },
    {
     "name": "stderr",
     "output_type": "stream",
     "text": [
      "\r",
      " 87%|█████████████████████████████████████████████████████████████████████▊          | 262/300 [08:28<01:09,  1.82s/it]"
     ]
    },
    {
     "name": "stdout",
     "output_type": "stream",
     "text": [
      "-------------------- Iteration --------------------\n",
      "Average Episodic Length: 200.0\n",
      "Average Episodic Return: -149.77\n",
      "Successfully save the model!\n"
     ]
    },
    {
     "name": "stderr",
     "output_type": "stream",
     "text": [
      "\r",
      " 88%|██████████████████████████████████████████████████████████████████████▏         | 263/300 [08:30<01:07,  1.81s/it]"
     ]
    },
    {
     "name": "stdout",
     "output_type": "stream",
     "text": [
      "-------------------- Iteration --------------------\n",
      "Average Episodic Length: 200.0\n",
      "Average Episodic Return: -462.86\n"
     ]
    },
    {
     "name": "stderr",
     "output_type": "stream",
     "text": [
      "\r",
      " 88%|██████████████████████████████████████████████████████████████████████▍         | 264/300 [08:31<01:04,  1.80s/it]"
     ]
    },
    {
     "name": "stdout",
     "output_type": "stream",
     "text": [
      "-------------------- Iteration --------------------\n",
      "Average Episodic Length: 200.0\n",
      "Average Episodic Return: -262.73\n",
      "Successfully save the model!\n"
     ]
    },
    {
     "name": "stderr",
     "output_type": "stream",
     "text": [
      "\r",
      " 88%|██████████████████████████████████████████████████████████████████████▋         | 265/300 [08:33<01:04,  1.85s/it]"
     ]
    },
    {
     "name": "stdout",
     "output_type": "stream",
     "text": [
      "-------------------- Iteration --------------------\n",
      "Average Episodic Length: 200.0\n",
      "Average Episodic Return: -326.85\n"
     ]
    },
    {
     "name": "stderr",
     "output_type": "stream",
     "text": [
      "\r",
      " 89%|██████████████████████████████████████████████████████████████████████▉         | 266/300 [08:35<01:00,  1.79s/it]"
     ]
    },
    {
     "name": "stdout",
     "output_type": "stream",
     "text": [
      "-------------------- Iteration --------------------\n",
      "Average Episodic Length: 200.0\n",
      "Average Episodic Return: -194.79\n",
      "Successfully save the model!\n"
     ]
    },
    {
     "name": "stderr",
     "output_type": "stream",
     "text": [
      "\r",
      " 89%|███████████████████████████████████████████████████████████████████████▏        | 267/300 [08:37<01:01,  1.86s/it]"
     ]
    },
    {
     "name": "stdout",
     "output_type": "stream",
     "text": [
      "-------------------- Iteration --------------------\n",
      "Average Episodic Length: 200.0\n",
      "Average Episodic Return: -188.15\n",
      "Successfully save the model!\n"
     ]
    },
    {
     "name": "stderr",
     "output_type": "stream",
     "text": [
      "\r",
      " 89%|███████████████████████████████████████████████████████████████████████▍        | 268/300 [08:39<01:01,  1.91s/it]"
     ]
    },
    {
     "name": "stdout",
     "output_type": "stream",
     "text": [
      "-------------------- Iteration --------------------\n",
      "Average Episodic Length: 200.0\n",
      "Average Episodic Return: -129.88\n",
      "Successfully save the model!\n"
     ]
    },
    {
     "name": "stderr",
     "output_type": "stream",
     "text": [
      "\r",
      " 90%|███████████████████████████████████████████████████████████████████████▋        | 269/300 [08:41<00:59,  1.90s/it]"
     ]
    },
    {
     "name": "stdout",
     "output_type": "stream",
     "text": [
      "-------------------- Iteration --------------------\n",
      "Average Episodic Length: 200.0\n",
      "Average Episodic Return: -143.6\n"
     ]
    },
    {
     "name": "stderr",
     "output_type": "stream",
     "text": [
      "\r",
      " 90%|████████████████████████████████████████████████████████████████████████        | 270/300 [08:43<00:58,  1.95s/it]"
     ]
    },
    {
     "name": "stdout",
     "output_type": "stream",
     "text": [
      "-------------------- Iteration --------------------\n",
      "Average Episodic Length: 200.0\n",
      "Average Episodic Return: -224.68\n"
     ]
    },
    {
     "name": "stderr",
     "output_type": "stream",
     "text": [
      "\r",
      " 90%|████████████████████████████████████████████████████████████████████████▎       | 271/300 [08:45<00:56,  1.94s/it]"
     ]
    },
    {
     "name": "stdout",
     "output_type": "stream",
     "text": [
      "-------------------- Iteration --------------------\n",
      "Average Episodic Length: 200.0\n",
      "Average Episodic Return: -231.03\n"
     ]
    },
    {
     "name": "stderr",
     "output_type": "stream",
     "text": [
      "\r",
      " 91%|████████████████████████████████████████████████████████████████████████▌       | 272/300 [08:47<00:53,  1.92s/it]"
     ]
    },
    {
     "name": "stdout",
     "output_type": "stream",
     "text": [
      "-------------------- Iteration --------------------\n",
      "Average Episodic Length: 200.0\n",
      "Average Episodic Return: -220.62\n",
      "Successfully save the model!\n"
     ]
    },
    {
     "name": "stderr",
     "output_type": "stream",
     "text": [
      "\r",
      " 91%|████████████████████████████████████████████████████████████████████████▊       | 273/300 [08:48<00:50,  1.85s/it]"
     ]
    },
    {
     "name": "stdout",
     "output_type": "stream",
     "text": [
      "-------------------- Iteration --------------------\n",
      "Average Episodic Length: 200.0\n",
      "Average Episodic Return: -143.58\n",
      "Successfully save the model!\n"
     ]
    },
    {
     "name": "stderr",
     "output_type": "stream",
     "text": [
      "\r",
      " 91%|█████████████████████████████████████████████████████████████████████████       | 274/300 [08:50<00:47,  1.84s/it]"
     ]
    },
    {
     "name": "stdout",
     "output_type": "stream",
     "text": [
      "-------------------- Iteration --------------------\n",
      "Average Episodic Length: 200.0\n",
      "Average Episodic Return: -207.35\n"
     ]
    },
    {
     "name": "stderr",
     "output_type": "stream",
     "text": [
      "\r",
      " 92%|█████████████████████████████████████████████████████████████████████████▎      | 275/300 [08:52<00:45,  1.81s/it]"
     ]
    },
    {
     "name": "stdout",
     "output_type": "stream",
     "text": [
      "-------------------- Iteration --------------------\n",
      "Average Episodic Length: 200.0\n",
      "Average Episodic Return: -208.05\n"
     ]
    },
    {
     "name": "stderr",
     "output_type": "stream",
     "text": [
      "\r",
      " 92%|█████████████████████████████████████████████████████████████████████████▌      | 276/300 [08:54<00:43,  1.81s/it]"
     ]
    },
    {
     "name": "stdout",
     "output_type": "stream",
     "text": [
      "-------------------- Iteration --------------------\n",
      "Average Episodic Length: 200.0\n",
      "Average Episodic Return: -201.5\n",
      "Successfully save the model!\n"
     ]
    },
    {
     "name": "stderr",
     "output_type": "stream",
     "text": [
      "\r",
      " 92%|█████████████████████████████████████████████████████████████████████████▊      | 277/300 [08:56<00:41,  1.82s/it]"
     ]
    },
    {
     "name": "stdout",
     "output_type": "stream",
     "text": [
      "-------------------- Iteration --------------------\n",
      "Average Episodic Length: 200.0\n",
      "Average Episodic Return: -134.46\n",
      "Successfully save the model!\n"
     ]
    },
    {
     "name": "stderr",
     "output_type": "stream",
     "text": [
      "\r",
      " 93%|██████████████████████████████████████████████████████████████████████████▏     | 278/300 [08:58<00:41,  1.88s/it]"
     ]
    },
    {
     "name": "stdout",
     "output_type": "stream",
     "text": [
      "-------------------- Iteration --------------------\n",
      "Average Episodic Length: 200.0\n",
      "Average Episodic Return: -173.85\n"
     ]
    },
    {
     "name": "stderr",
     "output_type": "stream",
     "text": [
      "\r",
      " 93%|██████████████████████████████████████████████████████████████████████████▍     | 279/300 [09:00<00:40,  1.93s/it]"
     ]
    },
    {
     "name": "stdout",
     "output_type": "stream",
     "text": [
      "-------------------- Iteration --------------------\n",
      "Average Episodic Length: 200.0\n",
      "Average Episodic Return: -237.03\n"
     ]
    },
    {
     "name": "stderr",
     "output_type": "stream",
     "text": [
      "\r",
      " 93%|██████████████████████████████████████████████████████████████████████████▋     | 280/300 [09:02<00:39,  1.96s/it]"
     ]
    },
    {
     "name": "stdout",
     "output_type": "stream",
     "text": [
      "-------------------- Iteration --------------------\n",
      "Average Episodic Length: 200.0\n",
      "Average Episodic Return: -184.18\n",
      "Successfully save the model!\n"
     ]
    },
    {
     "name": "stderr",
     "output_type": "stream",
     "text": [
      "\r",
      " 94%|██████████████████████████████████████████████████████████████████████████▉     | 281/300 [09:04<00:36,  1.93s/it]"
     ]
    },
    {
     "name": "stdout",
     "output_type": "stream",
     "text": [
      "-------------------- Iteration --------------------\n",
      "Average Episodic Length: 200.0\n",
      "Average Episodic Return: -197.03\n"
     ]
    },
    {
     "name": "stderr",
     "output_type": "stream",
     "text": [
      "\r",
      " 94%|███████████████████████████████████████████████████████████████████████████▏    | 282/300 [09:05<00:33,  1.89s/it]"
     ]
    },
    {
     "name": "stdout",
     "output_type": "stream",
     "text": [
      "-------------------- Iteration --------------------\n",
      "Average Episodic Length: 200.0\n",
      "Average Episodic Return: -179.22\n",
      "Successfully save the model!\n"
     ]
    },
    {
     "name": "stderr",
     "output_type": "stream",
     "text": [
      "\r",
      " 94%|███████████████████████████████████████████████████████████████████████████▍    | 283/300 [09:07<00:31,  1.86s/it]"
     ]
    },
    {
     "name": "stdout",
     "output_type": "stream",
     "text": [
      "-------------------- Iteration --------------------\n",
      "Average Episodic Length: 200.0\n",
      "Average Episodic Return: -159.29\n",
      "Successfully save the model!\n"
     ]
    },
    {
     "name": "stderr",
     "output_type": "stream",
     "text": [
      "\r",
      " 95%|███████████████████████████████████████████████████████████████████████████▋    | 284/300 [09:09<00:29,  1.83s/it]"
     ]
    },
    {
     "name": "stdout",
     "output_type": "stream",
     "text": [
      "-------------------- Iteration --------------------\n",
      "Average Episodic Length: 200.0\n",
      "Average Episodic Return: -123.65\n",
      "Successfully save the model!\n"
     ]
    },
    {
     "name": "stderr",
     "output_type": "stream",
     "text": [
      "\r",
      " 95%|████████████████████████████████████████████████████████████████████████████    | 285/300 [09:11<00:27,  1.80s/it]"
     ]
    },
    {
     "name": "stdout",
     "output_type": "stream",
     "text": [
      "-------------------- Iteration --------------------\n",
      "Average Episodic Length: 200.0\n",
      "Average Episodic Return: -158.13\n"
     ]
    },
    {
     "name": "stderr",
     "output_type": "stream",
     "text": [
      "\r",
      " 95%|████████████████████████████████████████████████████████████████████████████▎   | 286/300 [09:12<00:25,  1.81s/it]"
     ]
    },
    {
     "name": "stdout",
     "output_type": "stream",
     "text": [
      "-------------------- Iteration --------------------\n",
      "Average Episodic Length: 200.0\n",
      "Average Episodic Return: -158.74\n"
     ]
    },
    {
     "name": "stderr",
     "output_type": "stream",
     "text": [
      "\r",
      " 96%|████████████████████████████████████████████████████████████████████████████▌   | 287/300 [09:14<00:23,  1.80s/it]"
     ]
    },
    {
     "name": "stdout",
     "output_type": "stream",
     "text": [
      "-------------------- Iteration --------------------\n",
      "Average Episodic Length: 200.0\n",
      "Average Episodic Return: -180.1\n"
     ]
    },
    {
     "name": "stderr",
     "output_type": "stream",
     "text": [
      "\r",
      " 96%|████████████████████████████████████████████████████████████████████████████▊   | 288/300 [09:16<00:21,  1.81s/it]"
     ]
    },
    {
     "name": "stdout",
     "output_type": "stream",
     "text": [
      "-------------------- Iteration --------------------\n",
      "Average Episodic Length: 200.0\n",
      "Average Episodic Return: -200.1\n"
     ]
    },
    {
     "name": "stderr",
     "output_type": "stream",
     "text": [
      "\r",
      " 96%|█████████████████████████████████████████████████████████████████████████████   | 289/300 [09:18<00:19,  1.80s/it]"
     ]
    },
    {
     "name": "stdout",
     "output_type": "stream",
     "text": [
      "-------------------- Iteration --------------------\n",
      "Average Episodic Length: 200.0\n",
      "Average Episodic Return: -203.31\n"
     ]
    },
    {
     "name": "stderr",
     "output_type": "stream",
     "text": [
      "\r",
      " 97%|█████████████████████████████████████████████████████████████████████████████▎  | 290/300 [09:20<00:17,  1.79s/it]"
     ]
    },
    {
     "name": "stdout",
     "output_type": "stream",
     "text": [
      "-------------------- Iteration --------------------\n",
      "Average Episodic Length: 200.0\n",
      "Average Episodic Return: -167.04\n",
      "Successfully save the model!\n"
     ]
    },
    {
     "name": "stderr",
     "output_type": "stream",
     "text": [
      "\r",
      " 97%|█████████████████████████████████████████████████████████████████████████████▌  | 291/300 [09:21<00:15,  1.76s/it]"
     ]
    },
    {
     "name": "stdout",
     "output_type": "stream",
     "text": [
      "-------------------- Iteration --------------------\n",
      "Average Episodic Length: 200.0\n",
      "Average Episodic Return: -188.09\n"
     ]
    },
    {
     "name": "stderr",
     "output_type": "stream",
     "text": [
      "\r",
      " 97%|█████████████████████████████████████████████████████████████████████████████▊  | 292/300 [09:23<00:14,  1.76s/it]"
     ]
    },
    {
     "name": "stdout",
     "output_type": "stream",
     "text": [
      "-------------------- Iteration --------------------\n",
      "Average Episodic Length: 200.0\n",
      "Average Episodic Return: -174.58\n",
      "Successfully save the model!\n"
     ]
    },
    {
     "name": "stderr",
     "output_type": "stream",
     "text": [
      "\r",
      " 98%|██████████████████████████████████████████████████████████████████████████████▏ | 293/300 [09:25<00:12,  1.77s/it]"
     ]
    },
    {
     "name": "stdout",
     "output_type": "stream",
     "text": [
      "-------------------- Iteration --------------------\n",
      "Average Episodic Length: 200.0\n",
      "Average Episodic Return: -181.02\n"
     ]
    },
    {
     "name": "stderr",
     "output_type": "stream",
     "text": [
      "\r",
      " 98%|██████████████████████████████████████████████████████████████████████████████▍ | 294/300 [09:27<00:10,  1.78s/it]"
     ]
    },
    {
     "name": "stdout",
     "output_type": "stream",
     "text": [
      "-------------------- Iteration --------------------\n",
      "Average Episodic Length: 200.0\n",
      "Average Episodic Return: -203.22\n"
     ]
    },
    {
     "name": "stderr",
     "output_type": "stream",
     "text": [
      "\r",
      " 98%|██████████████████████████████████████████████████████████████████████████████▋ | 295/300 [09:28<00:08,  1.78s/it]"
     ]
    },
    {
     "name": "stdout",
     "output_type": "stream",
     "text": [
      "-------------------- Iteration --------------------\n",
      "Average Episodic Length: 200.0\n",
      "Average Episodic Return: -189.41\n",
      "Successfully save the model!\n"
     ]
    },
    {
     "name": "stderr",
     "output_type": "stream",
     "text": [
      "\r",
      " 99%|██████████████████████████████████████████████████████████████████████████████▉ | 296/300 [09:30<00:07,  1.81s/it]"
     ]
    },
    {
     "name": "stdout",
     "output_type": "stream",
     "text": [
      "-------------------- Iteration --------------------\n",
      "Average Episodic Length: 200.0\n",
      "Average Episodic Return: -136.95\n",
      "Successfully save the model!\n"
     ]
    },
    {
     "name": "stderr",
     "output_type": "stream",
     "text": [
      "\r",
      " 99%|███████████████████████████████████████████████████████████████████████████████▏| 297/300 [09:32<00:05,  1.81s/it]"
     ]
    },
    {
     "name": "stdout",
     "output_type": "stream",
     "text": [
      "-------------------- Iteration --------------------\n",
      "Average Episodic Length: 200.0\n",
      "Average Episodic Return: -166.48\n"
     ]
    },
    {
     "name": "stderr",
     "output_type": "stream",
     "text": [
      "\r",
      " 99%|███████████████████████████████████████████████████████████████████████████████▍| 298/300 [09:34<00:03,  1.76s/it]"
     ]
    },
    {
     "name": "stdout",
     "output_type": "stream",
     "text": [
      "-------------------- Iteration --------------------\n",
      "Average Episodic Length: 200.0\n",
      "Average Episodic Return: -191.13\n"
     ]
    },
    {
     "name": "stderr",
     "output_type": "stream",
     "text": [
      "\r",
      "100%|███████████████████████████████████████████████████████████████████████████████▋| 299/300 [09:36<00:01,  1.75s/it]"
     ]
    },
    {
     "name": "stdout",
     "output_type": "stream",
     "text": [
      "-------------------- Iteration --------------------\n",
      "Average Episodic Length: 200.0\n",
      "Average Episodic Return: -173.75\n",
      "Successfully save the model!\n"
     ]
    },
    {
     "name": "stderr",
     "output_type": "stream",
     "text": [
      "100%|████████████████████████████████████████████████████████████████████████████████| 300/300 [09:37<00:00,  1.93s/it]\n"
     ]
    }
   ],
   "source": [
    "ITERATIONS = 300\n",
    "model = PPO(network=FeedForwardNN, obs_dim = obs_dim, act_dim = act_dim, subgaussian = False)\n",
    "#model.load_checkpoint()\n",
    "#model.critic.load_checkpoint()\n",
    "model.actor.train()\n",
    "model.critic.train()\n",
    "\n",
    "\n",
    "tmp = 0.0\n",
    "\n",
    "avg_ep_rews_log = []\n",
    "\n",
    "prg_bar = tqdm(range(ITERATIONS))\n",
    "for i in prg_bar:\n",
    "    batch_obs, batch_acts, batch_rews, batch_log_probs, batch_lens = \\\n",
    "        rollout(model, env, hyperparameters['timesteps_per_batch'], hyperparameters['max_timesteps_per_episode'])\n",
    "\n",
    "    avg_ep_lens = np.mean(batch_lens)\n",
    "    avg_ep_rews = np.mean([np.sum(ep_rews) for ep_rews in batch_rews])\n",
    "    avg_ep_rews_log.append(avg_ep_rews)\n",
    "    \n",
    "    # Round decimal places for more aesthetic logging messages\n",
    "    avg_ep_lens = str(round(avg_ep_lens, 2))\n",
    "    avg_ep_rews_1 = str(round(avg_ep_rews, 2))\n",
    "\n",
    "    print(f\"-------------------- Iteration --------------------\", flush=True)\n",
    "    print(f\"Average Episodic Length: {avg_ep_lens}\", flush=True)\n",
    "    print(f\"Average Episodic Return: {avg_ep_rews_1}\", flush=True)\n",
    "    \n",
    "    model.learn(batch_obs, batch_acts, batch_rews, batch_log_probs)\n",
    "    if avg_ep_rews > tmp:\n",
    "        model.actor.save_checkpoint()\n",
    "        model.critic.save_checkpoint()\n",
    "        print(\"Successfully save the model!\",flush=True)\n",
    "    tmp = avg_ep_rews\n",
    "    "
   ]
  },
  {
   "cell_type": "markdown",
   "id": "89bfd512",
   "metadata": {},
   "source": [
    "plot the average rewards for episodes per batch in training step"
   ]
  },
  {
   "cell_type": "code",
   "execution_count": 19,
   "id": "3639df16",
   "metadata": {},
   "outputs": [
    {
     "data": {
      "image/png": "[encoded data removed]",
      "text/plain": [
       "<Figure size 432x288 with 1 Axes>"
      ]
     },
     "metadata": {
      "needs_background": "light"
     },
     "output_type": "display_data"
    }
   ],
   "source": [
    "plt.plot(avg_ep_rews_log)\n",
    "plt.title(\"The average rewards for episodes per batch (Vanilla)\")\n",
    "plt.show()"
   ]
  },
  {
   "cell_type": "markdown",
   "id": "0254d8b4",
   "metadata": {},
   "source": [
    "Train (subgaussian importance sampling)--"
   ]
  },
  {
   "cell_type": "code",
   "execution_count": 9,
   "id": "258082bc",
   "metadata": {},
   "outputs": [
    {
     "name": "stderr",
     "output_type": "stream",
     "text": [
      "\r",
      "  0%|                                                                                          | 0/300 [00:00<?, ?it/s]"
     ]
    },
    {
     "name": "stdout",
     "output_type": "stream",
     "text": [
      "-------------------- Iteration --------------------\n",
      "Average Episodic Length: 200.0\n",
      "Average Episodic Return: -1311.26\n"
     ]
    },
    {
     "name": "stderr",
     "output_type": "stream",
     "text": [
      "\r",
      "  0%|▎                                                                                 | 1/300 [00:01<09:35,  1.92s/it]"
     ]
    },
    {
     "name": "stdout",
     "output_type": "stream",
     "text": [
      "-------------------- Iteration --------------------\n",
      "Average Episodic Length: 200.0\n",
      "Average Episodic Return: -1464.95\n"
     ]
    },
    {
     "name": "stderr",
     "output_type": "stream",
     "text": [
      "\r",
      "  1%|▌                                                                                 | 2/300 [00:03<09:21,  1.88s/it]"
     ]
    },
    {
     "name": "stdout",
     "output_type": "stream",
     "text": [
      "-------------------- Iteration --------------------\n",
      "Average Episodic Length: 200.0\n",
      "Average Episodic Return: -1602.19\n"
     ]
    },
    {
     "name": "stderr",
     "output_type": "stream",
     "text": [
      "\r",
      "  1%|▊                                                                                 | 3/300 [00:05<09:49,  1.98s/it]"
     ]
    },
    {
     "name": "stdout",
     "output_type": "stream",
     "text": [
      "-------------------- Iteration --------------------\n",
      "Average Episodic Length: 200.0\n",
      "Average Episodic Return: -1385.61\n",
      "Successfully save the model!\n"
     ]
    },
    {
     "name": "stderr",
     "output_type": "stream",
     "text": [
      "\r",
      "  1%|█                                                                                 | 4/300 [00:08<10:35,  2.15s/it]"
     ]
    },
    {
     "name": "stdout",
     "output_type": "stream",
     "text": [
      "-------------------- Iteration --------------------\n",
      "Average Episodic Length: 200.0\n",
      "Average Episodic Return: -1495.0\n"
     ]
    },
    {
     "name": "stderr",
     "output_type": "stream",
     "text": [
      "\r",
      "  2%|█▎                                                                                | 5/300 [00:10<10:20,  2.10s/it]"
     ]
    },
    {
     "name": "stdout",
     "output_type": "stream",
     "text": [
      "-------------------- Iteration --------------------\n",
      "Average Episodic Length: 200.0\n",
      "Average Episodic Return: -1379.55\n",
      "Successfully save the model!\n"
     ]
    },
    {
     "name": "stderr",
     "output_type": "stream",
     "text": [
      "\r",
      "  2%|█▋                                                                                | 6/300 [00:12<10:05,  2.06s/it]"
     ]
    },
    {
     "name": "stdout",
     "output_type": "stream",
     "text": [
      "-------------------- Iteration --------------------\n",
      "Average Episodic Length: 200.0\n",
      "Average Episodic Return: -1420.69\n"
     ]
    },
    {
     "name": "stderr",
     "output_type": "stream",
     "text": [
      "\r",
      "  2%|█▉                                                                                | 7/300 [00:14<09:53,  2.03s/it]"
     ]
    },
    {
     "name": "stdout",
     "output_type": "stream",
     "text": [
      "-------------------- Iteration --------------------\n",
      "Average Episodic Length: 200.0\n",
      "Average Episodic Return: -1407.84\n",
      "Successfully save the model!\n"
     ]
    },
    {
     "name": "stderr",
     "output_type": "stream",
     "text": [
      "\r",
      "  3%|██▏                                                                               | 8/300 [00:16<09:38,  1.98s/it]"
     ]
    },
    {
     "name": "stdout",
     "output_type": "stream",
     "text": [
      "-------------------- Iteration --------------------\n",
      "Average Episodic Length: 200.0\n",
      "Average Episodic Return: -1401.07\n",
      "Successfully save the model!\n"
     ]
    },
    {
     "name": "stderr",
     "output_type": "stream",
     "text": [
      "\r",
      "  3%|██▍                                                                               | 9/300 [00:18<09:30,  1.96s/it]"
     ]
    },
    {
     "name": "stdout",
     "output_type": "stream",
     "text": [
      "-------------------- Iteration --------------------\n",
      "Average Episodic Length: 200.0\n",
      "Average Episodic Return: -1362.3\n",
      "Successfully save the model!\n"
     ]
    },
    {
     "name": "stderr",
     "output_type": "stream",
     "text": [
      "\r",
      "  3%|██▋                                                                              | 10/300 [00:20<09:47,  2.03s/it]"
     ]
    },
    {
     "name": "stdout",
     "output_type": "stream",
     "text": [
      "-------------------- Iteration --------------------\n",
      "Average Episodic Length: 200.0\n",
      "Average Episodic Return: -1375.06\n"
     ]
    },
    {
     "name": "stderr",
     "output_type": "stream",
     "text": [
      "\r",
      "  4%|██▉                                                                              | 11/300 [00:22<09:34,  1.99s/it]"
     ]
    },
    {
     "name": "stdout",
     "output_type": "stream",
     "text": [
      "-------------------- Iteration --------------------\n",
      "Average Episodic Length: 200.0\n",
      "Average Episodic Return: -1339.5\n",
      "Successfully save the model!\n"
     ]
    },
    {
     "name": "stderr",
     "output_type": "stream",
     "text": [
      "\r",
      "  4%|███▏                                                                             | 12/300 [00:24<09:28,  1.97s/it]"
     ]
    },
    {
     "name": "stdout",
     "output_type": "stream",
     "text": [
      "-------------------- Iteration --------------------\n",
      "Average Episodic Length: 200.0\n",
      "Average Episodic Return: -1193.61\n",
      "Successfully save the model!\n"
     ]
    },
    {
     "name": "stderr",
     "output_type": "stream",
     "text": [
      "\r",
      "  4%|███▌                                                                             | 13/300 [00:25<09:15,  1.94s/it]"
     ]
    },
    {
     "name": "stdout",
     "output_type": "stream",
     "text": [
      "-------------------- Iteration --------------------\n",
      "Average Episodic Length: 200.0\n",
      "Average Episodic Return: -1256.73\n"
     ]
    },
    {
     "name": "stderr",
     "output_type": "stream",
     "text": [
      "\r",
      "  5%|███▊                                                                             | 14/300 [00:27<09:08,  1.92s/it]"
     ]
    },
    {
     "name": "stdout",
     "output_type": "stream",
     "text": [
      "-------------------- Iteration --------------------\n",
      "Average Episodic Length: 200.0\n",
      "Average Episodic Return: -1232.79\n",
      "Successfully save the model!\n"
     ]
    },
    {
     "name": "stderr",
     "output_type": "stream",
     "text": [
      "\r",
      "  5%|████                                                                             | 15/300 [00:29<08:50,  1.86s/it]"
     ]
    },
    {
     "name": "stdout",
     "output_type": "stream",
     "text": [
      "-------------------- Iteration --------------------\n",
      "Average Episodic Length: 200.0\n",
      "Average Episodic Return: -1316.47\n"
     ]
    },
    {
     "name": "stderr",
     "output_type": "stream",
     "text": [
      "\r",
      "  5%|████▎                                                                            | 16/300 [00:31<08:50,  1.87s/it]"
     ]
    },
    {
     "name": "stdout",
     "output_type": "stream",
     "text": [
      "-------------------- Iteration --------------------\n",
      "Average Episodic Length: 200.0\n",
      "Average Episodic Return: -1252.63\n",
      "Successfully save the model!\n"
     ]
    },
    {
     "name": "stderr",
     "output_type": "stream",
     "text": [
      "\r",
      "  6%|████▌                                                                            | 17/300 [00:33<08:45,  1.86s/it]"
     ]
    },
    {
     "name": "stdout",
     "output_type": "stream",
     "text": [
      "-------------------- Iteration --------------------\n",
      "Average Episodic Length: 200.0\n",
      "Average Episodic Return: -1089.9\n",
      "Successfully save the model!\n"
     ]
    },
    {
     "name": "stderr",
     "output_type": "stream",
     "text": [
      "\r",
      "  6%|████▊                                                                            | 18/300 [00:35<08:49,  1.88s/it]"
     ]
    },
    {
     "name": "stdout",
     "output_type": "stream",
     "text": [
      "-------------------- Iteration --------------------\n",
      "Average Episodic Length: 200.0\n",
      "Average Episodic Return: -1398.54\n"
     ]
    },
    {
     "name": "stderr",
     "output_type": "stream",
     "text": [
      "\r",
      "  6%|█████▏                                                                           | 19/300 [00:37<08:46,  1.87s/it]"
     ]
    },
    {
     "name": "stdout",
     "output_type": "stream",
     "text": [
      "-------------------- Iteration --------------------\n",
      "Average Episodic Length: 200.0\n",
      "Average Episodic Return: -1339.97\n",
      "Successfully save the model!\n"
     ]
    },
    {
     "name": "stderr",
     "output_type": "stream",
     "text": [
      "\r",
      "  7%|█████▍                                                                           | 20/300 [00:38<08:33,  1.83s/it]"
     ]
    },
    {
     "name": "stdout",
     "output_type": "stream",
     "text": [
      "-------------------- Iteration --------------------\n",
      "Average Episodic Length: 200.0\n",
      "Average Episodic Return: -1310.73\n",
      "Successfully save the model!\n"
     ]
    },
    {
     "name": "stderr",
     "output_type": "stream",
     "text": [
      "\r",
      "  7%|█████▋                                                                           | 21/300 [00:40<08:32,  1.84s/it]"
     ]
    },
    {
     "name": "stdout",
     "output_type": "stream",
     "text": [
      "-------------------- Iteration --------------------\n",
      "Average Episodic Length: 200.0\n",
      "Average Episodic Return: -1379.09\n"
     ]
    },
    {
     "name": "stderr",
     "output_type": "stream",
     "text": [
      "\r",
      "  7%|█████▉                                                                           | 22/300 [00:42<08:36,  1.86s/it]"
     ]
    },
    {
     "name": "stdout",
     "output_type": "stream",
     "text": [
      "-------------------- Iteration --------------------\n",
      "Average Episodic Length: 200.0\n",
      "Average Episodic Return: -1419.28\n"
     ]
    },
    {
     "name": "stderr",
     "output_type": "stream",
     "text": [
      "\r",
      "  8%|██████▏                                                                          | 23/300 [00:44<08:35,  1.86s/it]"
     ]
    },
    {
     "name": "stdout",
     "output_type": "stream",
     "text": [
      "-------------------- Iteration --------------------\n",
      "Average Episodic Length: 200.0\n",
      "Average Episodic Return: -1348.92\n",
      "Successfully save the model!\n"
     ]
    },
    {
     "name": "stderr",
     "output_type": "stream",
     "text": [
      "\r",
      "  8%|██████▍                                                                          | 24/300 [00:46<08:28,  1.84s/it]"
     ]
    },
    {
     "name": "stdout",
     "output_type": "stream",
     "text": [
      "-------------------- Iteration --------------------\n",
      "Average Episodic Length: 200.0\n",
      "Average Episodic Return: -1438.16\n"
     ]
    },
    {
     "name": "stderr",
     "output_type": "stream",
     "text": [
      "\r",
      "  8%|██████▊                                                                          | 25/300 [00:47<08:24,  1.83s/it]"
     ]
    },
    {
     "name": "stdout",
     "output_type": "stream",
     "text": [
      "-------------------- Iteration --------------------\n",
      "Average Episodic Length: 200.0\n",
      "Average Episodic Return: -1341.75\n",
      "Successfully save the model!\n"
     ]
    },
    {
     "name": "stderr",
     "output_type": "stream",
     "text": [
      "\r",
      "  9%|███████                                                                          | 26/300 [00:49<08:17,  1.81s/it]"
     ]
    },
    {
     "name": "stdout",
     "output_type": "stream",
     "text": [
      "-------------------- Iteration --------------------\n",
      "Average Episodic Length: 200.0\n",
      "Average Episodic Return: -1127.26\n",
      "Successfully save the model!\n"
     ]
    },
    {
     "name": "stderr",
     "output_type": "stream",
     "text": [
      "\r",
      "  9%|███████▎                                                                         | 27/300 [00:51<08:18,  1.83s/it]"
     ]
    },
    {
     "name": "stdout",
     "output_type": "stream",
     "text": [
      "-------------------- Iteration --------------------\n",
      "Average Episodic Length: 200.0\n",
      "Average Episodic Return: -1194.71\n"
     ]
    },
    {
     "name": "stderr",
     "output_type": "stream",
     "text": [
      "\r",
      "  9%|███████▌                                                                         | 28/300 [00:53<08:14,  1.82s/it]"
     ]
    },
    {
     "name": "stdout",
     "output_type": "stream",
     "text": [
      "-------------------- Iteration --------------------\n",
      "Average Episodic Length: 200.0\n",
      "Average Episodic Return: -1230.78\n"
     ]
    },
    {
     "name": "stderr",
     "output_type": "stream",
     "text": [
      "\r",
      " 10%|███████▊                                                                         | 29/300 [00:55<08:13,  1.82s/it]"
     ]
    },
    {
     "name": "stdout",
     "output_type": "stream",
     "text": [
      "-------------------- Iteration --------------------\n",
      "Average Episodic Length: 200.0\n",
      "Average Episodic Return: -1263.93\n"
     ]
    },
    {
     "name": "stderr",
     "output_type": "stream",
     "text": [
      "\r",
      " 10%|████████                                                                         | 30/300 [00:57<08:11,  1.82s/it]"
     ]
    },
    {
     "name": "stdout",
     "output_type": "stream",
     "text": [
      "-------------------- Iteration --------------------\n",
      "Average Episodic Length: 200.0\n",
      "Average Episodic Return: -1151.74\n",
      "Successfully save the model!\n"
     ]
    },
    {
     "name": "stderr",
     "output_type": "stream",
     "text": [
      "\r",
      " 10%|████████▎                                                                        | 31/300 [00:58<08:08,  1.81s/it]"
     ]
    },
    {
     "name": "stdout",
     "output_type": "stream",
     "text": [
      "-------------------- Iteration --------------------\n",
      "Average Episodic Length: 200.0\n",
      "Average Episodic Return: -1164.15\n"
     ]
    },
    {
     "name": "stderr",
     "output_type": "stream",
     "text": [
      "\r",
      " 11%|████████▋                                                                        | 32/300 [01:00<08:07,  1.82s/it]"
     ]
    },
    {
     "name": "stdout",
     "output_type": "stream",
     "text": [
      "-------------------- Iteration --------------------\n",
      "Average Episodic Length: 200.0\n",
      "Average Episodic Return: -1223.95\n"
     ]
    },
    {
     "name": "stderr",
     "output_type": "stream",
     "text": [
      "\r",
      " 11%|████████▉                                                                        | 33/300 [01:02<08:04,  1.81s/it]"
     ]
    },
    {
     "name": "stdout",
     "output_type": "stream",
     "text": [
      "-------------------- Iteration --------------------\n",
      "Average Episodic Length: 200.0\n",
      "Average Episodic Return: -1284.07\n"
     ]
    },
    {
     "name": "stderr",
     "output_type": "stream",
     "text": [
      "\r",
      " 11%|█████████▏                                                                       | 34/300 [01:04<08:02,  1.82s/it]"
     ]
    },
    {
     "name": "stdout",
     "output_type": "stream",
     "text": [
      "-------------------- Iteration --------------------\n",
      "Average Episodic Length: 200.0\n",
      "Average Episodic Return: -1023.93\n",
      "Successfully save the model!\n"
     ]
    },
    {
     "name": "stderr",
     "output_type": "stream",
     "text": [
      "\r",
      " 12%|█████████▍                                                                       | 35/300 [01:06<08:03,  1.83s/it]"
     ]
    },
    {
     "name": "stdout",
     "output_type": "stream",
     "text": [
      "-------------------- Iteration --------------------\n",
      "Average Episodic Length: 200.0\n",
      "Average Episodic Return: -1039.9\n"
     ]
    },
    {
     "name": "stderr",
     "output_type": "stream",
     "text": [
      "\r",
      " 12%|█████████▋                                                                       | 36/300 [01:07<07:59,  1.82s/it]"
     ]
    },
    {
     "name": "stdout",
     "output_type": "stream",
     "text": [
      "-------------------- Iteration --------------------\n",
      "Average Episodic Length: 200.0\n",
      "Average Episodic Return: -1132.81\n"
     ]
    },
    {
     "name": "stderr",
     "output_type": "stream",
     "text": [
      "\r",
      " 12%|█████████▉                                                                       | 37/300 [01:09<07:57,  1.82s/it]"
     ]
    },
    {
     "name": "stdout",
     "output_type": "stream",
     "text": [
      "-------------------- Iteration --------------------\n",
      "Average Episodic Length: 200.0\n",
      "Average Episodic Return: -1008.99\n",
      "Successfully save the model!\n"
     ]
    },
    {
     "name": "stderr",
     "output_type": "stream",
     "text": [
      "\r",
      " 13%|██████████▎                                                                      | 38/300 [01:11<07:57,  1.82s/it]"
     ]
    },
    {
     "name": "stdout",
     "output_type": "stream",
     "text": [
      "-------------------- Iteration --------------------\n",
      "Average Episodic Length: 200.0\n",
      "Average Episodic Return: -986.76\n",
      "Successfully save the model!\n"
     ]
    },
    {
     "name": "stderr",
     "output_type": "stream",
     "text": [
      "\r",
      " 13%|██████████▌                                                                      | 39/300 [01:13<07:56,  1.83s/it]"
     ]
    },
    {
     "name": "stdout",
     "output_type": "stream",
     "text": [
      "-------------------- Iteration --------------------\n",
      "Average Episodic Length: 200.0\n",
      "Average Episodic Return: -1210.99\n"
     ]
    },
    {
     "name": "stderr",
     "output_type": "stream",
     "text": [
      "\r",
      " 13%|██████████▊                                                                      | 40/300 [01:15<07:54,  1.82s/it]"
     ]
    },
    {
     "name": "stdout",
     "output_type": "stream",
     "text": [
      "-------------------- Iteration --------------------\n",
      "Average Episodic Length: 200.0\n",
      "Average Episodic Return: -1096.11\n",
      "Successfully save the model!\n"
     ]
    },
    {
     "name": "stderr",
     "output_type": "stream",
     "text": [
      "\r",
      " 14%|███████████                                                                      | 41/300 [01:17<07:53,  1.83s/it]"
     ]
    },
    {
     "name": "stdout",
     "output_type": "stream",
     "text": [
      "-------------------- Iteration --------------------\n",
      "Average Episodic Length: 200.0\n",
      "Average Episodic Return: -1092.6\n",
      "Successfully save the model!\n"
     ]
    },
    {
     "name": "stderr",
     "output_type": "stream",
     "text": [
      "\r",
      " 14%|███████████▎                                                                     | 42/300 [01:18<07:50,  1.82s/it]"
     ]
    },
    {
     "name": "stdout",
     "output_type": "stream",
     "text": [
      "-------------------- Iteration --------------------\n",
      "Average Episodic Length: 200.0\n",
      "Average Episodic Return: -1016.35\n",
      "Successfully save the model!\n"
     ]
    },
    {
     "name": "stderr",
     "output_type": "stream",
     "text": [
      "\r",
      " 14%|███████████▌                                                                     | 43/300 [01:20<07:39,  1.79s/it]"
     ]
    },
    {
     "name": "stdout",
     "output_type": "stream",
     "text": [
      "-------------------- Iteration --------------------\n",
      "Average Episodic Length: 200.0\n",
      "Average Episodic Return: -990.58\n",
      "Successfully save the model!\n"
     ]
    },
    {
     "name": "stderr",
     "output_type": "stream",
     "text": [
      "\r",
      " 15%|███████████▉                                                                     | 44/300 [01:22<07:45,  1.82s/it]"
     ]
    },
    {
     "name": "stdout",
     "output_type": "stream",
     "text": [
      "-------------------- Iteration --------------------\n",
      "Average Episodic Length: 200.0\n",
      "Average Episodic Return: -1106.53\n"
     ]
    },
    {
     "name": "stderr",
     "output_type": "stream",
     "text": [
      "\r",
      " 15%|████████████▏                                                                    | 45/300 [01:24<07:41,  1.81s/it]"
     ]
    },
    {
     "name": "stdout",
     "output_type": "stream",
     "text": [
      "-------------------- Iteration --------------------\n",
      "Average Episodic Length: 200.0\n",
      "Average Episodic Return: -1006.58\n",
      "Successfully save the model!\n"
     ]
    },
    {
     "name": "stderr",
     "output_type": "stream",
     "text": [
      "\r",
      " 15%|████████████▍                                                                    | 46/300 [01:26<07:42,  1.82s/it]"
     ]
    },
    {
     "name": "stdout",
     "output_type": "stream",
     "text": [
      "-------------------- Iteration --------------------\n",
      "Average Episodic Length: 200.0\n",
      "Average Episodic Return: -1084.1\n"
     ]
    },
    {
     "name": "stderr",
     "output_type": "stream",
     "text": [
      "\r",
      " 16%|████████████▋                                                                    | 47/300 [01:27<07:43,  1.83s/it]"
     ]
    },
    {
     "name": "stdout",
     "output_type": "stream",
     "text": [
      "-------------------- Iteration --------------------\n",
      "Average Episodic Length: 200.0\n",
      "Average Episodic Return: -997.05\n",
      "Successfully save the model!\n"
     ]
    },
    {
     "name": "stderr",
     "output_type": "stream",
     "text": [
      "\r",
      " 16%|████████████▉                                                                    | 48/300 [01:29<07:42,  1.84s/it]"
     ]
    },
    {
     "name": "stdout",
     "output_type": "stream",
     "text": [
      "-------------------- Iteration --------------------\n",
      "Average Episodic Length: 200.0\n",
      "Average Episodic Return: -995.03\n",
      "Successfully save the model!\n"
     ]
    },
    {
     "name": "stderr",
     "output_type": "stream",
     "text": [
      "\r",
      " 16%|█████████████▏                                                                   | 49/300 [01:31<07:37,  1.82s/it]"
     ]
    },
    {
     "name": "stdout",
     "output_type": "stream",
     "text": [
      "-------------------- Iteration --------------------\n",
      "Average Episodic Length: 200.0\n",
      "Average Episodic Return: -1095.97\n"
     ]
    },
    {
     "name": "stderr",
     "output_type": "stream",
     "text": [
      "\r",
      " 17%|█████████████▌                                                                   | 50/300 [01:33<07:32,  1.81s/it]"
     ]
    },
    {
     "name": "stdout",
     "output_type": "stream",
     "text": [
      "-------------------- Iteration --------------------\n",
      "Average Episodic Length: 200.0\n",
      "Average Episodic Return: -1041.66\n",
      "Successfully save the model!\n"
     ]
    },
    {
     "name": "stderr",
     "output_type": "stream",
     "text": [
      "\r",
      " 17%|█████████████▊                                                                   | 51/300 [01:35<07:29,  1.81s/it]"
     ]
    },
    {
     "name": "stdout",
     "output_type": "stream",
     "text": [
      "-------------------- Iteration --------------------\n",
      "Average Episodic Length: 200.0\n",
      "Average Episodic Return: -976.31\n",
      "Successfully save the model!\n"
     ]
    },
    {
     "name": "stderr",
     "output_type": "stream",
     "text": [
      "\r",
      " 17%|██████████████                                                                   | 52/300 [01:37<07:53,  1.91s/it]"
     ]
    },
    {
     "name": "stdout",
     "output_type": "stream",
     "text": [
      "-------------------- Iteration --------------------\n",
      "Average Episodic Length: 200.0\n",
      "Average Episodic Return: -956.7\n",
      "Successfully save the model!\n"
     ]
    },
    {
     "name": "stderr",
     "output_type": "stream",
     "text": [
      "\r",
      " 18%|██████████████▎                                                                  | 53/300 [01:39<08:02,  1.95s/it]"
     ]
    },
    {
     "name": "stdout",
     "output_type": "stream",
     "text": [
      "-------------------- Iteration --------------------\n",
      "Average Episodic Length: 200.0\n",
      "Average Episodic Return: -997.36\n"
     ]
    },
    {
     "name": "stderr",
     "output_type": "stream",
     "text": [
      "\r",
      " 18%|██████████████▌                                                                  | 54/300 [01:41<07:45,  1.89s/it]"
     ]
    },
    {
     "name": "stdout",
     "output_type": "stream",
     "text": [
      "-------------------- Iteration --------------------\n",
      "Average Episodic Length: 200.0\n",
      "Average Episodic Return: -1024.29\n"
     ]
    },
    {
     "name": "stderr",
     "output_type": "stream",
     "text": [
      "\r",
      " 18%|██████████████▊                                                                  | 55/300 [01:42<07:37,  1.87s/it]"
     ]
    },
    {
     "name": "stdout",
     "output_type": "stream",
     "text": [
      "-------------------- Iteration --------------------\n",
      "Average Episodic Length: 200.0\n",
      "Average Episodic Return: -948.61\n",
      "Successfully save the model!\n"
     ]
    },
    {
     "name": "stderr",
     "output_type": "stream",
     "text": [
      "\r",
      " 19%|███████████████                                                                  | 56/300 [01:44<07:28,  1.84s/it]"
     ]
    },
    {
     "name": "stdout",
     "output_type": "stream",
     "text": [
      "-------------------- Iteration --------------------\n",
      "Average Episodic Length: 200.0\n",
      "Average Episodic Return: -915.41\n",
      "Successfully save the model!\n"
     ]
    },
    {
     "name": "stderr",
     "output_type": "stream",
     "text": [
      "\r",
      " 19%|███████████████▍                                                                 | 57/300 [01:46<07:26,  1.84s/it]"
     ]
    },
    {
     "name": "stdout",
     "output_type": "stream",
     "text": [
      "-------------------- Iteration --------------------\n",
      "Average Episodic Length: 200.0\n",
      "Average Episodic Return: -845.79\n",
      "Successfully save the model!\n"
     ]
    },
    {
     "name": "stderr",
     "output_type": "stream",
     "text": [
      "\r",
      " 19%|███████████████▋                                                                 | 58/300 [01:48<07:24,  1.84s/it]"
     ]
    },
    {
     "name": "stdout",
     "output_type": "stream",
     "text": [
      "-------------------- Iteration --------------------\n",
      "Average Episodic Length: 200.0\n",
      "Average Episodic Return: -946.11\n"
     ]
    },
    {
     "name": "stderr",
     "output_type": "stream",
     "text": [
      "\r",
      " 20%|███████████████▉                                                                 | 59/300 [01:50<07:22,  1.84s/it]"
     ]
    },
    {
     "name": "stdout",
     "output_type": "stream",
     "text": [
      "-------------------- Iteration --------------------\n",
      "Average Episodic Length: 200.0\n",
      "Average Episodic Return: -836.5\n",
      "Successfully save the model!\n"
     ]
    },
    {
     "name": "stderr",
     "output_type": "stream",
     "text": [
      "\r",
      " 20%|████████████████▏                                                                | 60/300 [01:52<07:21,  1.84s/it]"
     ]
    },
    {
     "name": "stdout",
     "output_type": "stream",
     "text": [
      "-------------------- Iteration --------------------\n",
      "Average Episodic Length: 200.0\n",
      "Average Episodic Return: -881.69\n"
     ]
    },
    {
     "name": "stderr",
     "output_type": "stream",
     "text": [
      "\r",
      " 20%|████████████████▍                                                                | 61/300 [01:53<07:03,  1.77s/it]"
     ]
    },
    {
     "name": "stdout",
     "output_type": "stream",
     "text": [
      "-------------------- Iteration --------------------\n",
      "Average Episodic Length: 200.0\n",
      "Average Episodic Return: -863.59\n",
      "Successfully save the model!\n"
     ]
    },
    {
     "name": "stderr",
     "output_type": "stream",
     "text": [
      "\r",
      " 21%|████████████████▋                                                                | 62/300 [01:55<07:01,  1.77s/it]"
     ]
    },
    {
     "name": "stdout",
     "output_type": "stream",
     "text": [
      "-------------------- Iteration --------------------\n",
      "Average Episodic Length: 200.0\n",
      "Average Episodic Return: -932.93\n"
     ]
    },
    {
     "name": "stderr",
     "output_type": "stream",
     "text": [
      "\r",
      " 21%|█████████████████                                                                | 63/300 [01:57<07:00,  1.77s/it]"
     ]
    },
    {
     "name": "stdout",
     "output_type": "stream",
     "text": [
      "-------------------- Iteration --------------------\n",
      "Average Episodic Length: 200.0\n",
      "Average Episodic Return: -918.12\n",
      "Successfully save the model!\n"
     ]
    },
    {
     "name": "stderr",
     "output_type": "stream",
     "text": [
      "\r",
      " 21%|█████████████████▎                                                               | 64/300 [01:59<07:00,  1.78s/it]"
     ]
    },
    {
     "name": "stdout",
     "output_type": "stream",
     "text": [
      "-------------------- Iteration --------------------\n",
      "Average Episodic Length: 200.0\n",
      "Average Episodic Return: -940.46\n"
     ]
    },
    {
     "name": "stderr",
     "output_type": "stream",
     "text": [
      "\r",
      " 22%|█████████████████▌                                                               | 65/300 [02:00<06:57,  1.78s/it]"
     ]
    },
    {
     "name": "stdout",
     "output_type": "stream",
     "text": [
      "-------------------- Iteration --------------------\n",
      "Average Episodic Length: 200.0\n",
      "Average Episodic Return: -940.37\n",
      "Successfully save the model!\n"
     ]
    },
    {
     "name": "stderr",
     "output_type": "stream",
     "text": [
      "\r",
      " 22%|█████████████████▊                                                               | 66/300 [02:02<07:00,  1.80s/it]"
     ]
    },
    {
     "name": "stdout",
     "output_type": "stream",
     "text": [
      "-------------------- Iteration --------------------\n",
      "Average Episodic Length: 200.0\n",
      "Average Episodic Return: -943.79\n"
     ]
    },
    {
     "name": "stderr",
     "output_type": "stream",
     "text": [
      "\r",
      " 22%|██████████████████                                                               | 67/300 [02:04<06:59,  1.80s/it]"
     ]
    },
    {
     "name": "stdout",
     "output_type": "stream",
     "text": [
      "-------------------- Iteration --------------------\n",
      "Average Episodic Length: 200.0\n",
      "Average Episodic Return: -895.88\n",
      "Successfully save the model!\n"
     ]
    },
    {
     "name": "stderr",
     "output_type": "stream",
     "text": [
      "\r",
      " 23%|██████████████████▎                                                              | 68/300 [02:06<07:01,  1.82s/it]"
     ]
    },
    {
     "name": "stdout",
     "output_type": "stream",
     "text": [
      "-------------------- Iteration --------------------\n",
      "Average Episodic Length: 200.0\n",
      "Average Episodic Return: -891.07\n",
      "Successfully save the model!\n"
     ]
    },
    {
     "name": "stderr",
     "output_type": "stream",
     "text": [
      "\r",
      " 23%|██████████████████▋                                                              | 69/300 [02:08<07:12,  1.87s/it]"
     ]
    },
    {
     "name": "stdout",
     "output_type": "stream",
     "text": [
      "-------------------- Iteration --------------------\n",
      "Average Episodic Length: 200.0\n",
      "Average Episodic Return: -950.28\n"
     ]
    },
    {
     "name": "stderr",
     "output_type": "stream",
     "text": [
      "\r",
      " 23%|██████████████████▉                                                              | 70/300 [02:10<07:05,  1.85s/it]"
     ]
    },
    {
     "name": "stdout",
     "output_type": "stream",
     "text": [
      "-------------------- Iteration --------------------\n",
      "Average Episodic Length: 200.0\n",
      "Average Episodic Return: -851.93\n",
      "Successfully save the model!\n"
     ]
    },
    {
     "name": "stderr",
     "output_type": "stream",
     "text": [
      "\r",
      " 24%|███████████████████▏                                                             | 71/300 [02:11<07:01,  1.84s/it]"
     ]
    },
    {
     "name": "stdout",
     "output_type": "stream",
     "text": [
      "-------------------- Iteration --------------------\n",
      "Average Episodic Length: 200.0\n",
      "Average Episodic Return: -862.43\n"
     ]
    },
    {
     "name": "stderr",
     "output_type": "stream",
     "text": [
      "\r",
      " 24%|███████████████████▍                                                             | 72/300 [02:13<06:44,  1.78s/it]"
     ]
    },
    {
     "name": "stdout",
     "output_type": "stream",
     "text": [
      "-------------------- Iteration --------------------\n",
      "Average Episodic Length: 200.0\n",
      "Average Episodic Return: -901.81\n"
     ]
    },
    {
     "name": "stderr",
     "output_type": "stream",
     "text": [
      "\r",
      " 24%|███████████████████▋                                                             | 73/300 [02:15<06:41,  1.77s/it]"
     ]
    },
    {
     "name": "stdout",
     "output_type": "stream",
     "text": [
      "-------------------- Iteration --------------------\n",
      "Average Episodic Length: 200.0\n",
      "Average Episodic Return: -907.38\n"
     ]
    },
    {
     "name": "stderr",
     "output_type": "stream",
     "text": [
      "\r",
      " 25%|███████████████████▉                                                             | 74/300 [02:17<06:40,  1.77s/it]"
     ]
    },
    {
     "name": "stdout",
     "output_type": "stream",
     "text": [
      "-------------------- Iteration --------------------\n",
      "Average Episodic Length: 200.0\n",
      "Average Episodic Return: -920.31\n"
     ]
    },
    {
     "name": "stderr",
     "output_type": "stream",
     "text": [
      "\r",
      " 25%|████████████████████▎                                                            | 75/300 [02:18<06:41,  1.78s/it]"
     ]
    },
    {
     "name": "stdout",
     "output_type": "stream",
     "text": [
      "-------------------- Iteration --------------------\n",
      "Average Episodic Length: 200.0\n",
      "Average Episodic Return: -869.15\n",
      "Successfully save the model!\n"
     ]
    },
    {
     "name": "stderr",
     "output_type": "stream",
     "text": [
      "\r",
      " 25%|████████████████████▌                                                            | 76/300 [02:20<06:41,  1.79s/it]"
     ]
    },
    {
     "name": "stdout",
     "output_type": "stream",
     "text": [
      "-------------------- Iteration --------------------\n",
      "Average Episodic Length: 200.0\n",
      "Average Episodic Return: -860.99\n",
      "Successfully save the model!\n"
     ]
    },
    {
     "name": "stderr",
     "output_type": "stream",
     "text": [
      "\r",
      " 26%|████████████████████▊                                                            | 77/300 [02:22<06:42,  1.80s/it]"
     ]
    },
    {
     "name": "stdout",
     "output_type": "stream",
     "text": [
      "-------------------- Iteration --------------------\n",
      "Average Episodic Length: 200.0\n",
      "Average Episodic Return: -904.24\n"
     ]
    },
    {
     "name": "stderr",
     "output_type": "stream",
     "text": [
      "\r",
      " 26%|█████████████████████                                                            | 78/300 [02:24<06:41,  1.81s/it]"
     ]
    },
    {
     "name": "stdout",
     "output_type": "stream",
     "text": [
      "-------------------- Iteration --------------------\n",
      "Average Episodic Length: 200.0\n",
      "Average Episodic Return: -813.36\n",
      "Successfully save the model!\n"
     ]
    },
    {
     "name": "stderr",
     "output_type": "stream",
     "text": [
      "\r",
      " 26%|█████████████████████▎                                                           | 79/300 [02:26<06:36,  1.80s/it]"
     ]
    },
    {
     "name": "stdout",
     "output_type": "stream",
     "text": [
      "-------------------- Iteration --------------------\n",
      "Average Episodic Length: 200.0\n",
      "Average Episodic Return: -852.25\n"
     ]
    },
    {
     "name": "stderr",
     "output_type": "stream",
     "text": [
      "\r",
      " 27%|█████████████████████▌                                                           | 80/300 [02:27<06:35,  1.80s/it]"
     ]
    },
    {
     "name": "stdout",
     "output_type": "stream",
     "text": [
      "-------------------- Iteration --------------------\n",
      "Average Episodic Length: 200.0\n",
      "Average Episodic Return: -878.34\n"
     ]
    },
    {
     "name": "stderr",
     "output_type": "stream",
     "text": [
      "\r",
      " 27%|█████████████████████▊                                                           | 81/300 [02:29<06:36,  1.81s/it]"
     ]
    },
    {
     "name": "stdout",
     "output_type": "stream",
     "text": [
      "-------------------- Iteration --------------------\n",
      "Average Episodic Length: 200.0\n",
      "Average Episodic Return: -825.99\n",
      "Successfully save the model!\n"
     ]
    },
    {
     "name": "stderr",
     "output_type": "stream",
     "text": [
      "\r",
      " 27%|██████████████████████▏                                                          | 82/300 [02:31<06:54,  1.90s/it]"
     ]
    },
    {
     "name": "stdout",
     "output_type": "stream",
     "text": [
      "-------------------- Iteration --------------------\n",
      "Average Episodic Length: 200.0\n",
      "Average Episodic Return: -856.43\n"
     ]
    },
    {
     "name": "stderr",
     "output_type": "stream",
     "text": [
      "\r",
      " 28%|██████████████████████▍                                                          | 83/300 [02:33<06:54,  1.91s/it]"
     ]
    },
    {
     "name": "stdout",
     "output_type": "stream",
     "text": [
      "-------------------- Iteration --------------------\n",
      "Average Episodic Length: 200.0\n",
      "Average Episodic Return: -800.19\n",
      "Successfully save the model!\n"
     ]
    },
    {
     "name": "stderr",
     "output_type": "stream",
     "text": [
      "\r",
      " 28%|██████████████████████▋                                                          | 84/300 [02:35<06:39,  1.85s/it]"
     ]
    },
    {
     "name": "stdout",
     "output_type": "stream",
     "text": [
      "-------------------- Iteration --------------------\n",
      "Average Episodic Length: 200.0\n",
      "Average Episodic Return: -903.46\n"
     ]
    },
    {
     "name": "stderr",
     "output_type": "stream",
     "text": [
      "\r",
      " 28%|██████████████████████▉                                                          | 85/300 [02:37<06:54,  1.93s/it]"
     ]
    },
    {
     "name": "stdout",
     "output_type": "stream",
     "text": [
      "-------------------- Iteration --------------------\n",
      "Average Episodic Length: 200.0\n",
      "Average Episodic Return: -898.18\n",
      "Successfully save the model!\n"
     ]
    },
    {
     "name": "stderr",
     "output_type": "stream",
     "text": [
      "\r",
      " 29%|███████████████████████▏                                                         | 86/300 [02:39<07:08,  2.00s/it]"
     ]
    },
    {
     "name": "stdout",
     "output_type": "stream",
     "text": [
      "-------------------- Iteration --------------------\n",
      "Average Episodic Length: 200.0\n",
      "Average Episodic Return: -807.83\n",
      "Successfully save the model!\n"
     ]
    },
    {
     "name": "stderr",
     "output_type": "stream",
     "text": [
      "\r",
      " 29%|███████████████████████▍                                                         | 87/300 [02:42<07:20,  2.07s/it]"
     ]
    },
    {
     "name": "stdout",
     "output_type": "stream",
     "text": [
      "-------------------- Iteration --------------------\n",
      "Average Episodic Length: 200.0\n",
      "Average Episodic Return: -852.56\n"
     ]
    },
    {
     "name": "stderr",
     "output_type": "stream",
     "text": [
      "\r",
      " 29%|███████████████████████▊                                                         | 88/300 [02:44<07:25,  2.10s/it]"
     ]
    },
    {
     "name": "stdout",
     "output_type": "stream",
     "text": [
      "-------------------- Iteration --------------------\n",
      "Average Episodic Length: 200.0\n",
      "Average Episodic Return: -789.79\n",
      "Successfully save the model!\n"
     ]
    },
    {
     "name": "stderr",
     "output_type": "stream",
     "text": [
      "\r",
      " 30%|████████████████████████                                                         | 89/300 [02:46<07:35,  2.16s/it]"
     ]
    },
    {
     "name": "stdout",
     "output_type": "stream",
     "text": [
      "-------------------- Iteration --------------------\n",
      "Average Episodic Length: 200.0\n",
      "Average Episodic Return: -773.46\n",
      "Successfully save the model!\n"
     ]
    },
    {
     "name": "stderr",
     "output_type": "stream",
     "text": [
      "\r",
      " 30%|████████████████████████▎                                                        | 90/300 [02:48<07:42,  2.20s/it]"
     ]
    },
    {
     "name": "stdout",
     "output_type": "stream",
     "text": [
      "-------------------- Iteration --------------------\n",
      "Average Episodic Length: 200.0\n",
      "Average Episodic Return: -837.78\n"
     ]
    },
    {
     "name": "stderr",
     "output_type": "stream",
     "text": [
      "\r",
      " 30%|████████████████████████▌                                                        | 91/300 [02:50<07:17,  2.09s/it]"
     ]
    },
    {
     "name": "stdout",
     "output_type": "stream",
     "text": [
      "-------------------- Iteration --------------------\n",
      "Average Episodic Length: 200.0\n",
      "Average Episodic Return: -794.63\n",
      "Successfully save the model!\n"
     ]
    },
    {
     "name": "stderr",
     "output_type": "stream",
     "text": [
      "\r",
      " 31%|████████████████████████▊                                                        | 92/300 [02:52<06:58,  2.01s/it]"
     ]
    },
    {
     "name": "stdout",
     "output_type": "stream",
     "text": [
      "-------------------- Iteration --------------------\n",
      "Average Episodic Length: 200.0\n",
      "Average Episodic Return: -862.83\n"
     ]
    },
    {
     "name": "stderr",
     "output_type": "stream",
     "text": [
      "\r",
      " 31%|█████████████████████████                                                        | 93/300 [02:54<06:44,  1.95s/it]"
     ]
    },
    {
     "name": "stdout",
     "output_type": "stream",
     "text": [
      "-------------------- Iteration --------------------\n",
      "Average Episodic Length: 200.0\n",
      "Average Episodic Return: -826.08\n",
      "Successfully save the model!\n"
     ]
    },
    {
     "name": "stderr",
     "output_type": "stream",
     "text": [
      "\r",
      " 31%|█████████████████████████▍                                                       | 94/300 [02:56<06:35,  1.92s/it]"
     ]
    },
    {
     "name": "stdout",
     "output_type": "stream",
     "text": [
      "-------------------- Iteration --------------------\n",
      "Average Episodic Length: 200.0\n",
      "Average Episodic Return: -765.33\n",
      "Successfully save the model!\n"
     ]
    },
    {
     "name": "stderr",
     "output_type": "stream",
     "text": [
      "\r",
      " 32%|█████████████████████████▋                                                       | 95/300 [02:58<07:03,  2.07s/it]"
     ]
    },
    {
     "name": "stdout",
     "output_type": "stream",
     "text": [
      "-------------------- Iteration --------------------\n",
      "Average Episodic Length: 200.0\n",
      "Average Episodic Return: -780.63\n"
     ]
    },
    {
     "name": "stderr",
     "output_type": "stream",
     "text": [
      "\r",
      " 32%|█████████████████████████▉                                                       | 96/300 [03:00<07:05,  2.09s/it]"
     ]
    },
    {
     "name": "stdout",
     "output_type": "stream",
     "text": [
      "-------------------- Iteration --------------------\n",
      "Average Episodic Length: 200.0\n",
      "Average Episodic Return: -828.56\n"
     ]
    },
    {
     "name": "stderr",
     "output_type": "stream",
     "text": [
      "\r",
      " 32%|██████████████████████████▏                                                      | 97/300 [03:02<07:00,  2.07s/it]"
     ]
    },
    {
     "name": "stdout",
     "output_type": "stream",
     "text": [
      "-------------------- Iteration --------------------\n",
      "Average Episodic Length: 200.0\n",
      "Average Episodic Return: -846.36\n"
     ]
    },
    {
     "name": "stderr",
     "output_type": "stream",
     "text": [
      "\r",
      " 33%|██████████████████████████▍                                                      | 98/300 [03:04<06:41,  1.99s/it]"
     ]
    },
    {
     "name": "stdout",
     "output_type": "stream",
     "text": [
      "-------------------- Iteration --------------------\n",
      "Average Episodic Length: 200.0\n",
      "Average Episodic Return: -705.07\n",
      "Successfully save the model!\n"
     ]
    },
    {
     "name": "stderr",
     "output_type": "stream",
     "text": [
      "\r",
      " 33%|██████████████████████████▋                                                      | 99/300 [03:06<06:44,  2.01s/it]"
     ]
    },
    {
     "name": "stdout",
     "output_type": "stream",
     "text": [
      "-------------------- Iteration --------------------\n",
      "Average Episodic Length: 200.0\n",
      "Average Episodic Return: -726.57\n"
     ]
    },
    {
     "name": "stderr",
     "output_type": "stream",
     "text": [
      "\r",
      " 33%|██████████████████████████▋                                                     | 100/300 [03:08<06:49,  2.05s/it]"
     ]
    },
    {
     "name": "stdout",
     "output_type": "stream",
     "text": [
      "-------------------- Iteration --------------------\n",
      "Average Episodic Length: 200.0\n",
      "Average Episodic Return: -743.29\n"
     ]
    },
    {
     "name": "stderr",
     "output_type": "stream",
     "text": [
      "\r",
      " 34%|██████████████████████████▉                                                     | 101/300 [03:10<06:33,  1.98s/it]"
     ]
    },
    {
     "name": "stdout",
     "output_type": "stream",
     "text": [
      "-------------------- Iteration --------------------\n",
      "Average Episodic Length: 200.0\n",
      "Average Episodic Return: -776.44\n"
     ]
    },
    {
     "name": "stderr",
     "output_type": "stream",
     "text": [
      "\r",
      " 34%|███████████████████████████▏                                                    | 102/300 [03:12<06:22,  1.93s/it]"
     ]
    },
    {
     "name": "stdout",
     "output_type": "stream",
     "text": [
      "-------------------- Iteration --------------------\n",
      "Average Episodic Length: 200.0\n",
      "Average Episodic Return: -822.78\n"
     ]
    },
    {
     "name": "stderr",
     "output_type": "stream",
     "text": [
      "\r",
      " 34%|███████████████████████████▍                                                    | 103/300 [03:14<06:12,  1.89s/it]"
     ]
    },
    {
     "name": "stdout",
     "output_type": "stream",
     "text": [
      "-------------------- Iteration --------------------\n",
      "Average Episodic Length: 200.0\n",
      "Average Episodic Return: -748.03\n",
      "Successfully save the model!\n"
     ]
    },
    {
     "name": "stderr",
     "output_type": "stream",
     "text": [
      "\r",
      " 35%|███████████████████████████▋                                                    | 104/300 [03:15<05:55,  1.81s/it]"
     ]
    },
    {
     "name": "stdout",
     "output_type": "stream",
     "text": [
      "-------------------- Iteration --------------------\n",
      "Average Episodic Length: 200.0\n",
      "Average Episodic Return: -730.95\n",
      "Successfully save the model!\n"
     ]
    },
    {
     "name": "stderr",
     "output_type": "stream",
     "text": [
      "\r",
      " 35%|████████████████████████████                                                    | 105/300 [03:17<05:51,  1.80s/it]"
     ]
    },
    {
     "name": "stdout",
     "output_type": "stream",
     "text": [
      "-------------------- Iteration --------------------\n",
      "Average Episodic Length: 200.0\n",
      "Average Episodic Return: -767.23\n"
     ]
    },
    {
     "name": "stderr",
     "output_type": "stream",
     "text": [
      "\r",
      " 35%|████████████████████████████▎                                                   | 106/300 [03:19<05:51,  1.81s/it]"
     ]
    },
    {
     "name": "stdout",
     "output_type": "stream",
     "text": [
      "-------------------- Iteration --------------------\n",
      "Average Episodic Length: 200.0\n",
      "Average Episodic Return: -664.87\n",
      "Successfully save the model!\n"
     ]
    },
    {
     "name": "stderr",
     "output_type": "stream",
     "text": [
      "\r",
      " 36%|████████████████████████████▌                                                   | 107/300 [03:21<05:48,  1.80s/it]"
     ]
    },
    {
     "name": "stdout",
     "output_type": "stream",
     "text": [
      "-------------------- Iteration --------------------\n",
      "Average Episodic Length: 200.0\n",
      "Average Episodic Return: -693.89\n"
     ]
    },
    {
     "name": "stderr",
     "output_type": "stream",
     "text": [
      "\r",
      " 36%|████████████████████████████▊                                                   | 108/300 [03:23<05:47,  1.81s/it]"
     ]
    },
    {
     "name": "stdout",
     "output_type": "stream",
     "text": [
      "-------------------- Iteration --------------------\n",
      "Average Episodic Length: 200.0\n",
      "Average Episodic Return: -698.72\n"
     ]
    },
    {
     "name": "stderr",
     "output_type": "stream",
     "text": [
      "\r",
      " 36%|█████████████████████████████                                                   | 109/300 [03:24<05:34,  1.75s/it]"
     ]
    },
    {
     "name": "stdout",
     "output_type": "stream",
     "text": [
      "-------------------- Iteration --------------------\n",
      "Average Episodic Length: 200.0\n",
      "Average Episodic Return: -693.18\n",
      "Successfully save the model!\n"
     ]
    },
    {
     "name": "stderr",
     "output_type": "stream",
     "text": [
      "\r",
      " 37%|█████████████████████████████▎                                                  | 110/300 [03:26<05:34,  1.76s/it]"
     ]
    },
    {
     "name": "stdout",
     "output_type": "stream",
     "text": [
      "-------------------- Iteration --------------------\n",
      "Average Episodic Length: 200.0\n",
      "Average Episodic Return: -630.54\n",
      "Successfully save the model!\n"
     ]
    },
    {
     "name": "stderr",
     "output_type": "stream",
     "text": [
      "\r",
      " 37%|█████████████████████████████▌                                                  | 111/300 [03:28<05:35,  1.78s/it]"
     ]
    },
    {
     "name": "stdout",
     "output_type": "stream",
     "text": [
      "-------------------- Iteration --------------------\n",
      "Average Episodic Length: 200.0\n",
      "Average Episodic Return: -632.78\n"
     ]
    },
    {
     "name": "stderr",
     "output_type": "stream",
     "text": [
      "\r",
      " 37%|█████████████████████████████▊                                                  | 112/300 [03:30<05:34,  1.78s/it]"
     ]
    },
    {
     "name": "stdout",
     "output_type": "stream",
     "text": [
      "-------------------- Iteration --------------------\n",
      "Average Episodic Length: 200.0\n",
      "Average Episodic Return: -656.56\n"
     ]
    },
    {
     "name": "stderr",
     "output_type": "stream",
     "text": [
      "\r",
      " 38%|██████████████████████████████▏                                                 | 113/300 [03:31<05:35,  1.79s/it]"
     ]
    },
    {
     "name": "stdout",
     "output_type": "stream",
     "text": [
      "-------------------- Iteration --------------------\n",
      "Average Episodic Length: 200.0\n",
      "Average Episodic Return: -560.33\n",
      "Successfully save the model!\n"
     ]
    },
    {
     "name": "stderr",
     "output_type": "stream",
     "text": [
      "\r",
      " 38%|██████████████████████████████▍                                                 | 114/300 [03:33<05:31,  1.78s/it]"
     ]
    },
    {
     "name": "stdout",
     "output_type": "stream",
     "text": [
      "-------------------- Iteration --------------------\n",
      "Average Episodic Length: 200.0\n",
      "Average Episodic Return: -544.75\n",
      "Successfully save the model!\n"
     ]
    },
    {
     "name": "stderr",
     "output_type": "stream",
     "text": [
      "\r",
      " 38%|██████████████████████████████▋                                                 | 115/300 [03:35<05:28,  1.77s/it]"
     ]
    },
    {
     "name": "stdout",
     "output_type": "stream",
     "text": [
      "-------------------- Iteration --------------------\n",
      "Average Episodic Length: 200.0\n",
      "Average Episodic Return: -599.81\n"
     ]
    },
    {
     "name": "stderr",
     "output_type": "stream",
     "text": [
      "\r",
      " 39%|██████████████████████████████▉                                                 | 116/300 [03:36<05:19,  1.74s/it]"
     ]
    },
    {
     "name": "stdout",
     "output_type": "stream",
     "text": [
      "-------------------- Iteration --------------------\n",
      "Average Episodic Length: 200.0\n",
      "Average Episodic Return: -508.89\n",
      "Successfully save the model!\n"
     ]
    },
    {
     "name": "stderr",
     "output_type": "stream",
     "text": [
      "\r",
      " 39%|███████████████████████████████▏                                                | 117/300 [03:38<05:18,  1.74s/it]"
     ]
    },
    {
     "name": "stdout",
     "output_type": "stream",
     "text": [
      "-------------------- Iteration --------------------\n",
      "Average Episodic Length: 200.0\n",
      "Average Episodic Return: -494.96\n",
      "Successfully save the model!\n"
     ]
    },
    {
     "name": "stderr",
     "output_type": "stream",
     "text": [
      "\r",
      " 39%|███████████████████████████████▍                                                | 118/300 [03:40<05:21,  1.77s/it]"
     ]
    },
    {
     "name": "stdout",
     "output_type": "stream",
     "text": [
      "-------------------- Iteration --------------------\n",
      "Average Episodic Length: 200.0\n",
      "Average Episodic Return: -572.1\n"
     ]
    },
    {
     "name": "stderr",
     "output_type": "stream",
     "text": [
      "\r",
      " 40%|███████████████████████████████▋                                                | 119/300 [03:42<05:20,  1.77s/it]"
     ]
    },
    {
     "name": "stdout",
     "output_type": "stream",
     "text": [
      "-------------------- Iteration --------------------\n",
      "Average Episodic Length: 200.0\n",
      "Average Episodic Return: -541.55\n",
      "Successfully save the model!\n"
     ]
    },
    {
     "name": "stderr",
     "output_type": "stream",
     "text": [
      "\r",
      " 40%|████████████████████████████████                                                | 120/300 [03:44<05:21,  1.79s/it]"
     ]
    },
    {
     "name": "stdout",
     "output_type": "stream",
     "text": [
      "-------------------- Iteration --------------------\n",
      "Average Episodic Length: 200.0\n",
      "Average Episodic Return: -572.36\n"
     ]
    },
    {
     "name": "stderr",
     "output_type": "stream",
     "text": [
      "\r",
      " 40%|████████████████████████████████▎                                               | 121/300 [03:45<05:20,  1.79s/it]"
     ]
    },
    {
     "name": "stdout",
     "output_type": "stream",
     "text": [
      "-------------------- Iteration --------------------\n",
      "Average Episodic Length: 200.0\n",
      "Average Episodic Return: -361.04\n",
      "Successfully save the model!\n"
     ]
    },
    {
     "name": "stderr",
     "output_type": "stream",
     "text": [
      "\r",
      " 41%|████████████████████████████████▌                                               | 122/300 [03:47<05:11,  1.75s/it]"
     ]
    },
    {
     "name": "stdout",
     "output_type": "stream",
     "text": [
      "-------------------- Iteration --------------------\n",
      "Average Episodic Length: 200.0\n",
      "Average Episodic Return: -403.39\n"
     ]
    },
    {
     "name": "stderr",
     "output_type": "stream",
     "text": [
      "\r",
      " 41%|████████████████████████████████▊                                               | 123/300 [03:49<05:11,  1.76s/it]"
     ]
    },
    {
     "name": "stdout",
     "output_type": "stream",
     "text": [
      "-------------------- Iteration --------------------\n",
      "Average Episodic Length: 200.0\n",
      "Average Episodic Return: -220.02\n",
      "Successfully save the model!\n"
     ]
    },
    {
     "name": "stderr",
     "output_type": "stream",
     "text": [
      "\r",
      " 41%|█████████████████████████████████                                               | 124/300 [03:51<05:08,  1.76s/it]"
     ]
    },
    {
     "name": "stdout",
     "output_type": "stream",
     "text": [
      "-------------------- Iteration --------------------\n",
      "Average Episodic Length: 200.0\n",
      "Average Episodic Return: -221.82\n"
     ]
    },
    {
     "name": "stderr",
     "output_type": "stream",
     "text": [
      "\r",
      " 42%|█████████████████████████████████▎                                              | 125/300 [03:52<05:10,  1.77s/it]"
     ]
    },
    {
     "name": "stdout",
     "output_type": "stream",
     "text": [
      "-------------------- Iteration --------------------\n",
      "Average Episodic Length: 200.0\n",
      "Average Episodic Return: -284.22\n"
     ]
    },
    {
     "name": "stderr",
     "output_type": "stream",
     "text": [
      "\r",
      " 42%|█████████████████████████████████▌                                              | 126/300 [03:54<05:08,  1.77s/it]"
     ]
    },
    {
     "name": "stdout",
     "output_type": "stream",
     "text": [
      "-------------------- Iteration --------------------\n",
      "Average Episodic Length: 200.0\n",
      "Average Episodic Return: -190.48\n",
      "Successfully save the model!\n"
     ]
    },
    {
     "name": "stderr",
     "output_type": "stream",
     "text": [
      "\r",
      " 42%|█████████████████████████████████▊                                              | 127/300 [03:56<05:07,  1.78s/it]"
     ]
    },
    {
     "name": "stdout",
     "output_type": "stream",
     "text": [
      "-------------------- Iteration --------------------\n",
      "Average Episodic Length: 200.0\n",
      "Average Episodic Return: -276.49\n"
     ]
    },
    {
     "name": "stderr",
     "output_type": "stream",
     "text": [
      "\r",
      " 43%|██████████████████████████████████▏                                             | 128/300 [03:58<05:00,  1.75s/it]"
     ]
    },
    {
     "name": "stdout",
     "output_type": "stream",
     "text": [
      "-------------------- Iteration --------------------\n",
      "Average Episodic Length: 200.0\n",
      "Average Episodic Return: -209.24\n",
      "Successfully save the model!\n"
     ]
    },
    {
     "name": "stderr",
     "output_type": "stream",
     "text": [
      "\r",
      " 43%|██████████████████████████████████▍                                             | 129/300 [04:00<05:02,  1.77s/it]"
     ]
    },
    {
     "name": "stdout",
     "output_type": "stream",
     "text": [
      "-------------------- Iteration --------------------\n",
      "Average Episodic Length: 200.0\n",
      "Average Episodic Return: -131.25\n",
      "Successfully save the model!\n"
     ]
    },
    {
     "name": "stderr",
     "output_type": "stream",
     "text": [
      "\r",
      " 43%|██████████████████████████████████▋                                             | 130/300 [04:01<05:02,  1.78s/it]"
     ]
    },
    {
     "name": "stdout",
     "output_type": "stream",
     "text": [
      "-------------------- Iteration --------------------\n",
      "Average Episodic Length: 200.0\n",
      "Average Episodic Return: -174.59\n"
     ]
    },
    {
     "name": "stderr",
     "output_type": "stream",
     "text": [
      "\r",
      " 44%|██████████████████████████████████▉                                             | 131/300 [04:03<05:04,  1.80s/it]"
     ]
    },
    {
     "name": "stdout",
     "output_type": "stream",
     "text": [
      "-------------------- Iteration --------------------\n",
      "Average Episodic Length: 200.0\n",
      "Average Episodic Return: -291.19\n"
     ]
    },
    {
     "name": "stderr",
     "output_type": "stream",
     "text": [
      "\r",
      " 44%|███████████████████████████████████▏                                            | 132/300 [04:05<05:03,  1.81s/it]"
     ]
    },
    {
     "name": "stdout",
     "output_type": "stream",
     "text": [
      "-------------------- Iteration --------------------\n",
      "Average Episodic Length: 200.0\n",
      "Average Episodic Return: -246.96\n",
      "Successfully save the model!\n"
     ]
    },
    {
     "name": "stderr",
     "output_type": "stream",
     "text": [
      "\r",
      " 44%|███████████████████████████████████▍                                            | 133/300 [04:07<05:14,  1.88s/it]"
     ]
    },
    {
     "name": "stdout",
     "output_type": "stream",
     "text": [
      "-------------------- Iteration --------------------\n",
      "Average Episodic Length: 200.0\n",
      "Average Episodic Return: -357.12\n"
     ]
    },
    {
     "name": "stderr",
     "output_type": "stream",
     "text": [
      "\r",
      " 45%|███████████████████████████████████▋                                            | 134/300 [04:09<05:10,  1.87s/it]"
     ]
    },
    {
     "name": "stdout",
     "output_type": "stream",
     "text": [
      "-------------------- Iteration --------------------\n",
      "Average Episodic Length: 200.0\n",
      "Average Episodic Return: -321.94\n",
      "Successfully save the model!\n"
     ]
    },
    {
     "name": "stderr",
     "output_type": "stream",
     "text": [
      "\r",
      " 45%|████████████████████████████████████                                            | 135/300 [04:11<05:05,  1.85s/it]"
     ]
    },
    {
     "name": "stdout",
     "output_type": "stream",
     "text": [
      "-------------------- Iteration --------------------\n",
      "Average Episodic Length: 200.0\n",
      "Average Episodic Return: -299.92\n",
      "Successfully save the model!\n"
     ]
    },
    {
     "name": "stderr",
     "output_type": "stream",
     "text": [
      "\r",
      " 45%|████████████████████████████████████▎                                           | 136/300 [04:13<05:01,  1.84s/it]"
     ]
    },
    {
     "name": "stdout",
     "output_type": "stream",
     "text": [
      "-------------------- Iteration --------------------\n",
      "Average Episodic Length: 200.0\n",
      "Average Episodic Return: -501.05\n"
     ]
    },
    {
     "name": "stderr",
     "output_type": "stream",
     "text": [
      "\r",
      " 46%|████████████████████████████████████▌                                           | 137/300 [04:14<04:57,  1.83s/it]"
     ]
    },
    {
     "name": "stdout",
     "output_type": "stream",
     "text": [
      "-------------------- Iteration --------------------\n",
      "Average Episodic Length: 200.0\n",
      "Average Episodic Return: -361.69\n",
      "Successfully save the model!\n"
     ]
    },
    {
     "name": "stderr",
     "output_type": "stream",
     "text": [
      "\r",
      " 46%|████████████████████████████████████▊                                           | 138/300 [04:16<04:53,  1.81s/it]"
     ]
    },
    {
     "name": "stdout",
     "output_type": "stream",
     "text": [
      "-------------------- Iteration --------------------\n",
      "Average Episodic Length: 200.0\n",
      "Average Episodic Return: -310.05\n",
      "Successfully save the model!\n"
     ]
    },
    {
     "name": "stderr",
     "output_type": "stream",
     "text": [
      "\r",
      " 46%|█████████████████████████████████████                                           | 139/300 [04:18<04:50,  1.80s/it]"
     ]
    },
    {
     "name": "stdout",
     "output_type": "stream",
     "text": [
      "-------------------- Iteration --------------------\n",
      "Average Episodic Length: 200.0\n",
      "Average Episodic Return: -343.37\n"
     ]
    },
    {
     "name": "stderr",
     "output_type": "stream",
     "text": [
      "\r",
      " 47%|█████████████████████████████████████▎                                          | 140/300 [04:20<04:49,  1.81s/it]"
     ]
    },
    {
     "name": "stdout",
     "output_type": "stream",
     "text": [
      "-------------------- Iteration --------------------\n",
      "Average Episodic Length: 200.0\n",
      "Average Episodic Return: -165.19\n",
      "Successfully save the model!\n"
     ]
    },
    {
     "name": "stderr",
     "output_type": "stream",
     "text": [
      "\r",
      " 47%|█████████████████████████████████████▌                                          | 141/300 [04:21<04:41,  1.77s/it]"
     ]
    },
    {
     "name": "stdout",
     "output_type": "stream",
     "text": [
      "-------------------- Iteration --------------------\n",
      "Average Episodic Length: 200.0\n",
      "Average Episodic Return: -310.67\n"
     ]
    },
    {
     "name": "stderr",
     "output_type": "stream",
     "text": [
      "\r",
      " 47%|█████████████████████████████████████▊                                          | 142/300 [04:23<04:38,  1.76s/it]"
     ]
    },
    {
     "name": "stdout",
     "output_type": "stream",
     "text": [
      "-------------------- Iteration --------------------\n",
      "Average Episodic Length: 200.0\n",
      "Average Episodic Return: -238.11\n",
      "Successfully save the model!\n"
     ]
    },
    {
     "name": "stderr",
     "output_type": "stream",
     "text": [
      "\r",
      " 48%|██████████████████████████████████████▏                                         | 143/300 [04:25<04:36,  1.76s/it]"
     ]
    },
    {
     "name": "stdout",
     "output_type": "stream",
     "text": [
      "-------------------- Iteration --------------------\n",
      "Average Episodic Length: 200.0\n",
      "Average Episodic Return: -241.65\n"
     ]
    },
    {
     "name": "stderr",
     "output_type": "stream",
     "text": [
      "\r",
      " 48%|██████████████████████████████████████▍                                         | 144/300 [04:27<04:35,  1.76s/it]"
     ]
    },
    {
     "name": "stdout",
     "output_type": "stream",
     "text": [
      "-------------------- Iteration --------------------\n",
      "Average Episodic Length: 200.0\n",
      "Average Episodic Return: -171.99\n",
      "Successfully save the model!\n"
     ]
    },
    {
     "name": "stderr",
     "output_type": "stream",
     "text": [
      "\r",
      " 48%|██████████████████████████████████████▋                                         | 145/300 [04:28<04:32,  1.76s/it]"
     ]
    },
    {
     "name": "stdout",
     "output_type": "stream",
     "text": [
      "-------------------- Iteration --------------------\n",
      "Average Episodic Length: 200.0\n",
      "Average Episodic Return: -241.62\n"
     ]
    },
    {
     "name": "stderr",
     "output_type": "stream",
     "text": [
      "\r",
      " 49%|██████████████████████████████████████▉                                         | 146/300 [04:30<04:36,  1.79s/it]"
     ]
    },
    {
     "name": "stdout",
     "output_type": "stream",
     "text": [
      "-------------------- Iteration --------------------\n",
      "Average Episodic Length: 200.0\n",
      "Average Episodic Return: -210.62\n",
      "Successfully save the model!\n"
     ]
    },
    {
     "name": "stderr",
     "output_type": "stream",
     "text": [
      "\r",
      " 49%|███████████████████████████████████████▏                                        | 147/300 [04:32<04:41,  1.84s/it]"
     ]
    },
    {
     "name": "stdout",
     "output_type": "stream",
     "text": [
      "-------------------- Iteration --------------------\n",
      "Average Episodic Length: 200.0\n",
      "Average Episodic Return: -213.03\n"
     ]
    },
    {
     "name": "stderr",
     "output_type": "stream",
     "text": [
      "\r",
      " 49%|███████████████████████████████████████▍                                        | 148/300 [04:34<04:45,  1.88s/it]"
     ]
    },
    {
     "name": "stdout",
     "output_type": "stream",
     "text": [
      "-------------------- Iteration --------------------\n",
      "Average Episodic Length: 200.0\n",
      "Average Episodic Return: -190.67\n",
      "Successfully save the model!\n"
     ]
    },
    {
     "name": "stderr",
     "output_type": "stream",
     "text": [
      "\r",
      " 50%|███████████████████████████████████████▋                                        | 149/300 [04:36<04:42,  1.87s/it]"
     ]
    },
    {
     "name": "stdout",
     "output_type": "stream",
     "text": [
      "-------------------- Iteration --------------------\n",
      "Average Episodic Length: 200.0\n",
      "Average Episodic Return: -340.25\n"
     ]
    },
    {
     "name": "stderr",
     "output_type": "stream",
     "text": [
      "\r",
      " 50%|████████████████████████████████████████                                        | 150/300 [04:38<04:53,  1.96s/it]"
     ]
    },
    {
     "name": "stdout",
     "output_type": "stream",
     "text": [
      "-------------------- Iteration --------------------\n",
      "Average Episodic Length: 200.0\n",
      "Average Episodic Return: -202.18\n",
      "Successfully save the model!\n"
     ]
    },
    {
     "name": "stderr",
     "output_type": "stream",
     "text": [
      "\r",
      " 50%|████████████████████████████████████████▎                                       | 151/300 [04:40<04:49,  1.94s/it]"
     ]
    },
    {
     "name": "stdout",
     "output_type": "stream",
     "text": [
      "-------------------- Iteration --------------------\n",
      "Average Episodic Length: 200.0\n",
      "Average Episodic Return: -212.12\n"
     ]
    },
    {
     "name": "stderr",
     "output_type": "stream",
     "text": [
      "\r",
      " 51%|████████████████████████████████████████▌                                       | 152/300 [04:42<04:46,  1.94s/it]"
     ]
    },
    {
     "name": "stdout",
     "output_type": "stream",
     "text": [
      "-------------------- Iteration --------------------\n",
      "Average Episodic Length: 200.0\n",
      "Average Episodic Return: -162.4\n",
      "Successfully save the model!\n"
     ]
    },
    {
     "name": "stderr",
     "output_type": "stream",
     "text": [
      "\r",
      " 51%|████████████████████████████████████████▊                                       | 153/300 [04:44<04:41,  1.91s/it]"
     ]
    },
    {
     "name": "stdout",
     "output_type": "stream",
     "text": [
      "-------------------- Iteration --------------------\n",
      "Average Episodic Length: 200.0\n",
      "Average Episodic Return: -185.37\n"
     ]
    },
    {
     "name": "stderr",
     "output_type": "stream",
     "text": [
      "\r",
      " 51%|█████████████████████████████████████████                                       | 154/300 [04:46<04:36,  1.89s/it]"
     ]
    },
    {
     "name": "stdout",
     "output_type": "stream",
     "text": [
      "-------------------- Iteration --------------------\n",
      "Average Episodic Length: 200.0\n",
      "Average Episodic Return: -237.4\n"
     ]
    },
    {
     "name": "stderr",
     "output_type": "stream",
     "text": [
      "\r",
      " 52%|█████████████████████████████████████████▎                                      | 155/300 [04:48<04:36,  1.90s/it]"
     ]
    },
    {
     "name": "stdout",
     "output_type": "stream",
     "text": [
      "-------------------- Iteration --------------------\n",
      "Average Episodic Length: 200.0\n",
      "Average Episodic Return: -218.84\n",
      "Successfully save the model!\n"
     ]
    },
    {
     "name": "stderr",
     "output_type": "stream",
     "text": [
      "\r",
      " 52%|█████████████████████████████████████████▌                                      | 156/300 [04:49<04:28,  1.86s/it]"
     ]
    },
    {
     "name": "stdout",
     "output_type": "stream",
     "text": [
      "-------------------- Iteration --------------------\n",
      "Average Episodic Length: 200.0\n",
      "Average Episodic Return: -271.15\n"
     ]
    },
    {
     "name": "stderr",
     "output_type": "stream",
     "text": [
      "\r",
      " 52%|█████████████████████████████████████████▊                                      | 157/300 [04:51<04:21,  1.83s/it]"
     ]
    },
    {
     "name": "stdout",
     "output_type": "stream",
     "text": [
      "-------------------- Iteration --------------------\n",
      "Average Episodic Length: 200.0\n",
      "Average Episodic Return: -274.72\n"
     ]
    },
    {
     "name": "stderr",
     "output_type": "stream",
     "text": [
      "\r",
      " 53%|██████████████████████████████████████████▏                                     | 158/300 [04:53<04:25,  1.87s/it]"
     ]
    },
    {
     "name": "stdout",
     "output_type": "stream",
     "text": [
      "-------------------- Iteration --------------------\n",
      "Average Episodic Length: 200.0\n",
      "Average Episodic Return: -223.17\n",
      "Successfully save the model!\n"
     ]
    },
    {
     "name": "stderr",
     "output_type": "stream",
     "text": [
      "\r",
      " 53%|██████████████████████████████████████████▍                                     | 159/300 [04:55<04:39,  1.98s/it]"
     ]
    },
    {
     "name": "stdout",
     "output_type": "stream",
     "text": [
      "-------------------- Iteration --------------------\n",
      "Average Episodic Length: 200.0\n",
      "Average Episodic Return: -191.78\n",
      "Successfully save the model!\n"
     ]
    },
    {
     "name": "stderr",
     "output_type": "stream",
     "text": [
      "\r",
      " 53%|██████████████████████████████████████████▋                                     | 160/300 [04:58<04:48,  2.06s/it]"
     ]
    },
    {
     "name": "stdout",
     "output_type": "stream",
     "text": [
      "-------------------- Iteration --------------------\n",
      "Average Episodic Length: 200.0\n",
      "Average Episodic Return: -209.24\n"
     ]
    },
    {
     "name": "stderr",
     "output_type": "stream",
     "text": [
      "\r",
      " 54%|██████████████████████████████████████████▉                                     | 161/300 [05:00<04:47,  2.07s/it]"
     ]
    },
    {
     "name": "stdout",
     "output_type": "stream",
     "text": [
      "-------------------- Iteration --------------------\n",
      "Average Episodic Length: 200.0\n",
      "Average Episodic Return: -394.6\n"
     ]
    },
    {
     "name": "stderr",
     "output_type": "stream",
     "text": [
      "\r",
      " 54%|███████████████████████████████████████████▏                                    | 162/300 [05:02<04:38,  2.02s/it]"
     ]
    },
    {
     "name": "stdout",
     "output_type": "stream",
     "text": [
      "-------------------- Iteration --------------------\n",
      "Average Episodic Length: 200.0\n",
      "Average Episodic Return: -196.44\n",
      "Successfully save the model!\n"
     ]
    },
    {
     "name": "stderr",
     "output_type": "stream",
     "text": [
      "\r",
      " 54%|███████████████████████████████████████████▍                                    | 163/300 [05:04<04:32,  1.99s/it]"
     ]
    },
    {
     "name": "stdout",
     "output_type": "stream",
     "text": [
      "-------------------- Iteration --------------------\n",
      "Average Episodic Length: 200.0\n",
      "Average Episodic Return: -212.65\n"
     ]
    },
    {
     "name": "stderr",
     "output_type": "stream",
     "text": [
      "\r",
      " 55%|███████████████████████████████████████████▋                                    | 164/300 [05:06<04:35,  2.02s/it]"
     ]
    },
    {
     "name": "stdout",
     "output_type": "stream",
     "text": [
      "-------------------- Iteration --------------------\n",
      "Average Episodic Length: 200.0\n",
      "Average Episodic Return: -214.37\n"
     ]
    },
    {
     "name": "stderr",
     "output_type": "stream",
     "text": [
      "\r",
      " 55%|████████████████████████████████████████████                                    | 165/300 [05:08<04:30,  2.00s/it]"
     ]
    },
    {
     "name": "stdout",
     "output_type": "stream",
     "text": [
      "-------------------- Iteration --------------------\n",
      "Average Episodic Length: 200.0\n",
      "Average Episodic Return: -149.42\n",
      "Successfully save the model!\n"
     ]
    },
    {
     "name": "stderr",
     "output_type": "stream",
     "text": [
      "\r",
      " 55%|████████████████████████████████████████████▎                                   | 166/300 [05:10<04:29,  2.01s/it]"
     ]
    },
    {
     "name": "stdout",
     "output_type": "stream",
     "text": [
      "-------------------- Iteration --------------------\n",
      "Average Episodic Length: 200.0\n",
      "Average Episodic Return: -234.67\n"
     ]
    },
    {
     "name": "stderr",
     "output_type": "stream",
     "text": [
      "\r",
      " 56%|████████████████████████████████████████████▌                                   | 167/300 [05:12<04:43,  2.13s/it]"
     ]
    },
    {
     "name": "stdout",
     "output_type": "stream",
     "text": [
      "-------------------- Iteration --------------------\n",
      "Average Episodic Length: 200.0\n",
      "Average Episodic Return: -182.35\n",
      "Successfully save the model!\n"
     ]
    },
    {
     "name": "stderr",
     "output_type": "stream",
     "text": [
      "\r",
      " 56%|████████████████████████████████████████████▊                                   | 168/300 [05:14<04:44,  2.15s/it]"
     ]
    },
    {
     "name": "stdout",
     "output_type": "stream",
     "text": [
      "-------------------- Iteration --------------------\n",
      "Average Episodic Length: 200.0\n",
      "Average Episodic Return: -90.57\n",
      "Successfully save the model!\n"
     ]
    },
    {
     "name": "stderr",
     "output_type": "stream",
     "text": [
      "\r",
      " 56%|█████████████████████████████████████████████                                   | 169/300 [05:16<04:26,  2.04s/it]"
     ]
    },
    {
     "name": "stdout",
     "output_type": "stream",
     "text": [
      "-------------------- Iteration --------------------\n",
      "Average Episodic Length: 200.0\n",
      "Average Episodic Return: -166.23\n"
     ]
    },
    {
     "name": "stderr",
     "output_type": "stream",
     "text": [
      "\r",
      " 57%|█████████████████████████████████████████████▎                                  | 170/300 [05:18<04:24,  2.03s/it]"
     ]
    },
    {
     "name": "stdout",
     "output_type": "stream",
     "text": [
      "-------------------- Iteration --------------------\n",
      "Average Episodic Length: 200.0\n",
      "Average Episodic Return: -197.37\n"
     ]
    },
    {
     "name": "stderr",
     "output_type": "stream",
     "text": [
      "\r",
      " 57%|█████████████████████████████████████████████▌                                  | 171/300 [05:20<04:35,  2.14s/it]"
     ]
    },
    {
     "name": "stdout",
     "output_type": "stream",
     "text": [
      "-------------------- Iteration --------------------\n",
      "Average Episodic Length: 200.0\n",
      "Average Episodic Return: -186.58\n",
      "Successfully save the model!\n"
     ]
    },
    {
     "name": "stderr",
     "output_type": "stream",
     "text": [
      "\r",
      " 57%|█████████████████████████████████████████████▊                                  | 172/300 [05:23<04:47,  2.25s/it]"
     ]
    },
    {
     "name": "stdout",
     "output_type": "stream",
     "text": [
      "-------------------- Iteration --------------------\n",
      "Average Episodic Length: 200.0\n",
      "Average Episodic Return: -202.47\n"
     ]
    },
    {
     "name": "stderr",
     "output_type": "stream",
     "text": [
      "\r",
      " 58%|██████████████████████████████████████████████▏                                 | 173/300 [05:25<04:53,  2.31s/it]"
     ]
    },
    {
     "name": "stdout",
     "output_type": "stream",
     "text": [
      "-------------------- Iteration --------------------\n",
      "Average Episodic Length: 200.0\n",
      "Average Episodic Return: -118.12\n",
      "Successfully save the model!\n"
     ]
    },
    {
     "name": "stderr",
     "output_type": "stream",
     "text": [
      "\r",
      " 58%|██████████████████████████████████████████████▍                                 | 174/300 [05:27<04:42,  2.24s/it]"
     ]
    },
    {
     "name": "stdout",
     "output_type": "stream",
     "text": [
      "-------------------- Iteration --------------------\n",
      "Average Episodic Length: 200.0\n",
      "Average Episodic Return: -288.11\n"
     ]
    },
    {
     "name": "stderr",
     "output_type": "stream",
     "text": [
      "\r",
      " 58%|██████████████████████████████████████████████▋                                 | 175/300 [05:30<04:34,  2.20s/it]"
     ]
    },
    {
     "name": "stdout",
     "output_type": "stream",
     "text": [
      "-------------------- Iteration --------------------\n",
      "Average Episodic Length: 200.0\n",
      "Average Episodic Return: -367.24\n"
     ]
    },
    {
     "name": "stderr",
     "output_type": "stream",
     "text": [
      "\r",
      " 59%|██████████████████████████████████████████████▉                                 | 176/300 [05:32<04:57,  2.40s/it]"
     ]
    },
    {
     "name": "stdout",
     "output_type": "stream",
     "text": [
      "-------------------- Iteration --------------------\n",
      "Average Episodic Length: 200.0\n",
      "Average Episodic Return: -157.93\n",
      "Successfully save the model!\n"
     ]
    },
    {
     "name": "stderr",
     "output_type": "stream",
     "text": [
      "\r",
      " 59%|███████████████████████████████████████████████▏                                | 177/300 [05:35<05:03,  2.47s/it]"
     ]
    },
    {
     "name": "stdout",
     "output_type": "stream",
     "text": [
      "-------------------- Iteration --------------------\n",
      "Average Episodic Length: 200.0\n",
      "Average Episodic Return: -188.8\n"
     ]
    },
    {
     "name": "stderr",
     "output_type": "stream",
     "text": [
      "\r",
      " 59%|███████████████████████████████████████████████▍                                | 178/300 [05:37<04:50,  2.38s/it]"
     ]
    },
    {
     "name": "stdout",
     "output_type": "stream",
     "text": [
      "-------------------- Iteration --------------------\n",
      "Average Episodic Length: 200.0\n",
      "Average Episodic Return: -198.72\n"
     ]
    },
    {
     "name": "stderr",
     "output_type": "stream",
     "text": [
      "\r",
      " 60%|███████████████████████████████████████████████▋                                | 179/300 [05:39<04:41,  2.33s/it]"
     ]
    },
    {
     "name": "stdout",
     "output_type": "stream",
     "text": [
      "-------------------- Iteration --------------------\n",
      "Average Episodic Length: 200.0\n",
      "Average Episodic Return: -278.85\n"
     ]
    },
    {
     "name": "stderr",
     "output_type": "stream",
     "text": [
      "\r",
      " 60%|████████████████████████████████████████████████                                | 180/300 [05:42<04:31,  2.27s/it]"
     ]
    },
    {
     "name": "stdout",
     "output_type": "stream",
     "text": [
      "-------------------- Iteration --------------------\n",
      "Average Episodic Length: 200.0\n",
      "Average Episodic Return: -216.49\n",
      "Successfully save the model!\n"
     ]
    },
    {
     "name": "stderr",
     "output_type": "stream",
     "text": [
      "\r",
      " 60%|████████████████████████████████████████████████▎                               | 181/300 [05:44<04:20,  2.19s/it]"
     ]
    },
    {
     "name": "stdout",
     "output_type": "stream",
     "text": [
      "-------------------- Iteration --------------------\n",
      "Average Episodic Length: 200.0\n",
      "Average Episodic Return: -216.58\n"
     ]
    },
    {
     "name": "stderr",
     "output_type": "stream",
     "text": [
      "\r",
      " 61%|████████████████████████████████████████████████▌                               | 182/300 [05:46<04:20,  2.20s/it]"
     ]
    },
    {
     "name": "stdout",
     "output_type": "stream",
     "text": [
      "-------------------- Iteration --------------------\n",
      "Average Episodic Length: 200.0\n",
      "Average Episodic Return: -150.93\n",
      "Successfully save the model!\n"
     ]
    },
    {
     "name": "stderr",
     "output_type": "stream",
     "text": [
      "\r",
      " 61%|████████████████████████████████████████████████▊                               | 183/300 [05:48<04:28,  2.30s/it]"
     ]
    },
    {
     "name": "stdout",
     "output_type": "stream",
     "text": [
      "-------------------- Iteration --------------------\n",
      "Average Episodic Length: 200.0\n",
      "Average Episodic Return: -250.55\n"
     ]
    },
    {
     "name": "stderr",
     "output_type": "stream",
     "text": [
      "\r",
      " 61%|█████████████████████████████████████████████████                               | 184/300 [05:51<04:26,  2.30s/it]"
     ]
    },
    {
     "name": "stdout",
     "output_type": "stream",
     "text": [
      "-------------------- Iteration --------------------\n",
      "Average Episodic Length: 200.0\n",
      "Average Episodic Return: -183.87\n",
      "Successfully save the model!\n"
     ]
    },
    {
     "name": "stderr",
     "output_type": "stream",
     "text": [
      "\r",
      " 62%|█████████████████████████████████████████████████▎                              | 185/300 [05:53<04:27,  2.33s/it]"
     ]
    },
    {
     "name": "stdout",
     "output_type": "stream",
     "text": [
      "-------------------- Iteration --------------------\n",
      "Average Episodic Length: 200.0\n",
      "Average Episodic Return: -149.65\n",
      "Successfully save the model!\n"
     ]
    },
    {
     "name": "stderr",
     "output_type": "stream",
     "text": [
      "\r",
      " 62%|█████████████████████████████████████████████████▌                              | 186/300 [05:56<04:43,  2.48s/it]"
     ]
    },
    {
     "name": "stdout",
     "output_type": "stream",
     "text": [
      "-------------------- Iteration --------------------\n",
      "Average Episodic Length: 200.0\n",
      "Average Episodic Return: -147.0\n",
      "Successfully save the model!\n"
     ]
    },
    {
     "name": "stderr",
     "output_type": "stream",
     "text": [
      "\r",
      " 62%|█████████████████████████████████████████████████▊                              | 187/300 [05:58<04:27,  2.37s/it]"
     ]
    },
    {
     "name": "stdout",
     "output_type": "stream",
     "text": [
      "-------------------- Iteration --------------------\n",
      "Average Episodic Length: 200.0\n",
      "Average Episodic Return: -168.01\n"
     ]
    },
    {
     "name": "stderr",
     "output_type": "stream",
     "text": [
      "\r",
      " 63%|██████████████████████████████████████████████████▏                             | 188/300 [06:00<04:22,  2.34s/it]"
     ]
    },
    {
     "name": "stdout",
     "output_type": "stream",
     "text": [
      "-------------------- Iteration --------------------\n",
      "Average Episodic Length: 200.0\n",
      "Average Episodic Return: -200.17\n"
     ]
    },
    {
     "name": "stderr",
     "output_type": "stream",
     "text": [
      "\r",
      " 63%|██████████████████████████████████████████████████▍                             | 189/300 [06:03<04:40,  2.52s/it]"
     ]
    },
    {
     "name": "stdout",
     "output_type": "stream",
     "text": [
      "-------------------- Iteration --------------------\n",
      "Average Episodic Length: 200.0\n",
      "Average Episodic Return: -183.71\n",
      "Successfully save the model!\n"
     ]
    },
    {
     "name": "stderr",
     "output_type": "stream",
     "text": [
      "\r",
      " 63%|██████████████████████████████████████████████████▋                             | 190/300 [06:05<04:23,  2.40s/it]"
     ]
    },
    {
     "name": "stdout",
     "output_type": "stream",
     "text": [
      "-------------------- Iteration --------------------\n",
      "Average Episodic Length: 200.0\n",
      "Average Episodic Return: -239.91\n"
     ]
    },
    {
     "name": "stderr",
     "output_type": "stream",
     "text": [
      "\r",
      " 64%|██████████████████████████████████████████████████▉                             | 191/300 [06:08<04:21,  2.40s/it]"
     ]
    },
    {
     "name": "stdout",
     "output_type": "stream",
     "text": [
      "-------------------- Iteration --------------------\n",
      "Average Episodic Length: 200.0\n",
      "Average Episodic Return: -152.53\n",
      "Successfully save the model!\n"
     ]
    },
    {
     "name": "stderr",
     "output_type": "stream",
     "text": [
      "\r",
      " 64%|███████████████████████████████████████████████████▏                            | 192/300 [06:10<04:18,  2.39s/it]"
     ]
    },
    {
     "name": "stdout",
     "output_type": "stream",
     "text": [
      "-------------------- Iteration --------------------\n",
      "Average Episodic Length: 200.0\n",
      "Average Episodic Return: -173.18\n"
     ]
    },
    {
     "name": "stderr",
     "output_type": "stream",
     "text": [
      "\r",
      " 64%|███████████████████████████████████████████████████▍                            | 193/300 [06:13<04:24,  2.48s/it]"
     ]
    },
    {
     "name": "stdout",
     "output_type": "stream",
     "text": [
      "-------------------- Iteration --------------------\n",
      "Average Episodic Length: 200.0\n",
      "Average Episodic Return: -214.3\n"
     ]
    },
    {
     "name": "stderr",
     "output_type": "stream",
     "text": [
      "\r",
      " 65%|███████████████████████████████████████████████████▋                            | 194/300 [06:15<04:14,  2.40s/it]"
     ]
    },
    {
     "name": "stdout",
     "output_type": "stream",
     "text": [
      "-------------------- Iteration --------------------\n",
      "Average Episodic Length: 200.0\n",
      "Average Episodic Return: -238.1\n"
     ]
    },
    {
     "name": "stderr",
     "output_type": "stream",
     "text": [
      "\r",
      " 65%|████████████████████████████████████████████████████                            | 195/300 [06:17<04:08,  2.36s/it]"
     ]
    },
    {
     "name": "stdout",
     "output_type": "stream",
     "text": [
      "-------------------- Iteration --------------------\n",
      "Average Episodic Length: 200.0\n",
      "Average Episodic Return: -157.19\n",
      "Successfully save the model!\n"
     ]
    },
    {
     "name": "stderr",
     "output_type": "stream",
     "text": [
      "\r",
      " 65%|████████████████████████████████████████████████████▎                           | 196/300 [06:19<03:50,  2.22s/it]"
     ]
    },
    {
     "name": "stdout",
     "output_type": "stream",
     "text": [
      "-------------------- Iteration --------------------\n",
      "Average Episodic Length: 200.0\n",
      "Average Episodic Return: -219.13\n"
     ]
    },
    {
     "name": "stderr",
     "output_type": "stream",
     "text": [
      "\r",
      " 66%|████████████████████████████████████████████████████▌                           | 197/300 [06:21<03:47,  2.21s/it]"
     ]
    },
    {
     "name": "stdout",
     "output_type": "stream",
     "text": [
      "-------------------- Iteration --------------------\n",
      "Average Episodic Length: 200.0\n",
      "Average Episodic Return: -241.17\n"
     ]
    },
    {
     "name": "stderr",
     "output_type": "stream",
     "text": [
      "\r",
      " 66%|████████████████████████████████████████████████████▊                           | 198/300 [06:23<03:39,  2.15s/it]"
     ]
    },
    {
     "name": "stdout",
     "output_type": "stream",
     "text": [
      "-------------------- Iteration --------------------\n",
      "Average Episodic Length: 200.0\n",
      "Average Episodic Return: -259.4\n"
     ]
    },
    {
     "name": "stderr",
     "output_type": "stream",
     "text": [
      "\r",
      " 66%|█████████████████████████████████████████████████████                           | 199/300 [06:25<03:30,  2.08s/it]"
     ]
    },
    {
     "name": "stdout",
     "output_type": "stream",
     "text": [
      "-------------------- Iteration --------------------\n",
      "Average Episodic Length: 200.0\n",
      "Average Episodic Return: -200.26\n",
      "Successfully save the model!\n"
     ]
    },
    {
     "name": "stderr",
     "output_type": "stream",
     "text": [
      "\r",
      " 67%|█████████████████████████████████████████████████████▎                          | 200/300 [06:27<03:25,  2.05s/it]"
     ]
    },
    {
     "name": "stdout",
     "output_type": "stream",
     "text": [
      "-------------------- Iteration --------------------\n",
      "Average Episodic Length: 200.0\n",
      "Average Episodic Return: -160.68\n",
      "Successfully save the model!\n"
     ]
    },
    {
     "name": "stderr",
     "output_type": "stream",
     "text": [
      "\r",
      " 67%|█████████████████████████████████████████████████████▌                          | 201/300 [06:29<03:16,  1.98s/it]"
     ]
    },
    {
     "name": "stdout",
     "output_type": "stream",
     "text": [
      "-------------------- Iteration --------------------\n",
      "Average Episodic Length: 200.0\n",
      "Average Episodic Return: -223.79\n"
     ]
    },
    {
     "name": "stderr",
     "output_type": "stream",
     "text": [
      "\r",
      " 67%|█████████████████████████████████████████████████████▊                          | 202/300 [06:31<03:12,  1.97s/it]"
     ]
    },
    {
     "name": "stdout",
     "output_type": "stream",
     "text": [
      "-------------------- Iteration --------------------\n",
      "Average Episodic Length: 200.0\n",
      "Average Episodic Return: -195.33\n",
      "Successfully save the model!\n"
     ]
    },
    {
     "name": "stderr",
     "output_type": "stream",
     "text": [
      "\r",
      " 68%|██████████████████████████████████████████████████████▏                         | 203/300 [06:33<03:22,  2.09s/it]"
     ]
    },
    {
     "name": "stdout",
     "output_type": "stream",
     "text": [
      "-------------------- Iteration --------------------\n",
      "Average Episodic Length: 200.0\n",
      "Average Episodic Return: -124.68\n",
      "Successfully save the model!\n"
     ]
    },
    {
     "name": "stderr",
     "output_type": "stream",
     "text": [
      "\r",
      " 68%|██████████████████████████████████████████████████████▍                         | 204/300 [06:36<03:23,  2.11s/it]"
     ]
    },
    {
     "name": "stdout",
     "output_type": "stream",
     "text": [
      "-------------------- Iteration --------------------\n",
      "Average Episodic Length: 200.0\n",
      "Average Episodic Return: -135.26\n"
     ]
    },
    {
     "name": "stderr",
     "output_type": "stream",
     "text": [
      "\r",
      " 68%|██████████████████████████████████████████████████████▋                         | 205/300 [06:38<03:30,  2.22s/it]"
     ]
    },
    {
     "name": "stdout",
     "output_type": "stream",
     "text": [
      "-------------------- Iteration --------------------\n",
      "Average Episodic Length: 200.0\n",
      "Average Episodic Return: -181.01\n"
     ]
    },
    {
     "name": "stderr",
     "output_type": "stream",
     "text": [
      "\r",
      " 69%|██████████████████████████████████████████████████████▉                         | 206/300 [06:40<03:15,  2.08s/it]"
     ]
    },
    {
     "name": "stdout",
     "output_type": "stream",
     "text": [
      "-------------------- Iteration --------------------\n",
      "Average Episodic Length: 200.0\n",
      "Average Episodic Return: -225.95\n"
     ]
    },
    {
     "name": "stderr",
     "output_type": "stream",
     "text": [
      "\r",
      " 69%|███████████████████████████████████████████████████████▏                        | 207/300 [06:42<03:06,  2.01s/it]"
     ]
    },
    {
     "name": "stdout",
     "output_type": "stream",
     "text": [
      "-------------------- Iteration --------------------\n",
      "Average Episodic Length: 200.0\n",
      "Average Episodic Return: -193.38\n",
      "Successfully save the model!\n"
     ]
    },
    {
     "name": "stderr",
     "output_type": "stream",
     "text": [
      "\r",
      " 69%|███████████████████████████████████████████████████████▍                        | 208/300 [06:43<02:59,  1.95s/it]"
     ]
    },
    {
     "name": "stdout",
     "output_type": "stream",
     "text": [
      "-------------------- Iteration --------------------\n",
      "Average Episodic Length: 200.0\n",
      "Average Episodic Return: -177.56\n",
      "Successfully save the model!\n"
     ]
    },
    {
     "name": "stderr",
     "output_type": "stream",
     "text": [
      "\r",
      " 70%|███████████████████████████████████████████████████████▋                        | 209/300 [06:45<02:51,  1.89s/it]"
     ]
    },
    {
     "name": "stdout",
     "output_type": "stream",
     "text": [
      "-------------------- Iteration --------------------\n",
      "Average Episodic Length: 200.0\n",
      "Average Episodic Return: -181.95\n"
     ]
    },
    {
     "name": "stderr",
     "output_type": "stream",
     "text": [
      "\r",
      " 70%|████████████████████████████████████████████████████████                        | 210/300 [06:47<02:47,  1.86s/it]"
     ]
    },
    {
     "name": "stdout",
     "output_type": "stream",
     "text": [
      "-------------------- Iteration --------------------\n",
      "Average Episodic Length: 200.0\n",
      "Average Episodic Return: -147.75\n",
      "Successfully save the model!\n"
     ]
    },
    {
     "name": "stderr",
     "output_type": "stream",
     "text": [
      "\r",
      " 70%|████████████████████████████████████████████████████████▎                       | 211/300 [06:49<02:44,  1.84s/it]"
     ]
    },
    {
     "name": "stdout",
     "output_type": "stream",
     "text": [
      "-------------------- Iteration --------------------\n",
      "Average Episodic Length: 200.0\n",
      "Average Episodic Return: -166.94\n"
     ]
    },
    {
     "name": "stderr",
     "output_type": "stream",
     "text": [
      "\r",
      " 71%|████████████████████████████████████████████████████████▌                       | 212/300 [06:50<02:38,  1.80s/it]"
     ]
    },
    {
     "name": "stdout",
     "output_type": "stream",
     "text": [
      "-------------------- Iteration --------------------\n",
      "Average Episodic Length: 200.0\n",
      "Average Episodic Return: -188.52\n"
     ]
    },
    {
     "name": "stderr",
     "output_type": "stream",
     "text": [
      "\r",
      " 71%|████████████████████████████████████████████████████████▊                       | 213/300 [06:52<02:36,  1.80s/it]"
     ]
    },
    {
     "name": "stdout",
     "output_type": "stream",
     "text": [
      "-------------------- Iteration --------------------\n",
      "Average Episodic Length: 200.0\n",
      "Average Episodic Return: -173.27\n",
      "Successfully save the model!\n"
     ]
    },
    {
     "name": "stderr",
     "output_type": "stream",
     "text": [
      "\r",
      " 71%|█████████████████████████████████████████████████████████                       | 214/300 [06:54<02:33,  1.79s/it]"
     ]
    },
    {
     "name": "stdout",
     "output_type": "stream",
     "text": [
      "-------------------- Iteration --------------------\n",
      "Average Episodic Length: 200.0\n",
      "Average Episodic Return: -180.35\n"
     ]
    },
    {
     "name": "stderr",
     "output_type": "stream",
     "text": [
      "\r",
      " 72%|█████████████████████████████████████████████████████████▎                      | 215/300 [06:56<02:44,  1.94s/it]"
     ]
    },
    {
     "name": "stdout",
     "output_type": "stream",
     "text": [
      "-------------------- Iteration --------------------\n",
      "Average Episodic Length: 200.0\n",
      "Average Episodic Return: -147.48\n",
      "Successfully save the model!\n"
     ]
    },
    {
     "name": "stderr",
     "output_type": "stream",
     "text": [
      "\r",
      " 72%|█████████████████████████████████████████████████████████▌                      | 216/300 [06:59<02:56,  2.10s/it]"
     ]
    },
    {
     "name": "stdout",
     "output_type": "stream",
     "text": [
      "-------------------- Iteration --------------------\n",
      "Average Episodic Length: 200.0\n",
      "Average Episodic Return: -229.63\n"
     ]
    },
    {
     "name": "stderr",
     "output_type": "stream",
     "text": [
      "\r",
      " 72%|█████████████████████████████████████████████████████████▊                      | 217/300 [07:01<02:55,  2.12s/it]"
     ]
    },
    {
     "name": "stdout",
     "output_type": "stream",
     "text": [
      "-------------------- Iteration --------------------\n",
      "Average Episodic Length: 200.0\n",
      "Average Episodic Return: -214.92\n",
      "Successfully save the model!\n"
     ]
    },
    {
     "name": "stderr",
     "output_type": "stream",
     "text": [
      "\r",
      " 73%|██████████████████████████████████████████████████████████▏                     | 218/300 [07:03<02:55,  2.14s/it]"
     ]
    },
    {
     "name": "stdout",
     "output_type": "stream",
     "text": [
      "-------------------- Iteration --------------------\n",
      "Average Episodic Length: 200.0\n",
      "Average Episodic Return: -127.43\n",
      "Successfully save the model!\n"
     ]
    },
    {
     "name": "stderr",
     "output_type": "stream",
     "text": [
      "\r",
      " 73%|██████████████████████████████████████████████████████████▍                     | 219/300 [07:05<02:56,  2.18s/it]"
     ]
    },
    {
     "name": "stdout",
     "output_type": "stream",
     "text": [
      "-------------------- Iteration --------------------\n",
      "Average Episodic Length: 200.0\n",
      "Average Episodic Return: -161.13\n"
     ]
    },
    {
     "name": "stderr",
     "output_type": "stream",
     "text": [
      "\r",
      " 73%|██████████████████████████████████████████████████████████▋                     | 220/300 [07:07<02:52,  2.16s/it]"
     ]
    },
    {
     "name": "stdout",
     "output_type": "stream",
     "text": [
      "-------------------- Iteration --------------------\n",
      "Average Episodic Length: 200.0\n",
      "Average Episodic Return: -189.55\n"
     ]
    },
    {
     "name": "stderr",
     "output_type": "stream",
     "text": [
      "\r",
      " 74%|██████████████████████████████████████████████████████████▉                     | 221/300 [07:09<02:44,  2.09s/it]"
     ]
    },
    {
     "name": "stdout",
     "output_type": "stream",
     "text": [
      "-------------------- Iteration --------------------\n",
      "Average Episodic Length: 200.0\n",
      "Average Episodic Return: -185.15\n",
      "Successfully save the model!\n"
     ]
    },
    {
     "name": "stderr",
     "output_type": "stream",
     "text": [
      "\r",
      " 74%|███████████████████████████████████████████████████████████▏                    | 222/300 [07:11<02:41,  2.07s/it]"
     ]
    },
    {
     "name": "stdout",
     "output_type": "stream",
     "text": [
      "-------------------- Iteration --------------------\n",
      "Average Episodic Length: 200.0\n",
      "Average Episodic Return: -193.54\n"
     ]
    },
    {
     "name": "stderr",
     "output_type": "stream",
     "text": [
      "\r",
      " 74%|███████████████████████████████████████████████████████████▍                    | 223/300 [07:13<02:31,  1.97s/it]"
     ]
    },
    {
     "name": "stdout",
     "output_type": "stream",
     "text": [
      "-------------------- Iteration --------------------\n",
      "Average Episodic Length: 200.0\n",
      "Average Episodic Return: -134.89\n",
      "Successfully save the model!\n"
     ]
    },
    {
     "name": "stderr",
     "output_type": "stream",
     "text": [
      "\r",
      " 75%|███████████████████████████████████████████████████████████▋                    | 224/300 [07:15<02:29,  1.97s/it]"
     ]
    },
    {
     "name": "stdout",
     "output_type": "stream",
     "text": [
      "-------------------- Iteration --------------------\n",
      "Average Episodic Length: 200.0\n",
      "Average Episodic Return: -180.22\n"
     ]
    },
    {
     "name": "stderr",
     "output_type": "stream",
     "text": [
      "\r",
      " 75%|████████████████████████████████████████████████████████████                    | 225/300 [07:17<02:24,  1.93s/it]"
     ]
    },
    {
     "name": "stdout",
     "output_type": "stream",
     "text": [
      "-------------------- Iteration --------------------\n",
      "Average Episodic Length: 200.0\n",
      "Average Episodic Return: -155.07\n",
      "Successfully save the model!\n"
     ]
    },
    {
     "name": "stderr",
     "output_type": "stream",
     "text": [
      "\r",
      " 75%|████████████████████████████████████████████████████████████▎                   | 226/300 [07:19<02:19,  1.89s/it]"
     ]
    },
    {
     "name": "stdout",
     "output_type": "stream",
     "text": [
      "-------------------- Iteration --------------------\n",
      "Average Episodic Length: 200.0\n",
      "Average Episodic Return: -182.86\n"
     ]
    },
    {
     "name": "stderr",
     "output_type": "stream",
     "text": [
      "\r",
      " 76%|████████████████████████████████████████████████████████████▌                   | 227/300 [07:21<02:16,  1.87s/it]"
     ]
    },
    {
     "name": "stdout",
     "output_type": "stream",
     "text": [
      "-------------------- Iteration --------------------\n",
      "Average Episodic Length: 200.0\n",
      "Average Episodic Return: -200.65\n"
     ]
    },
    {
     "name": "stderr",
     "output_type": "stream",
     "text": [
      "\r",
      " 76%|████████████████████████████████████████████████████████████▊                   | 228/300 [07:22<02:13,  1.85s/it]"
     ]
    },
    {
     "name": "stdout",
     "output_type": "stream",
     "text": [
      "-------------------- Iteration --------------------\n",
      "Average Episodic Length: 200.0\n",
      "Average Episodic Return: -133.97\n",
      "Successfully save the model!\n"
     ]
    },
    {
     "name": "stderr",
     "output_type": "stream",
     "text": [
      "\r",
      " 76%|█████████████████████████████████████████████████████████████                   | 229/300 [07:24<02:10,  1.84s/it]"
     ]
    },
    {
     "name": "stdout",
     "output_type": "stream",
     "text": [
      "-------------------- Iteration --------------------\n",
      "Average Episodic Length: 200.0\n",
      "Average Episodic Return: -114.99\n",
      "Successfully save the model!\n"
     ]
    },
    {
     "name": "stderr",
     "output_type": "stream",
     "text": [
      "\r",
      " 77%|█████████████████████████████████████████████████████████████▎                  | 230/300 [07:26<02:05,  1.79s/it]"
     ]
    },
    {
     "name": "stdout",
     "output_type": "stream",
     "text": [
      "-------------------- Iteration --------------------\n",
      "Average Episodic Length: 200.0\n",
      "Average Episodic Return: -192.98\n"
     ]
    },
    {
     "name": "stderr",
     "output_type": "stream",
     "text": [
      "\r",
      " 77%|█████████████████████████████████████████████████████████████▌                  | 231/300 [07:28<02:03,  1.79s/it]"
     ]
    },
    {
     "name": "stdout",
     "output_type": "stream",
     "text": [
      "-------------------- Iteration --------------------\n",
      "Average Episodic Length: 200.0\n",
      "Average Episodic Return: -145.24\n",
      "Successfully save the model!\n"
     ]
    },
    {
     "name": "stderr",
     "output_type": "stream",
     "text": [
      "\r",
      " 77%|█████████████████████████████████████████████████████████████▊                  | 232/300 [07:30<02:02,  1.81s/it]"
     ]
    },
    {
     "name": "stdout",
     "output_type": "stream",
     "text": [
      "-------------------- Iteration --------------------\n",
      "Average Episodic Length: 200.0\n",
      "Average Episodic Return: -175.21\n"
     ]
    },
    {
     "name": "stderr",
     "output_type": "stream",
     "text": [
      "\r",
      " 78%|██████████████████████████████████████████████████████████████▏                 | 233/300 [07:31<02:01,  1.81s/it]"
     ]
    },
    {
     "name": "stdout",
     "output_type": "stream",
     "text": [
      "-------------------- Iteration --------------------\n",
      "Average Episodic Length: 200.0\n",
      "Average Episodic Return: -166.75\n",
      "Successfully save the model!\n"
     ]
    },
    {
     "name": "stderr",
     "output_type": "stream",
     "text": [
      "\r",
      " 78%|██████████████████████████████████████████████████████████████▍                 | 234/300 [07:33<01:59,  1.80s/it]"
     ]
    },
    {
     "name": "stdout",
     "output_type": "stream",
     "text": [
      "-------------------- Iteration --------------------\n",
      "Average Episodic Length: 200.0\n",
      "Average Episodic Return: -157.64\n",
      "Successfully save the model!\n"
     ]
    },
    {
     "name": "stderr",
     "output_type": "stream",
     "text": [
      "\r",
      " 78%|██████████████████████████████████████████████████████████████▋                 | 235/300 [07:35<01:55,  1.77s/it]"
     ]
    },
    {
     "name": "stdout",
     "output_type": "stream",
     "text": [
      "-------------------- Iteration --------------------\n",
      "Average Episodic Length: 200.0\n",
      "Average Episodic Return: -160.59\n"
     ]
    },
    {
     "name": "stderr",
     "output_type": "stream",
     "text": [
      "\r",
      " 79%|██████████████████████████████████████████████████████████████▉                 | 236/300 [07:37<01:54,  1.79s/it]"
     ]
    },
    {
     "name": "stdout",
     "output_type": "stream",
     "text": [
      "-------------------- Iteration --------------------\n",
      "Average Episodic Length: 200.0\n",
      "Average Episodic Return: -155.81\n",
      "Successfully save the model!\n"
     ]
    },
    {
     "name": "stderr",
     "output_type": "stream",
     "text": [
      "\r",
      " 79%|███████████████████████████████████████████████████████████████▏                | 237/300 [07:38<01:52,  1.79s/it]"
     ]
    },
    {
     "name": "stdout",
     "output_type": "stream",
     "text": [
      "-------------------- Iteration --------------------\n",
      "Average Episodic Length: 200.0\n",
      "Average Episodic Return: -159.51\n"
     ]
    },
    {
     "name": "stderr",
     "output_type": "stream",
     "text": [
      "\r",
      " 79%|███████████████████████████████████████████████████████████████▍                | 238/300 [07:40<01:51,  1.81s/it]"
     ]
    },
    {
     "name": "stdout",
     "output_type": "stream",
     "text": [
      "-------------------- Iteration --------------------\n",
      "Average Episodic Length: 200.0\n",
      "Average Episodic Return: -166.73\n"
     ]
    },
    {
     "name": "stderr",
     "output_type": "stream",
     "text": [
      "\r",
      " 80%|███████████████████████████████████████████████████████████████▋                | 239/300 [07:42<01:50,  1.82s/it]"
     ]
    },
    {
     "name": "stdout",
     "output_type": "stream",
     "text": [
      "-------------------- Iteration --------------------\n",
      "Average Episodic Length: 200.0\n",
      "Average Episodic Return: -158.27\n",
      "Successfully save the model!\n"
     ]
    },
    {
     "name": "stderr",
     "output_type": "stream",
     "text": [
      "\r",
      " 80%|████████████████████████████████████████████████████████████████                | 240/300 [07:44<01:48,  1.80s/it]"
     ]
    },
    {
     "name": "stdout",
     "output_type": "stream",
     "text": [
      "-------------------- Iteration --------------------\n",
      "Average Episodic Length: 200.0\n",
      "Average Episodic Return: -194.81\n"
     ]
    },
    {
     "name": "stderr",
     "output_type": "stream",
     "text": [
      "\r",
      " 80%|████████████████████████████████████████████████████████████████▎               | 241/300 [07:46<01:44,  1.78s/it]"
     ]
    },
    {
     "name": "stdout",
     "output_type": "stream",
     "text": [
      "-------------------- Iteration --------------------\n",
      "Average Episodic Length: 200.0\n",
      "Average Episodic Return: -193.08\n",
      "Successfully save the model!\n"
     ]
    },
    {
     "name": "stderr",
     "output_type": "stream",
     "text": [
      "\r",
      " 81%|████████████████████████████████████████████████████████████████▌               | 242/300 [07:47<01:43,  1.78s/it]"
     ]
    },
    {
     "name": "stdout",
     "output_type": "stream",
     "text": [
      "-------------------- Iteration --------------------\n",
      "Average Episodic Length: 200.0\n",
      "Average Episodic Return: -224.07\n"
     ]
    },
    {
     "name": "stderr",
     "output_type": "stream",
     "text": [
      "\r",
      " 81%|████████████████████████████████████████████████████████████████▊               | 243/300 [07:49<01:41,  1.79s/it]"
     ]
    },
    {
     "name": "stdout",
     "output_type": "stream",
     "text": [
      "-------------------- Iteration --------------------\n",
      "Average Episodic Length: 200.0\n",
      "Average Episodic Return: -223.56\n",
      "Successfully save the model!\n"
     ]
    },
    {
     "name": "stderr",
     "output_type": "stream",
     "text": [
      "\r",
      " 81%|█████████████████████████████████████████████████████████████████               | 244/300 [07:51<01:41,  1.81s/it]"
     ]
    },
    {
     "name": "stdout",
     "output_type": "stream",
     "text": [
      "-------------------- Iteration --------------------\n",
      "Average Episodic Length: 200.0\n",
      "Average Episodic Return: -136.56\n",
      "Successfully save the model!\n"
     ]
    },
    {
     "name": "stderr",
     "output_type": "stream",
     "text": [
      "\r",
      " 82%|█████████████████████████████████████████████████████████████████▎              | 245/300 [07:53<01:41,  1.84s/it]"
     ]
    },
    {
     "name": "stdout",
     "output_type": "stream",
     "text": [
      "-------------------- Iteration --------------------\n",
      "Average Episodic Length: 200.0\n",
      "Average Episodic Return: -188.46\n"
     ]
    },
    {
     "name": "stderr",
     "output_type": "stream",
     "text": [
      "\r",
      " 82%|█████████████████████████████████████████████████████████████████▌              | 246/300 [07:55<01:39,  1.85s/it]"
     ]
    },
    {
     "name": "stdout",
     "output_type": "stream",
     "text": [
      "-------------------- Iteration --------------------\n",
      "Average Episodic Length: 200.0\n",
      "Average Episodic Return: -160.62\n",
      "Successfully save the model!\n"
     ]
    },
    {
     "name": "stderr",
     "output_type": "stream",
     "text": [
      "\r",
      " 82%|█████████████████████████████████████████████████████████████████▊              | 247/300 [07:57<01:38,  1.86s/it]"
     ]
    },
    {
     "name": "stdout",
     "output_type": "stream",
     "text": [
      "-------------------- Iteration --------------------\n",
      "Average Episodic Length: 200.0\n",
      "Average Episodic Return: -258.27\n"
     ]
    },
    {
     "name": "stderr",
     "output_type": "stream",
     "text": [
      "\r",
      " 83%|██████████████████████████████████████████████████████████████████▏             | 248/300 [07:59<01:35,  1.84s/it]"
     ]
    },
    {
     "name": "stdout",
     "output_type": "stream",
     "text": [
      "-------------------- Iteration --------------------\n",
      "Average Episodic Length: 200.0\n",
      "Average Episodic Return: -170.84\n",
      "Successfully save the model!\n"
     ]
    },
    {
     "name": "stderr",
     "output_type": "stream",
     "text": [
      "\r",
      " 83%|██████████████████████████████████████████████████████████████████▍             | 249/300 [08:00<01:33,  1.84s/it]"
     ]
    },
    {
     "name": "stdout",
     "output_type": "stream",
     "text": [
      "-------------------- Iteration --------------------\n",
      "Average Episodic Length: 200.0\n",
      "Average Episodic Return: -125.31\n",
      "Successfully save the model!\n"
     ]
    },
    {
     "name": "stderr",
     "output_type": "stream",
     "text": [
      "\r",
      " 83%|██████████████████████████████████████████████████████████████████▋             | 250/300 [08:02<01:32,  1.84s/it]"
     ]
    },
    {
     "name": "stdout",
     "output_type": "stream",
     "text": [
      "-------------------- Iteration --------------------\n",
      "Average Episodic Length: 200.0\n",
      "Average Episodic Return: -204.14\n"
     ]
    },
    {
     "name": "stderr",
     "output_type": "stream",
     "text": [
      "\r",
      " 84%|██████████████████████████████████████████████████████████████████▉             | 251/300 [08:04<01:28,  1.80s/it]"
     ]
    },
    {
     "name": "stdout",
     "output_type": "stream",
     "text": [
      "-------------------- Iteration --------------------\n",
      "Average Episodic Length: 200.0\n",
      "Average Episodic Return: -145.48\n",
      "Successfully save the model!\n"
     ]
    },
    {
     "name": "stderr",
     "output_type": "stream",
     "text": [
      "\r",
      " 84%|███████████████████████████████████████████████████████████████████▏            | 252/300 [08:06<01:28,  1.85s/it]"
     ]
    },
    {
     "name": "stdout",
     "output_type": "stream",
     "text": [
      "-------------------- Iteration --------------------\n",
      "Average Episodic Length: 200.0\n",
      "Average Episodic Return: -90.93\n",
      "Successfully save the model!\n"
     ]
    },
    {
     "name": "stderr",
     "output_type": "stream",
     "text": [
      "\r",
      " 84%|███████████████████████████████████████████████████████████████████▍            | 253/300 [08:08<01:30,  1.93s/it]"
     ]
    },
    {
     "name": "stdout",
     "output_type": "stream",
     "text": [
      "-------------------- Iteration --------------------\n",
      "Average Episodic Length: 200.0\n",
      "Average Episodic Return: -227.39\n"
     ]
    },
    {
     "name": "stderr",
     "output_type": "stream",
     "text": [
      "\r",
      " 85%|███████████████████████████████████████████████████████████████████▋            | 254/300 [08:10<01:32,  2.02s/it]"
     ]
    },
    {
     "name": "stdout",
     "output_type": "stream",
     "text": [
      "-------------------- Iteration --------------------\n",
      "Average Episodic Length: 200.0\n",
      "Average Episodic Return: -180.1\n",
      "Successfully save the model!\n"
     ]
    },
    {
     "name": "stderr",
     "output_type": "stream",
     "text": [
      "\r",
      " 85%|████████████████████████████████████████████████████████████████████            | 255/300 [08:13<01:37,  2.16s/it]"
     ]
    },
    {
     "name": "stdout",
     "output_type": "stream",
     "text": [
      "-------------------- Iteration --------------------\n",
      "Average Episodic Length: 200.0\n",
      "Average Episodic Return: -148.44\n",
      "Successfully save the model!\n"
     ]
    },
    {
     "name": "stderr",
     "output_type": "stream",
     "text": [
      "\r",
      " 85%|████████████████████████████████████████████████████████████████████▎           | 256/300 [08:15<01:41,  2.31s/it]"
     ]
    },
    {
     "name": "stdout",
     "output_type": "stream",
     "text": [
      "-------------------- Iteration --------------------\n",
      "Average Episodic Length: 200.0\n",
      "Average Episodic Return: -168.9\n"
     ]
    },
    {
     "name": "stderr",
     "output_type": "stream",
     "text": [
      "\r",
      " 86%|████████████████████████████████████████████████████████████████████▌           | 257/300 [08:18<01:43,  2.41s/it]"
     ]
    },
    {
     "name": "stdout",
     "output_type": "stream",
     "text": [
      "-------------------- Iteration --------------------\n",
      "Average Episodic Length: 200.0\n",
      "Average Episodic Return: -180.01\n"
     ]
    },
    {
     "name": "stderr",
     "output_type": "stream",
     "text": [
      "\r",
      " 86%|████████████████████████████████████████████████████████████████████▊           | 258/300 [08:20<01:36,  2.29s/it]"
     ]
    },
    {
     "name": "stdout",
     "output_type": "stream",
     "text": [
      "-------------------- Iteration --------------------\n",
      "Average Episodic Length: 200.0\n",
      "Average Episodic Return: -99.34\n",
      "Successfully save the model!\n"
     ]
    },
    {
     "name": "stderr",
     "output_type": "stream",
     "text": [
      "\r",
      " 86%|█████████████████████████████████████████████████████████████████████           | 259/300 [08:22<01:30,  2.20s/it]"
     ]
    },
    {
     "name": "stdout",
     "output_type": "stream",
     "text": [
      "-------------------- Iteration --------------------\n",
      "Average Episodic Length: 200.0\n",
      "Average Episodic Return: -134.84\n"
     ]
    },
    {
     "name": "stderr",
     "output_type": "stream",
     "text": [
      "\r",
      " 87%|█████████████████████████████████████████████████████████████████████▎          | 260/300 [08:24<01:25,  2.13s/it]"
     ]
    },
    {
     "name": "stdout",
     "output_type": "stream",
     "text": [
      "-------------------- Iteration --------------------\n",
      "Average Episodic Length: 200.0\n",
      "Average Episodic Return: -139.46\n"
     ]
    },
    {
     "name": "stderr",
     "output_type": "stream",
     "text": [
      "\r",
      " 87%|█████████████████████████████████████████████████████████████████████▌          | 261/300 [08:26<01:20,  2.07s/it]"
     ]
    },
    {
     "name": "stdout",
     "output_type": "stream",
     "text": [
      "-------------------- Iteration --------------------\n",
      "Average Episodic Length: 200.0\n",
      "Average Episodic Return: -145.63\n"
     ]
    },
    {
     "name": "stderr",
     "output_type": "stream",
     "text": [
      "\r",
      " 87%|█████████████████████████████████████████████████████████████████████▊          | 262/300 [08:28<01:15,  1.99s/it]"
     ]
    },
    {
     "name": "stdout",
     "output_type": "stream",
     "text": [
      "-------------------- Iteration --------------------\n",
      "Average Episodic Length: 200.0\n",
      "Average Episodic Return: -146.3\n"
     ]
    },
    {
     "name": "stderr",
     "output_type": "stream",
     "text": [
      "\r",
      " 88%|██████████████████████████████████████████████████████████████████████▏         | 263/300 [08:30<01:12,  1.96s/it]"
     ]
    },
    {
     "name": "stdout",
     "output_type": "stream",
     "text": [
      "-------------------- Iteration --------------------\n",
      "Average Episodic Length: 200.0\n",
      "Average Episodic Return: -139.63\n",
      "Successfully save the model!\n"
     ]
    },
    {
     "name": "stderr",
     "output_type": "stream",
     "text": [
      "\r",
      " 88%|██████████████████████████████████████████████████████████████████████▍         | 264/300 [08:32<01:10,  1.96s/it]"
     ]
    },
    {
     "name": "stdout",
     "output_type": "stream",
     "text": [
      "-------------------- Iteration --------------------\n",
      "Average Episodic Length: 200.0\n",
      "Average Episodic Return: -144.47\n"
     ]
    },
    {
     "name": "stderr",
     "output_type": "stream",
     "text": [
      "\r",
      " 88%|██████████████████████████████████████████████████████████████████████▋         | 265/300 [08:33<01:07,  1.93s/it]"
     ]
    },
    {
     "name": "stdout",
     "output_type": "stream",
     "text": [
      "-------------------- Iteration --------------------\n",
      "Average Episodic Length: 200.0\n",
      "Average Episodic Return: -120.22\n",
      "Successfully save the model!\n"
     ]
    },
    {
     "name": "stderr",
     "output_type": "stream",
     "text": [
      "\r",
      " 89%|██████████████████████████████████████████████████████████████████████▉         | 266/300 [08:35<01:06,  1.96s/it]"
     ]
    },
    {
     "name": "stdout",
     "output_type": "stream",
     "text": [
      "-------------------- Iteration --------------------\n",
      "Average Episodic Length: 200.0\n",
      "Average Episodic Return: -175.78\n"
     ]
    },
    {
     "name": "stderr",
     "output_type": "stream",
     "text": [
      "\r",
      " 89%|███████████████████████████████████████████████████████████████████████▏        | 267/300 [08:37<01:04,  1.95s/it]"
     ]
    },
    {
     "name": "stdout",
     "output_type": "stream",
     "text": [
      "-------------------- Iteration --------------------\n",
      "Average Episodic Length: 200.0\n",
      "Average Episodic Return: -151.28\n",
      "Successfully save the model!\n"
     ]
    },
    {
     "name": "stderr",
     "output_type": "stream",
     "text": [
      "\r",
      " 89%|███████████████████████████████████████████████████████████████████████▍        | 268/300 [08:39<01:01,  1.92s/it]"
     ]
    },
    {
     "name": "stdout",
     "output_type": "stream",
     "text": [
      "-------------------- Iteration --------------------\n",
      "Average Episodic Length: 200.0\n",
      "Average Episodic Return: -202.8\n"
     ]
    },
    {
     "name": "stderr",
     "output_type": "stream",
     "text": [
      "\r",
      " 90%|███████████████████████████████████████████████████████████████████████▋        | 269/300 [08:41<00:58,  1.90s/it]"
     ]
    },
    {
     "name": "stdout",
     "output_type": "stream",
     "text": [
      "-------------------- Iteration --------------------\n",
      "Average Episodic Length: 200.0\n",
      "Average Episodic Return: -120.68\n",
      "Successfully save the model!\n"
     ]
    },
    {
     "name": "stderr",
     "output_type": "stream",
     "text": [
      "\r",
      " 90%|████████████████████████████████████████████████████████████████████████        | 270/300 [08:43<00:57,  1.93s/it]"
     ]
    },
    {
     "name": "stdout",
     "output_type": "stream",
     "text": [
      "-------------------- Iteration --------------------\n",
      "Average Episodic Length: 200.0\n",
      "Average Episodic Return: -187.79\n"
     ]
    },
    {
     "name": "stderr",
     "output_type": "stream",
     "text": [
      "\r",
      " 90%|████████████████████████████████████████████████████████████████████████▎       | 271/300 [08:45<00:54,  1.89s/it]"
     ]
    },
    {
     "name": "stdout",
     "output_type": "stream",
     "text": [
      "-------------------- Iteration --------------------\n",
      "Average Episodic Length: 200.0\n",
      "Average Episodic Return: -195.04\n"
     ]
    },
    {
     "name": "stderr",
     "output_type": "stream",
     "text": [
      "\r",
      " 91%|████████████████████████████████████████████████████████████████████████▌       | 272/300 [08:47<00:52,  1.88s/it]"
     ]
    },
    {
     "name": "stdout",
     "output_type": "stream",
     "text": [
      "-------------------- Iteration --------------------\n",
      "Average Episodic Length: 200.0\n",
      "Average Episodic Return: -190.1\n",
      "Successfully save the model!\n"
     ]
    },
    {
     "name": "stderr",
     "output_type": "stream",
     "text": [
      "\r",
      " 91%|████████████████████████████████████████████████████████████████████████▊       | 273/300 [08:49<00:50,  1.87s/it]"
     ]
    },
    {
     "name": "stdout",
     "output_type": "stream",
     "text": [
      "-------------------- Iteration --------------------\n",
      "Average Episodic Length: 200.0\n",
      "Average Episodic Return: -135.74\n",
      "Successfully save the model!\n"
     ]
    },
    {
     "name": "stderr",
     "output_type": "stream",
     "text": [
      "\r",
      " 91%|█████████████████████████████████████████████████████████████████████████       | 274/300 [08:51<00:48,  1.88s/it]"
     ]
    },
    {
     "name": "stdout",
     "output_type": "stream",
     "text": [
      "-------------------- Iteration --------------------\n",
      "Average Episodic Length: 200.0\n",
      "Average Episodic Return: -171.95\n"
     ]
    },
    {
     "name": "stderr",
     "output_type": "stream",
     "text": [
      "\r",
      " 92%|█████████████████████████████████████████████████████████████████████████▎      | 275/300 [08:52<00:47,  1.88s/it]"
     ]
    },
    {
     "name": "stdout",
     "output_type": "stream",
     "text": [
      "-------------------- Iteration --------------------\n",
      "Average Episodic Length: 200.0\n",
      "Average Episodic Return: -275.86\n"
     ]
    },
    {
     "name": "stderr",
     "output_type": "stream",
     "text": [
      "\r",
      " 92%|█████████████████████████████████████████████████████████████████████████▌      | 276/300 [08:54<00:46,  1.93s/it]"
     ]
    },
    {
     "name": "stdout",
     "output_type": "stream",
     "text": [
      "-------------------- Iteration --------------------\n",
      "Average Episodic Length: 200.0\n",
      "Average Episodic Return: -137.17\n",
      "Successfully save the model!\n"
     ]
    },
    {
     "name": "stderr",
     "output_type": "stream",
     "text": [
      "\r",
      " 92%|█████████████████████████████████████████████████████████████████████████▊      | 277/300 [08:57<00:45,  2.00s/it]"
     ]
    },
    {
     "name": "stdout",
     "output_type": "stream",
     "text": [
      "-------------------- Iteration --------------------\n",
      "Average Episodic Length: 200.0\n",
      "Average Episodic Return: -159.54\n"
     ]
    },
    {
     "name": "stderr",
     "output_type": "stream",
     "text": [
      "\r",
      " 93%|██████████████████████████████████████████████████████████████████████████▏     | 278/300 [08:59<00:45,  2.08s/it]"
     ]
    },
    {
     "name": "stdout",
     "output_type": "stream",
     "text": [
      "-------------------- Iteration --------------------\n",
      "Average Episodic Length: 200.0\n",
      "Average Episodic Return: -201.94\n"
     ]
    },
    {
     "name": "stderr",
     "output_type": "stream",
     "text": [
      "\r",
      " 93%|██████████████████████████████████████████████████████████████████████████▍     | 279/300 [09:01<00:41,  1.99s/it]"
     ]
    },
    {
     "name": "stdout",
     "output_type": "stream",
     "text": [
      "-------------------- Iteration --------------------\n",
      "Average Episodic Length: 200.0\n",
      "Average Episodic Return: -157.97\n",
      "Successfully save the model!\n"
     ]
    },
    {
     "name": "stderr",
     "output_type": "stream",
     "text": [
      "\r",
      " 93%|██████████████████████████████████████████████████████████████████████████▋     | 280/300 [09:03<00:40,  2.00s/it]"
     ]
    },
    {
     "name": "stdout",
     "output_type": "stream",
     "text": [
      "-------------------- Iteration --------------------\n",
      "Average Episodic Length: 200.0\n",
      "Average Episodic Return: -274.35\n"
     ]
    },
    {
     "name": "stderr",
     "output_type": "stream",
     "text": [
      "\r",
      " 94%|██████████████████████████████████████████████████████████████████████████▉     | 281/300 [09:05<00:38,  2.03s/it]"
     ]
    },
    {
     "name": "stdout",
     "output_type": "stream",
     "text": [
      "-------------------- Iteration --------------------\n",
      "Average Episodic Length: 200.0\n",
      "Average Episodic Return: -241.98\n",
      "Successfully save the model!\n"
     ]
    },
    {
     "name": "stderr",
     "output_type": "stream",
     "text": [
      "\r",
      " 94%|███████████████████████████████████████████████████████████████████████████▏    | 282/300 [09:07<00:37,  2.06s/it]"
     ]
    },
    {
     "name": "stdout",
     "output_type": "stream",
     "text": [
      "-------------------- Iteration --------------------\n",
      "Average Episodic Length: 200.0\n",
      "Average Episodic Return: -183.84\n",
      "Successfully save the model!\n"
     ]
    },
    {
     "name": "stderr",
     "output_type": "stream",
     "text": [
      "\r",
      " 94%|███████████████████████████████████████████████████████████████████████████▍    | 283/300 [09:09<00:33,  1.99s/it]"
     ]
    },
    {
     "name": "stdout",
     "output_type": "stream",
     "text": [
      "-------------------- Iteration --------------------\n",
      "Average Episodic Length: 200.0\n",
      "Average Episodic Return: -102.6\n",
      "Successfully save the model!\n"
     ]
    },
    {
     "name": "stderr",
     "output_type": "stream",
     "text": [
      "\r",
      " 95%|███████████████████████████████████████████████████████████████████████████▋    | 284/300 [09:11<00:31,  2.00s/it]"
     ]
    },
    {
     "name": "stdout",
     "output_type": "stream",
     "text": [
      "-------------------- Iteration --------------------\n",
      "Average Episodic Length: 200.0\n",
      "Average Episodic Return: -183.05\n"
     ]
    },
    {
     "name": "stderr",
     "output_type": "stream",
     "text": [
      "\r",
      " 95%|████████████████████████████████████████████████████████████████████████████    | 285/300 [09:13<00:29,  1.97s/it]"
     ]
    },
    {
     "name": "stdout",
     "output_type": "stream",
     "text": [
      "-------------------- Iteration --------------------\n",
      "Average Episodic Length: 200.0\n",
      "Average Episodic Return: -154.72\n",
      "Successfully save the model!\n"
     ]
    },
    {
     "name": "stderr",
     "output_type": "stream",
     "text": [
      "\r",
      " 95%|████████████████████████████████████████████████████████████████████████████▎   | 286/300 [09:15<00:27,  1.94s/it]"
     ]
    },
    {
     "name": "stdout",
     "output_type": "stream",
     "text": [
      "-------------------- Iteration --------------------\n",
      "Average Episodic Length: 200.0\n",
      "Average Episodic Return: -187.37\n"
     ]
    },
    {
     "name": "stderr",
     "output_type": "stream",
     "text": [
      "\r",
      " 96%|████████████████████████████████████████████████████████████████████████████▌   | 287/300 [09:16<00:25,  1.94s/it]"
     ]
    },
    {
     "name": "stdout",
     "output_type": "stream",
     "text": [
      "-------------------- Iteration --------------------\n",
      "Average Episodic Length: 200.0\n",
      "Average Episodic Return: -181.88\n",
      "Successfully save the model!\n"
     ]
    },
    {
     "name": "stderr",
     "output_type": "stream",
     "text": [
      "\r",
      " 96%|████████████████████████████████████████████████████████████████████████████▊   | 288/300 [09:18<00:23,  1.92s/it]"
     ]
    },
    {
     "name": "stdout",
     "output_type": "stream",
     "text": [
      "-------------------- Iteration --------------------\n",
      "Average Episodic Length: 200.0\n",
      "Average Episodic Return: -194.56\n"
     ]
    },
    {
     "name": "stderr",
     "output_type": "stream",
     "text": [
      "\r",
      " 96%|█████████████████████████████████████████████████████████████████████████████   | 289/300 [09:20<00:20,  1.89s/it]"
     ]
    },
    {
     "name": "stdout",
     "output_type": "stream",
     "text": [
      "-------------------- Iteration --------------------\n",
      "Average Episodic Length: 200.0\n",
      "Average Episodic Return: -170.07\n",
      "Successfully save the model!\n"
     ]
    },
    {
     "name": "stderr",
     "output_type": "stream",
     "text": [
      "\r",
      " 97%|█████████████████████████████████████████████████████████████████████████████▎  | 290/300 [09:22<00:18,  1.90s/it]"
     ]
    },
    {
     "name": "stdout",
     "output_type": "stream",
     "text": [
      "-------------------- Iteration --------------------\n",
      "Average Episodic Length: 200.0\n",
      "Average Episodic Return: -187.32\n"
     ]
    },
    {
     "name": "stderr",
     "output_type": "stream",
     "text": [
      "\r",
      " 97%|█████████████████████████████████████████████████████████████████████████████▌  | 291/300 [09:24<00:16,  1.84s/it]"
     ]
    },
    {
     "name": "stdout",
     "output_type": "stream",
     "text": [
      "-------------------- Iteration --------------------\n",
      "Average Episodic Length: 200.0\n",
      "Average Episodic Return: -145.45\n",
      "Successfully save the model!\n"
     ]
    },
    {
     "name": "stderr",
     "output_type": "stream",
     "text": [
      "\r",
      " 97%|█████████████████████████████████████████████████████████████████████████████▊  | 292/300 [09:26<00:14,  1.83s/it]"
     ]
    },
    {
     "name": "stdout",
     "output_type": "stream",
     "text": [
      "-------------------- Iteration --------------------\n",
      "Average Episodic Length: 200.0\n",
      "Average Episodic Return: -198.38\n"
     ]
    },
    {
     "name": "stderr",
     "output_type": "stream",
     "text": [
      "\r",
      " 98%|██████████████████████████████████████████████████████████████████████████████▏ | 293/300 [09:27<00:12,  1.84s/it]"
     ]
    },
    {
     "name": "stdout",
     "output_type": "stream",
     "text": [
      "-------------------- Iteration --------------------\n",
      "Average Episodic Length: 200.0\n",
      "Average Episodic Return: -178.6\n",
      "Successfully save the model!\n"
     ]
    },
    {
     "name": "stderr",
     "output_type": "stream",
     "text": [
      "\r",
      " 98%|██████████████████████████████████████████████████████████████████████████████▍ | 294/300 [09:30<00:11,  1.95s/it]"
     ]
    },
    {
     "name": "stdout",
     "output_type": "stream",
     "text": [
      "-------------------- Iteration --------------------\n",
      "Average Episodic Length: 200.0\n",
      "Average Episodic Return: -180.56\n"
     ]
    },
    {
     "name": "stderr",
     "output_type": "stream",
     "text": [
      "\r",
      " 98%|██████████████████████████████████████████████████████████████████████████████▋ | 295/300 [09:32<00:10,  2.01s/it]"
     ]
    },
    {
     "name": "stdout",
     "output_type": "stream",
     "text": [
      "-------------------- Iteration --------------------\n",
      "Average Episodic Length: 200.0\n",
      "Average Episodic Return: -122.74\n",
      "Successfully save the model!\n"
     ]
    },
    {
     "name": "stderr",
     "output_type": "stream",
     "text": [
      "\r",
      " 99%|██████████████████████████████████████████████████████████████████████████████▉ | 296/300 [09:34<00:07,  1.97s/it]"
     ]
    },
    {
     "name": "stdout",
     "output_type": "stream",
     "text": [
      "-------------------- Iteration --------------------\n",
      "Average Episodic Length: 200.0\n",
      "Average Episodic Return: -112.74\n",
      "Successfully save the model!\n"
     ]
    },
    {
     "name": "stderr",
     "output_type": "stream",
     "text": [
      "\r",
      " 99%|███████████████████████████████████████████████████████████████████████████████▏| 297/300 [09:35<00:05,  1.88s/it]"
     ]
    },
    {
     "name": "stdout",
     "output_type": "stream",
     "text": [
      "-------------------- Iteration --------------------\n",
      "Average Episodic Length: 200.0\n",
      "Average Episodic Return: -121.38\n"
     ]
    },
    {
     "name": "stderr",
     "output_type": "stream",
     "text": [
      "\r",
      " 99%|███████████████████████████████████████████████████████████████████████████████▍| 298/300 [09:37<00:03,  1.84s/it]"
     ]
    },
    {
     "name": "stdout",
     "output_type": "stream",
     "text": [
      "-------------------- Iteration --------------------\n",
      "Average Episodic Length: 200.0\n",
      "Average Episodic Return: -140.37\n"
     ]
    },
    {
     "name": "stderr",
     "output_type": "stream",
     "text": [
      "\r",
      "100%|███████████████████████████████████████████████████████████████████████████████▋| 299/300 [09:39<00:01,  1.80s/it]"
     ]
    },
    {
     "name": "stdout",
     "output_type": "stream",
     "text": [
      "-------------------- Iteration --------------------\n",
      "Average Episodic Length: 200.0\n",
      "Average Episodic Return: -136.57\n",
      "Successfully save the model!\n"
     ]
    },
    {
     "name": "stderr",
     "output_type": "stream",
     "text": [
      "100%|████████████████████████████████████████████████████████████████████████████████| 300/300 [09:41<00:00,  1.94s/it]\n"
     ]
    }
   ],
   "source": [
    "ITERATIONS = 300\n",
    "model = PPO(network=FeedForwardNN, obs_dim = obs_dim, act_dim = act_dim, subgaussian = True, delta = 0.2)\n",
    "#model.actor.load_checkpoint()\n",
    "#model.critic.load_checkpoint()\n",
    "model.actor.train()\n",
    "model.critic.train()\n",
    "\n",
    "tmp = 0.0\n",
    "\n",
    "avg_ep_rews_log_02 = []\n",
    "\n",
    "prg_bar = tqdm(range(ITERATIONS))\n",
    "for i in prg_bar:\n",
    "    batch_obs, batch_acts, batch_rews, batch_log_probs, batch_lens = \\\n",
    "        rollout(model, env, hyperparameters['timesteps_per_batch'], hyperparameters['max_timesteps_per_episode'])\n",
    "\n",
    "    avg_ep_lens = np.mean(batch_lens)\n",
    "    avg_ep_rews = np.mean([np.sum(ep_rews) for ep_rews in batch_rews])\n",
    "    avg_ep_rews_log_02.append(avg_ep_rews)\n",
    "    \n",
    "    # Round decimal places for more aesthetic logging messages\n",
    "    avg_ep_lens = str(round(avg_ep_lens, 2))\n",
    "    avg_ep_rews_1 = str(round(avg_ep_rews, 2))\n",
    "\n",
    "    print(f\"-------------------- Iteration --------------------\", flush=True)\n",
    "    print(f\"Average Episodic Length: {avg_ep_lens}\", flush=True)\n",
    "    print(f\"Average Episodic Return: {avg_ep_rews_1}\", flush=True)\n",
    "    \n",
    "    model.learn(batch_obs, batch_acts, batch_rews, batch_log_probs)\n",
    "    if avg_ep_rews > tmp:\n",
    "        model.actor.save_checkpoint()\n",
    "        model.critic.save_checkpoint()\n",
    "        print(\"Successfully save the model!\",flush=True)\n",
    "    tmp = avg_ep_rews\n",
    "    "
   ]
  },
  {
   "cell_type": "code",
   "execution_count": 10,
   "id": "934067a0",
   "metadata": {},
   "outputs": [
    {
     "data": {
      "image/png": "[encoded data removed]",
      "text/plain": [
       "<Figure size 432x288 with 1 Axes>"
      ]
     },
     "metadata": {
      "needs_background": "light"
     },
     "output_type": "display_data"
    }
   ],
   "source": [
    "plt.plot(avg_ep_rews_log_02, color='red')\n",
    "plt.title(\"The average rewards for episodes per batch (Subgaussian (delta=0.2))\")\n",
    "plt.show()"
   ]
  },
  {
   "cell_type": "code",
   "execution_count": 13,
   "id": "8204fb66",
   "metadata": {},
   "outputs": [
    {
     "data": {
      "image/png": "[encoded data removed]",
      "text/plain": [
       "<Figure size 432x288 with 1 Axes>"
      ]
     },
     "metadata": {
      "needs_background": "light"
     },
     "output_type": "display_data"
    }
   ],
   "source": [
    "line0, = plt.plot(avg_ep_rews_log[0:300], color = 'blue')\n",
    "line1, = plt.plot(avg_ep_rews_log_02[0:300], color = 'red')\n",
    "plt.legend(handles = [line0, line1], labels =['Vanilla', 'Subgaussian(0.2)'], loc='lower right')\n",
    "plt.title(\"The average rewards for episodes per batch\")\n",
    "plt.show()"
   ]
  },
  {
   "cell_type": "code",
   "execution_count": 14,
   "id": "b1644ac6",
   "metadata": {},
   "outputs": [
    {
     "name": "stderr",
     "output_type": "stream",
     "text": [
      "\r",
      "  0%|                                                                                          | 0/300 [00:00<?, ?it/s]"
     ]
    },
    {
     "name": "stdout",
     "output_type": "stream",
     "text": [
      "-------------------- Iteration --------------------\n",
      "Average Episodic Length: 200.0\n",
      "Average Episodic Return: -1132.58\n"
     ]
    },
    {
     "name": "stderr",
     "output_type": "stream",
     "text": [
      "\r",
      "  0%|▎                                                                                 | 1/300 [00:02<10:09,  2.04s/it]"
     ]
    },
    {
     "name": "stdout",
     "output_type": "stream",
     "text": [
      "-------------------- Iteration --------------------\n",
      "Average Episodic Length: 200.0\n",
      "Average Episodic Return: -1294.59\n"
     ]
    },
    {
     "name": "stderr",
     "output_type": "stream",
     "text": [
      "\r",
      "  1%|▌                                                                                 | 2/300 [00:03<09:46,  1.97s/it]"
     ]
    },
    {
     "name": "stdout",
     "output_type": "stream",
     "text": [
      "-------------------- Iteration --------------------\n",
      "Average Episodic Length: 200.0\n",
      "Average Episodic Return: -1206.07\n",
      "Successfully save the model!\n"
     ]
    },
    {
     "name": "stderr",
     "output_type": "stream",
     "text": [
      "\r",
      "  1%|▊                                                                                 | 3/300 [00:05<09:49,  1.98s/it]"
     ]
    },
    {
     "name": "stdout",
     "output_type": "stream",
     "text": [
      "-------------------- Iteration --------------------\n",
      "Average Episodic Length: 200.0\n",
      "Average Episodic Return: -1173.47\n",
      "Successfully save the model!\n"
     ]
    },
    {
     "name": "stderr",
     "output_type": "stream",
     "text": [
      "\r",
      "  1%|█                                                                                 | 4/300 [00:07<09:28,  1.92s/it]"
     ]
    },
    {
     "name": "stdout",
     "output_type": "stream",
     "text": [
      "-------------------- Iteration --------------------\n",
      "Average Episodic Length: 200.0\n",
      "Average Episodic Return: -1090.87\n",
      "Successfully save the model!\n"
     ]
    },
    {
     "name": "stderr",
     "output_type": "stream",
     "text": [
      "\r",
      "  2%|█▎                                                                                | 5/300 [00:09<09:06,  1.85s/it]"
     ]
    },
    {
     "name": "stdout",
     "output_type": "stream",
     "text": [
      "-------------------- Iteration --------------------\n",
      "Average Episodic Length: 200.0\n",
      "Average Episodic Return: -1139.28\n"
     ]
    },
    {
     "name": "stderr",
     "output_type": "stream",
     "text": [
      "\r",
      "  2%|█▋                                                                                | 6/300 [00:11<08:51,  1.81s/it]"
     ]
    },
    {
     "name": "stdout",
     "output_type": "stream",
     "text": [
      "-------------------- Iteration --------------------\n",
      "Average Episodic Length: 200.0\n",
      "Average Episodic Return: -1114.33\n",
      "Successfully save the model!\n"
     ]
    },
    {
     "name": "stderr",
     "output_type": "stream",
     "text": [
      "\r",
      "  2%|█▉                                                                                | 7/300 [00:13<08:48,  1.80s/it]"
     ]
    },
    {
     "name": "stdout",
     "output_type": "stream",
     "text": [
      "-------------------- Iteration --------------------\n",
      "Average Episodic Length: 200.0\n",
      "Average Episodic Return: -1216.71\n"
     ]
    },
    {
     "name": "stderr",
     "output_type": "stream",
     "text": [
      "\r",
      "  3%|██▏                                                                               | 8/300 [00:14<08:35,  1.77s/it]"
     ]
    },
    {
     "name": "stdout",
     "output_type": "stream",
     "text": [
      "-------------------- Iteration --------------------\n",
      "Average Episodic Length: 200.0\n",
      "Average Episodic Return: -1124.47\n",
      "Successfully save the model!\n"
     ]
    },
    {
     "name": "stderr",
     "output_type": "stream",
     "text": [
      "\r",
      "  3%|██▍                                                                               | 9/300 [00:16<08:40,  1.79s/it]"
     ]
    },
    {
     "name": "stdout",
     "output_type": "stream",
     "text": [
      "-------------------- Iteration --------------------\n",
      "Average Episodic Length: 200.0\n",
      "Average Episodic Return: -1128.78\n"
     ]
    },
    {
     "name": "stderr",
     "output_type": "stream",
     "text": [
      "\r",
      "  3%|██▋                                                                              | 10/300 [00:18<08:28,  1.75s/it]"
     ]
    },
    {
     "name": "stdout",
     "output_type": "stream",
     "text": [
      "-------------------- Iteration --------------------\n",
      "Average Episodic Length: 200.0\n",
      "Average Episodic Return: -1163.68\n"
     ]
    },
    {
     "name": "stderr",
     "output_type": "stream",
     "text": [
      "\r",
      "  4%|██▉                                                                              | 11/300 [00:20<08:58,  1.86s/it]"
     ]
    },
    {
     "name": "stdout",
     "output_type": "stream",
     "text": [
      "-------------------- Iteration --------------------\n",
      "Average Episodic Length: 200.0\n",
      "Average Episodic Return: -1207.1\n"
     ]
    },
    {
     "name": "stderr",
     "output_type": "stream",
     "text": [
      "\r",
      "  4%|███▏                                                                             | 12/300 [00:22<08:51,  1.84s/it]"
     ]
    },
    {
     "name": "stdout",
     "output_type": "stream",
     "text": [
      "-------------------- Iteration --------------------\n",
      "Average Episodic Length: 200.0\n",
      "Average Episodic Return: -1110.01\n",
      "Successfully save the model!\n"
     ]
    },
    {
     "name": "stderr",
     "output_type": "stream",
     "text": [
      "\r",
      "  4%|███▌                                                                             | 13/300 [00:23<08:46,  1.83s/it]"
     ]
    },
    {
     "name": "stdout",
     "output_type": "stream",
     "text": [
      "-------------------- Iteration --------------------\n",
      "Average Episodic Length: 200.0\n",
      "Average Episodic Return: -1036.19\n",
      "Successfully save the model!\n"
     ]
    },
    {
     "name": "stderr",
     "output_type": "stream",
     "text": [
      "\r",
      "  5%|███▊                                                                             | 14/300 [00:25<08:53,  1.86s/it]"
     ]
    },
    {
     "name": "stdout",
     "output_type": "stream",
     "text": [
      "-------------------- Iteration --------------------\n",
      "Average Episodic Length: 200.0\n",
      "Average Episodic Return: -1199.22\n"
     ]
    },
    {
     "name": "stderr",
     "output_type": "stream",
     "text": [
      "\r",
      "  5%|████                                                                             | 15/300 [00:27<09:09,  1.93s/it]"
     ]
    },
    {
     "name": "stdout",
     "output_type": "stream",
     "text": [
      "-------------------- Iteration --------------------\n",
      "Average Episodic Length: 200.0\n",
      "Average Episodic Return: -1207.03\n"
     ]
    },
    {
     "name": "stderr",
     "output_type": "stream",
     "text": [
      "\r",
      "  5%|████▎                                                                            | 16/300 [00:29<09:13,  1.95s/it]"
     ]
    },
    {
     "name": "stdout",
     "output_type": "stream",
     "text": [
      "-------------------- Iteration --------------------\n",
      "Average Episodic Length: 200.0\n",
      "Average Episodic Return: -1103.35\n",
      "Successfully save the model!\n"
     ]
    },
    {
     "name": "stderr",
     "output_type": "stream",
     "text": [
      "\r",
      "  6%|████▌                                                                            | 17/300 [00:31<09:16,  1.97s/it]"
     ]
    },
    {
     "name": "stdout",
     "output_type": "stream",
     "text": [
      "-------------------- Iteration --------------------\n",
      "Average Episodic Length: 200.0\n",
      "Average Episodic Return: -1066.29\n",
      "Successfully save the model!\n"
     ]
    },
    {
     "name": "stderr",
     "output_type": "stream",
     "text": [
      "\r",
      "  6%|████▊                                                                            | 18/300 [00:33<09:13,  1.96s/it]"
     ]
    },
    {
     "name": "stdout",
     "output_type": "stream",
     "text": [
      "-------------------- Iteration --------------------\n",
      "Average Episodic Length: 200.0\n",
      "Average Episodic Return: -1124.98\n"
     ]
    },
    {
     "name": "stderr",
     "output_type": "stream",
     "text": [
      "\r",
      "  6%|█████▏                                                                           | 19/300 [00:35<09:04,  1.94s/it]"
     ]
    },
    {
     "name": "stdout",
     "output_type": "stream",
     "text": [
      "-------------------- Iteration --------------------\n",
      "Average Episodic Length: 200.0\n",
      "Average Episodic Return: -1145.28\n"
     ]
    },
    {
     "name": "stderr",
     "output_type": "stream",
     "text": [
      "\r",
      "  7%|█████▍                                                                           | 20/300 [00:37<09:10,  1.96s/it]"
     ]
    },
    {
     "name": "stdout",
     "output_type": "stream",
     "text": [
      "-------------------- Iteration --------------------\n",
      "Average Episodic Length: 200.0\n",
      "Average Episodic Return: -1111.11\n",
      "Successfully save the model!\n"
     ]
    },
    {
     "name": "stderr",
     "output_type": "stream",
     "text": [
      "\r",
      "  7%|█████▋                                                                           | 21/300 [00:39<08:57,  1.93s/it]"
     ]
    },
    {
     "name": "stdout",
     "output_type": "stream",
     "text": [
      "-------------------- Iteration --------------------\n",
      "Average Episodic Length: 200.0\n",
      "Average Episodic Return: -1149.08\n"
     ]
    },
    {
     "name": "stderr",
     "output_type": "stream",
     "text": [
      "\r",
      "  7%|█████▉                                                                           | 22/300 [00:41<08:49,  1.91s/it]"
     ]
    },
    {
     "name": "stdout",
     "output_type": "stream",
     "text": [
      "-------------------- Iteration --------------------\n",
      "Average Episodic Length: 200.0\n",
      "Average Episodic Return: -1054.31\n",
      "Successfully save the model!\n"
     ]
    },
    {
     "name": "stderr",
     "output_type": "stream",
     "text": [
      "\r",
      "  8%|██████▏                                                                          | 23/300 [00:43<08:31,  1.85s/it]"
     ]
    },
    {
     "name": "stdout",
     "output_type": "stream",
     "text": [
      "-------------------- Iteration --------------------\n",
      "Average Episodic Length: 200.0\n",
      "Average Episodic Return: -1054.05\n",
      "Successfully save the model!\n"
     ]
    },
    {
     "name": "stderr",
     "output_type": "stream",
     "text": [
      "\r",
      "  8%|██████▍                                                                          | 24/300 [00:45<08:31,  1.85s/it]"
     ]
    },
    {
     "name": "stdout",
     "output_type": "stream",
     "text": [
      "-------------------- Iteration --------------------\n",
      "Average Episodic Length: 200.0\n",
      "Average Episodic Return: -1122.66\n"
     ]
    },
    {
     "name": "stderr",
     "output_type": "stream",
     "text": [
      "\r",
      "  8%|██████▊                                                                          | 25/300 [00:47<08:36,  1.88s/it]"
     ]
    },
    {
     "name": "stdout",
     "output_type": "stream",
     "text": [
      "-------------------- Iteration --------------------\n",
      "Average Episodic Length: 200.0\n",
      "Average Episodic Return: -1089.28\n",
      "Successfully save the model!\n"
     ]
    },
    {
     "name": "stderr",
     "output_type": "stream",
     "text": [
      "\r",
      "  9%|███████                                                                          | 26/300 [00:48<08:30,  1.86s/it]"
     ]
    },
    {
     "name": "stdout",
     "output_type": "stream",
     "text": [
      "-------------------- Iteration --------------------\n",
      "Average Episodic Length: 200.0\n",
      "Average Episodic Return: -1051.75\n",
      "Successfully save the model!\n"
     ]
    },
    {
     "name": "stderr",
     "output_type": "stream",
     "text": [
      "\r",
      "  9%|███████▎                                                                         | 27/300 [00:50<08:17,  1.82s/it]"
     ]
    },
    {
     "name": "stdout",
     "output_type": "stream",
     "text": [
      "-------------------- Iteration --------------------\n",
      "Average Episodic Length: 200.0\n",
      "Average Episodic Return: -1138.49\n"
     ]
    },
    {
     "name": "stderr",
     "output_type": "stream",
     "text": [
      "\r",
      "  9%|███████▌                                                                         | 28/300 [00:52<08:05,  1.79s/it]"
     ]
    },
    {
     "name": "stdout",
     "output_type": "stream",
     "text": [
      "-------------------- Iteration --------------------\n",
      "Average Episodic Length: 200.0\n",
      "Average Episodic Return: -1097.75\n",
      "Successfully save the model!\n"
     ]
    },
    {
     "name": "stderr",
     "output_type": "stream",
     "text": [
      "\r",
      " 10%|███████▊                                                                         | 29/300 [00:54<08:14,  1.82s/it]"
     ]
    },
    {
     "name": "stdout",
     "output_type": "stream",
     "text": [
      "-------------------- Iteration --------------------\n",
      "Average Episodic Length: 200.0\n",
      "Average Episodic Return: -1023.84\n",
      "Successfully save the model!\n"
     ]
    },
    {
     "name": "stderr",
     "output_type": "stream",
     "text": [
      "\r",
      " 10%|████████                                                                         | 30/300 [00:56<08:19,  1.85s/it]"
     ]
    },
    {
     "name": "stdout",
     "output_type": "stream",
     "text": [
      "-------------------- Iteration --------------------\n",
      "Average Episodic Length: 200.0\n",
      "Average Episodic Return: -1029.76\n"
     ]
    },
    {
     "name": "stderr",
     "output_type": "stream",
     "text": [
      "\r",
      " 10%|████████▎                                                                        | 31/300 [00:57<08:07,  1.81s/it]"
     ]
    },
    {
     "name": "stdout",
     "output_type": "stream",
     "text": [
      "-------------------- Iteration --------------------\n",
      "Average Episodic Length: 200.0\n",
      "Average Episodic Return: -1056.91\n"
     ]
    },
    {
     "name": "stderr",
     "output_type": "stream",
     "text": [
      "\r",
      " 11%|████████▋                                                                        | 32/300 [00:59<08:09,  1.83s/it]"
     ]
    },
    {
     "name": "stdout",
     "output_type": "stream",
     "text": [
      "-------------------- Iteration --------------------\n",
      "Average Episodic Length: 200.0\n",
      "Average Episodic Return: -1034.07\n",
      "Successfully save the model!\n"
     ]
    },
    {
     "name": "stderr",
     "output_type": "stream",
     "text": [
      "\r",
      " 11%|████████▉                                                                        | 33/300 [01:02<08:55,  2.00s/it]"
     ]
    },
    {
     "name": "stdout",
     "output_type": "stream",
     "text": [
      "-------------------- Iteration --------------------\n",
      "Average Episodic Length: 200.0\n",
      "Average Episodic Return: -1062.85\n"
     ]
    },
    {
     "name": "stderr",
     "output_type": "stream",
     "text": [
      "\r",
      " 11%|█████████▏                                                                       | 34/300 [01:04<08:58,  2.02s/it]"
     ]
    },
    {
     "name": "stdout",
     "output_type": "stream",
     "text": [
      "-------------------- Iteration --------------------\n",
      "Average Episodic Length: 200.0\n",
      "Average Episodic Return: -1001.0\n",
      "Successfully save the model!\n"
     ]
    },
    {
     "name": "stderr",
     "output_type": "stream",
     "text": [
      "\r",
      " 12%|█████████▍                                                                       | 35/300 [01:06<08:51,  2.01s/it]"
     ]
    },
    {
     "name": "stdout",
     "output_type": "stream",
     "text": [
      "-------------------- Iteration --------------------\n",
      "Average Episodic Length: 200.0\n",
      "Average Episodic Return: -986.09\n",
      "Successfully save the model!\n"
     ]
    },
    {
     "name": "stderr",
     "output_type": "stream",
     "text": [
      "\r",
      " 12%|█████████▋                                                                       | 36/300 [01:08<08:38,  1.97s/it]"
     ]
    },
    {
     "name": "stdout",
     "output_type": "stream",
     "text": [
      "-------------------- Iteration --------------------\n",
      "Average Episodic Length: 200.0\n",
      "Average Episodic Return: -961.35\n",
      "Successfully save the model!\n"
     ]
    },
    {
     "name": "stderr",
     "output_type": "stream",
     "text": [
      "\r",
      " 12%|█████████▉                                                                       | 37/300 [01:09<08:20,  1.90s/it]"
     ]
    },
    {
     "name": "stdout",
     "output_type": "stream",
     "text": [
      "-------------------- Iteration --------------------\n",
      "Average Episodic Length: 200.0\n",
      "Average Episodic Return: -957.04\n",
      "Successfully save the model!\n"
     ]
    },
    {
     "name": "stderr",
     "output_type": "stream",
     "text": [
      "\r",
      " 13%|██████████▎                                                                      | 38/300 [01:11<08:07,  1.86s/it]"
     ]
    },
    {
     "name": "stdout",
     "output_type": "stream",
     "text": [
      "-------------------- Iteration --------------------\n",
      "Average Episodic Length: 200.0\n",
      "Average Episodic Return: -999.79\n"
     ]
    },
    {
     "name": "stderr",
     "output_type": "stream",
     "text": [
      "\r",
      " 13%|██████████▌                                                                      | 39/300 [01:13<08:02,  1.85s/it]"
     ]
    },
    {
     "name": "stdout",
     "output_type": "stream",
     "text": [
      "-------------------- Iteration --------------------\n",
      "Average Episodic Length: 200.0\n",
      "Average Episodic Return: -955.52\n",
      "Successfully save the model!\n"
     ]
    },
    {
     "name": "stderr",
     "output_type": "stream",
     "text": [
      "\r",
      " 13%|██████████▊                                                                      | 40/300 [01:15<07:51,  1.81s/it]"
     ]
    },
    {
     "name": "stdout",
     "output_type": "stream",
     "text": [
      "-------------------- Iteration --------------------\n",
      "Average Episodic Length: 200.0\n",
      "Average Episodic Return: -885.19\n",
      "Successfully save the model!\n"
     ]
    },
    {
     "name": "stderr",
     "output_type": "stream",
     "text": [
      "\r",
      " 14%|███████████                                                                      | 41/300 [01:16<07:45,  1.80s/it]"
     ]
    },
    {
     "name": "stdout",
     "output_type": "stream",
     "text": [
      "-------------------- Iteration --------------------\n",
      "Average Episodic Length: 200.0\n",
      "Average Episodic Return: -940.56\n"
     ]
    },
    {
     "name": "stderr",
     "output_type": "stream",
     "text": [
      "\r",
      " 14%|███████████▎                                                                     | 42/300 [01:18<07:37,  1.77s/it]"
     ]
    },
    {
     "name": "stdout",
     "output_type": "stream",
     "text": [
      "-------------------- Iteration --------------------\n",
      "Average Episodic Length: 200.0\n",
      "Average Episodic Return: -991.1\n"
     ]
    },
    {
     "name": "stderr",
     "output_type": "stream",
     "text": [
      "\r",
      " 14%|███████████▌                                                                     | 43/300 [01:20<07:51,  1.84s/it]"
     ]
    },
    {
     "name": "stdout",
     "output_type": "stream",
     "text": [
      "-------------------- Iteration --------------------\n",
      "Average Episodic Length: 200.0\n",
      "Average Episodic Return: -1010.44\n"
     ]
    },
    {
     "name": "stderr",
     "output_type": "stream",
     "text": [
      "\r",
      " 15%|███████████▉                                                                     | 44/300 [01:22<07:54,  1.85s/it]"
     ]
    },
    {
     "name": "stdout",
     "output_type": "stream",
     "text": [
      "-------------------- Iteration --------------------\n",
      "Average Episodic Length: 200.0\n",
      "Average Episodic Return: -860.96\n",
      "Successfully save the model!\n"
     ]
    },
    {
     "name": "stderr",
     "output_type": "stream",
     "text": [
      "\r",
      " 15%|████████████▏                                                                    | 45/300 [01:24<07:49,  1.84s/it]"
     ]
    },
    {
     "name": "stdout",
     "output_type": "stream",
     "text": [
      "-------------------- Iteration --------------------\n",
      "Average Episodic Length: 200.0\n",
      "Average Episodic Return: -997.42\n"
     ]
    },
    {
     "name": "stderr",
     "output_type": "stream",
     "text": [
      "\r",
      " 15%|████████████▍                                                                    | 46/300 [01:26<07:52,  1.86s/it]"
     ]
    },
    {
     "name": "stdout",
     "output_type": "stream",
     "text": [
      "-------------------- Iteration --------------------\n",
      "Average Episodic Length: 200.0\n",
      "Average Episodic Return: -898.82\n",
      "Successfully save the model!\n"
     ]
    },
    {
     "name": "stderr",
     "output_type": "stream",
     "text": [
      "\r",
      " 16%|████████████▋                                                                    | 47/300 [01:28<07:53,  1.87s/it]"
     ]
    },
    {
     "name": "stdout",
     "output_type": "stream",
     "text": [
      "-------------------- Iteration --------------------\n",
      "Average Episodic Length: 200.0\n",
      "Average Episodic Return: -1006.76\n"
     ]
    },
    {
     "name": "stderr",
     "output_type": "stream",
     "text": [
      "\r",
      " 16%|████████████▉                                                                    | 48/300 [01:29<07:44,  1.84s/it]"
     ]
    },
    {
     "name": "stdout",
     "output_type": "stream",
     "text": [
      "-------------------- Iteration --------------------\n",
      "Average Episodic Length: 200.0\n",
      "Average Episodic Return: -1058.42\n"
     ]
    },
    {
     "name": "stderr",
     "output_type": "stream",
     "text": [
      "\r",
      " 16%|█████████████▏                                                                   | 49/300 [01:31<07:39,  1.83s/it]"
     ]
    },
    {
     "name": "stdout",
     "output_type": "stream",
     "text": [
      "-------------------- Iteration --------------------\n",
      "Average Episodic Length: 200.0\n",
      "Average Episodic Return: -1049.78\n",
      "Successfully save the model!\n"
     ]
    },
    {
     "name": "stderr",
     "output_type": "stream",
     "text": [
      "\r",
      " 17%|█████████████▌                                                                   | 50/300 [01:33<07:32,  1.81s/it]"
     ]
    },
    {
     "name": "stdout",
     "output_type": "stream",
     "text": [
      "-------------------- Iteration --------------------\n",
      "Average Episodic Length: 200.0\n",
      "Average Episodic Return: -1006.85\n",
      "Successfully save the model!\n"
     ]
    },
    {
     "name": "stderr",
     "output_type": "stream",
     "text": [
      "\r",
      " 17%|█████████████▊                                                                   | 51/300 [01:35<07:36,  1.83s/it]"
     ]
    },
    {
     "name": "stdout",
     "output_type": "stream",
     "text": [
      "-------------------- Iteration --------------------\n",
      "Average Episodic Length: 200.0\n",
      "Average Episodic Return: -1097.3\n"
     ]
    },
    {
     "name": "stderr",
     "output_type": "stream",
     "text": [
      "\r",
      " 17%|██████████████                                                                   | 52/300 [01:37<07:31,  1.82s/it]"
     ]
    },
    {
     "name": "stdout",
     "output_type": "stream",
     "text": [
      "-------------------- Iteration --------------------\n",
      "Average Episodic Length: 200.0\n",
      "Average Episodic Return: -964.94\n",
      "Successfully save the model!\n"
     ]
    },
    {
     "name": "stderr",
     "output_type": "stream",
     "text": [
      "\r",
      " 18%|██████████████▎                                                                  | 53/300 [01:38<07:26,  1.81s/it]"
     ]
    },
    {
     "name": "stdout",
     "output_type": "stream",
     "text": [
      "-------------------- Iteration --------------------\n",
      "Average Episodic Length: 200.0\n",
      "Average Episodic Return: -974.79\n"
     ]
    },
    {
     "name": "stderr",
     "output_type": "stream",
     "text": [
      "\r",
      " 18%|██████████████▌                                                                  | 54/300 [01:40<07:24,  1.81s/it]"
     ]
    },
    {
     "name": "stdout",
     "output_type": "stream",
     "text": [
      "-------------------- Iteration --------------------\n",
      "Average Episodic Length: 200.0\n",
      "Average Episodic Return: -1000.77\n"
     ]
    },
    {
     "name": "stderr",
     "output_type": "stream",
     "text": [
      "\r",
      " 18%|██████████████▊                                                                  | 55/300 [01:42<07:28,  1.83s/it]"
     ]
    },
    {
     "name": "stdout",
     "output_type": "stream",
     "text": [
      "-------------------- Iteration --------------------\n",
      "Average Episodic Length: 200.0\n",
      "Average Episodic Return: -1017.38\n"
     ]
    },
    {
     "name": "stderr",
     "output_type": "stream",
     "text": [
      "\r",
      " 19%|███████████████                                                                  | 56/300 [01:44<07:33,  1.86s/it]"
     ]
    },
    {
     "name": "stdout",
     "output_type": "stream",
     "text": [
      "-------------------- Iteration --------------------\n",
      "Average Episodic Length: 200.0\n",
      "Average Episodic Return: -1066.79\n"
     ]
    },
    {
     "name": "stderr",
     "output_type": "stream",
     "text": [
      "\r",
      " 19%|███████████████▍                                                                 | 57/300 [01:46<07:36,  1.88s/it]"
     ]
    },
    {
     "name": "stdout",
     "output_type": "stream",
     "text": [
      "-------------------- Iteration --------------------\n",
      "Average Episodic Length: 200.0\n",
      "Average Episodic Return: -968.53\n",
      "Successfully save the model!\n"
     ]
    },
    {
     "name": "stderr",
     "output_type": "stream",
     "text": [
      "\r",
      " 19%|███████████████▋                                                                 | 58/300 [01:48<07:26,  1.85s/it]"
     ]
    },
    {
     "name": "stdout",
     "output_type": "stream",
     "text": [
      "-------------------- Iteration --------------------\n",
      "Average Episodic Length: 200.0\n",
      "Average Episodic Return: -1039.09\n"
     ]
    },
    {
     "name": "stderr",
     "output_type": "stream",
     "text": [
      "\r",
      " 20%|███████████████▉                                                                 | 59/300 [01:49<07:15,  1.81s/it]"
     ]
    },
    {
     "name": "stdout",
     "output_type": "stream",
     "text": [
      "-------------------- Iteration --------------------\n",
      "Average Episodic Length: 200.0\n",
      "Average Episodic Return: -1001.13\n",
      "Successfully save the model!\n"
     ]
    },
    {
     "name": "stderr",
     "output_type": "stream",
     "text": [
      "\r",
      " 20%|████████████████▏                                                                | 60/300 [01:51<07:08,  1.79s/it]"
     ]
    },
    {
     "name": "stdout",
     "output_type": "stream",
     "text": [
      "-------------------- Iteration --------------------\n",
      "Average Episodic Length: 200.0\n",
      "Average Episodic Return: -1038.62\n"
     ]
    },
    {
     "name": "stderr",
     "output_type": "stream",
     "text": [
      "\r",
      " 20%|████████████████▍                                                                | 61/300 [01:53<07:05,  1.78s/it]"
     ]
    },
    {
     "name": "stdout",
     "output_type": "stream",
     "text": [
      "-------------------- Iteration --------------------\n",
      "Average Episodic Length: 200.0\n",
      "Average Episodic Return: -985.26\n",
      "Successfully save the model!\n"
     ]
    },
    {
     "name": "stderr",
     "output_type": "stream",
     "text": [
      "\r",
      " 21%|████████████████▋                                                                | 62/300 [01:55<07:00,  1.77s/it]"
     ]
    },
    {
     "name": "stdout",
     "output_type": "stream",
     "text": [
      "-------------------- Iteration --------------------\n",
      "Average Episodic Length: 200.0\n",
      "Average Episodic Return: -1079.84\n"
     ]
    },
    {
     "name": "stderr",
     "output_type": "stream",
     "text": [
      "\r",
      " 21%|█████████████████                                                                | 63/300 [01:56<06:59,  1.77s/it]"
     ]
    },
    {
     "name": "stdout",
     "output_type": "stream",
     "text": [
      "-------------------- Iteration --------------------\n",
      "Average Episodic Length: 200.0\n",
      "Average Episodic Return: -1062.95\n",
      "Successfully save the model!\n"
     ]
    },
    {
     "name": "stderr",
     "output_type": "stream",
     "text": [
      "\r",
      " 21%|█████████████████▎                                                               | 64/300 [01:58<06:56,  1.77s/it]"
     ]
    },
    {
     "name": "stdout",
     "output_type": "stream",
     "text": [
      "-------------------- Iteration --------------------\n",
      "Average Episodic Length: 200.0\n",
      "Average Episodic Return: -950.69\n",
      "Successfully save the model!\n"
     ]
    },
    {
     "name": "stderr",
     "output_type": "stream",
     "text": [
      "\r",
      " 22%|█████████████████▌                                                               | 65/300 [02:00<06:58,  1.78s/it]"
     ]
    },
    {
     "name": "stdout",
     "output_type": "stream",
     "text": [
      "-------------------- Iteration --------------------\n",
      "Average Episodic Length: 200.0\n",
      "Average Episodic Return: -1008.44\n"
     ]
    },
    {
     "name": "stderr",
     "output_type": "stream",
     "text": [
      "\r",
      " 22%|█████████████████▊                                                               | 66/300 [02:02<07:10,  1.84s/it]"
     ]
    },
    {
     "name": "stdout",
     "output_type": "stream",
     "text": [
      "-------------------- Iteration --------------------\n",
      "Average Episodic Length: 200.0\n",
      "Average Episodic Return: -924.21\n",
      "Successfully save the model!\n"
     ]
    },
    {
     "name": "stderr",
     "output_type": "stream",
     "text": [
      "\r",
      " 22%|██████████████████                                                               | 67/300 [02:04<07:19,  1.89s/it]"
     ]
    },
    {
     "name": "stdout",
     "output_type": "stream",
     "text": [
      "-------------------- Iteration --------------------\n",
      "Average Episodic Length: 200.0\n",
      "Average Episodic Return: -913.22\n",
      "Successfully save the model!\n"
     ]
    },
    {
     "name": "stderr",
     "output_type": "stream",
     "text": [
      "\r",
      " 23%|██████████████████▎                                                              | 68/300 [02:06<07:19,  1.90s/it]"
     ]
    },
    {
     "name": "stdout",
     "output_type": "stream",
     "text": [
      "-------------------- Iteration --------------------\n",
      "Average Episodic Length: 200.0\n",
      "Average Episodic Return: -950.37\n"
     ]
    },
    {
     "name": "stderr",
     "output_type": "stream",
     "text": [
      "\r",
      " 23%|██████████████████▋                                                              | 69/300 [02:08<07:15,  1.89s/it]"
     ]
    },
    {
     "name": "stdout",
     "output_type": "stream",
     "text": [
      "-------------------- Iteration --------------------\n",
      "Average Episodic Length: 200.0\n",
      "Average Episodic Return: -975.91\n"
     ]
    },
    {
     "name": "stderr",
     "output_type": "stream",
     "text": [
      "\r",
      " 23%|██████████████████▉                                                              | 70/300 [02:10<07:09,  1.87s/it]"
     ]
    },
    {
     "name": "stdout",
     "output_type": "stream",
     "text": [
      "-------------------- Iteration --------------------\n",
      "Average Episodic Length: 200.0\n",
      "Average Episodic Return: -938.67\n",
      "Successfully save the model!\n"
     ]
    },
    {
     "name": "stderr",
     "output_type": "stream",
     "text": [
      "\r",
      " 24%|███████████████████▏                                                             | 71/300 [02:11<07:11,  1.88s/it]"
     ]
    },
    {
     "name": "stdout",
     "output_type": "stream",
     "text": [
      "-------------------- Iteration --------------------\n",
      "Average Episodic Length: 200.0\n",
      "Average Episodic Return: -965.0\n"
     ]
    },
    {
     "name": "stderr",
     "output_type": "stream",
     "text": [
      "\r",
      " 24%|███████████████████▍                                                             | 72/300 [02:14<07:23,  1.95s/it]"
     ]
    },
    {
     "name": "stdout",
     "output_type": "stream",
     "text": [
      "-------------------- Iteration --------------------\n",
      "Average Episodic Length: 200.0\n",
      "Average Episodic Return: -927.76\n",
      "Successfully save the model!\n"
     ]
    },
    {
     "name": "stderr",
     "output_type": "stream",
     "text": [
      "\r",
      " 24%|███████████████████▋                                                             | 73/300 [02:15<07:18,  1.93s/it]"
     ]
    },
    {
     "name": "stdout",
     "output_type": "stream",
     "text": [
      "-------------------- Iteration --------------------\n",
      "Average Episodic Length: 200.0\n",
      "Average Episodic Return: -929.32\n"
     ]
    },
    {
     "name": "stderr",
     "output_type": "stream",
     "text": [
      "\r",
      " 25%|███████████████████▉                                                             | 74/300 [02:17<07:09,  1.90s/it]"
     ]
    },
    {
     "name": "stdout",
     "output_type": "stream",
     "text": [
      "-------------------- Iteration --------------------\n",
      "Average Episodic Length: 200.0\n",
      "Average Episodic Return: -982.33\n"
     ]
    },
    {
     "name": "stderr",
     "output_type": "stream",
     "text": [
      "\r",
      " 25%|████████████████████▎                                                            | 75/300 [02:19<07:02,  1.88s/it]"
     ]
    },
    {
     "name": "stdout",
     "output_type": "stream",
     "text": [
      "-------------------- Iteration --------------------\n",
      "Average Episodic Length: 200.0\n",
      "Average Episodic Return: -921.66\n",
      "Successfully save the model!\n"
     ]
    },
    {
     "name": "stderr",
     "output_type": "stream",
     "text": [
      "\r",
      " 25%|████████████████████▌                                                            | 76/300 [02:21<07:02,  1.89s/it]"
     ]
    },
    {
     "name": "stdout",
     "output_type": "stream",
     "text": [
      "-------------------- Iteration --------------------\n",
      "Average Episodic Length: 200.0\n",
      "Average Episodic Return: -949.85\n"
     ]
    },
    {
     "name": "stderr",
     "output_type": "stream",
     "text": [
      "\r",
      " 26%|████████████████████▊                                                            | 77/300 [02:23<06:49,  1.84s/it]"
     ]
    },
    {
     "name": "stdout",
     "output_type": "stream",
     "text": [
      "-------------------- Iteration --------------------\n",
      "Average Episodic Length: 200.0\n",
      "Average Episodic Return: -889.34\n",
      "Successfully save the model!\n"
     ]
    },
    {
     "name": "stderr",
     "output_type": "stream",
     "text": [
      "\r",
      " 26%|█████████████████████                                                            | 78/300 [02:25<06:51,  1.85s/it]"
     ]
    },
    {
     "name": "stdout",
     "output_type": "stream",
     "text": [
      "-------------------- Iteration --------------------\n",
      "Average Episodic Length: 200.0\n",
      "Average Episodic Return: -909.22\n"
     ]
    },
    {
     "name": "stderr",
     "output_type": "stream",
     "text": [
      "\r",
      " 26%|█████████████████████▎                                                           | 79/300 [02:26<06:49,  1.85s/it]"
     ]
    },
    {
     "name": "stdout",
     "output_type": "stream",
     "text": [
      "-------------------- Iteration --------------------\n",
      "Average Episodic Length: 200.0\n",
      "Average Episodic Return: -964.67\n"
     ]
    },
    {
     "name": "stderr",
     "output_type": "stream",
     "text": [
      "\r",
      " 27%|█████████████████████▌                                                           | 80/300 [02:29<07:01,  1.92s/it]"
     ]
    },
    {
     "name": "stdout",
     "output_type": "stream",
     "text": [
      "-------------------- Iteration --------------------\n",
      "Average Episodic Length: 200.0\n",
      "Average Episodic Return: -857.12\n",
      "Successfully save the model!\n"
     ]
    },
    {
     "name": "stderr",
     "output_type": "stream",
     "text": [
      "\r",
      " 27%|█████████████████████▊                                                           | 81/300 [02:30<06:54,  1.89s/it]"
     ]
    },
    {
     "name": "stdout",
     "output_type": "stream",
     "text": [
      "-------------------- Iteration --------------------\n",
      "Average Episodic Length: 200.0\n",
      "Average Episodic Return: -889.29\n"
     ]
    },
    {
     "name": "stderr",
     "output_type": "stream",
     "text": [
      "\r",
      " 27%|██████████████████████▏                                                          | 82/300 [02:32<06:49,  1.88s/it]"
     ]
    },
    {
     "name": "stdout",
     "output_type": "stream",
     "text": [
      "-------------------- Iteration --------------------\n",
      "Average Episodic Length: 200.0\n",
      "Average Episodic Return: -860.15\n",
      "Successfully save the model!\n"
     ]
    },
    {
     "name": "stderr",
     "output_type": "stream",
     "text": [
      "\r",
      " 28%|██████████████████████▍                                                          | 83/300 [02:34<07:02,  1.95s/it]"
     ]
    },
    {
     "name": "stdout",
     "output_type": "stream",
     "text": [
      "-------------------- Iteration --------------------\n",
      "Average Episodic Length: 200.0\n",
      "Average Episodic Return: -873.46\n"
     ]
    },
    {
     "name": "stderr",
     "output_type": "stream",
     "text": [
      "\r",
      " 28%|██████████████████████▋                                                          | 84/300 [02:36<06:47,  1.89s/it]"
     ]
    },
    {
     "name": "stdout",
     "output_type": "stream",
     "text": [
      "-------------------- Iteration --------------------\n",
      "Average Episodic Length: 200.0\n",
      "Average Episodic Return: -956.36\n"
     ]
    },
    {
     "name": "stderr",
     "output_type": "stream",
     "text": [
      "\r",
      " 28%|██████████████████████▉                                                          | 85/300 [02:38<06:48,  1.90s/it]"
     ]
    },
    {
     "name": "stdout",
     "output_type": "stream",
     "text": [
      "-------------------- Iteration --------------------\n",
      "Average Episodic Length: 200.0\n",
      "Average Episodic Return: -807.9\n",
      "Successfully save the model!\n"
     ]
    },
    {
     "name": "stderr",
     "output_type": "stream",
     "text": [
      "\r",
      " 29%|███████████████████████▏                                                         | 86/300 [02:40<06:36,  1.85s/it]"
     ]
    },
    {
     "name": "stdout",
     "output_type": "stream",
     "text": [
      "-------------------- Iteration --------------------\n",
      "Average Episodic Length: 200.0\n",
      "Average Episodic Return: -836.94\n"
     ]
    },
    {
     "name": "stderr",
     "output_type": "stream",
     "text": [
      "\r",
      " 29%|███████████████████████▍                                                         | 87/300 [02:41<06:26,  1.81s/it]"
     ]
    },
    {
     "name": "stdout",
     "output_type": "stream",
     "text": [
      "-------------------- Iteration --------------------\n",
      "Average Episodic Length: 200.0\n",
      "Average Episodic Return: -885.98\n"
     ]
    },
    {
     "name": "stderr",
     "output_type": "stream",
     "text": [
      "\r",
      " 29%|███████████████████████▊                                                         | 88/300 [02:43<06:22,  1.80s/it]"
     ]
    },
    {
     "name": "stdout",
     "output_type": "stream",
     "text": [
      "-------------------- Iteration --------------------\n",
      "Average Episodic Length: 200.0\n",
      "Average Episodic Return: -739.45\n",
      "Successfully save the model!\n"
     ]
    },
    {
     "name": "stderr",
     "output_type": "stream",
     "text": [
      "\r",
      " 30%|████████████████████████                                                         | 89/300 [02:45<06:17,  1.79s/it]"
     ]
    },
    {
     "name": "stdout",
     "output_type": "stream",
     "text": [
      "-------------------- Iteration --------------------\n",
      "Average Episodic Length: 200.0\n",
      "Average Episodic Return: -887.0\n"
     ]
    },
    {
     "name": "stderr",
     "output_type": "stream",
     "text": [
      "\r",
      " 30%|████████████████████████▎                                                        | 90/300 [02:47<06:07,  1.75s/it]"
     ]
    },
    {
     "name": "stdout",
     "output_type": "stream",
     "text": [
      "-------------------- Iteration --------------------\n",
      "Average Episodic Length: 200.0\n",
      "Average Episodic Return: -807.45\n",
      "Successfully save the model!\n"
     ]
    },
    {
     "name": "stderr",
     "output_type": "stream",
     "text": [
      "\r",
      " 30%|████████████████████████▌                                                        | 91/300 [02:48<06:05,  1.75s/it]"
     ]
    },
    {
     "name": "stdout",
     "output_type": "stream",
     "text": [
      "-------------------- Iteration --------------------\n",
      "Average Episodic Length: 200.0\n",
      "Average Episodic Return: -843.79\n"
     ]
    },
    {
     "name": "stderr",
     "output_type": "stream",
     "text": [
      "\r",
      " 31%|████████████████████████▊                                                        | 92/300 [02:50<06:10,  1.78s/it]"
     ]
    },
    {
     "name": "stdout",
     "output_type": "stream",
     "text": [
      "-------------------- Iteration --------------------\n",
      "Average Episodic Length: 200.0\n",
      "Average Episodic Return: -773.75\n",
      "Successfully save the model!\n"
     ]
    },
    {
     "name": "stderr",
     "output_type": "stream",
     "text": [
      "\r",
      " 31%|█████████████████████████                                                        | 93/300 [02:52<06:19,  1.83s/it]"
     ]
    },
    {
     "name": "stdout",
     "output_type": "stream",
     "text": [
      "-------------------- Iteration --------------------\n",
      "Average Episodic Length: 200.0\n",
      "Average Episodic Return: -826.99\n"
     ]
    },
    {
     "name": "stderr",
     "output_type": "stream",
     "text": [
      "\r",
      " 31%|█████████████████████████▍                                                       | 94/300 [02:54<06:17,  1.83s/it]"
     ]
    },
    {
     "name": "stdout",
     "output_type": "stream",
     "text": [
      "-------------------- Iteration --------------------\n",
      "Average Episodic Length: 200.0\n",
      "Average Episodic Return: -806.87\n",
      "Successfully save the model!\n"
     ]
    },
    {
     "name": "stderr",
     "output_type": "stream",
     "text": [
      "\r",
      " 32%|█████████████████████████▋                                                       | 95/300 [02:56<06:16,  1.83s/it]"
     ]
    },
    {
     "name": "stdout",
     "output_type": "stream",
     "text": [
      "-------------------- Iteration --------------------\n",
      "Average Episodic Length: 200.0\n",
      "Average Episodic Return: -793.58\n",
      "Successfully save the model!\n"
     ]
    },
    {
     "name": "stderr",
     "output_type": "stream",
     "text": [
      "\r",
      " 32%|█████████████████████████▉                                                       | 96/300 [02:58<06:16,  1.85s/it]"
     ]
    },
    {
     "name": "stdout",
     "output_type": "stream",
     "text": [
      "-------------------- Iteration --------------------\n",
      "Average Episodic Length: 200.0\n",
      "Average Episodic Return: -890.24\n"
     ]
    },
    {
     "name": "stderr",
     "output_type": "stream",
     "text": [
      "\r",
      " 32%|██████████████████████████▏                                                      | 97/300 [03:00<06:38,  1.96s/it]"
     ]
    },
    {
     "name": "stdout",
     "output_type": "stream",
     "text": [
      "-------------------- Iteration --------------------\n",
      "Average Episodic Length: 200.0\n",
      "Average Episodic Return: -826.54\n",
      "Successfully save the model!\n"
     ]
    },
    {
     "name": "stderr",
     "output_type": "stream",
     "text": [
      "\r",
      " 33%|██████████████████████████▍                                                      | 98/300 [03:02<06:26,  1.92s/it]"
     ]
    },
    {
     "name": "stdout",
     "output_type": "stream",
     "text": [
      "-------------------- Iteration --------------------\n",
      "Average Episodic Length: 200.0\n",
      "Average Episodic Return: -850.21\n"
     ]
    },
    {
     "name": "stderr",
     "output_type": "stream",
     "text": [
      "\r",
      " 33%|██████████████████████████▋                                                      | 99/300 [03:04<06:14,  1.86s/it]"
     ]
    },
    {
     "name": "stdout",
     "output_type": "stream",
     "text": [
      "-------------------- Iteration --------------------\n",
      "Average Episodic Length: 200.0\n",
      "Average Episodic Return: -846.49\n",
      "Successfully save the model!\n"
     ]
    },
    {
     "name": "stderr",
     "output_type": "stream",
     "text": [
      "\r",
      " 33%|██████████████████████████▋                                                     | 100/300 [03:05<06:07,  1.84s/it]"
     ]
    },
    {
     "name": "stdout",
     "output_type": "stream",
     "text": [
      "-------------------- Iteration --------------------\n",
      "Average Episodic Length: 200.0\n",
      "Average Episodic Return: -871.55\n"
     ]
    },
    {
     "name": "stderr",
     "output_type": "stream",
     "text": [
      "\r",
      " 34%|██████████████████████████▉                                                     | 101/300 [03:07<06:07,  1.85s/it]"
     ]
    },
    {
     "name": "stdout",
     "output_type": "stream",
     "text": [
      "-------------------- Iteration --------------------\n",
      "Average Episodic Length: 200.0\n",
      "Average Episodic Return: -903.06\n"
     ]
    },
    {
     "name": "stderr",
     "output_type": "stream",
     "text": [
      "\r",
      " 34%|███████████████████████████▏                                                    | 102/300 [03:09<06:01,  1.83s/it]"
     ]
    },
    {
     "name": "stdout",
     "output_type": "stream",
     "text": [
      "-------------------- Iteration --------------------\n",
      "Average Episodic Length: 200.0\n",
      "Average Episodic Return: -849.65\n",
      "Successfully save the model!\n"
     ]
    },
    {
     "name": "stderr",
     "output_type": "stream",
     "text": [
      "\r",
      " 34%|███████████████████████████▍                                                    | 103/300 [03:11<06:04,  1.85s/it]"
     ]
    },
    {
     "name": "stdout",
     "output_type": "stream",
     "text": [
      "-------------------- Iteration --------------------\n",
      "Average Episodic Length: 200.0\n",
      "Average Episodic Return: -839.88\n",
      "Successfully save the model!\n"
     ]
    },
    {
     "name": "stderr",
     "output_type": "stream",
     "text": [
      "\r",
      " 35%|███████████████████████████▋                                                    | 104/300 [03:13<06:02,  1.85s/it]"
     ]
    },
    {
     "name": "stdout",
     "output_type": "stream",
     "text": [
      "-------------------- Iteration --------------------\n",
      "Average Episodic Length: 200.0\n",
      "Average Episodic Return: -844.44\n"
     ]
    },
    {
     "name": "stderr",
     "output_type": "stream",
     "text": [
      "\r",
      " 35%|████████████████████████████                                                    | 105/300 [03:15<06:04,  1.87s/it]"
     ]
    },
    {
     "name": "stdout",
     "output_type": "stream",
     "text": [
      "-------------------- Iteration --------------------\n",
      "Average Episodic Length: 200.0\n",
      "Average Episodic Return: -823.43\n",
      "Successfully save the model!\n"
     ]
    },
    {
     "name": "stderr",
     "output_type": "stream",
     "text": [
      "\r",
      " 35%|████████████████████████████▎                                                   | 106/300 [03:16<06:00,  1.86s/it]"
     ]
    },
    {
     "name": "stdout",
     "output_type": "stream",
     "text": [
      "-------------------- Iteration --------------------\n",
      "Average Episodic Length: 200.0\n",
      "Average Episodic Return: -774.08\n",
      "Successfully save the model!\n"
     ]
    },
    {
     "name": "stderr",
     "output_type": "stream",
     "text": [
      "\r",
      " 36%|████████████████████████████▌                                                   | 107/300 [03:18<06:05,  1.89s/it]"
     ]
    },
    {
     "name": "stdout",
     "output_type": "stream",
     "text": [
      "-------------------- Iteration --------------------\n",
      "Average Episodic Length: 200.0\n",
      "Average Episodic Return: -833.02\n"
     ]
    },
    {
     "name": "stderr",
     "output_type": "stream",
     "text": [
      "\r",
      " 36%|████████████████████████████▊                                                   | 108/300 [03:20<05:57,  1.86s/it]"
     ]
    },
    {
     "name": "stdout",
     "output_type": "stream",
     "text": [
      "-------------------- Iteration --------------------\n",
      "Average Episodic Length: 200.0\n",
      "Average Episodic Return: -722.16\n",
      "Successfully save the model!\n"
     ]
    },
    {
     "name": "stderr",
     "output_type": "stream",
     "text": [
      "\r",
      " 36%|█████████████████████████████                                                   | 109/300 [03:22<05:51,  1.84s/it]"
     ]
    },
    {
     "name": "stdout",
     "output_type": "stream",
     "text": [
      "-------------------- Iteration --------------------\n",
      "Average Episodic Length: 200.0\n",
      "Average Episodic Return: -692.49\n",
      "Successfully save the model!\n"
     ]
    },
    {
     "name": "stderr",
     "output_type": "stream",
     "text": [
      "\r",
      " 37%|█████████████████████████████▎                                                  | 110/300 [03:24<06:00,  1.90s/it]"
     ]
    },
    {
     "name": "stdout",
     "output_type": "stream",
     "text": [
      "-------------------- Iteration --------------------\n",
      "Average Episodic Length: 200.0\n",
      "Average Episodic Return: -759.08\n"
     ]
    },
    {
     "name": "stderr",
     "output_type": "stream",
     "text": [
      "\r",
      " 37%|█████████████████████████████▌                                                  | 111/300 [03:26<06:11,  1.96s/it]"
     ]
    },
    {
     "name": "stdout",
     "output_type": "stream",
     "text": [
      "-------------------- Iteration --------------------\n",
      "Average Episodic Length: 200.0\n",
      "Average Episodic Return: -756.72\n",
      "Successfully save the model!\n"
     ]
    },
    {
     "name": "stderr",
     "output_type": "stream",
     "text": [
      "\r",
      " 37%|█████████████████████████████▊                                                  | 112/300 [03:28<06:09,  1.97s/it]"
     ]
    },
    {
     "name": "stdout",
     "output_type": "stream",
     "text": [
      "-------------------- Iteration --------------------\n",
      "Average Episodic Length: 200.0\n",
      "Average Episodic Return: -699.83\n",
      "Successfully save the model!\n"
     ]
    },
    {
     "name": "stderr",
     "output_type": "stream",
     "text": [
      "\r",
      " 38%|██████████████████████████████▏                                                 | 113/300 [03:30<06:13,  2.00s/it]"
     ]
    },
    {
     "name": "stdout",
     "output_type": "stream",
     "text": [
      "-------------------- Iteration --------------------\n",
      "Average Episodic Length: 200.0\n",
      "Average Episodic Return: -733.68\n"
     ]
    },
    {
     "name": "stderr",
     "output_type": "stream",
     "text": [
      "\r",
      " 38%|██████████████████████████████▍                                                 | 114/300 [03:32<05:55,  1.91s/it]"
     ]
    },
    {
     "name": "stdout",
     "output_type": "stream",
     "text": [
      "-------------------- Iteration --------------------\n",
      "Average Episodic Length: 200.0\n",
      "Average Episodic Return: -747.57\n"
     ]
    },
    {
     "name": "stderr",
     "output_type": "stream",
     "text": [
      "\r",
      " 38%|██████████████████████████████▋                                                 | 115/300 [03:34<06:06,  1.98s/it]"
     ]
    },
    {
     "name": "stdout",
     "output_type": "stream",
     "text": [
      "-------------------- Iteration --------------------\n",
      "Average Episodic Length: 200.0\n",
      "Average Episodic Return: -711.09\n",
      "Successfully save the model!\n"
     ]
    },
    {
     "name": "stderr",
     "output_type": "stream",
     "text": [
      "\r",
      " 39%|██████████████████████████████▉                                                 | 116/300 [03:36<06:05,  1.99s/it]"
     ]
    },
    {
     "name": "stdout",
     "output_type": "stream",
     "text": [
      "-------------------- Iteration --------------------\n",
      "Average Episodic Length: 200.0\n",
      "Average Episodic Return: -748.14\n"
     ]
    },
    {
     "name": "stderr",
     "output_type": "stream",
     "text": [
      "\r",
      " 39%|███████████████████████████████▏                                                | 117/300 [03:38<05:49,  1.91s/it]"
     ]
    },
    {
     "name": "stdout",
     "output_type": "stream",
     "text": [
      "-------------------- Iteration --------------------\n",
      "Average Episodic Length: 200.0\n",
      "Average Episodic Return: -693.14\n",
      "Successfully save the model!\n"
     ]
    },
    {
     "name": "stderr",
     "output_type": "stream",
     "text": [
      "\r",
      " 39%|███████████████████████████████▍                                                | 118/300 [03:40<05:43,  1.89s/it]"
     ]
    },
    {
     "name": "stdout",
     "output_type": "stream",
     "text": [
      "-------------------- Iteration --------------------\n",
      "Average Episodic Length: 200.0\n",
      "Average Episodic Return: -791.37\n"
     ]
    },
    {
     "name": "stderr",
     "output_type": "stream",
     "text": [
      "\r",
      " 40%|███████████████████████████████▋                                                | 119/300 [03:41<05:35,  1.85s/it]"
     ]
    },
    {
     "name": "stdout",
     "output_type": "stream",
     "text": [
      "-------------------- Iteration --------------------\n",
      "Average Episodic Length: 200.0\n",
      "Average Episodic Return: -713.15\n",
      "Successfully save the model!\n"
     ]
    },
    {
     "name": "stderr",
     "output_type": "stream",
     "text": [
      "\r",
      " 40%|████████████████████████████████                                                | 120/300 [03:43<05:26,  1.81s/it]"
     ]
    },
    {
     "name": "stdout",
     "output_type": "stream",
     "text": [
      "-------------------- Iteration --------------------\n",
      "Average Episodic Length: 200.0\n",
      "Average Episodic Return: -792.63\n"
     ]
    },
    {
     "name": "stderr",
     "output_type": "stream",
     "text": [
      "\r",
      " 40%|████████████████████████████████▎                                               | 121/300 [03:45<05:24,  1.81s/it]"
     ]
    },
    {
     "name": "stdout",
     "output_type": "stream",
     "text": [
      "-------------------- Iteration --------------------\n",
      "Average Episodic Length: 200.0\n",
      "Average Episodic Return: -750.5\n",
      "Successfully save the model!\n"
     ]
    },
    {
     "name": "stderr",
     "output_type": "stream",
     "text": [
      "\r",
      " 41%|████████████████████████████████▌                                               | 122/300 [03:47<05:22,  1.81s/it]"
     ]
    },
    {
     "name": "stdout",
     "output_type": "stream",
     "text": [
      "-------------------- Iteration --------------------\n",
      "Average Episodic Length: 200.0\n",
      "Average Episodic Return: -630.22\n",
      "Successfully save the model!\n"
     ]
    },
    {
     "name": "stderr",
     "output_type": "stream",
     "text": [
      "\r",
      " 41%|████████████████████████████████▊                                               | 123/300 [03:48<05:13,  1.77s/it]"
     ]
    },
    {
     "name": "stdout",
     "output_type": "stream",
     "text": [
      "-------------------- Iteration --------------------\n",
      "Average Episodic Length: 200.0\n",
      "Average Episodic Return: -827.6\n"
     ]
    },
    {
     "name": "stderr",
     "output_type": "stream",
     "text": [
      "\r",
      " 41%|█████████████████████████████████                                               | 124/300 [03:50<05:12,  1.77s/it]"
     ]
    },
    {
     "name": "stdout",
     "output_type": "stream",
     "text": [
      "-------------------- Iteration --------------------\n",
      "Average Episodic Length: 200.0\n",
      "Average Episodic Return: -907.23\n"
     ]
    },
    {
     "name": "stderr",
     "output_type": "stream",
     "text": [
      "\r",
      " 42%|█████████████████████████████████▎                                              | 125/300 [03:52<05:20,  1.83s/it]"
     ]
    },
    {
     "name": "stdout",
     "output_type": "stream",
     "text": [
      "-------------------- Iteration --------------------\n",
      "Average Episodic Length: 200.0\n",
      "Average Episodic Return: -872.92\n",
      "Successfully save the model!\n"
     ]
    },
    {
     "name": "stderr",
     "output_type": "stream",
     "text": [
      "\r",
      " 42%|█████████████████████████████████▌                                              | 126/300 [03:54<05:17,  1.83s/it]"
     ]
    },
    {
     "name": "stdout",
     "output_type": "stream",
     "text": [
      "-------------------- Iteration --------------------\n",
      "Average Episodic Length: 200.0\n",
      "Average Episodic Return: -789.36\n",
      "Successfully save the model!\n"
     ]
    },
    {
     "name": "stderr",
     "output_type": "stream",
     "text": [
      "\r",
      " 42%|█████████████████████████████████▊                                              | 127/300 [03:56<05:24,  1.88s/it]"
     ]
    },
    {
     "name": "stdout",
     "output_type": "stream",
     "text": [
      "-------------------- Iteration --------------------\n",
      "Average Episodic Length: 200.0\n",
      "Average Episodic Return: -701.65\n",
      "Successfully save the model!\n"
     ]
    },
    {
     "name": "stderr",
     "output_type": "stream",
     "text": [
      "\r",
      " 43%|██████████████████████████████████▏                                             | 128/300 [03:58<05:19,  1.86s/it]"
     ]
    },
    {
     "name": "stdout",
     "output_type": "stream",
     "text": [
      "-------------------- Iteration --------------------\n",
      "Average Episodic Length: 200.0\n",
      "Average Episodic Return: -881.81\n"
     ]
    },
    {
     "name": "stderr",
     "output_type": "stream",
     "text": [
      "\r",
      " 43%|██████████████████████████████████▍                                             | 129/300 [04:00<05:21,  1.88s/it]"
     ]
    },
    {
     "name": "stdout",
     "output_type": "stream",
     "text": [
      "-------------------- Iteration --------------------\n",
      "Average Episodic Length: 200.0\n",
      "Average Episodic Return: -785.34\n",
      "Successfully save the model!\n"
     ]
    },
    {
     "name": "stderr",
     "output_type": "stream",
     "text": [
      "\r",
      " 43%|██████████████████████████████████▋                                             | 130/300 [04:02<05:18,  1.87s/it]"
     ]
    },
    {
     "name": "stdout",
     "output_type": "stream",
     "text": [
      "-------------------- Iteration --------------------\n",
      "Average Episodic Length: 200.0\n",
      "Average Episodic Return: -912.31\n"
     ]
    },
    {
     "name": "stderr",
     "output_type": "stream",
     "text": [
      "\r",
      " 44%|██████████████████████████████████▉                                             | 131/300 [04:03<05:14,  1.86s/it]"
     ]
    },
    {
     "name": "stdout",
     "output_type": "stream",
     "text": [
      "-------------------- Iteration --------------------\n",
      "Average Episodic Length: 200.0\n",
      "Average Episodic Return: -776.04\n",
      "Successfully save the model!\n"
     ]
    },
    {
     "name": "stderr",
     "output_type": "stream",
     "text": [
      "\r",
      " 44%|███████████████████████████████████▏                                            | 132/300 [04:05<05:14,  1.87s/it]"
     ]
    },
    {
     "name": "stdout",
     "output_type": "stream",
     "text": [
      "-------------------- Iteration --------------------\n",
      "Average Episodic Length: 200.0\n",
      "Average Episodic Return: -716.66\n",
      "Successfully save the model!\n"
     ]
    },
    {
     "name": "stderr",
     "output_type": "stream",
     "text": [
      "\r",
      " 44%|███████████████████████████████████▍                                            | 133/300 [04:07<05:01,  1.81s/it]"
     ]
    },
    {
     "name": "stdout",
     "output_type": "stream",
     "text": [
      "-------------------- Iteration --------------------\n",
      "Average Episodic Length: 200.0\n",
      "Average Episodic Return: -735.3\n"
     ]
    },
    {
     "name": "stderr",
     "output_type": "stream",
     "text": [
      "\r",
      " 45%|███████████████████████████████████▋                                            | 134/300 [04:09<04:56,  1.79s/it]"
     ]
    },
    {
     "name": "stdout",
     "output_type": "stream",
     "text": [
      "-------------------- Iteration --------------------\n",
      "Average Episodic Length: 200.0\n",
      "Average Episodic Return: -663.25\n",
      "Successfully save the model!\n"
     ]
    },
    {
     "name": "stderr",
     "output_type": "stream",
     "text": [
      "\r",
      " 45%|████████████████████████████████████                                            | 135/300 [04:11<05:00,  1.82s/it]"
     ]
    },
    {
     "name": "stdout",
     "output_type": "stream",
     "text": [
      "-------------------- Iteration --------------------\n",
      "Average Episodic Length: 200.0\n",
      "Average Episodic Return: -668.82\n"
     ]
    },
    {
     "name": "stderr",
     "output_type": "stream",
     "text": [
      "\r",
      " 45%|████████████████████████████████████▎                                           | 136/300 [04:12<04:53,  1.79s/it]"
     ]
    },
    {
     "name": "stdout",
     "output_type": "stream",
     "text": [
      "-------------------- Iteration --------------------\n",
      "Average Episodic Length: 200.0\n",
      "Average Episodic Return: -720.29\n"
     ]
    },
    {
     "name": "stderr",
     "output_type": "stream",
     "text": [
      "\r",
      " 46%|████████████████████████████████████▌                                           | 137/300 [04:14<04:50,  1.78s/it]"
     ]
    },
    {
     "name": "stdout",
     "output_type": "stream",
     "text": [
      "-------------------- Iteration --------------------\n",
      "Average Episodic Length: 200.0\n",
      "Average Episodic Return: -651.96\n",
      "Successfully save the model!\n"
     ]
    },
    {
     "name": "stderr",
     "output_type": "stream",
     "text": [
      "\r",
      " 46%|████████████████████████████████████▊                                           | 138/300 [04:16<04:49,  1.79s/it]"
     ]
    },
    {
     "name": "stdout",
     "output_type": "stream",
     "text": [
      "-------------------- Iteration --------------------\n",
      "Average Episodic Length: 200.0\n",
      "Average Episodic Return: -693.46\n"
     ]
    },
    {
     "name": "stderr",
     "output_type": "stream",
     "text": [
      "\r",
      " 46%|█████████████████████████████████████                                           | 139/300 [04:18<04:45,  1.77s/it]"
     ]
    },
    {
     "name": "stdout",
     "output_type": "stream",
     "text": [
      "-------------------- Iteration --------------------\n",
      "Average Episodic Length: 200.0\n",
      "Average Episodic Return: -758.39\n"
     ]
    },
    {
     "name": "stderr",
     "output_type": "stream",
     "text": [
      "\r",
      " 47%|█████████████████████████████████████▎                                          | 140/300 [04:19<04:46,  1.79s/it]"
     ]
    },
    {
     "name": "stdout",
     "output_type": "stream",
     "text": [
      "-------------------- Iteration --------------------\n",
      "Average Episodic Length: 200.0\n",
      "Average Episodic Return: -731.25\n",
      "Successfully save the model!\n"
     ]
    },
    {
     "name": "stderr",
     "output_type": "stream",
     "text": [
      "\r",
      " 47%|█████████████████████████████████████▌                                          | 141/300 [04:22<05:04,  1.92s/it]"
     ]
    },
    {
     "name": "stdout",
     "output_type": "stream",
     "text": [
      "-------------------- Iteration --------------------\n",
      "Average Episodic Length: 200.0\n",
      "Average Episodic Return: -653.77\n",
      "Successfully save the model!\n"
     ]
    },
    {
     "name": "stderr",
     "output_type": "stream",
     "text": [
      "\r",
      " 47%|█████████████████████████████████████▊                                          | 142/300 [04:24<05:03,  1.92s/it]"
     ]
    },
    {
     "name": "stdout",
     "output_type": "stream",
     "text": [
      "-------------------- Iteration --------------------\n",
      "Average Episodic Length: 200.0\n",
      "Average Episodic Return: -703.34\n"
     ]
    },
    {
     "name": "stderr",
     "output_type": "stream",
     "text": [
      "\r",
      " 48%|██████████████████████████████████████▏                                         | 143/300 [04:26<05:03,  1.93s/it]"
     ]
    },
    {
     "name": "stdout",
     "output_type": "stream",
     "text": [
      "-------------------- Iteration --------------------\n",
      "Average Episodic Length: 200.0\n",
      "Average Episodic Return: -691.36\n",
      "Successfully save the model!\n"
     ]
    },
    {
     "name": "stderr",
     "output_type": "stream",
     "text": [
      "\r",
      " 48%|██████████████████████████████████████▍                                         | 144/300 [04:27<04:55,  1.90s/it]"
     ]
    },
    {
     "name": "stdout",
     "output_type": "stream",
     "text": [
      "-------------------- Iteration --------------------\n",
      "Average Episodic Length: 200.0\n",
      "Average Episodic Return: -746.45\n"
     ]
    },
    {
     "name": "stderr",
     "output_type": "stream",
     "text": [
      "\r",
      " 48%|██████████████████████████████████████▋                                         | 145/300 [04:29<04:46,  1.85s/it]"
     ]
    },
    {
     "name": "stdout",
     "output_type": "stream",
     "text": [
      "-------------------- Iteration --------------------\n",
      "Average Episodic Length: 200.0\n",
      "Average Episodic Return: -704.89\n",
      "Successfully save the model!\n"
     ]
    },
    {
     "name": "stderr",
     "output_type": "stream",
     "text": [
      "\r",
      " 49%|██████████████████████████████████████▉                                         | 146/300 [04:31<04:45,  1.85s/it]"
     ]
    },
    {
     "name": "stdout",
     "output_type": "stream",
     "text": [
      "-------------------- Iteration --------------------\n",
      "Average Episodic Length: 200.0\n",
      "Average Episodic Return: -661.97\n",
      "Successfully save the model!\n"
     ]
    },
    {
     "name": "stderr",
     "output_type": "stream",
     "text": [
      "\r",
      " 49%|███████████████████████████████████████▏                                        | 147/300 [04:33<04:41,  1.84s/it]"
     ]
    },
    {
     "name": "stdout",
     "output_type": "stream",
     "text": [
      "-------------------- Iteration --------------------\n",
      "Average Episodic Length: 200.0\n",
      "Average Episodic Return: -627.21\n",
      "Successfully save the model!\n"
     ]
    },
    {
     "name": "stderr",
     "output_type": "stream",
     "text": [
      "\r",
      " 49%|███████████████████████████████████████▍                                        | 148/300 [04:35<04:43,  1.87s/it]"
     ]
    },
    {
     "name": "stdout",
     "output_type": "stream",
     "text": [
      "-------------------- Iteration --------------------\n",
      "Average Episodic Length: 200.0\n",
      "Average Episodic Return: -684.09\n"
     ]
    },
    {
     "name": "stderr",
     "output_type": "stream",
     "text": [
      "\r",
      " 50%|███████████████████████████████████████▋                                        | 149/300 [04:37<04:48,  1.91s/it]"
     ]
    },
    {
     "name": "stdout",
     "output_type": "stream",
     "text": [
      "-------------------- Iteration --------------------\n",
      "Average Episodic Length: 200.0\n",
      "Average Episodic Return: -700.8\n"
     ]
    },
    {
     "name": "stderr",
     "output_type": "stream",
     "text": [
      "\r",
      " 50%|████████████████████████████████████████                                        | 150/300 [04:39<04:45,  1.90s/it]"
     ]
    },
    {
     "name": "stdout",
     "output_type": "stream",
     "text": [
      "-------------------- Iteration --------------------\n",
      "Average Episodic Length: 200.0\n",
      "Average Episodic Return: -614.12\n",
      "Successfully save the model!\n"
     ]
    },
    {
     "name": "stderr",
     "output_type": "stream",
     "text": [
      "\r",
      " 50%|████████████████████████████████████████▎                                       | 151/300 [04:41<04:42,  1.90s/it]"
     ]
    },
    {
     "name": "stdout",
     "output_type": "stream",
     "text": [
      "-------------------- Iteration --------------------\n",
      "Average Episodic Length: 200.0\n",
      "Average Episodic Return: -687.55\n"
     ]
    },
    {
     "name": "stderr",
     "output_type": "stream",
     "text": [
      "\r",
      " 51%|████████████████████████████████████████▌                                       | 152/300 [04:42<04:41,  1.91s/it]"
     ]
    },
    {
     "name": "stdout",
     "output_type": "stream",
     "text": [
      "-------------------- Iteration --------------------\n",
      "Average Episodic Length: 200.0\n",
      "Average Episodic Return: -597.22\n",
      "Successfully save the model!\n"
     ]
    },
    {
     "name": "stderr",
     "output_type": "stream",
     "text": [
      "\r",
      " 51%|████████████████████████████████████████▊                                       | 153/300 [04:44<04:44,  1.93s/it]"
     ]
    },
    {
     "name": "stdout",
     "output_type": "stream",
     "text": [
      "-------------------- Iteration --------------------\n",
      "Average Episodic Length: 200.0\n",
      "Average Episodic Return: -697.01\n"
     ]
    },
    {
     "name": "stderr",
     "output_type": "stream",
     "text": [
      "\r",
      " 51%|█████████████████████████████████████████                                       | 154/300 [04:47<04:47,  1.97s/it]"
     ]
    },
    {
     "name": "stdout",
     "output_type": "stream",
     "text": [
      "-------------------- Iteration --------------------\n",
      "Average Episodic Length: 200.0\n",
      "Average Episodic Return: -614.51\n",
      "Successfully save the model!\n"
     ]
    },
    {
     "name": "stderr",
     "output_type": "stream",
     "text": [
      "\r",
      " 52%|█████████████████████████████████████████▎                                      | 155/300 [04:48<04:39,  1.93s/it]"
     ]
    },
    {
     "name": "stdout",
     "output_type": "stream",
     "text": [
      "-------------------- Iteration --------------------\n",
      "Average Episodic Length: 200.0\n",
      "Average Episodic Return: -543.24\n",
      "Successfully save the model!\n"
     ]
    },
    {
     "name": "stderr",
     "output_type": "stream",
     "text": [
      "\r",
      " 52%|█████████████████████████████████████████▌                                      | 156/300 [04:50<04:40,  1.95s/it]"
     ]
    },
    {
     "name": "stdout",
     "output_type": "stream",
     "text": [
      "-------------------- Iteration --------------------\n",
      "Average Episodic Length: 200.0\n",
      "Average Episodic Return: -596.6\n"
     ]
    },
    {
     "name": "stderr",
     "output_type": "stream",
     "text": [
      "\r",
      " 52%|█████████████████████████████████████████▊                                      | 157/300 [04:52<04:33,  1.91s/it]"
     ]
    },
    {
     "name": "stdout",
     "output_type": "stream",
     "text": [
      "-------------------- Iteration --------------------\n",
      "Average Episodic Length: 200.0\n",
      "Average Episodic Return: -546.13\n",
      "Successfully save the model!\n"
     ]
    },
    {
     "name": "stderr",
     "output_type": "stream",
     "text": [
      "\r",
      " 53%|██████████████████████████████████████████▏                                     | 158/300 [04:54<04:33,  1.93s/it]"
     ]
    },
    {
     "name": "stdout",
     "output_type": "stream",
     "text": [
      "-------------------- Iteration --------------------\n",
      "Average Episodic Length: 200.0\n",
      "Average Episodic Return: -583.21\n"
     ]
    },
    {
     "name": "stderr",
     "output_type": "stream",
     "text": [
      "\r",
      " 53%|██████████████████████████████████████████▍                                     | 159/300 [04:56<04:23,  1.87s/it]"
     ]
    },
    {
     "name": "stdout",
     "output_type": "stream",
     "text": [
      "-------------------- Iteration --------------------\n",
      "Average Episodic Length: 200.0\n",
      "Average Episodic Return: -496.71\n",
      "Successfully save the model!\n"
     ]
    },
    {
     "name": "stderr",
     "output_type": "stream",
     "text": [
      "\r",
      " 53%|██████████████████████████████████████████▋                                     | 160/300 [04:58<04:25,  1.89s/it]"
     ]
    },
    {
     "name": "stdout",
     "output_type": "stream",
     "text": [
      "-------------------- Iteration --------------------\n",
      "Average Episodic Length: 200.0\n",
      "Average Episodic Return: -576.43\n"
     ]
    },
    {
     "name": "stderr",
     "output_type": "stream",
     "text": [
      "\r",
      " 54%|██████████████████████████████████████████▉                                     | 161/300 [05:00<04:21,  1.88s/it]"
     ]
    },
    {
     "name": "stdout",
     "output_type": "stream",
     "text": [
      "-------------------- Iteration --------------------\n",
      "Average Episodic Length: 200.0\n",
      "Average Episodic Return: -536.7\n",
      "Successfully save the model!\n"
     ]
    },
    {
     "name": "stderr",
     "output_type": "stream",
     "text": [
      "\r",
      " 54%|███████████████████████████████████████████▏                                    | 162/300 [05:02<04:18,  1.88s/it]"
     ]
    },
    {
     "name": "stdout",
     "output_type": "stream",
     "text": [
      "-------------------- Iteration --------------------\n",
      "Average Episodic Length: 200.0\n",
      "Average Episodic Return: -644.81\n"
     ]
    },
    {
     "name": "stderr",
     "output_type": "stream",
     "text": [
      "\r",
      " 54%|███████████████████████████████████████████▍                                    | 163/300 [05:03<04:16,  1.87s/it]"
     ]
    },
    {
     "name": "stdout",
     "output_type": "stream",
     "text": [
      "-------------------- Iteration --------------------\n",
      "Average Episodic Length: 200.0\n",
      "Average Episodic Return: -542.59\n",
      "Successfully save the model!\n"
     ]
    },
    {
     "name": "stderr",
     "output_type": "stream",
     "text": [
      "\r",
      " 55%|███████████████████████████████████████████▋                                    | 164/300 [05:05<04:18,  1.90s/it]"
     ]
    },
    {
     "name": "stdout",
     "output_type": "stream",
     "text": [
      "-------------------- Iteration --------------------\n",
      "Average Episodic Length: 200.0\n",
      "Average Episodic Return: -526.49\n",
      "Successfully save the model!\n"
     ]
    },
    {
     "name": "stderr",
     "output_type": "stream",
     "text": [
      "\r",
      " 55%|████████████████████████████████████████████                                    | 165/300 [05:07<04:19,  1.92s/it]"
     ]
    },
    {
     "name": "stdout",
     "output_type": "stream",
     "text": [
      "-------------------- Iteration --------------------\n",
      "Average Episodic Length: 200.0\n",
      "Average Episodic Return: -439.77\n",
      "Successfully save the model!\n"
     ]
    },
    {
     "name": "stderr",
     "output_type": "stream",
     "text": [
      "\r",
      " 55%|████████████████████████████████████████████▎                                   | 166/300 [05:09<04:11,  1.88s/it]"
     ]
    },
    {
     "name": "stdout",
     "output_type": "stream",
     "text": [
      "-------------------- Iteration --------------------\n",
      "Average Episodic Length: 200.0\n",
      "Average Episodic Return: -462.21\n"
     ]
    },
    {
     "name": "stderr",
     "output_type": "stream",
     "text": [
      "\r",
      " 56%|████████████████████████████████████████████▌                                   | 167/300 [05:11<04:05,  1.84s/it]"
     ]
    },
    {
     "name": "stdout",
     "output_type": "stream",
     "text": [
      "-------------------- Iteration --------------------\n",
      "Average Episodic Length: 200.0\n",
      "Average Episodic Return: -420.86\n",
      "Successfully save the model!\n"
     ]
    },
    {
     "name": "stderr",
     "output_type": "stream",
     "text": [
      "\r",
      " 56%|████████████████████████████████████████████▊                                   | 168/300 [05:13<04:00,  1.83s/it]"
     ]
    },
    {
     "name": "stdout",
     "output_type": "stream",
     "text": [
      "-------------------- Iteration --------------------\n",
      "Average Episodic Length: 200.0\n",
      "Average Episodic Return: -528.2\n"
     ]
    },
    {
     "name": "stderr",
     "output_type": "stream",
     "text": [
      "\r",
      " 56%|█████████████████████████████████████████████                                   | 169/300 [05:14<03:55,  1.80s/it]"
     ]
    },
    {
     "name": "stdout",
     "output_type": "stream",
     "text": [
      "-------------------- Iteration --------------------\n",
      "Average Episodic Length: 200.0\n",
      "Average Episodic Return: -477.44\n",
      "Successfully save the model!\n"
     ]
    },
    {
     "name": "stderr",
     "output_type": "stream",
     "text": [
      "\r",
      " 57%|█████████████████████████████████████████████▎                                  | 170/300 [05:16<03:58,  1.84s/it]"
     ]
    },
    {
     "name": "stdout",
     "output_type": "stream",
     "text": [
      "-------------------- Iteration --------------------\n",
      "Average Episodic Length: 200.0\n",
      "Average Episodic Return: -447.74\n",
      "Successfully save the model!\n"
     ]
    },
    {
     "name": "stderr",
     "output_type": "stream",
     "text": [
      "\r",
      " 57%|█████████████████████████████████████████████▌                                  | 171/300 [05:18<03:57,  1.84s/it]"
     ]
    },
    {
     "name": "stdout",
     "output_type": "stream",
     "text": [
      "-------------------- Iteration --------------------\n",
      "Average Episodic Length: 200.0\n",
      "Average Episodic Return: -483.35\n"
     ]
    },
    {
     "name": "stderr",
     "output_type": "stream",
     "text": [
      "\r",
      " 57%|█████████████████████████████████████████████▊                                  | 172/300 [05:20<03:52,  1.82s/it]"
     ]
    },
    {
     "name": "stdout",
     "output_type": "stream",
     "text": [
      "-------------------- Iteration --------------------\n",
      "Average Episodic Length: 200.0\n",
      "Average Episodic Return: -444.46\n",
      "Successfully save the model!\n"
     ]
    },
    {
     "name": "stderr",
     "output_type": "stream",
     "text": [
      "\r",
      " 58%|██████████████████████████████████████████████▏                                 | 173/300 [05:22<03:54,  1.85s/it]"
     ]
    },
    {
     "name": "stdout",
     "output_type": "stream",
     "text": [
      "-------------------- Iteration --------------------\n",
      "Average Episodic Length: 200.0\n",
      "Average Episodic Return: -387.99\n",
      "Successfully save the model!\n"
     ]
    },
    {
     "name": "stderr",
     "output_type": "stream",
     "text": [
      "\r",
      " 58%|██████████████████████████████████████████████▍                                 | 174/300 [05:24<03:50,  1.83s/it]"
     ]
    },
    {
     "name": "stdout",
     "output_type": "stream",
     "text": [
      "-------------------- Iteration --------------------\n",
      "Average Episodic Length: 200.0\n",
      "Average Episodic Return: -395.89\n"
     ]
    },
    {
     "name": "stderr",
     "output_type": "stream",
     "text": [
      "\r",
      " 58%|██████████████████████████████████████████████▋                                 | 175/300 [05:26<03:58,  1.91s/it]"
     ]
    },
    {
     "name": "stdout",
     "output_type": "stream",
     "text": [
      "-------------------- Iteration --------------------\n",
      "Average Episodic Length: 200.0\n",
      "Average Episodic Return: -484.46\n"
     ]
    },
    {
     "name": "stderr",
     "output_type": "stream",
     "text": [
      "\r",
      " 59%|██████████████████████████████████████████████▉                                 | 176/300 [05:28<03:55,  1.90s/it]"
     ]
    },
    {
     "name": "stdout",
     "output_type": "stream",
     "text": [
      "-------------------- Iteration --------------------\n",
      "Average Episodic Length: 200.0\n",
      "Average Episodic Return: -379.39\n",
      "Successfully save the model!\n"
     ]
    },
    {
     "name": "stderr",
     "output_type": "stream",
     "text": [
      "\r",
      " 59%|███████████████████████████████████████████████▏                                | 177/300 [05:30<03:56,  1.92s/it]"
     ]
    },
    {
     "name": "stdout",
     "output_type": "stream",
     "text": [
      "-------------------- Iteration --------------------\n",
      "Average Episodic Length: 200.0\n",
      "Average Episodic Return: -424.12\n"
     ]
    },
    {
     "name": "stderr",
     "output_type": "stream",
     "text": [
      "\r",
      " 59%|███████████████████████████████████████████████▍                                | 178/300 [05:32<04:05,  2.01s/it]"
     ]
    },
    {
     "name": "stdout",
     "output_type": "stream",
     "text": [
      "-------------------- Iteration --------------------\n",
      "Average Episodic Length: 200.0\n",
      "Average Episodic Return: -307.42\n",
      "Successfully save the model!\n"
     ]
    },
    {
     "name": "stderr",
     "output_type": "stream",
     "text": [
      "\r",
      " 60%|███████████████████████████████████████████████▋                                | 179/300 [05:34<03:58,  1.97s/it]"
     ]
    },
    {
     "name": "stdout",
     "output_type": "stream",
     "text": [
      "-------------------- Iteration --------------------\n",
      "Average Episodic Length: 200.0\n",
      "Average Episodic Return: -255.41\n",
      "Successfully save the model!\n"
     ]
    },
    {
     "name": "stderr",
     "output_type": "stream",
     "text": [
      "\r",
      " 60%|████████████████████████████████████████████████                                | 180/300 [05:36<03:53,  1.95s/it]"
     ]
    },
    {
     "name": "stdout",
     "output_type": "stream",
     "text": [
      "-------------------- Iteration --------------------\n",
      "Average Episodic Length: 200.0\n",
      "Average Episodic Return: -290.11\n"
     ]
    },
    {
     "name": "stderr",
     "output_type": "stream",
     "text": [
      "\r",
      " 60%|████████████████████████████████████████████████▎                               | 181/300 [05:38<03:54,  1.97s/it]"
     ]
    },
    {
     "name": "stdout",
     "output_type": "stream",
     "text": [
      "-------------------- Iteration --------------------\n",
      "Average Episodic Length: 200.0\n",
      "Average Episodic Return: -307.4\n"
     ]
    },
    {
     "name": "stderr",
     "output_type": "stream",
     "text": [
      "\r",
      " 61%|████████████████████████████████████████████████▌                               | 182/300 [05:39<03:43,  1.90s/it]"
     ]
    },
    {
     "name": "stdout",
     "output_type": "stream",
     "text": [
      "-------------------- Iteration --------------------\n",
      "Average Episodic Length: 200.0\n",
      "Average Episodic Return: -236.15\n",
      "Successfully save the model!\n"
     ]
    },
    {
     "name": "stderr",
     "output_type": "stream",
     "text": [
      "\r",
      " 61%|████████████████████████████████████████████████▊                               | 183/300 [05:41<03:36,  1.85s/it]"
     ]
    },
    {
     "name": "stdout",
     "output_type": "stream",
     "text": [
      "-------------------- Iteration --------------------\n",
      "Average Episodic Length: 200.0\n",
      "Average Episodic Return: -173.64\n",
      "Successfully save the model!\n"
     ]
    },
    {
     "name": "stderr",
     "output_type": "stream",
     "text": [
      "\r",
      " 61%|█████████████████████████████████████████████████                               | 184/300 [05:43<03:37,  1.87s/it]"
     ]
    },
    {
     "name": "stdout",
     "output_type": "stream",
     "text": [
      "-------------------- Iteration --------------------\n",
      "Average Episodic Length: 200.0\n",
      "Average Episodic Return: -240.14\n"
     ]
    },
    {
     "name": "stderr",
     "output_type": "stream",
     "text": [
      "\r",
      " 62%|█████████████████████████████████████████████████▎                              | 185/300 [05:45<03:32,  1.85s/it]"
     ]
    },
    {
     "name": "stdout",
     "output_type": "stream",
     "text": [
      "-------------------- Iteration --------------------\n",
      "Average Episodic Length: 200.0\n",
      "Average Episodic Return: -222.93\n",
      "Successfully save the model!\n"
     ]
    },
    {
     "name": "stderr",
     "output_type": "stream",
     "text": [
      "\r",
      " 62%|█████████████████████████████████████████████████▌                              | 186/300 [05:47<03:28,  1.83s/it]"
     ]
    },
    {
     "name": "stdout",
     "output_type": "stream",
     "text": [
      "-------------------- Iteration --------------------\n",
      "Average Episodic Length: 200.0\n",
      "Average Episodic Return: -139.35\n",
      "Successfully save the model!\n"
     ]
    },
    {
     "name": "stderr",
     "output_type": "stream",
     "text": [
      "\r",
      " 62%|█████████████████████████████████████████████████▊                              | 187/300 [05:48<03:29,  1.85s/it]"
     ]
    },
    {
     "name": "stdout",
     "output_type": "stream",
     "text": [
      "-------------------- Iteration --------------------\n",
      "Average Episodic Length: 200.0\n",
      "Average Episodic Return: -173.74\n"
     ]
    },
    {
     "name": "stderr",
     "output_type": "stream",
     "text": [
      "\r",
      " 63%|██████████████████████████████████████████████████▏                             | 188/300 [05:50<03:31,  1.89s/it]"
     ]
    },
    {
     "name": "stdout",
     "output_type": "stream",
     "text": [
      "-------------------- Iteration --------------------\n",
      "Average Episodic Length: 200.0\n",
      "Average Episodic Return: -141.1\n",
      "Successfully save the model!\n"
     ]
    },
    {
     "name": "stderr",
     "output_type": "stream",
     "text": [
      "\r",
      " 63%|██████████████████████████████████████████████████▍                             | 189/300 [05:52<03:29,  1.88s/it]"
     ]
    },
    {
     "name": "stdout",
     "output_type": "stream",
     "text": [
      "-------------------- Iteration --------------------\n",
      "Average Episodic Length: 200.0\n",
      "Average Episodic Return: -163.6\n"
     ]
    },
    {
     "name": "stderr",
     "output_type": "stream",
     "text": [
      "\r",
      " 63%|██████████████████████████████████████████████████▋                             | 190/300 [05:54<03:29,  1.91s/it]"
     ]
    },
    {
     "name": "stdout",
     "output_type": "stream",
     "text": [
      "-------------------- Iteration --------------------\n",
      "Average Episodic Length: 200.0\n",
      "Average Episodic Return: -201.07\n"
     ]
    },
    {
     "name": "stderr",
     "output_type": "stream",
     "text": [
      "\r",
      " 64%|██████████████████████████████████████████████████▉                             | 191/300 [05:56<03:20,  1.84s/it]"
     ]
    },
    {
     "name": "stdout",
     "output_type": "stream",
     "text": [
      "-------------------- Iteration --------------------\n",
      "Average Episodic Length: 200.0\n",
      "Average Episodic Return: -172.7\n",
      "Successfully save the model!\n"
     ]
    },
    {
     "name": "stderr",
     "output_type": "stream",
     "text": [
      "\r",
      " 64%|███████████████████████████████████████████████████▏                            | 192/300 [05:58<03:16,  1.82s/it]"
     ]
    },
    {
     "name": "stdout",
     "output_type": "stream",
     "text": [
      "-------------------- Iteration --------------------\n",
      "Average Episodic Length: 200.0\n",
      "Average Episodic Return: -154.4\n",
      "Successfully save the model!\n"
     ]
    },
    {
     "name": "stderr",
     "output_type": "stream",
     "text": [
      "\r",
      " 64%|███████████████████████████████████████████████████▍                            | 193/300 [05:59<03:10,  1.78s/it]"
     ]
    },
    {
     "name": "stdout",
     "output_type": "stream",
     "text": [
      "-------------------- Iteration --------------------\n",
      "Average Episodic Length: 200.0\n",
      "Average Episodic Return: -179.89\n"
     ]
    },
    {
     "name": "stderr",
     "output_type": "stream",
     "text": [
      "\r",
      " 65%|███████████████████████████████████████████████████▋                            | 194/300 [06:01<03:11,  1.80s/it]"
     ]
    },
    {
     "name": "stdout",
     "output_type": "stream",
     "text": [
      "-------------------- Iteration --------------------\n",
      "Average Episodic Length: 200.0\n",
      "Average Episodic Return: -217.96\n"
     ]
    },
    {
     "name": "stderr",
     "output_type": "stream",
     "text": [
      "\r",
      " 65%|████████████████████████████████████████████████████                            | 195/300 [06:03<03:17,  1.88s/it]"
     ]
    },
    {
     "name": "stdout",
     "output_type": "stream",
     "text": [
      "-------------------- Iteration --------------------\n",
      "Average Episodic Length: 200.0\n",
      "Average Episodic Return: -196.97\n",
      "Successfully save the model!\n"
     ]
    },
    {
     "name": "stderr",
     "output_type": "stream",
     "text": [
      "\r",
      " 65%|████████████████████████████████████████████████████▎                           | 196/300 [06:05<03:14,  1.87s/it]"
     ]
    },
    {
     "name": "stdout",
     "output_type": "stream",
     "text": [
      "-------------------- Iteration --------------------\n",
      "Average Episodic Length: 200.0\n",
      "Average Episodic Return: -160.99\n",
      "Successfully save the model!\n"
     ]
    },
    {
     "name": "stderr",
     "output_type": "stream",
     "text": [
      "\r",
      " 66%|████████████████████████████████████████████████████▌                           | 197/300 [06:07<03:07,  1.82s/it]"
     ]
    },
    {
     "name": "stdout",
     "output_type": "stream",
     "text": [
      "-------------------- Iteration --------------------\n",
      "Average Episodic Length: 200.0\n",
      "Average Episodic Return: -170.85\n"
     ]
    },
    {
     "name": "stderr",
     "output_type": "stream",
     "text": [
      "\r",
      " 66%|████████████████████████████████████████████████████▊                           | 198/300 [06:08<03:00,  1.77s/it]"
     ]
    },
    {
     "name": "stdout",
     "output_type": "stream",
     "text": [
      "-------------------- Iteration --------------------\n",
      "Average Episodic Length: 200.0\n",
      "Average Episodic Return: -147.58\n",
      "Successfully save the model!\n"
     ]
    },
    {
     "name": "stderr",
     "output_type": "stream",
     "text": [
      "\r",
      " 66%|█████████████████████████████████████████████████████                           | 199/300 [06:10<03:05,  1.84s/it]"
     ]
    },
    {
     "name": "stdout",
     "output_type": "stream",
     "text": [
      "-------------------- Iteration --------------------\n",
      "Average Episodic Length: 200.0\n",
      "Average Episodic Return: -245.19\n"
     ]
    },
    {
     "name": "stderr",
     "output_type": "stream",
     "text": [
      "\r",
      " 67%|█████████████████████████████████████████████████████▎                          | 200/300 [06:13<03:09,  1.89s/it]"
     ]
    },
    {
     "name": "stdout",
     "output_type": "stream",
     "text": [
      "-------------------- Iteration --------------------\n",
      "Average Episodic Length: 200.0\n",
      "Average Episodic Return: -210.11\n",
      "Successfully save the model!\n"
     ]
    },
    {
     "name": "stderr",
     "output_type": "stream",
     "text": [
      "\r",
      " 67%|█████████████████████████████████████████████████████▌                          | 201/300 [06:14<03:07,  1.89s/it]"
     ]
    },
    {
     "name": "stdout",
     "output_type": "stream",
     "text": [
      "-------------------- Iteration --------------------\n",
      "Average Episodic Length: 200.0\n",
      "Average Episodic Return: -161.34\n",
      "Successfully save the model!\n"
     ]
    },
    {
     "name": "stderr",
     "output_type": "stream",
     "text": [
      "\r",
      " 67%|█████████████████████████████████████████████████████▊                          | 202/300 [06:16<03:04,  1.88s/it]"
     ]
    },
    {
     "name": "stdout",
     "output_type": "stream",
     "text": [
      "-------------------- Iteration --------------------\n",
      "Average Episodic Length: 200.0\n",
      "Average Episodic Return: -147.19\n",
      "Successfully save the model!\n"
     ]
    },
    {
     "name": "stderr",
     "output_type": "stream",
     "text": [
      "\r",
      " 68%|██████████████████████████████████████████████████████▏                         | 203/300 [06:18<03:00,  1.86s/it]"
     ]
    },
    {
     "name": "stdout",
     "output_type": "stream",
     "text": [
      "-------------------- Iteration --------------------\n",
      "Average Episodic Length: 200.0\n",
      "Average Episodic Return: -213.4\n"
     ]
    },
    {
     "name": "stderr",
     "output_type": "stream",
     "text": [
      "\r",
      " 68%|██████████████████████████████████████████████████████▍                         | 204/300 [06:20<03:04,  1.92s/it]"
     ]
    },
    {
     "name": "stdout",
     "output_type": "stream",
     "text": [
      "-------------------- Iteration --------------------\n",
      "Average Episodic Length: 200.0\n",
      "Average Episodic Return: -138.21\n",
      "Successfully save the model!\n"
     ]
    },
    {
     "name": "stderr",
     "output_type": "stream",
     "text": [
      "\r",
      " 68%|██████████████████████████████████████████████████████▋                         | 205/300 [06:22<03:03,  1.93s/it]"
     ]
    },
    {
     "name": "stdout",
     "output_type": "stream",
     "text": [
      "-------------------- Iteration --------------------\n",
      "Average Episodic Length: 200.0\n",
      "Average Episodic Return: -189.7\n"
     ]
    },
    {
     "name": "stderr",
     "output_type": "stream",
     "text": [
      "\r",
      " 69%|██████████████████████████████████████████████████████▉                         | 206/300 [06:24<03:00,  1.92s/it]"
     ]
    },
    {
     "name": "stdout",
     "output_type": "stream",
     "text": [
      "-------------------- Iteration --------------------\n",
      "Average Episodic Length: 200.0\n",
      "Average Episodic Return: -140.89\n",
      "Successfully save the model!\n"
     ]
    },
    {
     "name": "stderr",
     "output_type": "stream",
     "text": [
      "\r",
      " 69%|███████████████████████████████████████████████████████▏                        | 207/300 [06:26<02:59,  1.93s/it]"
     ]
    },
    {
     "name": "stdout",
     "output_type": "stream",
     "text": [
      "-------------------- Iteration --------------------\n",
      "Average Episodic Length: 200.0\n",
      "Average Episodic Return: -168.89\n"
     ]
    },
    {
     "name": "stderr",
     "output_type": "stream",
     "text": [
      "\r",
      " 69%|███████████████████████████████████████████████████████▍                        | 208/300 [06:28<02:54,  1.90s/it]"
     ]
    },
    {
     "name": "stdout",
     "output_type": "stream",
     "text": [
      "-------------------- Iteration --------------------\n",
      "Average Episodic Length: 200.0\n",
      "Average Episodic Return: -173.08\n"
     ]
    },
    {
     "name": "stderr",
     "output_type": "stream",
     "text": [
      "\r",
      " 70%|███████████████████████████████████████████████████████▋                        | 209/300 [06:30<02:54,  1.91s/it]"
     ]
    },
    {
     "name": "stdout",
     "output_type": "stream",
     "text": [
      "-------------------- Iteration --------------------\n",
      "Average Episodic Length: 200.0\n",
      "Average Episodic Return: -128.93\n",
      "Successfully save the model!\n"
     ]
    },
    {
     "name": "stderr",
     "output_type": "stream",
     "text": [
      "\r",
      " 70%|████████████████████████████████████████████████████████                        | 210/300 [06:32<02:50,  1.89s/it]"
     ]
    },
    {
     "name": "stdout",
     "output_type": "stream",
     "text": [
      "-------------------- Iteration --------------------\n",
      "Average Episodic Length: 200.0\n",
      "Average Episodic Return: -151.6\n"
     ]
    },
    {
     "name": "stderr",
     "output_type": "stream",
     "text": [
      "\r",
      " 70%|████████████████████████████████████████████████████████▎                       | 211/300 [06:33<02:48,  1.89s/it]"
     ]
    },
    {
     "name": "stdout",
     "output_type": "stream",
     "text": [
      "-------------------- Iteration --------------------\n",
      "Average Episodic Length: 200.0\n",
      "Average Episodic Return: -150.06\n",
      "Successfully save the model!\n"
     ]
    },
    {
     "name": "stderr",
     "output_type": "stream",
     "text": [
      "\r",
      " 71%|████████████████████████████████████████████████████████▌                       | 212/300 [06:35<02:46,  1.89s/it]"
     ]
    },
    {
     "name": "stdout",
     "output_type": "stream",
     "text": [
      "-------------------- Iteration --------------------\n",
      "Average Episodic Length: 200.0\n",
      "Average Episodic Return: -103.69\n",
      "Successfully save the model!\n"
     ]
    },
    {
     "name": "stderr",
     "output_type": "stream",
     "text": [
      "\r",
      " 71%|████████████████████████████████████████████████████████▊                       | 213/300 [06:37<02:45,  1.90s/it]"
     ]
    },
    {
     "name": "stdout",
     "output_type": "stream",
     "text": [
      "-------------------- Iteration --------------------\n",
      "Average Episodic Length: 200.0\n",
      "Average Episodic Return: -171.95\n"
     ]
    },
    {
     "name": "stderr",
     "output_type": "stream",
     "text": [
      "\r",
      " 71%|█████████████████████████████████████████████████████████                       | 214/300 [06:39<02:44,  1.91s/it]"
     ]
    },
    {
     "name": "stdout",
     "output_type": "stream",
     "text": [
      "-------------------- Iteration --------------------\n",
      "Average Episodic Length: 200.0\n",
      "Average Episodic Return: -116.34\n",
      "Successfully save the model!\n"
     ]
    },
    {
     "name": "stderr",
     "output_type": "stream",
     "text": [
      "\r",
      " 72%|█████████████████████████████████████████████████████████▎                      | 215/300 [06:41<02:38,  1.87s/it]"
     ]
    },
    {
     "name": "stdout",
     "output_type": "stream",
     "text": [
      "-------------------- Iteration --------------------\n",
      "Average Episodic Length: 200.0\n",
      "Average Episodic Return: -194.0\n"
     ]
    },
    {
     "name": "stderr",
     "output_type": "stream",
     "text": [
      "\r",
      " 72%|█████████████████████████████████████████████████████████▌                      | 216/300 [06:43<02:41,  1.92s/it]"
     ]
    },
    {
     "name": "stdout",
     "output_type": "stream",
     "text": [
      "-------------------- Iteration --------------------\n",
      "Average Episodic Length: 200.0\n",
      "Average Episodic Return: -124.34\n",
      "Successfully save the model!\n"
     ]
    },
    {
     "name": "stderr",
     "output_type": "stream",
     "text": [
      "\r",
      " 72%|█████████████████████████████████████████████████████████▊                      | 217/300 [06:45<02:38,  1.91s/it]"
     ]
    },
    {
     "name": "stdout",
     "output_type": "stream",
     "text": [
      "-------------------- Iteration --------------------\n",
      "Average Episodic Length: 200.0\n",
      "Average Episodic Return: -79.44\n",
      "Successfully save the model!\n"
     ]
    },
    {
     "name": "stderr",
     "output_type": "stream",
     "text": [
      "\r",
      " 73%|██████████████████████████████████████████████████████████▏                     | 218/300 [06:47<02:35,  1.90s/it]"
     ]
    },
    {
     "name": "stdout",
     "output_type": "stream",
     "text": [
      "-------------------- Iteration --------------------\n",
      "Average Episodic Length: 200.0\n",
      "Average Episodic Return: -112.3\n"
     ]
    },
    {
     "name": "stderr",
     "output_type": "stream",
     "text": [
      "\r",
      " 73%|██████████████████████████████████████████████████████████▍                     | 219/300 [06:49<02:32,  1.88s/it]"
     ]
    },
    {
     "name": "stdout",
     "output_type": "stream",
     "text": [
      "-------------------- Iteration --------------------\n",
      "Average Episodic Length: 200.0\n",
      "Average Episodic Return: -168.34\n"
     ]
    },
    {
     "name": "stderr",
     "output_type": "stream",
     "text": [
      "\r",
      " 73%|██████████████████████████████████████████████████████████▋                     | 220/300 [06:50<02:27,  1.84s/it]"
     ]
    },
    {
     "name": "stdout",
     "output_type": "stream",
     "text": [
      "-------------------- Iteration --------------------\n",
      "Average Episodic Length: 200.0\n",
      "Average Episodic Return: -196.54\n"
     ]
    },
    {
     "name": "stderr",
     "output_type": "stream",
     "text": [
      "\r",
      " 74%|██████████████████████████████████████████████████████████▉                     | 221/300 [06:52<02:23,  1.82s/it]"
     ]
    },
    {
     "name": "stdout",
     "output_type": "stream",
     "text": [
      "-------------------- Iteration --------------------\n",
      "Average Episodic Length: 200.0\n",
      "Average Episodic Return: -184.34\n",
      "Successfully save the model!\n"
     ]
    },
    {
     "name": "stderr",
     "output_type": "stream",
     "text": [
      "\r",
      " 74%|███████████████████████████████████████████████████████████▏                    | 222/300 [06:54<02:24,  1.85s/it]"
     ]
    },
    {
     "name": "stdout",
     "output_type": "stream",
     "text": [
      "-------------------- Iteration --------------------\n",
      "Average Episodic Length: 200.0\n",
      "Average Episodic Return: -214.09\n"
     ]
    },
    {
     "name": "stderr",
     "output_type": "stream",
     "text": [
      "\r",
      " 74%|███████████████████████████████████████████████████████████▍                    | 223/300 [06:56<02:20,  1.82s/it]"
     ]
    },
    {
     "name": "stdout",
     "output_type": "stream",
     "text": [
      "-------------------- Iteration --------------------\n",
      "Average Episodic Length: 200.0\n",
      "Average Episodic Return: -125.69\n",
      "Successfully save the model!\n"
     ]
    },
    {
     "name": "stderr",
     "output_type": "stream",
     "text": [
      "\r",
      " 75%|███████████████████████████████████████████████████████████▋                    | 224/300 [06:58<02:17,  1.81s/it]"
     ]
    },
    {
     "name": "stdout",
     "output_type": "stream",
     "text": [
      "-------------------- Iteration --------------------\n",
      "Average Episodic Length: 200.0\n",
      "Average Episodic Return: -139.37\n"
     ]
    },
    {
     "name": "stderr",
     "output_type": "stream",
     "text": [
      "\r",
      " 75%|████████████████████████████████████████████████████████████                    | 225/300 [06:59<02:17,  1.83s/it]"
     ]
    },
    {
     "name": "stdout",
     "output_type": "stream",
     "text": [
      "-------------------- Iteration --------------------\n",
      "Average Episodic Length: 200.0\n",
      "Average Episodic Return: -148.95\n"
     ]
    },
    {
     "name": "stderr",
     "output_type": "stream",
     "text": [
      "\r",
      " 75%|████████████████████████████████████████████████████████████▎                   | 226/300 [07:01<02:14,  1.82s/it]"
     ]
    },
    {
     "name": "stdout",
     "output_type": "stream",
     "text": [
      "-------------------- Iteration --------------------\n",
      "Average Episodic Length: 200.0\n",
      "Average Episodic Return: -168.83\n"
     ]
    },
    {
     "name": "stderr",
     "output_type": "stream",
     "text": [
      "\r",
      " 76%|████████████████████████████████████████████████████████████▌                   | 227/300 [07:03<02:14,  1.84s/it]"
     ]
    },
    {
     "name": "stdout",
     "output_type": "stream",
     "text": [
      "-------------------- Iteration --------------------\n",
      "Average Episodic Length: 200.0\n",
      "Average Episodic Return: -180.65\n"
     ]
    },
    {
     "name": "stderr",
     "output_type": "stream",
     "text": [
      "\r",
      " 76%|████████████████████████████████████████████████████████████▊                   | 228/300 [07:05<02:11,  1.83s/it]"
     ]
    },
    {
     "name": "stdout",
     "output_type": "stream",
     "text": [
      "-------------------- Iteration --------------------\n",
      "Average Episodic Length: 200.0\n",
      "Average Episodic Return: -136.44\n",
      "Successfully save the model!\n"
     ]
    },
    {
     "name": "stderr",
     "output_type": "stream",
     "text": [
      "\r",
      " 76%|█████████████████████████████████████████████████████████████                   | 229/300 [07:07<02:11,  1.85s/it]"
     ]
    },
    {
     "name": "stdout",
     "output_type": "stream",
     "text": [
      "-------------------- Iteration --------------------\n",
      "Average Episodic Length: 200.0\n",
      "Average Episodic Return: -182.87\n"
     ]
    },
    {
     "name": "stderr",
     "output_type": "stream",
     "text": [
      "\r",
      " 77%|█████████████████████████████████████████████████████████████▎                  | 230/300 [07:09<02:11,  1.88s/it]"
     ]
    },
    {
     "name": "stdout",
     "output_type": "stream",
     "text": [
      "-------------------- Iteration --------------------\n",
      "Average Episodic Length: 200.0\n",
      "Average Episodic Return: -128.77\n",
      "Successfully save the model!\n"
     ]
    },
    {
     "name": "stderr",
     "output_type": "stream",
     "text": [
      "\r",
      " 77%|█████████████████████████████████████████████████████████████▌                  | 231/300 [07:11<02:09,  1.88s/it]"
     ]
    },
    {
     "name": "stdout",
     "output_type": "stream",
     "text": [
      "-------------------- Iteration --------------------\n",
      "Average Episodic Length: 200.0\n",
      "Average Episodic Return: -172.79\n"
     ]
    },
    {
     "name": "stderr",
     "output_type": "stream",
     "text": [
      "\r",
      " 77%|█████████████████████████████████████████████████████████████▊                  | 232/300 [07:12<02:06,  1.86s/it]"
     ]
    },
    {
     "name": "stdout",
     "output_type": "stream",
     "text": [
      "-------------------- Iteration --------------------\n",
      "Average Episodic Length: 200.0\n",
      "Average Episodic Return: -230.42\n"
     ]
    },
    {
     "name": "stderr",
     "output_type": "stream",
     "text": [
      "\r",
      " 78%|██████████████████████████████████████████████████████████████▏                 | 233/300 [07:14<02:03,  1.84s/it]"
     ]
    },
    {
     "name": "stdout",
     "output_type": "stream",
     "text": [
      "-------------------- Iteration --------------------\n",
      "Average Episodic Length: 200.0\n",
      "Average Episodic Return: -104.78\n",
      "Successfully save the model!\n"
     ]
    },
    {
     "name": "stderr",
     "output_type": "stream",
     "text": [
      "\r",
      " 78%|██████████████████████████████████████████████████████████████▍                 | 234/300 [07:16<02:01,  1.84s/it]"
     ]
    },
    {
     "name": "stdout",
     "output_type": "stream",
     "text": [
      "-------------------- Iteration --------------------\n",
      "Average Episodic Length: 200.0\n",
      "Average Episodic Return: -173.21\n"
     ]
    },
    {
     "name": "stderr",
     "output_type": "stream",
     "text": [
      "\r",
      " 78%|██████████████████████████████████████████████████████████████▋                 | 235/300 [07:18<01:59,  1.83s/it]"
     ]
    },
    {
     "name": "stdout",
     "output_type": "stream",
     "text": [
      "-------------------- Iteration --------------------\n",
      "Average Episodic Length: 200.0\n",
      "Average Episodic Return: -139.56\n",
      "Successfully save the model!\n"
     ]
    },
    {
     "name": "stderr",
     "output_type": "stream",
     "text": [
      "\r",
      " 79%|██████████████████████████████████████████████████████████████▉                 | 236/300 [07:20<01:55,  1.80s/it]"
     ]
    },
    {
     "name": "stdout",
     "output_type": "stream",
     "text": [
      "-------------------- Iteration --------------------\n",
      "Average Episodic Length: 200.0\n",
      "Average Episodic Return: -173.75\n"
     ]
    },
    {
     "name": "stderr",
     "output_type": "stream",
     "text": [
      "\r",
      " 79%|███████████████████████████████████████████████████████████████▏                | 237/300 [07:21<01:54,  1.81s/it]"
     ]
    },
    {
     "name": "stdout",
     "output_type": "stream",
     "text": [
      "-------------------- Iteration --------------------\n",
      "Average Episodic Length: 200.0\n",
      "Average Episodic Return: -144.42\n",
      "Successfully save the model!\n"
     ]
    },
    {
     "name": "stderr",
     "output_type": "stream",
     "text": [
      "\r",
      " 79%|███████████████████████████████████████████████████████████████▍                | 238/300 [07:23<01:55,  1.86s/it]"
     ]
    },
    {
     "name": "stdout",
     "output_type": "stream",
     "text": [
      "-------------------- Iteration --------------------\n",
      "Average Episodic Length: 200.0\n",
      "Average Episodic Return: -167.04\n"
     ]
    },
    {
     "name": "stderr",
     "output_type": "stream",
     "text": [
      "\r",
      " 80%|███████████████████████████████████████████████████████████████▋                | 239/300 [07:26<02:01,  1.99s/it]"
     ]
    },
    {
     "name": "stdout",
     "output_type": "stream",
     "text": [
      "-------------------- Iteration --------------------\n",
      "Average Episodic Length: 200.0\n",
      "Average Episodic Return: -161.96\n",
      "Successfully save the model!\n"
     ]
    },
    {
     "name": "stderr",
     "output_type": "stream",
     "text": [
      "\r",
      " 80%|████████████████████████████████████████████████████████████████                | 240/300 [07:28<01:57,  1.95s/it]"
     ]
    },
    {
     "name": "stdout",
     "output_type": "stream",
     "text": [
      "-------------------- Iteration --------------------\n",
      "Average Episodic Length: 200.0\n",
      "Average Episodic Return: -136.85\n",
      "Successfully save the model!\n"
     ]
    },
    {
     "name": "stderr",
     "output_type": "stream",
     "text": [
      "\r",
      " 80%|████████████████████████████████████████████████████████████████▎               | 241/300 [07:30<01:54,  1.94s/it]"
     ]
    },
    {
     "name": "stdout",
     "output_type": "stream",
     "text": [
      "-------------------- Iteration --------------------\n",
      "Average Episodic Length: 200.0\n",
      "Average Episodic Return: -137.9\n"
     ]
    },
    {
     "name": "stderr",
     "output_type": "stream",
     "text": [
      "\r",
      " 81%|████████████████████████████████████████████████████████████████▌               | 242/300 [07:31<01:49,  1.89s/it]"
     ]
    },
    {
     "name": "stdout",
     "output_type": "stream",
     "text": [
      "-------------------- Iteration --------------------\n",
      "Average Episodic Length: 200.0\n",
      "Average Episodic Return: -229.28\n"
     ]
    },
    {
     "name": "stderr",
     "output_type": "stream",
     "text": [
      "\r",
      " 81%|████████████████████████████████████████████████████████████████▊               | 243/300 [07:33<01:46,  1.87s/it]"
     ]
    },
    {
     "name": "stdout",
     "output_type": "stream",
     "text": [
      "-------------------- Iteration --------------------\n",
      "Average Episodic Length: 200.0\n",
      "Average Episodic Return: -115.21\n",
      "Successfully save the model!\n"
     ]
    },
    {
     "name": "stderr",
     "output_type": "stream",
     "text": [
      "\r",
      " 81%|█████████████████████████████████████████████████████████████████               | 244/300 [07:35<01:44,  1.86s/it]"
     ]
    },
    {
     "name": "stdout",
     "output_type": "stream",
     "text": [
      "-------------------- Iteration --------------------\n",
      "Average Episodic Length: 200.0\n",
      "Average Episodic Return: -146.57\n"
     ]
    },
    {
     "name": "stderr",
     "output_type": "stream",
     "text": [
      "\r",
      " 82%|█████████████████████████████████████████████████████████████████▎              | 245/300 [07:37<01:45,  1.93s/it]"
     ]
    },
    {
     "name": "stdout",
     "output_type": "stream",
     "text": [
      "-------------------- Iteration --------------------\n",
      "Average Episodic Length: 200.0\n",
      "Average Episodic Return: -155.78\n"
     ]
    },
    {
     "name": "stderr",
     "output_type": "stream",
     "text": [
      "\r",
      " 82%|█████████████████████████████████████████████████████████████████▌              | 246/300 [07:39<01:42,  1.91s/it]"
     ]
    },
    {
     "name": "stdout",
     "output_type": "stream",
     "text": [
      "-------------------- Iteration --------------------\n",
      "Average Episodic Length: 200.0\n",
      "Average Episodic Return: -180.72\n"
     ]
    },
    {
     "name": "stderr",
     "output_type": "stream",
     "text": [
      "\r",
      " 82%|█████████████████████████████████████████████████████████████████▊              | 247/300 [07:41<01:41,  1.92s/it]"
     ]
    },
    {
     "name": "stdout",
     "output_type": "stream",
     "text": [
      "-------------------- Iteration --------------------\n",
      "Average Episodic Length: 200.0\n",
      "Average Episodic Return: -215.77\n"
     ]
    },
    {
     "name": "stderr",
     "output_type": "stream",
     "text": [
      "\r",
      " 83%|██████████████████████████████████████████████████████████████████▏             | 248/300 [07:43<01:41,  1.95s/it]"
     ]
    },
    {
     "name": "stdout",
     "output_type": "stream",
     "text": [
      "-------------------- Iteration --------------------\n",
      "Average Episodic Length: 200.0\n",
      "Average Episodic Return: -173.5\n",
      "Successfully save the model!\n"
     ]
    },
    {
     "name": "stderr",
     "output_type": "stream",
     "text": [
      "\r",
      " 83%|██████████████████████████████████████████████████████████████████▍             | 249/300 [07:45<01:40,  1.98s/it]"
     ]
    },
    {
     "name": "stdout",
     "output_type": "stream",
     "text": [
      "-------------------- Iteration --------------------\n",
      "Average Episodic Length: 200.0\n",
      "Average Episodic Return: -168.62\n",
      "Successfully save the model!\n"
     ]
    },
    {
     "name": "stderr",
     "output_type": "stream",
     "text": [
      "\r",
      " 83%|██████████████████████████████████████████████████████████████████▋             | 250/300 [07:47<01:38,  1.97s/it]"
     ]
    },
    {
     "name": "stdout",
     "output_type": "stream",
     "text": [
      "-------------------- Iteration --------------------\n",
      "Average Episodic Length: 200.0\n",
      "Average Episodic Return: -205.14\n"
     ]
    },
    {
     "name": "stderr",
     "output_type": "stream",
     "text": [
      "\r",
      " 84%|██████████████████████████████████████████████████████████████████▉             | 251/300 [07:49<01:32,  1.89s/it]"
     ]
    },
    {
     "name": "stdout",
     "output_type": "stream",
     "text": [
      "-------------------- Iteration --------------------\n",
      "Average Episodic Length: 200.0\n",
      "Average Episodic Return: -130.17\n",
      "Successfully save the model!\n"
     ]
    },
    {
     "name": "stderr",
     "output_type": "stream",
     "text": [
      "\r",
      " 84%|███████████████████████████████████████████████████████████████████▏            | 252/300 [07:50<01:30,  1.89s/it]"
     ]
    },
    {
     "name": "stdout",
     "output_type": "stream",
     "text": [
      "-------------------- Iteration --------------------\n",
      "Average Episodic Length: 200.0\n",
      "Average Episodic Return: -126.77\n",
      "Successfully save the model!\n"
     ]
    },
    {
     "name": "stderr",
     "output_type": "stream",
     "text": [
      "\r",
      " 84%|███████████████████████████████████████████████████████████████████▍            | 253/300 [07:52<01:28,  1.89s/it]"
     ]
    },
    {
     "name": "stdout",
     "output_type": "stream",
     "text": [
      "-------------------- Iteration --------------------\n",
      "Average Episodic Length: 200.0\n",
      "Average Episodic Return: -337.65\n"
     ]
    },
    {
     "name": "stderr",
     "output_type": "stream",
     "text": [
      "\r",
      " 85%|███████████████████████████████████████████████████████████████████▋            | 254/300 [07:54<01:27,  1.91s/it]"
     ]
    },
    {
     "name": "stdout",
     "output_type": "stream",
     "text": [
      "-------------------- Iteration --------------------\n",
      "Average Episodic Length: 200.0\n",
      "Average Episodic Return: -148.74\n",
      "Successfully save the model!\n"
     ]
    },
    {
     "name": "stderr",
     "output_type": "stream",
     "text": [
      "\r",
      " 85%|████████████████████████████████████████████████████████████████████            | 255/300 [07:56<01:27,  1.95s/it]"
     ]
    },
    {
     "name": "stdout",
     "output_type": "stream",
     "text": [
      "-------------------- Iteration --------------------\n",
      "Average Episodic Length: 200.0\n",
      "Average Episodic Return: -429.87\n"
     ]
    },
    {
     "name": "stderr",
     "output_type": "stream",
     "text": [
      "\r",
      " 85%|████████████████████████████████████████████████████████████████████▎           | 256/300 [07:58<01:26,  1.96s/it]"
     ]
    },
    {
     "name": "stdout",
     "output_type": "stream",
     "text": [
      "-------------------- Iteration --------------------\n",
      "Average Episodic Length: 200.0\n",
      "Average Episodic Return: -408.92\n",
      "Successfully save the model!\n"
     ]
    },
    {
     "name": "stderr",
     "output_type": "stream",
     "text": [
      "\r",
      " 86%|████████████████████████████████████████████████████████████████████▌           | 257/300 [08:00<01:22,  1.91s/it]"
     ]
    },
    {
     "name": "stdout",
     "output_type": "stream",
     "text": [
      "-------------------- Iteration --------------------\n",
      "Average Episodic Length: 200.0\n",
      "Average Episodic Return: -322.59\n",
      "Successfully save the model!\n"
     ]
    },
    {
     "name": "stderr",
     "output_type": "stream",
     "text": [
      "\r",
      " 86%|████████████████████████████████████████████████████████████████████▊           | 258/300 [08:02<01:20,  1.91s/it]"
     ]
    },
    {
     "name": "stdout",
     "output_type": "stream",
     "text": [
      "-------------------- Iteration --------------------\n",
      "Average Episodic Length: 200.0\n",
      "Average Episodic Return: -337.48\n"
     ]
    },
    {
     "name": "stderr",
     "output_type": "stream",
     "text": [
      "\r",
      " 86%|█████████████████████████████████████████████████████████████████████           | 259/300 [08:04<01:18,  1.91s/it]"
     ]
    },
    {
     "name": "stdout",
     "output_type": "stream",
     "text": [
      "-------------------- Iteration --------------------\n",
      "Average Episodic Length: 200.0\n",
      "Average Episodic Return: -247.5\n",
      "Successfully save the model!\n"
     ]
    },
    {
     "name": "stderr",
     "output_type": "stream",
     "text": [
      "\r",
      " 87%|█████████████████████████████████████████████████████████████████████▎          | 260/300 [08:06<01:15,  1.89s/it]"
     ]
    },
    {
     "name": "stdout",
     "output_type": "stream",
     "text": [
      "-------------------- Iteration --------------------\n",
      "Average Episodic Length: 200.0\n",
      "Average Episodic Return: -438.55\n"
     ]
    },
    {
     "name": "stderr",
     "output_type": "stream",
     "text": [
      "\r",
      " 87%|█████████████████████████████████████████████████████████████████████▌          | 261/300 [08:07<01:11,  1.83s/it]"
     ]
    },
    {
     "name": "stdout",
     "output_type": "stream",
     "text": [
      "-------------------- Iteration --------------------\n",
      "Average Episodic Length: 200.0\n",
      "Average Episodic Return: -264.32\n",
      "Successfully save the model!\n"
     ]
    },
    {
     "name": "stderr",
     "output_type": "stream",
     "text": [
      "\r",
      " 87%|█████████████████████████████████████████████████████████████████████▊          | 262/300 [08:09<01:08,  1.81s/it]"
     ]
    },
    {
     "name": "stdout",
     "output_type": "stream",
     "text": [
      "-------------------- Iteration --------------------\n",
      "Average Episodic Length: 200.0\n",
      "Average Episodic Return: -705.51\n"
     ]
    },
    {
     "name": "stderr",
     "output_type": "stream",
     "text": [
      "\r",
      " 88%|██████████████████████████████████████████████████████████████████████▏         | 263/300 [08:11<01:07,  1.82s/it]"
     ]
    },
    {
     "name": "stdout",
     "output_type": "stream",
     "text": [
      "-------------------- Iteration --------------------\n",
      "Average Episodic Length: 200.0\n",
      "Average Episodic Return: -424.85\n",
      "Successfully save the model!\n"
     ]
    },
    {
     "name": "stderr",
     "output_type": "stream",
     "text": [
      "\r",
      " 88%|██████████████████████████████████████████████████████████████████████▍         | 264/300 [08:13<01:06,  1.84s/it]"
     ]
    },
    {
     "name": "stdout",
     "output_type": "stream",
     "text": [
      "-------------------- Iteration --------------------\n",
      "Average Episodic Length: 200.0\n",
      "Average Episodic Return: -554.05\n"
     ]
    },
    {
     "name": "stderr",
     "output_type": "stream",
     "text": [
      "\r",
      " 88%|██████████████████████████████████████████████████████████████████████▋         | 265/300 [08:15<01:04,  1.84s/it]"
     ]
    },
    {
     "name": "stdout",
     "output_type": "stream",
     "text": [
      "-------------------- Iteration --------------------\n",
      "Average Episodic Length: 200.0\n",
      "Average Episodic Return: -266.82\n",
      "Successfully save the model!\n"
     ]
    },
    {
     "name": "stderr",
     "output_type": "stream",
     "text": [
      "\r",
      " 89%|██████████████████████████████████████████████████████████████████████▉         | 266/300 [08:17<01:05,  1.92s/it]"
     ]
    },
    {
     "name": "stdout",
     "output_type": "stream",
     "text": [
      "-------------------- Iteration --------------------\n",
      "Average Episodic Length: 200.0\n",
      "Average Episodic Return: -375.77\n"
     ]
    },
    {
     "name": "stderr",
     "output_type": "stream",
     "text": [
      "\r",
      " 89%|███████████████████████████████████████████████████████████████████████▏        | 267/300 [08:19<01:02,  1.90s/it]"
     ]
    },
    {
     "name": "stdout",
     "output_type": "stream",
     "text": [
      "-------------------- Iteration --------------------\n",
      "Average Episodic Length: 200.0\n",
      "Average Episodic Return: -390.87\n"
     ]
    },
    {
     "name": "stderr",
     "output_type": "stream",
     "text": [
      "\r",
      " 89%|███████████████████████████████████████████████████████████████████████▍        | 268/300 [08:21<01:02,  1.96s/it]"
     ]
    },
    {
     "name": "stdout",
     "output_type": "stream",
     "text": [
      "-------------------- Iteration --------------------\n",
      "Average Episodic Length: 200.0\n",
      "Average Episodic Return: -283.77\n",
      "Successfully save the model!\n"
     ]
    },
    {
     "name": "stderr",
     "output_type": "stream",
     "text": [
      "\r",
      " 90%|███████████████████████████████████████████████████████████████████████▋        | 269/300 [08:23<01:01,  1.99s/it]"
     ]
    },
    {
     "name": "stdout",
     "output_type": "stream",
     "text": [
      "-------------------- Iteration --------------------\n",
      "Average Episodic Length: 200.0\n",
      "Average Episodic Return: -278.01\n",
      "Successfully save the model!\n"
     ]
    },
    {
     "name": "stderr",
     "output_type": "stream",
     "text": [
      "\r",
      " 90%|████████████████████████████████████████████████████████████████████████        | 270/300 [08:25<00:58,  1.94s/it]"
     ]
    },
    {
     "name": "stdout",
     "output_type": "stream",
     "text": [
      "-------------------- Iteration --------------------\n",
      "Average Episodic Length: 200.0\n",
      "Average Episodic Return: -128.7\n",
      "Successfully save the model!\n"
     ]
    },
    {
     "name": "stderr",
     "output_type": "stream",
     "text": [
      "\r",
      " 90%|████████████████████████████████████████████████████████████████████████▎       | 271/300 [08:27<00:55,  1.90s/it]"
     ]
    },
    {
     "name": "stdout",
     "output_type": "stream",
     "text": [
      "-------------------- Iteration --------------------\n",
      "Average Episodic Length: 200.0\n",
      "Average Episodic Return: -367.81\n"
     ]
    },
    {
     "name": "stderr",
     "output_type": "stream",
     "text": [
      "\r",
      " 91%|████████████████████████████████████████████████████████████████████████▌       | 272/300 [08:28<00:52,  1.86s/it]"
     ]
    },
    {
     "name": "stdout",
     "output_type": "stream",
     "text": [
      "-------------------- Iteration --------------------\n",
      "Average Episodic Length: 200.0\n",
      "Average Episodic Return: -329.81\n",
      "Successfully save the model!\n"
     ]
    },
    {
     "name": "stderr",
     "output_type": "stream",
     "text": [
      "\r",
      " 91%|████████████████████████████████████████████████████████████████████████▊       | 273/300 [08:30<00:49,  1.83s/it]"
     ]
    },
    {
     "name": "stdout",
     "output_type": "stream",
     "text": [
      "-------------------- Iteration --------------------\n",
      "Average Episodic Length: 200.0\n",
      "Average Episodic Return: -351.52\n"
     ]
    },
    {
     "name": "stderr",
     "output_type": "stream",
     "text": [
      "\r",
      " 91%|█████████████████████████████████████████████████████████████████████████       | 274/300 [08:32<00:48,  1.86s/it]"
     ]
    },
    {
     "name": "stdout",
     "output_type": "stream",
     "text": [
      "-------------------- Iteration --------------------\n",
      "Average Episodic Length: 200.0\n",
      "Average Episodic Return: -193.28\n",
      "Successfully save the model!\n"
     ]
    },
    {
     "name": "stderr",
     "output_type": "stream",
     "text": [
      "\r",
      " 92%|█████████████████████████████████████████████████████████████████████████▎      | 275/300 [08:34<00:47,  1.89s/it]"
     ]
    },
    {
     "name": "stdout",
     "output_type": "stream",
     "text": [
      "-------------------- Iteration --------------------\n",
      "Average Episodic Length: 200.0\n",
      "Average Episodic Return: -730.81\n"
     ]
    },
    {
     "name": "stderr",
     "output_type": "stream",
     "text": [
      "\r",
      " 92%|█████████████████████████████████████████████████████████████████████████▌      | 276/300 [08:36<00:45,  1.88s/it]"
     ]
    },
    {
     "name": "stdout",
     "output_type": "stream",
     "text": [
      "-------------------- Iteration --------------------\n",
      "Average Episodic Length: 200.0\n",
      "Average Episodic Return: -565.42\n",
      "Successfully save the model!\n"
     ]
    },
    {
     "name": "stderr",
     "output_type": "stream",
     "text": [
      "\r",
      " 92%|█████████████████████████████████████████████████████████████████████████▊      | 277/300 [08:38<00:43,  1.88s/it]"
     ]
    },
    {
     "name": "stdout",
     "output_type": "stream",
     "text": [
      "-------------------- Iteration --------------------\n",
      "Average Episodic Length: 200.0\n",
      "Average Episodic Return: -330.8\n",
      "Successfully save the model!\n"
     ]
    },
    {
     "name": "stderr",
     "output_type": "stream",
     "text": [
      "\r",
      " 93%|██████████████████████████████████████████████████████████████████████████▏     | 278/300 [08:40<00:42,  1.93s/it]"
     ]
    },
    {
     "name": "stdout",
     "output_type": "stream",
     "text": [
      "-------------------- Iteration --------------------\n",
      "Average Episodic Length: 200.0\n",
      "Average Episodic Return: -320.08\n",
      "Successfully save the model!\n"
     ]
    },
    {
     "name": "stderr",
     "output_type": "stream",
     "text": [
      "\r",
      " 93%|██████████████████████████████████████████████████████████████████████████▍     | 279/300 [08:42<00:40,  1.91s/it]"
     ]
    },
    {
     "name": "stdout",
     "output_type": "stream",
     "text": [
      "-------------------- Iteration --------------------\n",
      "Average Episodic Length: 200.0\n",
      "Average Episodic Return: -451.98\n"
     ]
    },
    {
     "name": "stderr",
     "output_type": "stream",
     "text": [
      "\r",
      " 93%|██████████████████████████████████████████████████████████████████████████▋     | 280/300 [08:44<00:39,  1.99s/it]"
     ]
    },
    {
     "name": "stdout",
     "output_type": "stream",
     "text": [
      "-------------------- Iteration --------------------\n",
      "Average Episodic Length: 200.0\n",
      "Average Episodic Return: -445.58\n",
      "Successfully save the model!\n"
     ]
    },
    {
     "name": "stderr",
     "output_type": "stream",
     "text": [
      "\r",
      " 94%|██████████████████████████████████████████████████████████████████████████▉     | 281/300 [08:46<00:36,  1.91s/it]"
     ]
    },
    {
     "name": "stdout",
     "output_type": "stream",
     "text": [
      "-------------------- Iteration --------------------\n",
      "Average Episodic Length: 200.0\n",
      "Average Episodic Return: -349.68\n",
      "Successfully save the model!\n"
     ]
    },
    {
     "name": "stderr",
     "output_type": "stream",
     "text": [
      "\r",
      " 94%|███████████████████████████████████████████████████████████████████████████▏    | 282/300 [08:47<00:33,  1.85s/it]"
     ]
    },
    {
     "name": "stdout",
     "output_type": "stream",
     "text": [
      "-------------------- Iteration --------------------\n",
      "Average Episodic Length: 200.0\n",
      "Average Episodic Return: -156.49\n",
      "Successfully save the model!\n"
     ]
    },
    {
     "name": "stderr",
     "output_type": "stream",
     "text": [
      "\r",
      " 94%|███████████████████████████████████████████████████████████████████████████▍    | 283/300 [08:49<00:31,  1.87s/it]"
     ]
    },
    {
     "name": "stdout",
     "output_type": "stream",
     "text": [
      "-------------------- Iteration --------------------\n",
      "Average Episodic Length: 200.0\n",
      "Average Episodic Return: -604.91\n"
     ]
    },
    {
     "name": "stderr",
     "output_type": "stream",
     "text": [
      "\r",
      " 95%|███████████████████████████████████████████████████████████████████████████▋    | 284/300 [08:51<00:29,  1.86s/it]"
     ]
    },
    {
     "name": "stdout",
     "output_type": "stream",
     "text": [
      "-------------------- Iteration --------------------\n",
      "Average Episodic Length: 200.0\n",
      "Average Episodic Return: -643.03\n"
     ]
    },
    {
     "name": "stderr",
     "output_type": "stream",
     "text": [
      "\r",
      " 95%|████████████████████████████████████████████████████████████████████████████    | 285/300 [08:53<00:28,  1.88s/it]"
     ]
    },
    {
     "name": "stdout",
     "output_type": "stream",
     "text": [
      "-------------------- Iteration --------------------\n",
      "Average Episodic Length: 200.0\n",
      "Average Episodic Return: -412.65\n",
      "Successfully save the model!\n"
     ]
    },
    {
     "name": "stderr",
     "output_type": "stream",
     "text": [
      "\r",
      " 95%|████████████████████████████████████████████████████████████████████████████▎   | 286/300 [08:55<00:27,  1.93s/it]"
     ]
    },
    {
     "name": "stdout",
     "output_type": "stream",
     "text": [
      "-------------------- Iteration --------------------\n",
      "Average Episodic Length: 200.0\n",
      "Average Episodic Return: -367.38\n",
      "Successfully save the model!\n"
     ]
    },
    {
     "name": "stderr",
     "output_type": "stream",
     "text": [
      "\r",
      " 96%|████████████████████████████████████████████████████████████████████████████▌   | 287/300 [08:57<00:24,  1.92s/it]"
     ]
    },
    {
     "name": "stdout",
     "output_type": "stream",
     "text": [
      "-------------------- Iteration --------------------\n",
      "Average Episodic Length: 200.0\n",
      "Average Episodic Return: -467.21\n"
     ]
    },
    {
     "name": "stderr",
     "output_type": "stream",
     "text": [
      "\r",
      " 96%|████████████████████████████████████████████████████████████████████████████▊   | 288/300 [08:59<00:22,  1.90s/it]"
     ]
    },
    {
     "name": "stdout",
     "output_type": "stream",
     "text": [
      "-------------------- Iteration --------------------\n",
      "Average Episodic Length: 200.0\n",
      "Average Episodic Return: -631.26\n"
     ]
    },
    {
     "name": "stderr",
     "output_type": "stream",
     "text": [
      "\r",
      " 96%|█████████████████████████████████████████████████████████████████████████████   | 289/300 [09:01<00:20,  1.89s/it]"
     ]
    },
    {
     "name": "stdout",
     "output_type": "stream",
     "text": [
      "-------------------- Iteration --------------------\n",
      "Average Episodic Length: 200.0\n",
      "Average Episodic Return: -460.91\n",
      "Successfully save the model!\n"
     ]
    },
    {
     "name": "stderr",
     "output_type": "stream",
     "text": [
      "\r",
      " 97%|█████████████████████████████████████████████████████████████████████████████▎  | 290/300 [09:02<00:18,  1.87s/it]"
     ]
    },
    {
     "name": "stdout",
     "output_type": "stream",
     "text": [
      "-------------------- Iteration --------------------\n",
      "Average Episodic Length: 200.0\n",
      "Average Episodic Return: -467.21\n"
     ]
    },
    {
     "name": "stderr",
     "output_type": "stream",
     "text": [
      "\r",
      " 97%|█████████████████████████████████████████████████████████████████████████████▌  | 291/300 [09:04<00:16,  1.84s/it]"
     ]
    },
    {
     "name": "stdout",
     "output_type": "stream",
     "text": [
      "-------------------- Iteration --------------------\n",
      "Average Episodic Length: 200.0\n",
      "Average Episodic Return: -232.01\n",
      "Successfully save the model!\n"
     ]
    },
    {
     "name": "stderr",
     "output_type": "stream",
     "text": [
      "\r",
      " 97%|█████████████████████████████████████████████████████████████████████████████▊  | 292/300 [09:06<00:14,  1.84s/it]"
     ]
    },
    {
     "name": "stdout",
     "output_type": "stream",
     "text": [
      "-------------------- Iteration --------------------\n",
      "Average Episodic Length: 200.0\n",
      "Average Episodic Return: -382.77\n"
     ]
    },
    {
     "name": "stderr",
     "output_type": "stream",
     "text": [
      "\r",
      " 98%|██████████████████████████████████████████████████████████████████████████████▏ | 293/300 [09:08<00:12,  1.83s/it]"
     ]
    },
    {
     "name": "stdout",
     "output_type": "stream",
     "text": [
      "-------------------- Iteration --------------------\n",
      "Average Episodic Length: 200.0\n",
      "Average Episodic Return: -451.61\n"
     ]
    },
    {
     "name": "stderr",
     "output_type": "stream",
     "text": [
      "\r",
      " 98%|██████████████████████████████████████████████████████████████████████████████▍ | 294/300 [09:10<00:11,  1.83s/it]"
     ]
    },
    {
     "name": "stdout",
     "output_type": "stream",
     "text": [
      "-------------------- Iteration --------------------\n",
      "Average Episodic Length: 200.0\n",
      "Average Episodic Return: -355.83\n",
      "Successfully save the model!\n"
     ]
    },
    {
     "name": "stderr",
     "output_type": "stream",
     "text": [
      "\r",
      " 98%|██████████████████████████████████████████████████████████████████████████████▋ | 295/300 [09:12<00:09,  1.85s/it]"
     ]
    },
    {
     "name": "stdout",
     "output_type": "stream",
     "text": [
      "-------------------- Iteration --------------------\n",
      "Average Episodic Length: 200.0\n",
      "Average Episodic Return: -558.28\n"
     ]
    },
    {
     "name": "stderr",
     "output_type": "stream",
     "text": [
      "\r",
      " 99%|██████████████████████████████████████████████████████████████████████████████▉ | 296/300 [09:13<00:07,  1.87s/it]"
     ]
    },
    {
     "name": "stdout",
     "output_type": "stream",
     "text": [
      "-------------------- Iteration --------------------\n",
      "Average Episodic Length: 200.0\n",
      "Average Episodic Return: -363.93\n",
      "Successfully save the model!\n"
     ]
    },
    {
     "name": "stderr",
     "output_type": "stream",
     "text": [
      "\r",
      " 99%|███████████████████████████████████████████████████████████████████████████████▏| 297/300 [09:15<00:05,  1.89s/it]"
     ]
    },
    {
     "name": "stdout",
     "output_type": "stream",
     "text": [
      "-------------------- Iteration --------------------\n",
      "Average Episodic Length: 200.0\n",
      "Average Episodic Return: -107.8\n",
      "Successfully save the model!\n"
     ]
    },
    {
     "name": "stderr",
     "output_type": "stream",
     "text": [
      "\r",
      " 99%|███████████████████████████████████████████████████████████████████████████████▍| 298/300 [09:17<00:03,  1.87s/it]"
     ]
    },
    {
     "name": "stdout",
     "output_type": "stream",
     "text": [
      "-------------------- Iteration --------------------\n",
      "Average Episodic Length: 200.0\n",
      "Average Episodic Return: -432.07\n"
     ]
    },
    {
     "name": "stderr",
     "output_type": "stream",
     "text": [
      "\r",
      "100%|███████████████████████████████████████████████████████████████████████████████▋| 299/300 [09:19<00:01,  1.88s/it]"
     ]
    },
    {
     "name": "stdout",
     "output_type": "stream",
     "text": [
      "-------------------- Iteration --------------------\n",
      "Average Episodic Length: 200.0\n",
      "Average Episodic Return: -372.35\n",
      "Successfully save the model!\n"
     ]
    },
    {
     "name": "stderr",
     "output_type": "stream",
     "text": [
      "100%|████████████████████████████████████████████████████████████████████████████████| 300/300 [09:21<00:00,  1.87s/it]\n"
     ]
    }
   ],
   "source": [
    "ITERATIONS = 300\n",
    "\n",
    "model = PPO(network=FeedForwardNN, obs_dim = obs_dim, act_dim = act_dim, subgaussian = True, delta = 0.4)\n",
    "#model.actor.load_checkpoint()\n",
    "#model.critic.load_checkpoint()\n",
    "model.actor.train()\n",
    "model.critic.train()\n",
    "\n",
    "tmp = 0.0\n",
    "\n",
    "avg_ep_rews_log_04 = []\n",
    "\n",
    "prg_bar = tqdm(range(ITERATIONS))\n",
    "for i in prg_bar:\n",
    "    batch_obs, batch_acts, batch_rews, batch_log_probs, batch_lens = \\\n",
    "        rollout(model, env, hyperparameters['timesteps_per_batch'], hyperparameters['max_timesteps_per_episode'])\n",
    "\n",
    "    avg_ep_lens = np.mean(batch_lens)\n",
    "    avg_ep_rews = np.mean([np.sum(ep_rews) for ep_rews in batch_rews])\n",
    "    avg_ep_rews_log_04.append(avg_ep_rews)\n",
    "    \n",
    "    # Round decimal places for more aesthetic logging messages\n",
    "    avg_ep_lens = str(round(avg_ep_lens, 2))\n",
    "    avg_ep_rews_1 = str(round(avg_ep_rews, 2))\n",
    "\n",
    "    print(f\"-------------------- Iteration --------------------\", flush=True)\n",
    "    print(f\"Average Episodic Length: {avg_ep_lens}\", flush=True)\n",
    "    print(f\"Average Episodic Return: {avg_ep_rews_1}\", flush=True)\n",
    "    \n",
    "    model.learn(batch_obs, batch_acts, batch_rews, batch_log_probs)\n",
    "    if avg_ep_rews > tmp:\n",
    "        model.actor.save_checkpoint()\n",
    "        model.critic.save_checkpoint()\n",
    "        print(\"Successfully save the model!\",flush=True)\n",
    "    tmp = avg_ep_rews\n",
    "    "
   ]
  },
  {
   "cell_type": "code",
   "execution_count": 15,
   "id": "e8503b99",
   "metadata": {},
   "outputs": [
    {
     "data": {
      "image/png": "[encoded data removed]",
      "text/plain": [
       "<Figure size 432x288 with 1 Axes>"
      ]
     },
     "metadata": {
      "needs_background": "light"
     },
     "output_type": "display_data"
    }
   ],
   "source": [
    "plt.plot(avg_ep_rews_log_04, color='green')\n",
    "plt.title(\"The average rewards for episodes per batch (Subgaussian (delta=0.4))\")\n",
    "plt.show()"
   ]
  },
  {
   "cell_type": "code",
   "execution_count": 18,
   "id": "13e1fd85",
   "metadata": {},
   "outputs": [
    {
     "data": {
      "image/png": "[encoded data removed]",
      "text/plain": [
       "<Figure size 432x288 with 1 Axes>"
      ]
     },
     "metadata": {
      "needs_background": "light"
     },
     "output_type": "display_data"
    }
   ],
   "source": [
    "line0, = plt.plot(avg_ep_rews_log, color = 'blue')\n",
    "line1, = plt.plot(avg_ep_rews_log_02, color = 'red')\n",
    "line2, = plt.plot(avg_ep_rews_log_04, color = 'green')\n",
    "plt.legend(handles = [line0, line1, line2], labels =['Vanilla', 'Subgaussian(0.2)','Subgaussian(0.4)'], loc='lower right')\n",
    "plt.title(\"The average rewards for episodes per batch\")\n",
    "plt.show()"
   ]
  },
  {
   "cell_type": "markdown",
   "id": "0391addd",
   "metadata": {},
   "source": [
    "Test----"
   ]
  },
  {
   "cell_type": "code",
   "execution_count": 9,
   "id": "95b6fa9a",
   "metadata": {},
   "outputs": [
    {
     "name": "stdout",
     "output_type": "stream",
     "text": [
      "-120.21181737412071\n",
      "-125.41116676883169\n",
      "-243.96041123861386\n",
      "-338.05871844153194\n",
      "-242.14872698933092\n",
      "Your final reward is : -213.96\n"
     ]
    }
   ],
   "source": [
    "env = gym.make('Pendulum-v0')\n",
    "fix(env, seed)\n",
    "obs_dim = env.observation_space.shape[0]\n",
    "act_dim = env.action_space.shape[0]\n",
    "\n",
    "model = PPO(network=FeedForwardNN, obs_dim = obs_dim, act_dim = act_dim)\n",
    "model.actor.load_checkpoint()\n",
    "model.critic.load_checkpoint()\n",
    "model.actor.eval()  # turn network to evaluation mode\n",
    "model.critic.eval()\n",
    "NUM_OF_TEST = 5 # Do not revise it !!!!!\n",
    "test_total_reward = []\n",
    "action_list = []\n",
    "for i in range(NUM_OF_TEST):\n",
    "    actions = []\n",
    "    obs = env.reset()\n",
    "\n",
    "  #img = plt.imshow(env.render(mode='rgb_array'))\n",
    "    env.render()\n",
    "  \n",
    "    total_reward = 0\n",
    "\n",
    "    done = False\n",
    "    while not done:\n",
    "        action, _ = model.get_action(obs)\n",
    "        actions.append(action)\n",
    "        obs, reward, done, _ = env.step(action)\n",
    "\n",
    "        total_reward += reward\n",
    "\n",
    "      #img.set_data(env.render(mode='rgb_array'))\n",
    "        env.render()\n",
    "      #display.display(plt.gcf())\n",
    "      #display.clear_output(wait=True)\n",
    "    print(total_reward)\n",
    "    test_total_reward.append(total_reward)\n",
    "\n",
    "\n",
    "env.close()\n",
    "\n",
    "print(f\"Your final reward is : %.2f\"%np.mean(test_total_reward))"
   ]
  },
  {
   "cell_type": "code",
   "execution_count": null,
   "id": "8faf4b64",
   "metadata": {},
   "outputs": [],
   "source": []
  }
 ],
 "metadata": {
  "kernelspec": {
   "display_name": "Python 3",
   "language": "python",
   "name": "python3"
  },
  "language_info": {
   "codemirror_mode": {
    "name": "ipython",
    "version": 3
   },
   "file_extension": ".py",
   "mimetype": "text/x-python",
   "name": "python",
   "nbconvert_exporter": "python",
   "pygments_lexer": "ipython3",
   "version": "3.7.9"
  }
 },
 "nbformat": 4,
 "nbformat_minor": 5
}
