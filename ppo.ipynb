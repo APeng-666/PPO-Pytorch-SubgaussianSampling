{
 "cells": [
  {
   "cell_type": "code",
   "execution_count": 1,
   "id": "c4d8f193",
   "metadata": {},
   "outputs": [],
   "source": [
    "import gym\n",
    "import time\n",
    "from tqdm import tqdm\n",
    "import random\n",
    "import os\n",
    "\n",
    "import numpy as np\n",
    "import time\n",
    "import torch as T\n",
    "import torch.nn as nn\n",
    "import torch.nn.functional as F\n",
    "from torch.optim import Adam\n",
    "from torch.distributions import MultivariateNormal"
   ]
  },
  {
   "cell_type": "markdown",
   "id": "15c6464f",
   "metadata": {},
   "source": [
    "Fix environment"
   ]
  },
  {
   "cell_type": "code",
   "execution_count": 2,
   "id": "36fc2ef0",
   "metadata": {},
   "outputs": [],
   "source": [
    "seed = 666 # Do not change this\n",
    "device = T.device('cuda:0' if T.cuda.is_available() else 'cpu')\n",
    "def fix(env, seed):\n",
    "    env.seed(seed)\n",
    "    env.action_space.seed(seed)\n",
    "    T.manual_seed(seed)\n",
    "    T.cuda.manual_seed(seed)\n",
    "    T.cuda.manual_seed_all(seed)\n",
    "    np.random.seed(seed)\n",
    "    random.seed(seed)\n",
    "  #torch.set_deterministic(True)\n",
    "    T.backends.cudnn.benchmark = False\n",
    "    T.backends.cudnn.deterministic = True"
   ]
  },
  {
   "cell_type": "markdown",
   "id": "f6af1e8c",
   "metadata": {},
   "source": [
    "Construct the (linear) network structure--"
   ]
  },
  {
   "cell_type": "code",
   "execution_count": 3,
   "id": "8e84a256",
   "metadata": {},
   "outputs": [],
   "source": [
    "class FeedForwardNN(nn.Module):\n",
    "    def __init__(self, in_dim, out_dim, name, chkpt_dir):\n",
    "        super(FeedForwardNN, self).__init__()\n",
    "    \n",
    "        self.chkpt_file = os.path.join(chkpt_dir, name)\n",
    "    \n",
    "        self.layer1 = nn.Linear(in_dim, 64)\n",
    "        self.layer2 = nn.Linear(64, 64)\n",
    "        self.layer3 = nn.Linear(64, out_dim)\n",
    "    \n",
    "        self.device = T.device('cuda:0' if T.cuda.is_available() else 'cpu')\n",
    "    \n",
    "        self.to(self.device)\n",
    "    \n",
    "    def forward(self, obs):\n",
    "        x = F.relu(self.layer1(obs))\n",
    "        x = F.relu(self.layer2(x))\n",
    "        output = self.layer3(x)\n",
    "        return output\n",
    "\n",
    "    def save_checkpoint(self):\n",
    "        T.save(self.state_dict(), self.chkpt_file)\n",
    "\n",
    "    def load_checkpoint(self):\n",
    "        self.load_state_dict(T.load(self.chkpt_file))"
   ]
  },
  {
   "cell_type": "markdown",
   "id": "08391fa8",
   "metadata": {},
   "source": [
    "Create buffer"
   ]
  },
  {
   "cell_type": "markdown",
   "id": "c3c3d08b",
   "metadata": {},
   "source": [
    "Construct our PPO class (which is also our agent) --"
   ]
  },
  {
   "cell_type": "code",
   "execution_count": 4,
   "id": "932e452e",
   "metadata": {},
   "outputs": [],
   "source": [
    "class PPO:\n",
    "    def __init__(self, network, obs_dim, act_dim,lr = 0.005, gamma = 0.99, clip = 0.2, n_updates_per_iteration = 5, \\\n",
    "                max_timesteps_per_episode = 200, timesteps_per_batch = 2048, chkpt_dir = 'model/'):\n",
    "        self.chkpt_dir = chkpt_dir\n",
    "        \n",
    "        self.timesteps_per_batch = timesteps_per_batch                 # Number of timesteps to run per batch\n",
    "        self.max_timesteps_per_episode = max_timesteps_per_episode          # Max number of timesteps per episode\n",
    "        self.n_updates_per_iteration = n_updates_per_iteration                # Number of times to update actor/critic per iteration\n",
    "        self.lr = lr                                 # Learning rate of actor optimizer\n",
    "        self.gamma = gamma                               # Discount factor to be applied when calculating Rewards-To-Go\n",
    "        self.clip = clip                                 # Recommended 0.2, helps define the threshold to clip the ratio during SGA\n",
    "        \n",
    "        self.obs_dim = obs_dim\n",
    "        self.act_dim = act_dim\n",
    "        \n",
    "        self.actor = network(self.obs_dim, self.act_dim, 'ppo_actor.pth', self.chkpt_dir) \n",
    "        self.critic = network(self.obs_dim, 1, 'ppo_critic.pth', self.chkpt_dir)\n",
    "        \n",
    "        # Initialize optimizers for actor and critic\n",
    "        self.actor_optim = Adam(self.actor.parameters(), lr=self.lr)\n",
    "        self.critic_optim = Adam(self.critic.parameters(), lr=self.lr)\n",
    "        \n",
    "        # Initialize the covariance matrix used to query the actor for actions\n",
    "        self.cov_var = T.full(size=(self.act_dim,), fill_value=0.5)\n",
    "        self.cov_mat = T.diag(self.cov_var)\n",
    "        \n",
    "    def learn(self, batch_obs, batch_acts, batch_rews, batch_log_probs):\n",
    "        \n",
    "        device = self.actor.device\n",
    "        \n",
    "        batch_rtgs = self.compute_rtgs(batch_rews)\n",
    "        batch_rtgs = T.tensor(np.array(batch_rtgs), dtype=T.float).to(device)\n",
    "        batch_obs = T.tensor(np.array(batch_obs), dtype=T.float).to(device)\n",
    "        batch_acts = T.tensor(np.array(batch_acts), dtype=T.float).to(device)\n",
    "        batch_log_probs = T.tensor(np.array(batch_log_probs), dtype=T.float).to(device)\n",
    "        \n",
    "        # Calculate advantage at k-th iteration\n",
    "        V, _ = self.evaluate(batch_obs, batch_acts)\n",
    "        A_k = batch_rtgs - V.detach()          \n",
    "        A_k = (A_k - A_k.mean()) / (A_k.std() + 1e-10) # Normalizing the advantage\n",
    "        \n",
    "        for _ in range(self.n_updates_per_iteration):\n",
    "            V, curr_log_probs = self.evaluate(batch_obs, batch_acts)\n",
    "            \n",
    "            ratios = T.exp(curr_log_probs - batch_log_probs)\n",
    "            \n",
    "            # Calculate surrogate losses.\n",
    "            surr1 = ratios * A_k\n",
    "            surr2 = T.clamp(ratios, 1 - self.clip, 1 + self.clip) * A_k\n",
    "            \n",
    "            actor_loss = (-T.min(surr1, surr2)).mean()\n",
    "            critic_loss = nn.MSELoss()(V, batch_rtgs)\n",
    "            \n",
    "            # Calculate gradients and perform backward propagation for actor network\n",
    "            self.actor_optim.zero_grad()\n",
    "            actor_loss.backward(retain_graph=True)\n",
    "            self.actor_optim.step()\n",
    "            \n",
    "            # Calculate gradients and perform backward propagation for critic network\n",
    "            self.critic_optim.zero_grad()\n",
    "            critic_loss.backward()\n",
    "            self.critic_optim.step()    \n",
    "            \n",
    "    def compute_rtgs(self, batch_rews):\n",
    "        batch_rtgs = []\n",
    "        \n",
    "        for epoch_rews in reversed(batch_rews):\n",
    "            discounted_reward = 0\n",
    "            for rew in reversed(epoch_rews):\n",
    "                discounted_reward = rew + discounted_reward * self.gamma\n",
    "                batch_rtgs.insert(0, discounted_reward)\n",
    "                \n",
    "        \n",
    "        return batch_rtgs\n",
    "        \n",
    "    def get_action(self, obs):\n",
    "        state = T.tensor(obs, dtype=T.float).to(self.actor.device)\n",
    "        mean = self.actor.forward(state)\n",
    "        \n",
    "        distr = MultivariateNormal(mean, self.cov_mat)\n",
    "        action = distr.sample()\n",
    "        log_prob = distr.log_prob(action)\n",
    "        return action.detach().cpu().numpy(), log_prob.detach().cpu().numpy()\n",
    "    \n",
    "        \n",
    "    def evaluate(self, batch_obs, batch_acts):\n",
    "        # Estimate the values of each observation, and the log probs of\n",
    "        # each action in the most recent batch with the most recent\n",
    "        # iteration of the actor network. Should be called from learn.\n",
    "        \n",
    "        # Query critic network for a value V for each batch_obs. Shape of V should be same as batch_rtgs\n",
    "        V = self.critic.forward(batch_obs).squeeze()\n",
    "        \n",
    "        # Calculate the log probabilities of batch actions using most recent actor network.\n",
    "        mean = self.actor.forward(batch_obs)\n",
    "        dist = MultivariateNormal(mean, self.cov_mat)\n",
    "        log_probs = dist.log_prob(batch_acts)\n",
    "\n",
    "        # V - the predicted values of batch_obs\n",
    "        # log_probs - the log probabilities of the actions taken in batch_acts given batch_obs\n",
    "        return V, log_probs\n",
    "    \n",
    "        "
   ]
  },
  {
   "cell_type": "markdown",
   "id": "f7d436b4",
   "metadata": {},
   "source": [
    "Define the function to collect the on-policy trajectories--"
   ]
  },
  {
   "cell_type": "code",
   "execution_count": 5,
   "id": "1aafeb3b",
   "metadata": {},
   "outputs": [],
   "source": [
    "def rollout(policy, env, timesteps_per_batch, max_timesteps_per_episode):\n",
    "    # Batch data.\n",
    "    batch_obs = []\n",
    "    batch_acts = []\n",
    "    batch_log_probs = []\n",
    "    batch_rews = []\n",
    "    batch_lens = []\n",
    "    \n",
    "    epoch_rews = []\n",
    "    t=0\n",
    "    while t < timesteps_per_batch:\n",
    "        epoch_rews = [] # rewards collected per episode\n",
    "        obs = env.reset()\n",
    "        done = False\n",
    "        for h in range(max_timesteps_per_episode):\n",
    "            batch_obs.append(obs)\n",
    "            action, log_prob = policy.get_action(obs)\n",
    "            obs, rew, done, _ = env.step(action)\n",
    "            t +=1\n",
    "            \n",
    "            epoch_rews.append(rew)\n",
    "            batch_acts.append(action)\n",
    "            batch_log_probs.append(log_prob)\n",
    "            \n",
    "            if done:\n",
    "                break\n",
    "            \n",
    "        batch_lens.append(h+1)\n",
    "        batch_rews.append(epoch_rews)\n",
    "    \n",
    "    \n",
    "    \n",
    "    return batch_obs, batch_acts, batch_rews, batch_log_probs, batch_lens"
   ]
  },
  {
   "cell_type": "code",
   "execution_count": 6,
   "id": "081247a1",
   "metadata": {},
   "outputs": [],
   "source": [
    "hyperparameters = {\n",
    "    'timesteps_per_batch': 2048, \n",
    "    'max_timesteps_per_episode': 200, \n",
    "    'gamma': 0.99, \n",
    "    'n_updates_per_iteration': 10,\n",
    "    'lr': 3e-4, \n",
    "    'clip': 0.2,\n",
    "    'seed': 666\n",
    "    }"
   ]
  },
  {
   "cell_type": "markdown",
   "id": "10b730f1",
   "metadata": {},
   "source": [
    "The training loop----"
   ]
  },
  {
   "cell_type": "code",
   "execution_count": 7,
   "id": "533fbb62",
   "metadata": {},
   "outputs": [
    {
     "data": {
      "text/plain": [
       "FeedForwardNN(\n",
       "  (layer1): Linear(in_features=3, out_features=64, bias=True)\n",
       "  (layer2): Linear(in_features=64, out_features=64, bias=True)\n",
       "  (layer3): Linear(in_features=64, out_features=1, bias=True)\n",
       ")"
      ]
     },
     "execution_count": 7,
     "metadata": {},
     "output_type": "execute_result"
    }
   ],
   "source": [
    "env = gym.make('Pendulum-v0')\n",
    "fix(env, seed)\n",
    "obs_dim = env.observation_space.shape[0]\n",
    "act_dim = env.action_space.shape[0]\n",
    "\n",
    "model = PPO(network=FeedForwardNN, obs_dim = obs_dim, act_dim = act_dim)\n",
    "model.actor.load_checkpoint()\n",
    "model.critic.load_checkpoint()\n",
    "model.actor.train()\n",
    "model.critic.train()\n"
   ]
  },
  {
   "cell_type": "markdown",
   "id": "a60a4cd0",
   "metadata": {},
   "source": [
    "Train--"
   ]
  },
  {
   "cell_type": "code",
   "execution_count": 8,
   "id": "d82cbd48",
   "metadata": {},
   "outputs": [
    {
     "name": "stderr",
     "output_type": "stream",
     "text": [
      "\r",
      "  0%|                                                                                          | 0/100 [00:00<?, ?it/s]"
     ]
    },
    {
     "name": "stdout",
     "output_type": "stream",
     "text": [
      "\n",
      "-------------------- Iteration --------------------\n",
      "Average Episodic Length: 200.0\n",
      "Average Episodic Return: -150.86\n"
     ]
    },
    {
     "name": "stderr",
     "output_type": "stream",
     "text": [
      "\r",
      "  1%|▊                                                                                 | 1/100 [00:01<02:58,  1.81s/it]"
     ]
    },
    {
     "name": "stdout",
     "output_type": "stream",
     "text": [
      "\n",
      "-------------------- Iteration --------------------\n",
      "Average Episodic Length: 200.0\n",
      "Average Episodic Return: -181.43\n"
     ]
    },
    {
     "name": "stderr",
     "output_type": "stream",
     "text": [
      "\r",
      "  2%|█▋                                                                                | 2/100 [00:03<02:56,  1.80s/it]"
     ]
    },
    {
     "name": "stdout",
     "output_type": "stream",
     "text": [
      "\n",
      "-------------------- Iteration --------------------\n",
      "Average Episodic Length: 200.0\n",
      "Average Episodic Return: -197.6\n"
     ]
    },
    {
     "name": "stderr",
     "output_type": "stream",
     "text": [
      "\r",
      "  3%|██▍                                                                               | 3/100 [00:05<03:01,  1.87s/it]"
     ]
    },
    {
     "name": "stdout",
     "output_type": "stream",
     "text": [
      "\n",
      "-------------------- Iteration --------------------\n",
      "Average Episodic Length: 200.0\n",
      "Average Episodic Return: -191.29\n"
     ]
    },
    {
     "name": "stderr",
     "output_type": "stream",
     "text": [
      "\r",
      "  4%|███▎                                                                              | 4/100 [00:07<03:02,  1.90s/it]"
     ]
    },
    {
     "name": "stdout",
     "output_type": "stream",
     "text": [
      "Successfully save the model!\n",
      "\n",
      "-------------------- Iteration --------------------\n",
      "Average Episodic Length: 200.0\n",
      "Average Episodic Return: -150.25\n"
     ]
    },
    {
     "name": "stderr",
     "output_type": "stream",
     "text": [
      "\r",
      "  5%|████                                                                              | 5/100 [00:09<02:58,  1.88s/it]"
     ]
    },
    {
     "name": "stdout",
     "output_type": "stream",
     "text": [
      "Successfully save the model!\n",
      "\n",
      "-------------------- Iteration --------------------\n",
      "Average Episodic Length: 200.0\n",
      "Average Episodic Return: -131.23\n"
     ]
    },
    {
     "name": "stderr",
     "output_type": "stream",
     "text": [
      "\r",
      "  6%|████▉                                                                             | 6/100 [00:11<02:54,  1.85s/it]"
     ]
    },
    {
     "name": "stdout",
     "output_type": "stream",
     "text": [
      "Successfully save the model!\n",
      "\n",
      "-------------------- Iteration --------------------\n",
      "Average Episodic Length: 200.0\n",
      "Average Episodic Return: -129.51\n"
     ]
    },
    {
     "name": "stderr",
     "output_type": "stream",
     "text": [
      "\r",
      "  7%|█████▋                                                                            | 7/100 [00:12<02:50,  1.83s/it]"
     ]
    },
    {
     "name": "stdout",
     "output_type": "stream",
     "text": [
      "Successfully save the model!\n",
      "\n",
      "-------------------- Iteration --------------------\n",
      "Average Episodic Length: 200.0\n",
      "Average Episodic Return: -130.54\n"
     ]
    },
    {
     "name": "stderr",
     "output_type": "stream",
     "text": [
      "\r",
      "  8%|██████▌                                                                           | 8/100 [00:14<02:51,  1.86s/it]"
     ]
    },
    {
     "name": "stdout",
     "output_type": "stream",
     "text": [
      "\n",
      "-------------------- Iteration --------------------\n",
      "Average Episodic Length: 200.0\n",
      "Average Episodic Return: -148.67\n"
     ]
    },
    {
     "name": "stderr",
     "output_type": "stream",
     "text": [
      "\r",
      "  9%|███████▍                                                                          | 9/100 [00:16<02:51,  1.89s/it]"
     ]
    },
    {
     "name": "stdout",
     "output_type": "stream",
     "text": [
      "\n",
      "-------------------- Iteration --------------------\n",
      "Average Episodic Length: 200.0\n",
      "Average Episodic Return: -162.22\n"
     ]
    },
    {
     "name": "stderr",
     "output_type": "stream",
     "text": [
      "\r",
      " 10%|████████                                                                         | 10/100 [00:18<02:50,  1.89s/it]"
     ]
    },
    {
     "name": "stdout",
     "output_type": "stream",
     "text": [
      "\n",
      "-------------------- Iteration --------------------\n",
      "Average Episodic Length: 200.0\n",
      "Average Episodic Return: -193.43\n"
     ]
    },
    {
     "name": "stderr",
     "output_type": "stream",
     "text": [
      "\r",
      " 11%|████████▉                                                                        | 11/100 [00:20<02:51,  1.92s/it]"
     ]
    },
    {
     "name": "stdout",
     "output_type": "stream",
     "text": [
      "\n",
      "-------------------- Iteration --------------------\n",
      "Average Episodic Length: 200.0\n",
      "Average Episodic Return: -140.24\n"
     ]
    },
    {
     "name": "stderr",
     "output_type": "stream",
     "text": [
      "\r",
      " 12%|█████████▋                                                                       | 12/100 [00:22<02:45,  1.88s/it]"
     ]
    },
    {
     "name": "stdout",
     "output_type": "stream",
     "text": [
      "Successfully save the model!\n",
      "\n",
      "-------------------- Iteration --------------------\n",
      "Average Episodic Length: 200.0\n",
      "Average Episodic Return: -131.89\n"
     ]
    },
    {
     "name": "stderr",
     "output_type": "stream",
     "text": [
      "\r",
      " 13%|██████████▌                                                                      | 13/100 [00:24<02:42,  1.87s/it]"
     ]
    },
    {
     "name": "stdout",
     "output_type": "stream",
     "text": [
      "Successfully save the model!\n",
      "\n",
      "-------------------- Iteration --------------------\n",
      "Average Episodic Length: 200.0\n",
      "Average Episodic Return: -149.66\n"
     ]
    },
    {
     "name": "stderr",
     "output_type": "stream",
     "text": [
      "\r",
      " 14%|███████████▎                                                                     | 14/100 [00:26<02:46,  1.93s/it]"
     ]
    },
    {
     "name": "stdout",
     "output_type": "stream",
     "text": [
      "\n",
      "-------------------- Iteration --------------------\n",
      "Average Episodic Length: 200.0\n",
      "Average Episodic Return: -176.95\n"
     ]
    },
    {
     "name": "stderr",
     "output_type": "stream",
     "text": [
      "\r",
      " 15%|████████████▏                                                                    | 15/100 [00:28<02:45,  1.95s/it]"
     ]
    },
    {
     "name": "stdout",
     "output_type": "stream",
     "text": [
      "\n",
      "-------------------- Iteration --------------------\n",
      "Average Episodic Length: 200.0\n",
      "Average Episodic Return: -183.58\n"
     ]
    },
    {
     "name": "stderr",
     "output_type": "stream",
     "text": [
      "\r",
      " 16%|████████████▉                                                                    | 16/100 [00:30<02:45,  1.97s/it]"
     ]
    },
    {
     "name": "stdout",
     "output_type": "stream",
     "text": [
      "\n",
      "-------------------- Iteration --------------------\n",
      "Average Episodic Length: 200.0\n",
      "Average Episodic Return: -185.47\n"
     ]
    },
    {
     "name": "stderr",
     "output_type": "stream",
     "text": [
      "\r",
      " 17%|█████████████▊                                                                   | 17/100 [00:32<02:41,  1.95s/it]"
     ]
    },
    {
     "name": "stdout",
     "output_type": "stream",
     "text": [
      "\n",
      "-------------------- Iteration --------------------\n",
      "Average Episodic Length: 200.0\n",
      "Average Episodic Return: -119.24\n"
     ]
    },
    {
     "name": "stderr",
     "output_type": "stream",
     "text": [
      "\r",
      " 18%|██████████████▌                                                                  | 18/100 [00:34<02:35,  1.90s/it]"
     ]
    },
    {
     "name": "stdout",
     "output_type": "stream",
     "text": [
      "Successfully save the model!\n",
      "\n",
      "-------------------- Iteration --------------------\n",
      "Average Episodic Length: 200.0\n",
      "Average Episodic Return: -228.4\n"
     ]
    },
    {
     "name": "stderr",
     "output_type": "stream",
     "text": [
      "\r",
      " 19%|███████████████▍                                                                 | 19/100 [00:36<02:36,  1.93s/it]"
     ]
    },
    {
     "name": "stdout",
     "output_type": "stream",
     "text": [
      "\n",
      "-------------------- Iteration --------------------\n",
      "Average Episodic Length: 200.0\n",
      "Average Episodic Return: -169.62\n"
     ]
    },
    {
     "name": "stderr",
     "output_type": "stream",
     "text": [
      "\r",
      " 20%|████████████████▏                                                                | 20/100 [00:38<02:36,  1.96s/it]"
     ]
    },
    {
     "name": "stdout",
     "output_type": "stream",
     "text": [
      "Successfully save the model!\n",
      "\n",
      "-------------------- Iteration --------------------\n",
      "Average Episodic Length: 200.0\n",
      "Average Episodic Return: -181.09\n"
     ]
    },
    {
     "name": "stderr",
     "output_type": "stream",
     "text": [
      "\r",
      " 21%|█████████████████                                                                | 21/100 [00:40<02:36,  1.98s/it]"
     ]
    },
    {
     "name": "stdout",
     "output_type": "stream",
     "text": [
      "\n",
      "-------------------- Iteration --------------------\n",
      "Average Episodic Length: 200.0\n",
      "Average Episodic Return: -198.75\n"
     ]
    },
    {
     "name": "stderr",
     "output_type": "stream",
     "text": [
      "\r",
      " 22%|█████████████████▊                                                               | 22/100 [00:42<02:36,  2.01s/it]"
     ]
    },
    {
     "name": "stdout",
     "output_type": "stream",
     "text": [
      "\n",
      "-------------------- Iteration --------------------\n",
      "Average Episodic Length: 200.0\n",
      "Average Episodic Return: -188.86\n"
     ]
    },
    {
     "name": "stderr",
     "output_type": "stream",
     "text": [
      "\r",
      " 23%|██████████████████▋                                                              | 23/100 [00:44<02:33,  1.99s/it]"
     ]
    },
    {
     "name": "stdout",
     "output_type": "stream",
     "text": [
      "Successfully save the model!\n",
      "\n",
      "-------------------- Iteration --------------------\n",
      "Average Episodic Length: 200.0\n",
      "Average Episodic Return: -166.68\n"
     ]
    },
    {
     "name": "stderr",
     "output_type": "stream",
     "text": [
      "\r",
      " 24%|███████████████████▍                                                             | 24/100 [00:46<02:31,  1.99s/it]"
     ]
    },
    {
     "name": "stdout",
     "output_type": "stream",
     "text": [
      "Successfully save the model!\n",
      "\n",
      "-------------------- Iteration --------------------\n",
      "Average Episodic Length: 200.0\n",
      "Average Episodic Return: -203.69\n"
     ]
    },
    {
     "name": "stderr",
     "output_type": "stream",
     "text": [
      "\r",
      " 25%|████████████████████▎                                                            | 25/100 [00:48<02:26,  1.96s/it]"
     ]
    },
    {
     "name": "stdout",
     "output_type": "stream",
     "text": [
      "\n",
      "-------------------- Iteration --------------------\n",
      "Average Episodic Length: 200.0\n",
      "Average Episodic Return: -187.64\n"
     ]
    },
    {
     "name": "stderr",
     "output_type": "stream",
     "text": [
      "\r",
      " 26%|█████████████████████                                                            | 26/100 [00:50<02:26,  1.99s/it]"
     ]
    },
    {
     "name": "stdout",
     "output_type": "stream",
     "text": [
      "Successfully save the model!\n",
      "\n",
      "-------------------- Iteration --------------------\n",
      "Average Episodic Length: 200.0\n",
      "Average Episodic Return: -133.08\n"
     ]
    },
    {
     "name": "stderr",
     "output_type": "stream",
     "text": [
      "\r",
      " 27%|█████████████████████▊                                                           | 27/100 [00:51<02:21,  1.94s/it]"
     ]
    },
    {
     "name": "stdout",
     "output_type": "stream",
     "text": [
      "Successfully save the model!\n",
      "\n",
      "-------------------- Iteration --------------------\n",
      "Average Episodic Length: 200.0\n",
      "Average Episodic Return: -168.4\n"
     ]
    },
    {
     "name": "stderr",
     "output_type": "stream",
     "text": [
      "\r",
      " 28%|██████████████████████▋                                                          | 28/100 [00:53<02:17,  1.90s/it]"
     ]
    },
    {
     "name": "stdout",
     "output_type": "stream",
     "text": [
      "\n",
      "-------------------- Iteration --------------------\n",
      "Average Episodic Length: 200.0\n",
      "Average Episodic Return: -169.52\n"
     ]
    },
    {
     "name": "stderr",
     "output_type": "stream",
     "text": [
      "\r",
      " 29%|███████████████████████▍                                                         | 29/100 [00:55<02:14,  1.89s/it]"
     ]
    },
    {
     "name": "stdout",
     "output_type": "stream",
     "text": [
      "\n",
      "-------------------- Iteration --------------------\n",
      "Average Episodic Length: 200.0\n",
      "Average Episodic Return: -197.12\n"
     ]
    },
    {
     "name": "stderr",
     "output_type": "stream",
     "text": [
      "\r",
      " 30%|████████████████████████▎                                                        | 30/100 [00:57<02:11,  1.88s/it]"
     ]
    },
    {
     "name": "stdout",
     "output_type": "stream",
     "text": [
      "\n",
      "-------------------- Iteration --------------------\n",
      "Average Episodic Length: 200.0\n",
      "Average Episodic Return: -206.28\n"
     ]
    },
    {
     "name": "stderr",
     "output_type": "stream",
     "text": [
      "\r",
      " 31%|█████████████████████████                                                        | 31/100 [00:59<02:09,  1.87s/it]"
     ]
    },
    {
     "name": "stdout",
     "output_type": "stream",
     "text": [
      "\n",
      "-------------------- Iteration --------------------\n",
      "Average Episodic Length: 200.0\n",
      "Average Episodic Return: -185.16\n"
     ]
    },
    {
     "name": "stderr",
     "output_type": "stream",
     "text": [
      "\r",
      " 32%|█████████████████████████▉                                                       | 32/100 [01:01<02:07,  1.87s/it]"
     ]
    },
    {
     "name": "stdout",
     "output_type": "stream",
     "text": [
      "Successfully save the model!\n",
      "\n",
      "-------------------- Iteration --------------------\n",
      "Average Episodic Length: 200.0\n",
      "Average Episodic Return: -191.45\n"
     ]
    },
    {
     "name": "stderr",
     "output_type": "stream",
     "text": [
      "\r",
      " 33%|██████████████████████████▋                                                      | 33/100 [01:03<02:04,  1.86s/it]"
     ]
    },
    {
     "name": "stdout",
     "output_type": "stream",
     "text": [
      "\n",
      "-------------------- Iteration --------------------\n",
      "Average Episodic Length: 200.0\n",
      "Average Episodic Return: -200.61\n"
     ]
    },
    {
     "name": "stderr",
     "output_type": "stream",
     "text": [
      "\r",
      " 34%|███████████████████████████▌                                                     | 34/100 [01:04<02:02,  1.85s/it]"
     ]
    },
    {
     "name": "stdout",
     "output_type": "stream",
     "text": [
      "\n",
      "-------------------- Iteration --------------------\n",
      "Average Episodic Length: 200.0\n",
      "Average Episodic Return: -99.21\n"
     ]
    },
    {
     "name": "stderr",
     "output_type": "stream",
     "text": [
      "\r",
      " 35%|████████████████████████████▎                                                    | 35/100 [01:06<02:01,  1.87s/it]"
     ]
    },
    {
     "name": "stdout",
     "output_type": "stream",
     "text": [
      "Successfully save the model!\n",
      "\n",
      "-------------------- Iteration --------------------\n",
      "Average Episodic Length: 200.0\n",
      "Average Episodic Return: -142.38\n"
     ]
    },
    {
     "name": "stderr",
     "output_type": "stream",
     "text": [
      "\r",
      " 36%|█████████████████████████████▏                                                   | 36/100 [01:08<01:57,  1.84s/it]"
     ]
    },
    {
     "name": "stdout",
     "output_type": "stream",
     "text": [
      "\n",
      "-------------------- Iteration --------------------\n",
      "Average Episodic Length: 200.0\n",
      "Average Episodic Return: -172.29\n"
     ]
    },
    {
     "name": "stderr",
     "output_type": "stream",
     "text": [
      "\r",
      " 37%|█████████████████████████████▉                                                   | 37/100 [01:10<01:56,  1.86s/it]"
     ]
    },
    {
     "name": "stdout",
     "output_type": "stream",
     "text": [
      "\n",
      "-------------------- Iteration --------------------\n",
      "Average Episodic Length: 200.0\n",
      "Average Episodic Return: -130.78\n"
     ]
    },
    {
     "name": "stderr",
     "output_type": "stream",
     "text": [
      "\r",
      " 38%|██████████████████████████████▊                                                  | 38/100 [01:12<01:56,  1.88s/it]"
     ]
    },
    {
     "name": "stdout",
     "output_type": "stream",
     "text": [
      "Successfully save the model!\n",
      "\n",
      "-------------------- Iteration --------------------\n",
      "Average Episodic Length: 200.0\n",
      "Average Episodic Return: -109.51\n"
     ]
    },
    {
     "name": "stderr",
     "output_type": "stream",
     "text": [
      "\r",
      " 39%|███████████████████████████████▌                                                 | 39/100 [01:14<02:00,  1.97s/it]"
     ]
    },
    {
     "name": "stdout",
     "output_type": "stream",
     "text": [
      "Successfully save the model!\n",
      "\n",
      "-------------------- Iteration --------------------\n",
      "Average Episodic Length: 200.0\n",
      "Average Episodic Return: -201.99\n"
     ]
    },
    {
     "name": "stderr",
     "output_type": "stream",
     "text": [
      "\r",
      " 40%|████████████████████████████████▍                                                | 40/100 [01:16<01:58,  1.97s/it]"
     ]
    },
    {
     "name": "stdout",
     "output_type": "stream",
     "text": [
      "\n",
      "-------------------- Iteration --------------------\n",
      "Average Episodic Length: 200.0\n",
      "Average Episodic Return: -174.84\n"
     ]
    },
    {
     "name": "stderr",
     "output_type": "stream",
     "text": [
      "\r",
      " 41%|█████████████████████████████████▏                                               | 41/100 [01:18<01:53,  1.92s/it]"
     ]
    },
    {
     "name": "stdout",
     "output_type": "stream",
     "text": [
      "Successfully save the model!\n",
      "\n",
      "-------------------- Iteration --------------------\n",
      "Average Episodic Length: 200.0\n",
      "Average Episodic Return: -154.14\n"
     ]
    },
    {
     "name": "stderr",
     "output_type": "stream",
     "text": [
      "\r",
      " 42%|██████████████████████████████████                                               | 42/100 [01:20<01:49,  1.89s/it]"
     ]
    },
    {
     "name": "stdout",
     "output_type": "stream",
     "text": [
      "Successfully save the model!\n",
      "\n",
      "-------------------- Iteration --------------------\n",
      "Average Episodic Length: 200.0\n",
      "Average Episodic Return: -141.97\n"
     ]
    },
    {
     "name": "stderr",
     "output_type": "stream",
     "text": [
      "\r",
      " 43%|██████████████████████████████████▊                                              | 43/100 [01:21<01:46,  1.87s/it]"
     ]
    },
    {
     "name": "stdout",
     "output_type": "stream",
     "text": [
      "Successfully save the model!\n",
      "\n",
      "-------------------- Iteration --------------------\n",
      "Average Episodic Length: 200.0\n",
      "Average Episodic Return: -141.6\n"
     ]
    },
    {
     "name": "stderr",
     "output_type": "stream",
     "text": [
      "\r",
      " 44%|███████████████████████████████████▋                                             | 44/100 [01:24<01:47,  1.93s/it]"
     ]
    },
    {
     "name": "stdout",
     "output_type": "stream",
     "text": [
      "Successfully save the model!\n",
      "\n",
      "-------------------- Iteration --------------------\n",
      "Average Episodic Length: 200.0\n",
      "Average Episodic Return: -196.22\n"
     ]
    },
    {
     "name": "stderr",
     "output_type": "stream",
     "text": [
      "\r",
      " 45%|████████████████████████████████████▍                                            | 45/100 [01:26<01:48,  1.97s/it]"
     ]
    },
    {
     "name": "stdout",
     "output_type": "stream",
     "text": [
      "\n",
      "-------------------- Iteration --------------------\n",
      "Average Episodic Length: 200.0\n",
      "Average Episodic Return: -151.37\n"
     ]
    },
    {
     "name": "stderr",
     "output_type": "stream",
     "text": [
      "\r",
      " 46%|█████████████████████████████████████▎                                           | 46/100 [01:28<01:46,  1.98s/it]"
     ]
    },
    {
     "name": "stdout",
     "output_type": "stream",
     "text": [
      "Successfully save the model!\n",
      "\n",
      "-------------------- Iteration --------------------\n",
      "Average Episodic Length: 200.0\n",
      "Average Episodic Return: -211.98\n"
     ]
    },
    {
     "name": "stderr",
     "output_type": "stream",
     "text": [
      "\r",
      " 47%|██████████████████████████████████████                                           | 47/100 [01:30<01:45,  1.99s/it]"
     ]
    },
    {
     "name": "stdout",
     "output_type": "stream",
     "text": [
      "\n",
      "-------------------- Iteration --------------------\n",
      "Average Episodic Length: 200.0\n",
      "Average Episodic Return: -155.03\n"
     ]
    },
    {
     "name": "stderr",
     "output_type": "stream",
     "text": [
      "\r",
      " 48%|██████████████████████████████████████▉                                          | 48/100 [01:32<01:44,  2.00s/it]"
     ]
    },
    {
     "name": "stdout",
     "output_type": "stream",
     "text": [
      "Successfully save the model!\n",
      "\n",
      "-------------------- Iteration --------------------\n",
      "Average Episodic Length: 200.0\n",
      "Average Episodic Return: -129.95\n"
     ]
    },
    {
     "name": "stderr",
     "output_type": "stream",
     "text": [
      "\r",
      " 49%|███████████████████████████████████████▋                                         | 49/100 [01:34<01:40,  1.96s/it]"
     ]
    },
    {
     "name": "stdout",
     "output_type": "stream",
     "text": [
      "Successfully save the model!\n",
      "\n",
      "-------------------- Iteration --------------------\n",
      "Average Episodic Length: 200.0\n",
      "Average Episodic Return: -193.5\n"
     ]
    },
    {
     "name": "stderr",
     "output_type": "stream",
     "text": [
      "\r",
      " 50%|████████████████████████████████████████▌                                        | 50/100 [01:35<01:34,  1.89s/it]"
     ]
    },
    {
     "name": "stdout",
     "output_type": "stream",
     "text": [
      "\n",
      "-------------------- Iteration --------------------\n",
      "Average Episodic Length: 200.0\n",
      "Average Episodic Return: -164.48\n"
     ]
    },
    {
     "name": "stderr",
     "output_type": "stream",
     "text": [
      "\r",
      " 51%|█████████████████████████████████████████▎                                       | 51/100 [01:37<01:31,  1.87s/it]"
     ]
    },
    {
     "name": "stdout",
     "output_type": "stream",
     "text": [
      "Successfully save the model!\n",
      "\n",
      "-------------------- Iteration --------------------\n",
      "Average Episodic Length: 200.0\n",
      "Average Episodic Return: -129.24\n"
     ]
    },
    {
     "name": "stderr",
     "output_type": "stream",
     "text": [
      "\r",
      " 52%|██████████████████████████████████████████                                       | 52/100 [01:39<01:30,  1.88s/it]"
     ]
    },
    {
     "name": "stdout",
     "output_type": "stream",
     "text": [
      "Successfully save the model!\n",
      "\n",
      "-------------------- Iteration --------------------\n",
      "Average Episodic Length: 200.0\n",
      "Average Episodic Return: -163.19\n"
     ]
    },
    {
     "name": "stderr",
     "output_type": "stream",
     "text": [
      "\r",
      " 53%|██████████████████████████████████████████▉                                      | 53/100 [01:41<01:27,  1.86s/it]"
     ]
    },
    {
     "name": "stdout",
     "output_type": "stream",
     "text": [
      "\n",
      "-------------------- Iteration --------------------\n",
      "Average Episodic Length: 200.0\n",
      "Average Episodic Return: -128.19\n"
     ]
    },
    {
     "name": "stderr",
     "output_type": "stream",
     "text": [
      "\r",
      " 54%|███████████████████████████████████████████▋                                     | 54/100 [01:43<01:24,  1.84s/it]"
     ]
    },
    {
     "name": "stdout",
     "output_type": "stream",
     "text": [
      "Successfully save the model!\n",
      "\n",
      "-------------------- Iteration --------------------\n",
      "Average Episodic Length: 200.0\n",
      "Average Episodic Return: -195.32\n"
     ]
    },
    {
     "name": "stderr",
     "output_type": "stream",
     "text": [
      "\r",
      " 55%|████████████████████████████████████████████▌                                    | 55/100 [01:44<01:21,  1.82s/it]"
     ]
    },
    {
     "name": "stdout",
     "output_type": "stream",
     "text": [
      "\n",
      "-------------------- Iteration --------------------\n",
      "Average Episodic Length: 200.0\n",
      "Average Episodic Return: -125.86\n"
     ]
    },
    {
     "name": "stderr",
     "output_type": "stream",
     "text": [
      "\r",
      " 56%|█████████████████████████████████████████████▎                                   | 56/100 [01:46<01:19,  1.82s/it]"
     ]
    },
    {
     "name": "stdout",
     "output_type": "stream",
     "text": [
      "Successfully save the model!\n",
      "\n",
      "-------------------- Iteration --------------------\n",
      "Average Episodic Length: 200.0\n",
      "Average Episodic Return: -142.73\n"
     ]
    },
    {
     "name": "stderr",
     "output_type": "stream",
     "text": [
      "\r",
      " 57%|██████████████████████████████████████████████▏                                  | 57/100 [01:48<01:18,  1.83s/it]"
     ]
    },
    {
     "name": "stdout",
     "output_type": "stream",
     "text": [
      "\n",
      "-------------------- Iteration --------------------\n",
      "Average Episodic Length: 200.0\n",
      "Average Episodic Return: -98.42\n"
     ]
    },
    {
     "name": "stderr",
     "output_type": "stream",
     "text": [
      "\r",
      " 58%|██████████████████████████████████████████████▉                                  | 58/100 [01:50<01:16,  1.83s/it]"
     ]
    },
    {
     "name": "stdout",
     "output_type": "stream",
     "text": [
      "Successfully save the model!\n",
      "\n",
      "-------------------- Iteration --------------------\n",
      "Average Episodic Length: 200.0\n",
      "Average Episodic Return: -160.87\n"
     ]
    },
    {
     "name": "stderr",
     "output_type": "stream",
     "text": [
      "\r",
      " 59%|███████████████████████████████████████████████▊                                 | 59/100 [01:52<01:14,  1.83s/it]"
     ]
    },
    {
     "name": "stdout",
     "output_type": "stream",
     "text": [
      "\n",
      "-------------------- Iteration --------------------\n",
      "Average Episodic Length: 200.0\n",
      "Average Episodic Return: -120.88\n"
     ]
    },
    {
     "name": "stderr",
     "output_type": "stream",
     "text": [
      "\r",
      " 60%|████████████████████████████████████████████████▌                                | 60/100 [01:53<01:12,  1.82s/it]"
     ]
    },
    {
     "name": "stdout",
     "output_type": "stream",
     "text": [
      "Successfully save the model!\n",
      "\n",
      "-------------------- Iteration --------------------\n",
      "Average Episodic Length: 200.0\n",
      "Average Episodic Return: -120.66\n"
     ]
    },
    {
     "name": "stderr",
     "output_type": "stream",
     "text": [
      "\r",
      " 61%|█████████████████████████████████████████████████▍                               | 61/100 [01:56<01:16,  1.97s/it]"
     ]
    },
    {
     "name": "stdout",
     "output_type": "stream",
     "text": [
      "Successfully save the model!\n",
      "\n",
      "-------------------- Iteration --------------------\n",
      "Average Episodic Length: 200.0\n",
      "Average Episodic Return: -128.32\n"
     ]
    },
    {
     "name": "stderr",
     "output_type": "stream",
     "text": [
      "\r",
      " 62%|██████████████████████████████████████████████████▏                              | 62/100 [01:58<01:14,  1.96s/it]"
     ]
    },
    {
     "name": "stdout",
     "output_type": "stream",
     "text": [
      "\n",
      "-------------------- Iteration --------------------\n",
      "Average Episodic Length: 200.0\n",
      "Average Episodic Return: -160.93\n"
     ]
    },
    {
     "name": "stderr",
     "output_type": "stream",
     "text": [
      "\r",
      " 63%|███████████████████████████████████████████████████                              | 63/100 [02:00<01:14,  2.01s/it]"
     ]
    },
    {
     "name": "stdout",
     "output_type": "stream",
     "text": [
      "\n",
      "-------------------- Iteration --------------------\n",
      "Average Episodic Length: 200.0\n",
      "Average Episodic Return: -154.44\n"
     ]
    },
    {
     "name": "stderr",
     "output_type": "stream",
     "text": [
      "\r",
      " 64%|███████████████████████████████████████████████████▊                             | 64/100 [02:02<01:11,  1.98s/it]"
     ]
    },
    {
     "name": "stdout",
     "output_type": "stream",
     "text": [
      "Successfully save the model!\n",
      "\n",
      "-------------------- Iteration --------------------\n",
      "Average Episodic Length: 200.0\n",
      "Average Episodic Return: -162.66\n"
     ]
    },
    {
     "name": "stderr",
     "output_type": "stream",
     "text": [
      "\r",
      " 65%|████████████████████████████████████████████████████▋                            | 65/100 [02:04<01:11,  2.04s/it]"
     ]
    },
    {
     "name": "stdout",
     "output_type": "stream",
     "text": [
      "\n",
      "-------------------- Iteration --------------------\n",
      "Average Episodic Length: 200.0\n",
      "Average Episodic Return: -173.48\n"
     ]
    },
    {
     "name": "stderr",
     "output_type": "stream",
     "text": [
      "\r",
      " 66%|█████████████████████████████████████████████████████▍                           | 66/100 [02:06<01:10,  2.07s/it]"
     ]
    },
    {
     "name": "stdout",
     "output_type": "stream",
     "text": [
      "\n",
      "-------------------- Iteration --------------------\n",
      "Average Episodic Length: 200.0\n",
      "Average Episodic Return: -170.07\n"
     ]
    },
    {
     "name": "stderr",
     "output_type": "stream",
     "text": [
      "\r",
      " 67%|██████████████████████████████████████████████████████▎                          | 67/100 [02:08<01:08,  2.07s/it]"
     ]
    },
    {
     "name": "stdout",
     "output_type": "stream",
     "text": [
      "Successfully save the model!\n",
      "\n",
      "-------------------- Iteration --------------------\n",
      "Average Episodic Length: 200.0\n",
      "Average Episodic Return: -141.38\n"
     ]
    },
    {
     "name": "stderr",
     "output_type": "stream",
     "text": [
      "\r",
      " 68%|███████████████████████████████████████████████████████                          | 68/100 [02:10<01:05,  2.05s/it]"
     ]
    },
    {
     "name": "stdout",
     "output_type": "stream",
     "text": [
      "Successfully save the model!\n",
      "\n",
      "-------------------- Iteration --------------------\n",
      "Average Episodic Length: 200.0\n",
      "Average Episodic Return: -108.66\n"
     ]
    },
    {
     "name": "stderr",
     "output_type": "stream",
     "text": [
      "\r",
      " 69%|███████████████████████████████████████████████████████▉                         | 69/100 [02:12<01:02,  2.03s/it]"
     ]
    },
    {
     "name": "stdout",
     "output_type": "stream",
     "text": [
      "Successfully save the model!\n",
      "\n",
      "-------------------- Iteration --------------------\n",
      "Average Episodic Length: 200.0\n",
      "Average Episodic Return: -167.62\n"
     ]
    },
    {
     "name": "stderr",
     "output_type": "stream",
     "text": [
      "\r",
      " 70%|████████████████████████████████████████████████████████▋                        | 70/100 [02:14<01:00,  2.02s/it]"
     ]
    },
    {
     "name": "stdout",
     "output_type": "stream",
     "text": [
      "\n",
      "-------------------- Iteration --------------------\n",
      "Average Episodic Length: 200.0\n",
      "Average Episodic Return: -122.5\n"
     ]
    },
    {
     "name": "stderr",
     "output_type": "stream",
     "text": [
      "\r",
      " 71%|█████████████████████████████████████████████████████████▌                       | 71/100 [02:16<00:58,  2.03s/it]"
     ]
    },
    {
     "name": "stdout",
     "output_type": "stream",
     "text": [
      "Successfully save the model!\n",
      "\n",
      "-------------------- Iteration --------------------\n",
      "Average Episodic Length: 200.0\n",
      "Average Episodic Return: -139.41\n"
     ]
    },
    {
     "name": "stderr",
     "output_type": "stream",
     "text": [
      "\r",
      " 72%|██████████████████████████████████████████████████████████▎                      | 72/100 [02:18<00:58,  2.08s/it]"
     ]
    },
    {
     "name": "stdout",
     "output_type": "stream",
     "text": [
      "\n",
      "-------------------- Iteration --------------------\n",
      "Average Episodic Length: 200.0\n",
      "Average Episodic Return: -183.37\n"
     ]
    },
    {
     "name": "stderr",
     "output_type": "stream",
     "text": [
      "\r",
      " 73%|███████████████████████████████████████████████████████████▏                     | 73/100 [02:20<00:54,  2.02s/it]"
     ]
    },
    {
     "name": "stdout",
     "output_type": "stream",
     "text": [
      "\n",
      "-------------------- Iteration --------------------\n",
      "Average Episodic Length: 200.0\n",
      "Average Episodic Return: -153.85\n"
     ]
    },
    {
     "name": "stderr",
     "output_type": "stream",
     "text": [
      "\r",
      " 74%|███████████████████████████████████████████████████████████▉                     | 74/100 [02:22<00:50,  1.96s/it]"
     ]
    },
    {
     "name": "stdout",
     "output_type": "stream",
     "text": [
      "Successfully save the model!\n",
      "\n",
      "-------------------- Iteration --------------------\n",
      "Average Episodic Length: 200.0\n",
      "Average Episodic Return: -155.25\n"
     ]
    },
    {
     "name": "stderr",
     "output_type": "stream",
     "text": [
      "\r",
      " 75%|████████████████████████████████████████████████████████████▊                    | 75/100 [02:24<00:46,  1.87s/it]"
     ]
    },
    {
     "name": "stdout",
     "output_type": "stream",
     "text": [
      "\n",
      "-------------------- Iteration --------------------\n",
      "Average Episodic Length: 200.0\n",
      "Average Episodic Return: -131.81\n"
     ]
    },
    {
     "name": "stderr",
     "output_type": "stream",
     "text": [
      "\r",
      " 76%|█████████████████████████████████████████████████████████████▌                   | 76/100 [02:26<00:44,  1.87s/it]"
     ]
    },
    {
     "name": "stdout",
     "output_type": "stream",
     "text": [
      "Successfully save the model!\n",
      "\n",
      "-------------------- Iteration --------------------\n",
      "Average Episodic Length: 200.0\n",
      "Average Episodic Return: -146.84\n"
     ]
    },
    {
     "name": "stderr",
     "output_type": "stream",
     "text": [
      "\r",
      " 77%|██████████████████████████████████████████████████████████████▎                  | 77/100 [02:27<00:42,  1.85s/it]"
     ]
    },
    {
     "name": "stdout",
     "output_type": "stream",
     "text": [
      "\n",
      "-------------------- Iteration --------------------\n",
      "Average Episodic Length: 200.0\n",
      "Average Episodic Return: -167.11\n"
     ]
    },
    {
     "name": "stderr",
     "output_type": "stream",
     "text": [
      "\r",
      " 78%|███████████████████████████████████████████████████████████████▏                 | 78/100 [02:29<00:41,  1.88s/it]"
     ]
    },
    {
     "name": "stdout",
     "output_type": "stream",
     "text": [
      "\n",
      "-------------------- Iteration --------------------\n",
      "Average Episodic Length: 200.0\n",
      "Average Episodic Return: -130.16\n"
     ]
    },
    {
     "name": "stderr",
     "output_type": "stream",
     "text": [
      "\r",
      " 79%|███████████████████████████████████████████████████████████████▉                 | 79/100 [02:31<00:39,  1.89s/it]"
     ]
    },
    {
     "name": "stdout",
     "output_type": "stream",
     "text": [
      "Successfully save the model!\n",
      "\n",
      "-------------------- Iteration --------------------\n",
      "Average Episodic Length: 200.0\n",
      "Average Episodic Return: -150.41\n"
     ]
    },
    {
     "name": "stderr",
     "output_type": "stream",
     "text": [
      "\r",
      " 80%|████████████████████████████████████████████████████████████████▊                | 80/100 [02:33<00:39,  1.95s/it]"
     ]
    },
    {
     "name": "stdout",
     "output_type": "stream",
     "text": [
      "\n",
      "-------------------- Iteration --------------------\n",
      "Average Episodic Length: 200.0\n",
      "Average Episodic Return: -198.07\n"
     ]
    },
    {
     "name": "stderr",
     "output_type": "stream",
     "text": [
      "\r",
      " 81%|█████████████████████████████████████████████████████████████████▌               | 81/100 [02:35<00:37,  1.97s/it]"
     ]
    },
    {
     "name": "stdout",
     "output_type": "stream",
     "text": [
      "\n",
      "-------------------- Iteration --------------------\n",
      "Average Episodic Length: 200.0\n",
      "Average Episodic Return: -99.81\n"
     ]
    },
    {
     "name": "stderr",
     "output_type": "stream",
     "text": [
      "\r",
      " 82%|██████████████████████████████████████████████████████████████████▍              | 82/100 [02:37<00:34,  1.94s/it]"
     ]
    },
    {
     "name": "stdout",
     "output_type": "stream",
     "text": [
      "Successfully save the model!\n",
      "\n",
      "-------------------- Iteration --------------------\n",
      "Average Episodic Length: 200.0\n",
      "Average Episodic Return: -161.4\n"
     ]
    },
    {
     "name": "stderr",
     "output_type": "stream",
     "text": [
      "\r",
      " 83%|███████████████████████████████████████████████████████████████████▏             | 83/100 [02:39<00:32,  1.92s/it]"
     ]
    },
    {
     "name": "stdout",
     "output_type": "stream",
     "text": [
      "\n",
      "-------------------- Iteration --------------------\n",
      "Average Episodic Length: 200.0\n",
      "Average Episodic Return: -152.06\n"
     ]
    },
    {
     "name": "stderr",
     "output_type": "stream",
     "text": [
      "\r",
      " 84%|████████████████████████████████████████████████████████████████████             | 84/100 [02:41<00:30,  1.93s/it]"
     ]
    },
    {
     "name": "stdout",
     "output_type": "stream",
     "text": [
      "Successfully save the model!\n",
      "\n",
      "-------------------- Iteration --------------------\n",
      "Average Episodic Length: 200.0\n",
      "Average Episodic Return: -174.83\n"
     ]
    },
    {
     "name": "stderr",
     "output_type": "stream",
     "text": [
      "\r",
      " 85%|████████████████████████████████████████████████████████████████████▊            | 85/100 [02:43<00:29,  1.95s/it]"
     ]
    },
    {
     "name": "stdout",
     "output_type": "stream",
     "text": [
      "\n",
      "-------------------- Iteration --------------------\n",
      "Average Episodic Length: 200.0\n",
      "Average Episodic Return: -175.87\n"
     ]
    },
    {
     "name": "stderr",
     "output_type": "stream",
     "text": [
      "\r",
      " 86%|█████████████████████████████████████████████████████████████████████▋           | 86/100 [02:45<00:27,  1.95s/it]"
     ]
    },
    {
     "name": "stdout",
     "output_type": "stream",
     "text": [
      "\n",
      "-------------------- Iteration --------------------\n",
      "Average Episodic Length: 200.0\n",
      "Average Episodic Return: -194.76\n"
     ]
    },
    {
     "name": "stderr",
     "output_type": "stream",
     "text": [
      "\r",
      " 87%|██████████████████████████████████████████████████████████████████████▍          | 87/100 [02:47<00:25,  1.96s/it]"
     ]
    },
    {
     "name": "stdout",
     "output_type": "stream",
     "text": [
      "\n",
      "-------------------- Iteration --------------------\n",
      "Average Episodic Length: 200.0\n",
      "Average Episodic Return: -193.3\n"
     ]
    },
    {
     "name": "stderr",
     "output_type": "stream",
     "text": [
      "\r",
      " 88%|███████████████████████████████████████████████████████████████████████▎         | 88/100 [02:49<00:23,  1.93s/it]"
     ]
    },
    {
     "name": "stdout",
     "output_type": "stream",
     "text": [
      "Successfully save the model!\n",
      "\n",
      "-------------------- Iteration --------------------\n",
      "Average Episodic Length: 200.0\n",
      "Average Episodic Return: -177.65\n"
     ]
    },
    {
     "name": "stderr",
     "output_type": "stream",
     "text": [
      "\r",
      " 89%|████████████████████████████████████████████████████████████████████████         | 89/100 [02:51<00:21,  1.96s/it]"
     ]
    },
    {
     "name": "stdout",
     "output_type": "stream",
     "text": [
      "Successfully save the model!\n",
      "\n",
      "-------------------- Iteration --------------------\n",
      "Average Episodic Length: 200.0\n",
      "Average Episodic Return: -155.28\n"
     ]
    },
    {
     "name": "stderr",
     "output_type": "stream",
     "text": [
      "\r",
      " 90%|████████████████████████████████████████████████████████████████████████▉        | 90/100 [02:53<00:19,  1.99s/it]"
     ]
    },
    {
     "name": "stdout",
     "output_type": "stream",
     "text": [
      "Successfully save the model!\n",
      "\n",
      "-------------------- Iteration --------------------\n",
      "Average Episodic Length: 200.0\n",
      "Average Episodic Return: -190.77\n"
     ]
    },
    {
     "name": "stderr",
     "output_type": "stream",
     "text": [
      "\r",
      " 91%|█████████████████████████████████████████████████████████████████████████▋       | 91/100 [02:55<00:17,  1.99s/it]"
     ]
    },
    {
     "name": "stdout",
     "output_type": "stream",
     "text": [
      "\n",
      "-------------------- Iteration --------------------\n",
      "Average Episodic Length: 200.0\n",
      "Average Episodic Return: -131.9\n"
     ]
    },
    {
     "name": "stderr",
     "output_type": "stream",
     "text": [
      "\r",
      " 92%|██████████████████████████████████████████████████████████████████████████▌      | 92/100 [02:57<00:15,  1.92s/it]"
     ]
    },
    {
     "name": "stdout",
     "output_type": "stream",
     "text": [
      "Successfully save the model!\n",
      "\n",
      "-------------------- Iteration --------------------\n",
      "Average Episodic Length: 200.0\n",
      "Average Episodic Return: -205.07\n"
     ]
    },
    {
     "name": "stderr",
     "output_type": "stream",
     "text": [
      "\r",
      " 93%|███████████████████████████████████████████████████████████████████████████▎     | 93/100 [02:59<00:13,  1.89s/it]"
     ]
    },
    {
     "name": "stdout",
     "output_type": "stream",
     "text": [
      "\n",
      "-------------------- Iteration --------------------\n",
      "Average Episodic Length: 200.0\n",
      "Average Episodic Return: -150.97\n"
     ]
    },
    {
     "name": "stderr",
     "output_type": "stream",
     "text": [
      "\r",
      " 94%|████████████████████████████████████████████████████████████████████████████▏    | 94/100 [03:01<00:11,  1.93s/it]"
     ]
    },
    {
     "name": "stdout",
     "output_type": "stream",
     "text": [
      "Successfully save the model!\n",
      "\n",
      "-------------------- Iteration --------------------\n",
      "Average Episodic Length: 200.0\n",
      "Average Episodic Return: -132.82\n"
     ]
    },
    {
     "name": "stderr",
     "output_type": "stream",
     "text": [
      "\r",
      " 95%|████████████████████████████████████████████████████████████████████████████▉    | 95/100 [03:02<00:09,  1.91s/it]"
     ]
    },
    {
     "name": "stdout",
     "output_type": "stream",
     "text": [
      "Successfully save the model!\n",
      "\n",
      "-------------------- Iteration --------------------\n",
      "Average Episodic Length: 200.0\n",
      "Average Episodic Return: -139.37\n"
     ]
    },
    {
     "name": "stderr",
     "output_type": "stream",
     "text": [
      "\r",
      " 96%|█████████████████████████████████████████████████████████████████████████████▊   | 96/100 [03:04<00:07,  1.93s/it]"
     ]
    },
    {
     "name": "stdout",
     "output_type": "stream",
     "text": [
      "\n",
      "-------------------- Iteration --------------------\n",
      "Average Episodic Length: 200.0\n",
      "Average Episodic Return: -174.22\n"
     ]
    },
    {
     "name": "stderr",
     "output_type": "stream",
     "text": [
      "\r",
      " 97%|██████████████████████████████████████████████████████████████████████████████▌  | 97/100 [03:06<00:05,  1.90s/it]"
     ]
    },
    {
     "name": "stdout",
     "output_type": "stream",
     "text": [
      "\n",
      "-------------------- Iteration --------------------\n",
      "Average Episodic Length: 200.0\n",
      "Average Episodic Return: -180.63\n"
     ]
    },
    {
     "name": "stderr",
     "output_type": "stream",
     "text": [
      "\r",
      " 98%|███████████████████████████████████████████████████████████████████████████████▍ | 98/100 [03:08<00:03,  1.87s/it]"
     ]
    },
    {
     "name": "stdout",
     "output_type": "stream",
     "text": [
      "\n",
      "-------------------- Iteration --------------------\n",
      "Average Episodic Length: 200.0\n",
      "Average Episodic Return: -167.67\n"
     ]
    },
    {
     "name": "stderr",
     "output_type": "stream",
     "text": [
      "\r",
      " 99%|████████████████████████████████████████████████████████████████████████████████▏| 99/100 [03:10<00:01,  1.91s/it]"
     ]
    },
    {
     "name": "stdout",
     "output_type": "stream",
     "text": [
      "Successfully save the model!\n",
      "\n",
      "-------------------- Iteration --------------------\n",
      "Average Episodic Length: 200.0\n",
      "Average Episodic Return: -154.52\n"
     ]
    },
    {
     "name": "stderr",
     "output_type": "stream",
     "text": [
      "100%|████████████████████████████████████████████████████████████████████████████████| 100/100 [03:12<00:00,  1.92s/it]"
     ]
    },
    {
     "name": "stdout",
     "output_type": "stream",
     "text": [
      "Successfully save the model!\n"
     ]
    },
    {
     "name": "stderr",
     "output_type": "stream",
     "text": [
      "\n"
     ]
    }
   ],
   "source": [
    "ITERATIONS = 100\n",
    "tmp = 0.0\n",
    "\n",
    "prg_bar = tqdm(range(ITERATIONS))\n",
    "for i in prg_bar:\n",
    "    batch_obs, batch_acts, batch_rews, batch_log_probs, batch_lens = \\\n",
    "        rollout(model, env, hyperparameters['timesteps_per_batch'], hyperparameters['max_timesteps_per_episode'])\n",
    "\n",
    "    avg_ep_lens = np.mean(batch_lens)\n",
    "    avg_ep_rews = np.mean([np.sum(ep_rews) for ep_rews in batch_rews])\n",
    "    \n",
    "    # Round decimal places for more aesthetic logging messages\n",
    "    avg_ep_lens = str(round(avg_ep_lens, 2))\n",
    "    avg_ep_rews_1 = str(round(avg_ep_rews, 2))\n",
    "\n",
    "    print(f\"-------------------- Iteration --------------------\", flush=True)\n",
    "    print(f\"Average Episodic Length: {avg_ep_lens}\", flush=True)\n",
    "    print(f\"Average Episodic Return: {avg_ep_rews_1}\", flush=True)\n",
    "    \n",
    "    model.learn(batch_obs, batch_acts, batch_rews, batch_log_probs)\n",
    "    if avg_ep_rews > tmp:\n",
    "        model.actor.save_checkpoint()\n",
    "        model.critic.save_checkpoint()\n",
    "        print(\"Successfully save the model!\",flush=True)\n",
    "    tmp = avg_ep_rews\n",
    "    "
   ]
  },
  {
   "cell_type": "markdown",
   "id": "0391addd",
   "metadata": {},
   "source": [
    "Test----"
   ]
  },
  {
   "cell_type": "code",
   "execution_count": 9,
   "id": "95b6fa9a",
   "metadata": {},
   "outputs": [
    {
     "name": "stdout",
     "output_type": "stream",
     "text": [
      "-120.21181737412071\n",
      "-125.41116676883169\n",
      "-243.96041123861386\n",
      "-338.05871844153194\n",
      "-242.14872698933092\n",
      "Your final reward is : -213.96\n"
     ]
    }
   ],
   "source": [
    "env = gym.make('Pendulum-v0')\n",
    "fix(env, seed)\n",
    "obs_dim = env.observation_space.shape[0]\n",
    "act_dim = env.action_space.shape[0]\n",
    "\n",
    "model = PPO(network=FeedForwardNN, obs_dim = obs_dim, act_dim = act_dim)\n",
    "model.actor.load_checkpoint()\n",
    "model.critic.load_checkpoint()\n",
    "model.actor.eval()  # turn network to evaluation mode\n",
    "model.critic.eval()\n",
    "NUM_OF_TEST = 5 # Do not revise it !!!!!\n",
    "test_total_reward = []\n",
    "action_list = []\n",
    "for i in range(NUM_OF_TEST):\n",
    "    actions = []\n",
    "    obs = env.reset()\n",
    "\n",
    "  #img = plt.imshow(env.render(mode='rgb_array'))\n",
    "    env.render()\n",
    "  \n",
    "    total_reward = 0\n",
    "\n",
    "    done = False\n",
    "    while not done:\n",
    "        action, _ = model.get_action(obs)\n",
    "        actions.append(action)\n",
    "        obs, reward, done, _ = env.step(action)\n",
    "\n",
    "        total_reward += reward\n",
    "\n",
    "      #img.set_data(env.render(mode='rgb_array'))\n",
    "        env.render()\n",
    "      #display.display(plt.gcf())\n",
    "      #display.clear_output(wait=True)\n",
    "    print(total_reward)\n",
    "    test_total_reward.append(total_reward)\n",
    "\n",
    "\n",
    "env.close()\n",
    "\n",
    "print(f\"Your final reward is : %.2f\"%np.mean(test_total_reward))"
   ]
  },
  {
   "cell_type": "code",
   "execution_count": null,
   "id": "8faf4b64",
   "metadata": {},
   "outputs": [],
   "source": []
  }
 ],
 "metadata": {
  "kernelspec": {
   "display_name": "Python 3",
   "language": "python",
   "name": "python3"
  },
  "language_info": {
   "codemirror_mode": {
    "name": "ipython",
    "version": 3
   },
   "file_extension": ".py",
   "mimetype": "text/x-python",
   "name": "python",
   "nbconvert_exporter": "python",
   "pygments_lexer": "ipython3",
   "version": "3.7.9"
  }
 },
 "nbformat": 4,
 "nbformat_minor": 5
}
